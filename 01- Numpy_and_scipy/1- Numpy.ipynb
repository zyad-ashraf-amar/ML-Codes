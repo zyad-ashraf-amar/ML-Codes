{
  "cells": [
    {
      "cell_type": "markdown",
      "metadata": {
        "id": "aaxJdMd7wM0p"
      },
      "source": [
        "# Import"
      ]
    },
    {
      "cell_type": "code",
      "execution_count": 21,
      "metadata": {
        "id": "DQ_gk4VKwNqk"
      },
      "outputs": [],
      "source": [
        "import numpy as np"
      ]
    },
    {
      "cell_type": "markdown",
      "metadata": {},
      "source": [
        "## array"
      ]
    },
    {
      "cell_type": "code",
      "execution_count": 22,
      "metadata": {
        "colab": {
          "base_uri": "https://localhost:8080/"
        },
        "id": "PleoZOJqwfj9",
        "outputId": "98a5abb9-8dc1-4669-d6f4-3529d296faa5"
      },
      "outputs": [
        {
          "data": {
            "text/plain": [
              "numpy.ndarray"
            ]
          },
          "execution_count": 22,
          "metadata": {},
          "output_type": "execute_result"
        }
      ],
      "source": [
        "arr=np.array([1,2,3,4,5])\n",
        "type(arr)"
      ]
    },
    {
      "cell_type": "code",
      "execution_count": 23,
      "metadata": {
        "colab": {
          "base_uri": "https://localhost:8080/"
        },
        "id": "Ae16U0o-wmTH",
        "outputId": "fec79982-d7d6-4e48-f3fe-9a5ba3826acd"
      },
      "outputs": [
        {
          "data": {
            "text/plain": [
              "array([[1, 2, 3],\n",
              "       [1, 2, 3]])"
            ]
          },
          "execution_count": 23,
          "metadata": {},
          "output_type": "execute_result"
        }
      ],
      "source": [
        "my_matrix=[[1,2,3],\n",
        "            [1,2,3]]\n",
        "\n",
        "np.array(my_matrix)"
      ]
    },
    {
      "cell_type": "markdown",
      "metadata": {},
      "source": [
        "## zeros"
      ]
    },
    {
      "cell_type": "code",
      "execution_count": 24,
      "metadata": {
        "colab": {
          "base_uri": "https://localhost:8080/"
        },
        "id": "6c0--lQQwxFJ",
        "outputId": "bb120299-d2db-4a41-aefd-c63df2d8949c"
      },
      "outputs": [
        {
          "data": {
            "text/plain": [
              "array([0., 0., 0.])"
            ]
          },
          "execution_count": 24,
          "metadata": {},
          "output_type": "execute_result"
        }
      ],
      "source": [
        "np.zeros(3)"
      ]
    },
    {
      "cell_type": "code",
      "execution_count": 25,
      "metadata": {
        "colab": {
          "base_uri": "https://localhost:8080/"
        },
        "id": "jvaIdA8Bw286",
        "outputId": "face9e5d-cb10-41bb-bdcb-0e548968f09e"
      },
      "outputs": [
        {
          "data": {
            "text/plain": [
              "array([[0., 0., 0.],\n",
              "       [0., 0., 0.],\n",
              "       [0., 0., 0.]])"
            ]
          },
          "execution_count": 25,
          "metadata": {},
          "output_type": "execute_result"
        }
      ],
      "source": [
        "np.zeros((3,3))"
      ]
    },
    {
      "cell_type": "markdown",
      "metadata": {},
      "source": [
        "## ones"
      ]
    },
    {
      "cell_type": "code",
      "execution_count": 26,
      "metadata": {
        "colab": {
          "base_uri": "https://localhost:8080/"
        },
        "id": "MAgE54Dhw66M",
        "outputId": "517edaa7-0c2a-4faf-c80f-ff664ed5d404"
      },
      "outputs": [
        {
          "data": {
            "text/plain": [
              "array([1., 1., 1.])"
            ]
          },
          "execution_count": 26,
          "metadata": {},
          "output_type": "execute_result"
        }
      ],
      "source": [
        "np.ones(3)"
      ]
    },
    {
      "cell_type": "code",
      "execution_count": 27,
      "metadata": {
        "colab": {
          "base_uri": "https://localhost:8080/"
        },
        "id": "_zsrZvOiw_E8",
        "outputId": "88fe060d-320c-43e1-e813-84ecf069f1eb"
      },
      "outputs": [
        {
          "data": {
            "text/plain": [
              "array([[1., 1., 1.],\n",
              "       [1., 1., 1.],\n",
              "       [1., 1., 1.]])"
            ]
          },
          "execution_count": 27,
          "metadata": {},
          "output_type": "execute_result"
        }
      ],
      "source": [
        "np.ones((3,3))"
      ]
    },
    {
      "cell_type": "markdown",
      "metadata": {},
      "source": [
        "## eye"
      ]
    },
    {
      "cell_type": "code",
      "execution_count": 28,
      "metadata": {
        "colab": {
          "base_uri": "https://localhost:8080/"
        },
        "id": "hRCKatH9xBRi",
        "outputId": "dffe174f-439d-48f7-e3dc-6a4a012c810d"
      },
      "outputs": [
        {
          "data": {
            "text/plain": [
              "array([[1., 0., 0.],\n",
              "       [0., 1., 0.],\n",
              "       [0., 0., 1.]])"
            ]
          },
          "execution_count": 28,
          "metadata": {},
          "output_type": "execute_result"
        }
      ],
      "source": [
        "#identity matrix\n",
        "np.eye(3)"
      ]
    },
    {
      "cell_type": "markdown",
      "metadata": {},
      "source": [
        "## arange"
      ]
    },
    {
      "cell_type": "code",
      "execution_count": 29,
      "metadata": {
        "colab": {
          "base_uri": "https://localhost:8080/"
        },
        "id": "sW_zYOKIxOMP",
        "outputId": "f0a71580-d99e-4a2d-f363-daf57399e178"
      },
      "outputs": [
        {
          "data": {
            "text/plain": [
              "array([0, 1, 2, 3, 4, 5, 6, 7, 8, 9])"
            ]
          },
          "execution_count": 29,
          "metadata": {},
          "output_type": "execute_result"
        }
      ],
      "source": [
        "np.arange(0,10)"
      ]
    },
    {
      "cell_type": "code",
      "execution_count": 30,
      "metadata": {
        "colab": {
          "base_uri": "https://localhost:8080/"
        },
        "id": "o6qvwhTMxVJQ",
        "outputId": "10000162-7762-469e-c5e4-de278143df89"
      },
      "outputs": [
        {
          "data": {
            "text/plain": [
              "array([0, 2, 4, 6, 8])"
            ]
          },
          "execution_count": 30,
          "metadata": {},
          "output_type": "execute_result"
        }
      ],
      "source": [
        "np.arange(0,10,2)"
      ]
    },
    {
      "cell_type": "markdown",
      "metadata": {},
      "source": [
        "## linspace"
      ]
    },
    {
      "cell_type": "code",
      "execution_count": 31,
      "metadata": {
        "colab": {
          "base_uri": "https://localhost:8080/"
        },
        "id": "C70fu-_4xbG6",
        "outputId": "745d68e7-5484-45b9-ed47-d99133c32c20"
      },
      "outputs": [
        {
          "data": {
            "text/plain": [
              "array([ 0.,  5., 10.])"
            ]
          },
          "execution_count": 31,
          "metadata": {},
          "output_type": "execute_result"
        }
      ],
      "source": [
        "np.linspace(0,10,3)"
      ]
    },
    {
      "cell_type": "code",
      "execution_count": 32,
      "metadata": {
        "colab": {
          "base_uri": "https://localhost:8080/"
        },
        "id": "tkdK9ds4xgJ7",
        "outputId": "e9105dce-60bb-471e-c2cc-094904e9e113"
      },
      "outputs": [
        {
          "data": {
            "text/plain": [
              "array([ 0.        ,  0.20408163,  0.40816327,  0.6122449 ,  0.81632653,\n",
              "        1.02040816,  1.2244898 ,  1.42857143,  1.63265306,  1.83673469,\n",
              "        2.04081633,  2.24489796,  2.44897959,  2.65306122,  2.85714286,\n",
              "        3.06122449,  3.26530612,  3.46938776,  3.67346939,  3.87755102,\n",
              "        4.08163265,  4.28571429,  4.48979592,  4.69387755,  4.89795918,\n",
              "        5.10204082,  5.30612245,  5.51020408,  5.71428571,  5.91836735,\n",
              "        6.12244898,  6.32653061,  6.53061224,  6.73469388,  6.93877551,\n",
              "        7.14285714,  7.34693878,  7.55102041,  7.75510204,  7.95918367,\n",
              "        8.16326531,  8.36734694,  8.57142857,  8.7755102 ,  8.97959184,\n",
              "        9.18367347,  9.3877551 ,  9.59183673,  9.79591837, 10.        ])"
            ]
          },
          "execution_count": 32,
          "metadata": {},
          "output_type": "execute_result"
        }
      ],
      "source": [
        "np.linspace(0,10,50)"
      ]
    },
    {
      "cell_type": "markdown",
      "metadata": {},
      "source": [
        "## random"
      ]
    },
    {
      "cell_type": "markdown",
      "metadata": {},
      "source": [
        "### rand"
      ]
    },
    {
      "cell_type": "code",
      "execution_count": 33,
      "metadata": {
        "colab": {
          "base_uri": "https://localhost:8080/"
        },
        "id": "7xJCeTIXxvXK",
        "outputId": "75faa6a3-b728-4243-8b28-31737ffa0ff2"
      },
      "outputs": [
        {
          "data": {
            "text/plain": [
              "array([0.41456807, 0.55888956])"
            ]
          },
          "execution_count": 33,
          "metadata": {},
          "output_type": "execute_result"
        }
      ],
      "source": [
        "np.random.rand(2)"
      ]
    },
    {
      "cell_type": "code",
      "execution_count": 34,
      "metadata": {
        "colab": {
          "base_uri": "https://localhost:8080/"
        },
        "id": "jz0NrVARx7-z",
        "outputId": "1ebbd6be-a1bf-4344-f1f2-404dd97804b4"
      },
      "outputs": [
        {
          "data": {
            "text/plain": [
              "array([[0.33604901, 0.12265739, 0.99360575, 0.56201731],\n",
              "       [0.55033859, 0.08354501, 0.56471835, 0.67825749]])"
            ]
          },
          "execution_count": 34,
          "metadata": {},
          "output_type": "execute_result"
        }
      ],
      "source": [
        "np.random.rand(2,4)"
      ]
    },
    {
      "cell_type": "markdown",
      "metadata": {},
      "source": [
        "### randn"
      ]
    },
    {
      "cell_type": "code",
      "execution_count": 35,
      "metadata": {
        "colab": {
          "base_uri": "https://localhost:8080/"
        },
        "id": "qQS_MF-3yEN3",
        "outputId": "c642d308-83dc-4387-a3a6-f9131dc9d4f5"
      },
      "outputs": [
        {
          "data": {
            "text/plain": [
              "array([-0.78010429, -0.8068887 ])"
            ]
          },
          "execution_count": 35,
          "metadata": {},
          "output_type": "execute_result"
        }
      ],
      "source": [
        "np.random.randn(2)"
      ]
    },
    {
      "cell_type": "markdown",
      "metadata": {},
      "source": [
        "### randint"
      ]
    },
    {
      "cell_type": "code",
      "execution_count": 36,
      "metadata": {
        "colab": {
          "base_uri": "https://localhost:8080/"
        },
        "id": "6tXL8QWWyMVk",
        "outputId": "88dbfc9b-6ea9-41f1-9ef5-d43a5771927a"
      },
      "outputs": [
        {
          "data": {
            "text/plain": [
              "11"
            ]
          },
          "execution_count": 36,
          "metadata": {},
          "output_type": "execute_result"
        }
      ],
      "source": [
        "np.random.randint(1,100)"
      ]
    },
    {
      "cell_type": "code",
      "execution_count": 37,
      "metadata": {
        "colab": {
          "base_uri": "https://localhost:8080/"
        },
        "id": "EsTy1xbpzUoO",
        "outputId": "8f72782d-05d4-4f64-fb8c-89ee481cd49b"
      },
      "outputs": [
        {
          "data": {
            "text/plain": [
              "array([63, 14, 13, 13, 76, 71, 46, 10, 85, 93])"
            ]
          },
          "execution_count": 37,
          "metadata": {},
          "output_type": "execute_result"
        }
      ],
      "source": [
        "np.random.randint(1,100,10)"
      ]
    },
    {
      "cell_type": "markdown",
      "metadata": {},
      "source": [
        "### normal"
      ]
    },
    {
      "cell_type": "code",
      "execution_count": 38,
      "metadata": {},
      "outputs": [
        {
          "data": {
            "text/plain": [
              "array([ 1.02726508e+00,  1.98416493e+00, -1.33965766e+00, -1.02882678e-01,\n",
              "       -5.32585922e-01, -9.44302173e-01, -1.37833907e+00, -3.34042570e-01,\n",
              "       -7.84493648e-01, -8.38613436e-02, -9.67110107e-01,  4.77855976e-01,\n",
              "        1.53431778e+00, -2.22167530e-01, -1.29421577e+00, -1.47107213e-01,\n",
              "        1.39695947e+00, -3.04990187e-01,  8.82884501e-02, -3.49117822e-01,\n",
              "       -1.12429879e+00, -1.93636680e-01,  1.97946175e+00, -1.06066153e+00,\n",
              "        1.48810878e+00,  1.08587076e-01,  6.42371516e-01,  5.90707476e-01,\n",
              "       -1.12910054e+00,  9.09776607e-01,  1.08231759e+00,  1.72083809e+00,\n",
              "       -1.24204881e+00, -5.41427171e-01,  4.58594057e-01, -1.15052262e+00,\n",
              "       -1.28389199e+00,  1.05345244e+00,  5.13648171e-01, -1.19907582e+00,\n",
              "       -3.29091481e-02,  4.39850667e-01,  5.92660239e-01,  1.45639780e-01,\n",
              "        1.92692911e-03, -6.11214820e-01,  3.87012832e-01, -3.92042843e-02,\n",
              "       -1.00438800e+00, -1.17798554e+00])"
            ]
          },
          "execution_count": 38,
          "metadata": {},
          "output_type": "execute_result"
        }
      ],
      "source": [
        "arr = np.random.normal(loc=0, scale=1, size=50)\n",
        "arr"
      ]
    },
    {
      "cell_type": "markdown",
      "metadata": {},
      "source": [
        "### choice"
      ]
    },
    {
      "cell_type": "code",
      "execution_count": 39,
      "metadata": {},
      "outputs": [
        {
          "name": "stdout",
          "output_type": "stream",
          "text": [
            "[4 3]\n"
          ]
        }
      ],
      "source": [
        "arr = np.array([1, 2, 3, 4])\n",
        "arr_sample = np.random.choice(arr, size=2)\n",
        "print(arr_sample)"
      ]
    },
    {
      "cell_type": "markdown",
      "metadata": {},
      "source": [
        "## shape"
      ]
    },
    {
      "cell_type": "code",
      "execution_count": 40,
      "metadata": {},
      "outputs": [
        {
          "data": {
            "text/plain": [
              "(2, 4)"
            ]
          },
          "execution_count": 40,
          "metadata": {},
          "output_type": "execute_result"
        }
      ],
      "source": [
        "arr=np.array([[10,93,45,67],[10,300,45,67]])\n",
        "arr.shape"
      ]
    },
    {
      "cell_type": "markdown",
      "metadata": {},
      "source": [
        "## reshape"
      ]
    },
    {
      "cell_type": "code",
      "execution_count": 41,
      "metadata": {
        "colab": {
          "base_uri": "https://localhost:8080/"
        },
        "id": "kY9BuJoQzYl-",
        "outputId": "96b06bcc-a700-474e-9599-7d7f47f7e555"
      },
      "outputs": [
        {
          "name": "stdout",
          "output_type": "stream",
          "text": [
            "befor reshape \n",
            " [ 0  1  2  3  4  5  6  7  8  9 10 11 12 13 14 15 16 17 18 19 20 21 22 23\n",
            " 24]\n",
            "after reshape \n",
            " [[ 0  1  2  3  4]\n",
            " [ 5  6  7  8  9]\n",
            " [10 11 12 13 14]\n",
            " [15 16 17 18 19]\n",
            " [20 21 22 23 24]]\n"
          ]
        }
      ],
      "source": [
        "arr = np.arange(25)\n",
        "print(f'befor reshape \\n {arr}')\n",
        "arr_reshape = arr.reshape(5,5)\n",
        "print(f'after reshape \\n {arr_reshape}')"
      ]
    },
    {
      "cell_type": "markdown",
      "metadata": {},
      "source": [
        "## Concatenate two arrays"
      ]
    },
    {
      "cell_type": "code",
      "execution_count": 42,
      "metadata": {},
      "outputs": [
        {
          "name": "stdout",
          "output_type": "stream",
          "text": [
            "[1 2 3 4]\n"
          ]
        }
      ],
      "source": [
        "arr1 = np.array([1, 2])\n",
        "arr2 = np.array([3, 4])\n",
        "arr = np.concatenate((arr1, arr2))\n",
        "print(arr)"
      ]
    },
    {
      "cell_type": "markdown",
      "metadata": {},
      "source": [
        "## Split an array into multiple sub-arrays"
      ]
    },
    {
      "cell_type": "code",
      "execution_count": 43,
      "metadata": {},
      "outputs": [
        {
          "name": "stdout",
          "output_type": "stream",
          "text": [
            "[array([1, 2]), array([3, 4])]\n"
          ]
        }
      ],
      "source": [
        "arr = np.array([1, 2, 3, 4])\n",
        "arr_split = np.split(arr, 2)\n",
        "print(arr_split)"
      ]
    },
    {
      "cell_type": "markdown",
      "metadata": {},
      "source": [
        "## max"
      ]
    },
    {
      "cell_type": "code",
      "execution_count": 44,
      "metadata": {
        "colab": {
          "base_uri": "https://localhost:8080/"
        },
        "id": "3off1PUlzyh5",
        "outputId": "3dd6fa1b-b654-438d-9332-c451d8bbef5f"
      },
      "outputs": [
        {
          "data": {
            "text/plain": [
              "93"
            ]
          },
          "execution_count": 44,
          "metadata": {},
          "output_type": "execute_result"
        }
      ],
      "source": [
        "arr2=np.array([10,93,45,67])\n",
        "arr2.max()"
      ]
    },
    {
      "cell_type": "markdown",
      "metadata": {},
      "source": [
        "## min"
      ]
    },
    {
      "cell_type": "code",
      "execution_count": 45,
      "metadata": {
        "colab": {
          "base_uri": "https://localhost:8080/"
        },
        "id": "qQm-bM1Pz8s_",
        "outputId": "9f2eac9f-0ea4-4a2e-caea-38a40e3d11b9"
      },
      "outputs": [
        {
          "data": {
            "text/plain": [
              "10"
            ]
          },
          "execution_count": 45,
          "metadata": {},
          "output_type": "execute_result"
        }
      ],
      "source": [
        "arr2=np.array([10,93,45,67])\n",
        "arr2.min()"
      ]
    },
    {
      "cell_type": "markdown",
      "metadata": {},
      "source": [
        "## argmax"
      ]
    },
    {
      "cell_type": "code",
      "execution_count": 46,
      "metadata": {
        "colab": {
          "base_uri": "https://localhost:8080/"
        },
        "id": "Asgri2iTz_Tg",
        "outputId": "78161c55-aa16-4174-e49b-5a8224b2d534"
      },
      "outputs": [
        {
          "data": {
            "text/plain": [
              "5"
            ]
          },
          "execution_count": 46,
          "metadata": {},
          "output_type": "execute_result"
        }
      ],
      "source": [
        "arr2=np.array([[10,93,45,67],[10,300,45,67]])\n",
        "arr2.argmax()"
      ]
    },
    {
      "cell_type": "markdown",
      "metadata": {},
      "source": [
        "## Index"
      ]
    },
    {
      "cell_type": "markdown",
      "metadata": {},
      "source": [
        "### Vector Index"
      ]
    },
    {
      "cell_type": "code",
      "execution_count": 47,
      "metadata": {
        "colab": {
          "base_uri": "https://localhost:8080/"
        },
        "id": "EVFf30y40mvg",
        "outputId": "0cdce521-d0a7-4c82-8eea-675fae5f66c3"
      },
      "outputs": [
        {
          "data": {
            "text/plain": [
              "array([ 0,  1,  2,  3,  4,  5,  6,  7,  8,  9, 10])"
            ]
          },
          "execution_count": 47,
          "metadata": {},
          "output_type": "execute_result"
        }
      ],
      "source": [
        "arr=np.arange(0,11)\n",
        "arr"
      ]
    },
    {
      "cell_type": "code",
      "execution_count": 48,
      "metadata": {
        "colab": {
          "base_uri": "https://localhost:8080/"
        },
        "id": "l18xfm2x06Cg",
        "outputId": "b6f7bac9-e372-4564-d813-180d94c5a34c"
      },
      "outputs": [
        {
          "data": {
            "text/plain": [
              "10"
            ]
          },
          "execution_count": 48,
          "metadata": {},
          "output_type": "execute_result"
        }
      ],
      "source": [
        "arr[-1]"
      ]
    },
    {
      "cell_type": "code",
      "execution_count": 49,
      "metadata": {
        "colab": {
          "base_uri": "https://localhost:8080/"
        },
        "id": "-LUYl-o50_l9",
        "outputId": "26eca864-5126-47c6-d8c1-47484edce2c7"
      },
      "outputs": [
        {
          "data": {
            "text/plain": [
              "array([0, 1, 2, 3])"
            ]
          },
          "execution_count": 49,
          "metadata": {},
          "output_type": "execute_result"
        }
      ],
      "source": [
        "arr[0:4]"
      ]
    },
    {
      "cell_type": "markdown",
      "metadata": {},
      "source": [
        "### Matrix Index"
      ]
    },
    {
      "cell_type": "code",
      "execution_count": 50,
      "metadata": {},
      "outputs": [],
      "source": [
        "matrix=np.array([[1,2,3],\n",
        "                [4,5,6],\n",
        "                [6,7,8]])"
      ]
    },
    {
      "cell_type": "code",
      "execution_count": 51,
      "metadata": {},
      "outputs": [
        {
          "data": {
            "text/plain": [
              "array([[4, 5],\n",
              "       [6, 7]])"
            ]
          },
          "execution_count": 51,
          "metadata": {},
          "output_type": "execute_result"
        }
      ],
      "source": [
        "matrix[1:3 ,0:2]"
      ]
    },
    {
      "cell_type": "markdown",
      "metadata": {},
      "source": [
        "## copy\n",
        "important"
      ]
    },
    {
      "cell_type": "code",
      "execution_count": 52,
      "metadata": {
        "colab": {
          "base_uri": "https://localhost:8080/"
        },
        "id": "PnG0tLRs1CN0",
        "outputId": "4c46f320-b5ca-4fcc-d681-9faa729ce32a"
      },
      "outputs": [
        {
          "data": {
            "text/plain": [
              "array([ 0,  1,  2,  3,  4,  5,  6,  7,  8,  9, 10])"
            ]
          },
          "execution_count": 52,
          "metadata": {},
          "output_type": "execute_result"
        }
      ],
      "source": [
        "arr=np.arange(0,11)\n",
        "arr"
      ]
    },
    {
      "cell_type": "code",
      "execution_count": 53,
      "metadata": {
        "colab": {
          "base_uri": "https://localhost:8080/"
        },
        "id": "drX7MWba1KrO",
        "outputId": "7c549e6f-c9f4-44b3-d8cd-6dfab6eb8e54"
      },
      "outputs": [
        {
          "data": {
            "text/plain": [
              "array([0, 1, 2, 3])"
            ]
          },
          "execution_count": 53,
          "metadata": {},
          "output_type": "execute_result"
        }
      ],
      "source": [
        "new_arr=arr[0:4]\n",
        "new_arr"
      ]
    },
    {
      "cell_type": "code",
      "execution_count": 54,
      "metadata": {
        "colab": {
          "base_uri": "https://localhost:8080/"
        },
        "id": "3aDZzHwW1Ps5",
        "outputId": "91b64fca-80d7-4034-997f-3b6a7c7e7b20"
      },
      "outputs": [
        {
          "data": {
            "text/plain": [
              "array([100, 100, 100, 100])"
            ]
          },
          "execution_count": 54,
          "metadata": {},
          "output_type": "execute_result"
        }
      ],
      "source": [
        "new_arr[:]=100\n",
        "new_arr"
      ]
    },
    {
      "cell_type": "code",
      "execution_count": 55,
      "metadata": {
        "colab": {
          "base_uri": "https://localhost:8080/"
        },
        "id": "aR1m8oCN1ac2",
        "outputId": "2c5716c6-61bc-4e88-e7ba-6e1c2037d5ef"
      },
      "outputs": [
        {
          "data": {
            "text/plain": [
              "array([100, 100, 100, 100,   4,   5,   6,   7,   8,   9,  10])"
            ]
          },
          "execution_count": 55,
          "metadata": {},
          "output_type": "execute_result"
        }
      ],
      "source": [
        "arr"
      ]
    },
    {
      "cell_type": "markdown",
      "metadata": {},
      "source": [
        "## Broadcasting"
      ]
    },
    {
      "cell_type": "code",
      "execution_count": 56,
      "metadata": {
        "colab": {
          "base_uri": "https://localhost:8080/"
        },
        "id": "9wxbH4KM2Ys8",
        "outputId": "55a54a62-b170-43bf-a063-e2249ade07de"
      },
      "outputs": [
        {
          "data": {
            "text/plain": [
              "array([ 7,  8,  9, 10, 11])"
            ]
          },
          "execution_count": 56,
          "metadata": {},
          "output_type": "execute_result"
        }
      ],
      "source": [
        "y=np.array([1,2,3,4,5])\n",
        "scaler=6\n",
        "y + scaler"
      ]
    },
    {
      "cell_type": "code",
      "execution_count": 57,
      "metadata": {
        "colab": {
          "base_uri": "https://localhost:8080/"
        },
        "id": "T5O1aEFt389B",
        "outputId": "e4e78429-be9a-445f-f517-8104ae6c5261"
      },
      "outputs": [
        {
          "data": {
            "text/plain": [
              "array([[2, 4, 6],\n",
              "       [2, 4, 6]])"
            ]
          },
          "execution_count": 57,
          "metadata": {},
          "output_type": "execute_result"
        }
      ],
      "source": [
        "arr1=np.array([[1,2,3],[1,2,3]])\n",
        "arr2=np.array([1,2,3])\n",
        "# arr2=np.array([[1,2,3],[1,2,3]])\n",
        "arr1 + arr2"
      ]
    },
    {
      "cell_type": "code",
      "execution_count": 58,
      "metadata": {},
      "outputs": [
        {
          "name": "stdout",
          "output_type": "stream",
          "text": [
            "[[2 3 4]\n",
            " [3 4 5]\n",
            " [4 5 6]]\n"
          ]
        }
      ],
      "source": [
        "arr1 = np.array([1, 2, 3])\n",
        "arr2 = np.array([[1], [2], [3]])\n",
        "arr_broadcast = arr1 + arr2\n",
        "print(arr_broadcast)\n"
      ]
    },
    {
      "cell_type": "code",
      "execution_count": 59,
      "metadata": {},
      "outputs": [
        {
          "data": {
            "text/plain": [
              "array([[2, 4, 6],\n",
              "       [2, 4, 6]])"
            ]
          },
          "execution_count": 59,
          "metadata": {},
          "output_type": "execute_result"
        }
      ],
      "source": [
        "arr1=np.array([[1,2,3],[1,2,3]])\n",
        "arr2=np.array([1,2,3])\n",
        "arr = np.add(arr1, arr2)\n",
        "arr"
      ]
    },
    {
      "cell_type": "code",
      "execution_count": 60,
      "metadata": {},
      "outputs": [
        {
          "name": "stdout",
          "output_type": "stream",
          "text": [
            "[-2 -2]\n"
          ]
        }
      ],
      "source": [
        "arr1 = np.array([1, 2])\n",
        "arr2 = np.array([3, 4])\n",
        "arr = np.subtract(arr1, arr2)\n",
        "print(arr)\n"
      ]
    },
    {
      "cell_type": "code",
      "execution_count": 61,
      "metadata": {
        "id": "ItMgYsOi4XVH"
      },
      "outputs": [],
      "source": [
        "A=np.array([\n",
        "    [1,2],\n",
        "    [4,5]])\n",
        "\n",
        "B=np.array([\n",
        "    [1,2],\n",
        "    [6,5]])"
      ]
    },
    {
      "cell_type": "code",
      "execution_count": 62,
      "metadata": {
        "colab": {
          "base_uri": "https://localhost:8080/"
        },
        "id": "egWk3twU5DQc",
        "outputId": "1946f9b0-a808-4d6c-fc33-e21696192171"
      },
      "outputs": [
        {
          "data": {
            "text/plain": [
              "array([[ 2,  4],\n",
              "       [10, 10]])"
            ]
          },
          "execution_count": 62,
          "metadata": {},
          "output_type": "execute_result"
        }
      ],
      "source": [
        "A + B"
      ]
    },
    {
      "cell_type": "code",
      "execution_count": 63,
      "metadata": {},
      "outputs": [
        {
          "data": {
            "text/plain": [
              "array([[ 0,  0],\n",
              "       [-2,  0]])"
            ]
          },
          "execution_count": 63,
          "metadata": {},
          "output_type": "execute_result"
        }
      ],
      "source": [
        "A - B"
      ]
    },
    {
      "cell_type": "markdown",
      "metadata": {},
      "source": [
        "## exponential"
      ]
    },
    {
      "cell_type": "code",
      "execution_count": 64,
      "metadata": {},
      "outputs": [
        {
          "name": "stdout",
          "output_type": "stream",
          "text": [
            "[ 2.71828183  7.3890561  20.08553692]\n"
          ]
        }
      ],
      "source": [
        "arr = np.array([1, 2, 3])\n",
        "arr_exp = np.exp(arr)\n",
        "print(arr_exp)"
      ]
    },
    {
      "cell_type": "markdown",
      "metadata": {},
      "source": [
        "#### Elementwise"
      ]
    },
    {
      "cell_type": "code",
      "execution_count": 65,
      "metadata": {
        "colab": {
          "base_uri": "https://localhost:8080/"
        },
        "id": "o0AZrWOn5Fso",
        "outputId": "d0c69d69-02ec-4770-853c-8fc90375e227"
      },
      "outputs": [
        {
          "data": {
            "text/plain": [
              "array([[ 1,  4],\n",
              "       [24, 25]])"
            ]
          },
          "execution_count": 65,
          "metadata": {},
          "output_type": "execute_result"
        }
      ],
      "source": [
        "A * B  "
      ]
    },
    {
      "cell_type": "code",
      "execution_count": 66,
      "metadata": {},
      "outputs": [
        {
          "data": {
            "text/plain": [
              "array([[ 1,  4],\n",
              "       [24, 25]])"
            ]
          },
          "execution_count": 66,
          "metadata": {},
          "output_type": "execute_result"
        }
      ],
      "source": [
        "arr = np.multiply(A, B)\n",
        "arr"
      ]
    },
    {
      "cell_type": "markdown",
      "metadata": {},
      "source": [
        "#### dot product"
      ]
    },
    {
      "cell_type": "code",
      "execution_count": 67,
      "metadata": {
        "colab": {
          "base_uri": "https://localhost:8080/"
        },
        "id": "yziW-uFJ5TzA",
        "outputId": "9d2f67cb-46fc-4c8e-c02f-ed811adc419f"
      },
      "outputs": [
        {
          "data": {
            "text/plain": [
              "array([[13, 12],\n",
              "       [34, 33]])"
            ]
          },
          "execution_count": 67,
          "metadata": {},
          "output_type": "execute_result"
        }
      ],
      "source": [
        "A.dot(B)  "
      ]
    },
    {
      "cell_type": "code",
      "execution_count": 68,
      "metadata": {},
      "outputs": [
        {
          "data": {
            "text/plain": [
              "array([[13, 12],\n",
              "       [34, 33]])"
            ]
          },
          "execution_count": 68,
          "metadata": {},
          "output_type": "execute_result"
        }
      ],
      "source": [
        "arr = np.dot(A, B)\n",
        "arr"
      ]
    },
    {
      "cell_type": "markdown",
      "metadata": {},
      "source": [
        "## Transpose"
      ]
    },
    {
      "cell_type": "code",
      "execution_count": 69,
      "metadata": {
        "id": "5dK6SxjK5oyZ"
      },
      "outputs": [
        {
          "name": "stdout",
          "output_type": "stream",
          "text": [
            "befor transpose \n",
            " [[1 2]\n",
            " [3 4]\n",
            " [5 6]]\n",
            "after transpose \n",
            " [[1 3 5]\n",
            " [2 4 6]]\n"
          ]
        }
      ],
      "source": [
        "arr=np.array([\n",
        "    [1,2],\n",
        "    [3,4],\n",
        "    [5,6],\n",
        "])\n",
        "print(f'befor transpose \\n {arr}')\n",
        "arr_transpose = arr.T\n",
        "print(f'after transpose \\n {arr_transpose}')"
      ]
    },
    {
      "cell_type": "markdown",
      "metadata": {},
      "source": [
        "## mean"
      ]
    },
    {
      "cell_type": "code",
      "execution_count": 70,
      "metadata": {},
      "outputs": [
        {
          "name": "stdout",
          "output_type": "stream",
          "text": [
            "4.0\n"
          ]
        }
      ],
      "source": [
        "A=np.array([1,2,3,4,5,6,7])\n",
        "print(np.mean(A))"
      ]
    },
    {
      "cell_type": "markdown",
      "metadata": {},
      "source": [
        "## median"
      ]
    },
    {
      "cell_type": "code",
      "execution_count": 71,
      "metadata": {},
      "outputs": [
        {
          "name": "stdout",
          "output_type": "stream",
          "text": [
            "4.5\n"
          ]
        }
      ],
      "source": [
        "A=np.array([1,2,4,5,6,7,2,3,4,5,6,7])\n",
        "print(np.median(A))"
      ]
    },
    {
      "cell_type": "markdown",
      "metadata": {},
      "source": [
        "## mode"
      ]
    },
    {
      "cell_type": "code",
      "execution_count": 72,
      "metadata": {},
      "outputs": [],
      "source": [
        "from statistics import mode"
      ]
    },
    {
      "cell_type": "code",
      "execution_count": 73,
      "metadata": {},
      "outputs": [],
      "source": [
        "def zyad_mode(lis):\n",
        "    \"\"\"\n",
        "    This function takes a list and returns the mode, if there is more than one adds them to a list and shows all.\n",
        "    \"\"\"\n",
        "    #Checking for the tank is empty or not.\n",
        "    if len(lis) == 0:\n",
        "        return 'The tank must not be empty.'\n",
        "    else:\n",
        "        # Create a Counter object from the list\n",
        "        from typing import Counter\n",
        "        # Get the most common elements from the Counter object and get the number of times each element appears\n",
        "        pairs = Counter(iter(lis)).most_common()\n",
        "        # Get the number of times the most common element(s) appear\n",
        "        times_repeated = pairs[0][1]\n",
        "        # Get the most repeated element(s)\n",
        "        most_repeated = []\n",
        "        for i in pairs:\n",
        "            if i[1] == times_repeated:\n",
        "                most_repeated.append(i[0])\n",
        "        # If only one element is the most common, return it\n",
        "        if len(most_repeated) == 1:\n",
        "            return most_repeated[0]\n",
        "        # If more than one element is the most common, return a list of them\n",
        "        else:\n",
        "            return most_repeated"
      ]
    },
    {
      "cell_type": "code",
      "execution_count": 74,
      "metadata": {},
      "outputs": [
        {
          "name": "stdout",
          "output_type": "stream",
          "text": [
            "1\n",
            "[1, 2, 3, 9]\n"
          ]
        }
      ],
      "source": [
        "A=np.array([1,1,1,2,2,2,3,3,3,4,5,6,8,7,9,9,9])\n",
        "print(mode(A))\n",
        "print(zyad_mode(A))"
      ]
    },
    {
      "cell_type": "markdown",
      "metadata": {},
      "source": [
        "## mean for columns or row"
      ]
    },
    {
      "cell_type": "code",
      "execution_count": 75,
      "metadata": {},
      "outputs": [
        {
          "name": "stdout",
          "output_type": "stream",
          "text": [
            "column_mean [1. 2. 3. 4. 5. 6. 7.]\n",
            "row_mean [4. 4.]\n"
          ]
        }
      ],
      "source": [
        "A=np.array([[1,2,3,4,5,6,7],\n",
        "            [1,2,3,4,5,6,7]])\n",
        "column_mean = np.mean(A,axis=0)\n",
        "row_mean = np.mean(A,axis=1)\n",
        "print('column_mean',column_mean)\n",
        "print('row_mean',row_mean)"
      ]
    },
    {
      "cell_type": "markdown",
      "metadata": {},
      "source": [
        "## Variance"
      ]
    },
    {
      "cell_type": "code",
      "execution_count": 76,
      "metadata": {},
      "outputs": [
        {
          "data": {
            "text/plain": [
              "2.9166666666666665"
            ]
          },
          "execution_count": 76,
          "metadata": {},
          "output_type": "execute_result"
        }
      ],
      "source": [
        "v=np.array([1,2,3,4,5,6])\n",
        "np.var(v)"
      ]
    },
    {
      "cell_type": "markdown",
      "metadata": {},
      "source": [
        "### Variance for columns or row"
      ]
    },
    {
      "cell_type": "code",
      "execution_count": 77,
      "metadata": {},
      "outputs": [
        {
          "name": "stdout",
          "output_type": "stream",
          "text": [
            "column_variance [0. 0. 0. 0. 0. 0.]\n",
            "row_variance [2.91666667 2.91666667]\n"
          ]
        }
      ],
      "source": [
        "v=np.array([[1,2,3,4,5,6],\n",
        "            [1,2,3,4,5,6]])\n",
        "\n",
        "column_variance=np.var(v,axis=0)\n",
        "row_variance=np.var(v,axis=1)\n",
        "\n",
        "print('column_variance',column_variance)\n",
        "print('row_variance',row_variance)"
      ]
    },
    {
      "cell_type": "markdown",
      "metadata": {},
      "source": [
        "## Standard Deviation"
      ]
    },
    {
      "cell_type": "code",
      "execution_count": 78,
      "metadata": {},
      "outputs": [
        {
          "data": {
            "text/plain": [
              "1.707825127659933"
            ]
          },
          "execution_count": 78,
          "metadata": {},
          "output_type": "execute_result"
        }
      ],
      "source": [
        "v=np.array([1,2,3,4,5,6])\n",
        "np.std(v)"
      ]
    },
    {
      "cell_type": "markdown",
      "metadata": {},
      "source": [
        "### Standard Deviation for columns or row"
      ]
    },
    {
      "cell_type": "code",
      "execution_count": 79,
      "metadata": {},
      "outputs": [
        {
          "name": "stdout",
          "output_type": "stream",
          "text": [
            "column_std [0. 0. 0. 0. 0. 0.]\n",
            "row_std [1.70782513 1.70782513]\n"
          ]
        }
      ],
      "source": [
        "v=np.array([[1,2,3,4,5,6],\n",
        "            [1,2,3,4,5,6]])\n",
        "\n",
        "column_std=np.std(v,axis=0)\n",
        "row_std=np.std(v,axis=1)\n",
        "\n",
        "print('column_std',column_std)\n",
        "print('row_std',row_std)"
      ]
    },
    {
      "cell_type": "markdown",
      "metadata": {},
      "source": [
        "## Write a function stats() that takes any sequence of numbers and giveback\n",
        "## its mean, variance and std."
      ]
    },
    {
      "cell_type": "code",
      "execution_count": 80,
      "metadata": {},
      "outputs": [],
      "source": [
        "def stats(variables,col):\n",
        "\n",
        "    matrix=np.array(variables)\n",
        "    if col== 'col':\n",
        "        axis=0\n",
        "    elif col== 'row':\n",
        "        axis=1\n",
        "\n",
        "    else:\n",
        "        print('error')\n",
        "\n",
        "    if len(matrix.shape)==1:\n",
        "\n",
        "        mean=np.mean(matrix)\n",
        "        var=np.var(matrix)\n",
        "        std=np.std(matrix)\n",
        "    else:\n",
        "        mean=np.mean(matrix,axis=axis)\n",
        "        var=np.var(matrix,axis=axis)\n",
        "        std=np.std(matrix,axis=axis)\n",
        "    return [mean,var,std]"
      ]
    },
    {
      "cell_type": "code",
      "execution_count": 81,
      "metadata": {},
      "outputs": [],
      "source": [
        "vector =np.array([1,2,3,4,5,6])\n",
        "matrix=np.array([[1,2,3,4,5,6],\n",
        "                [1,2,3,4,5,6]])"
      ]
    },
    {
      "cell_type": "code",
      "execution_count": 82,
      "metadata": {},
      "outputs": [
        {
          "name": "stdout",
          "output_type": "stream",
          "text": [
            "[3.5, 2.9166666666666665, 1.707825127659933]\n",
            "[array([1., 2., 3., 4., 5., 6.]), array([0., 0., 0., 0., 0., 0.]), array([0., 0., 0., 0., 0., 0.])]\n",
            "[array([3.5, 3.5]), array([2.91666667, 2.91666667]), array([1.70782513, 1.70782513])]\n"
          ]
        }
      ],
      "source": [
        "print(stats(vector,'col'))\n",
        "\n",
        "print(stats(matrix,'col'))\n",
        "\n",
        "print(stats(matrix,'row'))"
      ]
    },
    {
      "cell_type": "markdown",
      "metadata": {},
      "source": [
        "## Covariance"
      ]
    },
    {
      "cell_type": "code",
      "execution_count": 83,
      "metadata": {},
      "outputs": [
        {
          "name": "stdout",
          "output_type": "stream",
          "text": [
            "[[ 7.5 -7.5]\n",
            " [-7.5  7.5]]\n"
          ]
        }
      ],
      "source": [
        "x=np.array([1,2,3,4,5,6,7,8,9])\n",
        "y=np.array([9,8,7,6,5,4,3,2,1])\n",
        "\n",
        "res_cov=np.cov(x,y)\n",
        "\n",
        "print(res_cov)\n",
        "#where the diagonal elements will represent the variance of x and y,\n",
        "#respectively, and the off-diagonal elements will represent the covariance between them"
      ]
    },
    {
      "cell_type": "code",
      "execution_count": 84,
      "metadata": {},
      "outputs": [
        {
          "name": "stdout",
          "output_type": "stream",
          "text": [
            "-7.5\n"
          ]
        }
      ],
      "source": [
        "#To find the covariance between two arrays. Access it by[0,1]\n",
        "\n",
        "res_cov=np.cov(x,y)[0,1]\n",
        "\n",
        "print(res_cov)"
      ]
    },
    {
      "cell_type": "markdown",
      "metadata": {},
      "source": [
        "## correlation"
      ]
    },
    {
      "cell_type": "code",
      "execution_count": 85,
      "metadata": {},
      "outputs": [
        {
          "name": "stdout",
          "output_type": "stream",
          "text": [
            "[[ 1. -1.]\n",
            " [-1.  1.]]\n"
          ]
        }
      ],
      "source": [
        "x=np.array([1,2,3,4,5,6,7,8,9])\n",
        "y=np.array([9,8,7,6,5,4,3,2,1])\n",
        "\n",
        "res_cor=np.corrcoef(x,y)\n",
        "\n",
        "print(res_cor)\n",
        "#where the diagonal elements will be 1, and the off-diagonal elements will represent the correlation coefficient between them."
      ]
    },
    {
      "cell_type": "code",
      "execution_count": 86,
      "metadata": {},
      "outputs": [
        {
          "name": "stdout",
          "output_type": "stream",
          "text": [
            "-1.0\n"
          ]
        }
      ],
      "source": [
        "#To find the correlation between two arrays. Access it by[0,1]\n",
        "\n",
        "res_cor=np.corrcoef(x,y)[0,1]\n",
        "\n",
        "print(res_cor)"
      ]
    },
    {
      "cell_type": "markdown",
      "metadata": {},
      "source": [
        "## nth percentile"
      ]
    },
    {
      "cell_type": "code",
      "execution_count": 87,
      "metadata": {},
      "outputs": [
        {
          "name": "stdout",
          "output_type": "stream",
          "text": [
            "2.5\n"
          ]
        }
      ],
      "source": [
        "arr = np.array([1, 2, 3, 4])\n",
        "arr_percentile = np.percentile(arr, 50)\n",
        "print(arr_percentile)"
      ]
    },
    {
      "cell_type": "markdown",
      "metadata": {},
      "source": [
        "## Linear Algebra"
      ]
    },
    {
      "cell_type": "markdown",
      "metadata": {},
      "source": [
        "### (multiplicative) inverse of a matrix."
      ]
    },
    {
      "cell_type": "code",
      "execution_count": 88,
      "metadata": {},
      "outputs": [
        {
          "name": "stdout",
          "output_type": "stream",
          "text": [
            "[[-2.   1. ]\n",
            " [ 1.5 -0.5]]\n"
          ]
        }
      ],
      "source": [
        "arr = np.array([[1, 2], [3, 4]])\n",
        "arr_inv = np.linalg.inv(arr)\n",
        "print(arr_inv)"
      ]
    },
    {
      "cell_type": "markdown",
      "metadata": {},
      "source": [
        "### eigenvalues and right eigenvectors of a square array"
      ]
    },
    {
      "cell_type": "code",
      "execution_count": 89,
      "metadata": {},
      "outputs": [
        {
          "name": "stdout",
          "output_type": "stream",
          "text": [
            "eigvals: [-0.37228132  5.37228132]\n",
            "\n",
            "eigvecs: \n",
            " [[-0.82456484 -0.41597356]\n",
            " [ 0.56576746 -0.90937671]]\n"
          ]
        }
      ],
      "source": [
        "arr = np.array([[1, 2], [3, 4]])\n",
        "eigvals, eigvecs = np.linalg.eig(arr)\n",
        "print('eigvals:',eigvals)\n",
        "print('\\neigvecs: \\n',eigvecs)\n"
      ]
    },
    {
      "cell_type": "markdown",
      "metadata": {},
      "source": [
        "### Singular Value Decomposition"
      ]
    },
    {
      "cell_type": "code",
      "execution_count": 90,
      "metadata": {},
      "outputs": [
        {
          "name": "stdout",
          "output_type": "stream",
          "text": [
            "U: \n",
            " [[-0.40455358 -0.9145143 ]\n",
            " [-0.9145143   0.40455358]]\n",
            "\n",
            "s:  [5.4649857  0.36596619]\n",
            "\n",
            "V: \n",
            " [[-0.57604844 -0.81741556]\n",
            " [ 0.81741556 -0.57604844]]\n"
          ]
        }
      ],
      "source": [
        "arr = np.array([[1, 2], [3, 4]])\n",
        "U, s, V = np.linalg.svd(arr)\n",
        "print('U: \\n',U)\n",
        "print('\\ns: ',s)\n",
        "print('\\nV: \\n',V)\n"
      ]
    },
    {
      "cell_type": "markdown",
      "metadata": {},
      "source": [
        "### matrix or vector norm"
      ]
    },
    {
      "cell_type": "code",
      "execution_count": 91,
      "metadata": {},
      "outputs": [
        {
          "data": {
            "text/plain": [
              "5.477225575051661"
            ]
          },
          "execution_count": 91,
          "metadata": {},
          "output_type": "execute_result"
        }
      ],
      "source": [
        "arr = np.array([1, 2, 3, 4])\n",
        "arr_norm = np.linalg.norm(arr)\n",
        "arr_norm"
      ]
    }
  ],
  "metadata": {
    "colab": {
      "collapsed_sections": [
        "sBPaANv_KBOh",
        "U3SmNzkcdrhf",
        "JGNLt_7Gd28Y",
        "YsmPDaEBdzw4",
        "QrRjjGp6d29y",
        "ne_pDtUgdNKC",
        "9o_yK4QldNKF",
        "oFIoWTFndNKQ",
        "GBKOYTmJ0X3N",
        "wIxqTXRJ0dMY",
        "9rG1PcMg0dMe",
        "UFFnVac-0dMg",
        "DHY8bTfoPItm",
        "jLf16B5pY2-j",
        "vj0HnXtLhOBT",
        "xOUBvOwKhRZp",
        "NNXb_DIip0uO",
        "MOCdEukPrLrM",
        "e-EXk38t4tLH",
        "JG_65OyL5PCJ",
        "22XaMxsv5xNJ",
        "L-8oaLOXMr66",
        "te5OlNpvAJ3r",
        "CfrEv1ymleVY",
        "iooAlwE3qHMM",
        "aaxJdMd7wM0p"
      ],
      "provenance": []
    },
    "kernelspec": {
      "display_name": "Python 3",
      "language": "python",
      "name": "python3"
    },
    "language_info": {
      "codemirror_mode": {
        "name": "ipython",
        "version": 3
      },
      "file_extension": ".py",
      "mimetype": "text/x-python",
      "name": "python",
      "nbconvert_exporter": "python",
      "pygments_lexer": "ipython3",
      "version": "3.11.9"
    }
  },
  "nbformat": 4,
  "nbformat_minor": 0
}
