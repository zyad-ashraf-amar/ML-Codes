{
 "cells": [
  {
   "cell_type": "markdown",
   "metadata": {},
   "source": [
    "# compare algorithms performance"
   ]
  },
  {
   "cell_type": "markdown",
   "metadata": {},
   "source": [
    "## Import library"
   ]
  },
  {
   "cell_type": "code",
   "execution_count": 1,
   "metadata": {},
   "outputs": [],
   "source": [
    "import numpy as np\n",
    "from sklearn.datasets import load_breast_cancer\n",
    "from sklearn.model_selection import train_test_split, GridSearchCV\n",
    "from sklearn.linear_model import LogisticRegression\n",
    "from sklearn.tree import DecisionTreeClassifier\n",
    "from sklearn.ensemble import RandomForestClassifier\n",
    "from sklearn.svm import SVC\n",
    "from sklearn.neighbors import KNeighborsClassifier\n",
    "from sklearn.naive_bayes import GaussianNB\n",
    "from sklearn.metrics import accuracy_score\n",
    "from xgboost import XGBClassifier"
   ]
  },
  {
   "cell_type": "markdown",
   "metadata": {},
   "source": [
    "## Load dataset"
   ]
  },
  {
   "cell_type": "code",
   "execution_count": 2,
   "metadata": {},
   "outputs": [],
   "source": [
    "# Load dataset\n",
    "data = load_breast_cancer()\n",
    "X = data.data\n",
    "y = data.target"
   ]
  },
  {
   "cell_type": "markdown",
   "metadata": {},
   "source": [
    "## Split dataset"
   ]
  },
  {
   "cell_type": "code",
   "execution_count": 3,
   "metadata": {},
   "outputs": [],
   "source": [
    "# Split dataset\n",
    "X_train, X_test, y_train, y_test = train_test_split(X, y, test_size=0.2, random_state=42)"
   ]
  },
  {
   "cell_type": "code",
   "execution_count": 4,
   "metadata": {},
   "outputs": [],
   "source": [
    "from sklearn.preprocessing import StandardScaler\n",
    "\n",
    "scaler = StandardScaler()\n",
    "X_train = scaler.fit_transform(X_train)\n",
    "X_test = scaler.transform(X_test)"
   ]
  },
  {
   "cell_type": "markdown",
   "metadata": {},
   "source": [
    "## Algorithms and hyperparameters"
   ]
  },
  {
   "cell_type": "code",
   "execution_count": 8,
   "metadata": {},
   "outputs": [],
   "source": [
    "# Algorithms and hyperparameters\n",
    "models = {\n",
    "    'LogisticRegression': {\n",
    "        'model': LogisticRegression(),\n",
    "        'params': {\n",
    "            'C': [0.1, 1, 10, 100],\n",
    "            'solver': ['liblinear', 'lbfgs']\n",
    "        }\n",
    "    },\n",
    "    'DecisionTree': {\n",
    "        'model': DecisionTreeClassifier(),\n",
    "        'params': {\n",
    "            'max_depth': [3, 5, 10, None],\n",
    "            'min_samples_split': [2, 5, 10]\n",
    "        }\n",
    "    },\n",
    "    'RandomForest': {\n",
    "        'model': RandomForestClassifier(),\n",
    "        'params': {\n",
    "            'n_estimators': [10, 50, 100],\n",
    "            'max_depth': [3, 5, 10, None]\n",
    "        }\n",
    "    },\n",
    "    'SVM': {\n",
    "        'model': SVC(),\n",
    "        'params': {\n",
    "            'C': [0.1, 1, 10, 100],\n",
    "            'kernel': ['linear', 'rbf']\n",
    "        }\n",
    "    },\n",
    "    'KNN': {\n",
    "        'model': KNeighborsClassifier(),\n",
    "        'params': {\n",
    "            'n_neighbors': [3, 5, 7, 9]\n",
    "        }\n",
    "    },\n",
    "    'NaiveBayes': {\n",
    "        'model': GaussianNB(),\n",
    "        'params': {}\n",
    "    },\n",
    "    'XGBoost': {\n",
    "        'model': XGBClassifier(),\n",
    "        'params': {\n",
    "            'n_estimators': [10, 50, 100],\n",
    "            'learning_rate': [0.01, 0.1, 0.2]\n",
    "        }\n",
    "    }\n",
    "}"
   ]
  },
  {
   "cell_type": "markdown",
   "metadata": {},
   "source": [
    "## Train, tune and evaluate each model"
   ]
  },
  {
   "cell_type": "code",
   "execution_count": 9,
   "metadata": {},
   "outputs": [],
   "source": [
    "# Train, tune and evaluate each model\n",
    "best_models = {}\n",
    "for name, m in models.items():\n",
    "    clf = GridSearchCV(m['model'], m['params'], cv=5, scoring='accuracy')\n",
    "    clf.fit(X_train, y_train)\n",
    "    y_pred = clf.predict(X_test)\n",
    "    accuracy = accuracy_score(y_test, y_pred)\n",
    "    best_models[name] = {\n",
    "        'best_estimator': clf.best_estimator_,\n",
    "        'best_params': clf.best_params_,\n",
    "        'accuracy': accuracy\n",
    "    }"
   ]
  },
  {
   "cell_type": "markdown",
   "metadata": {},
   "source": [
    "## Print results"
   ]
  },
  {
   "cell_type": "code",
   "execution_count": 10,
   "metadata": {},
   "outputs": [
    {
     "name": "stdout",
     "output_type": "stream",
     "text": [
      "Model: LogisticRegression\n",
      "Best Estimator: LogisticRegression(C=0.1, solver='liblinear')\n",
      "Best Params: {'C': 0.1, 'solver': 'liblinear'}\n",
      "Accuracy: 0.9912280701754386\n",
      "\n",
      "Model: DecisionTree\n",
      "Best Estimator: DecisionTreeClassifier(max_depth=5, min_samples_split=10)\n",
      "Best Params: {'max_depth': 5, 'min_samples_split': 10}\n",
      "Accuracy: 0.9473684210526315\n",
      "\n",
      "Model: RandomForest\n",
      "Best Estimator: RandomForestClassifier()\n",
      "Best Params: {'max_depth': None, 'n_estimators': 100}\n",
      "Accuracy: 0.956140350877193\n",
      "\n",
      "Model: SVM\n",
      "Best Estimator: SVC(C=1)\n",
      "Best Params: {'C': 1, 'kernel': 'rbf'}\n",
      "Accuracy: 0.9824561403508771\n",
      "\n",
      "Model: KNN\n",
      "Best Estimator: KNeighborsClassifier()\n",
      "Best Params: {'n_neighbors': 5}\n",
      "Accuracy: 0.9473684210526315\n",
      "\n",
      "Model: NaiveBayes\n",
      "Best Estimator: GaussianNB()\n",
      "Best Params: {}\n",
      "Accuracy: 0.9649122807017544\n",
      "\n",
      "Model: XGBoost\n",
      "Best Estimator: XGBClassifier(base_score=None, booster=None, callbacks=None,\n",
      "              colsample_bylevel=None, colsample_bynode=None,\n",
      "              colsample_bytree=None, device=None, early_stopping_rounds=None,\n",
      "              enable_categorical=False, eval_metric=None, feature_types=None,\n",
      "              gamma=None, grow_policy=None, importance_type=None,\n",
      "              interaction_constraints=None, learning_rate=0.2, max_bin=None,\n",
      "              max_cat_threshold=None, max_cat_to_onehot=None,\n",
      "              max_delta_step=None, max_depth=None, max_leaves=None,\n",
      "              min_child_weight=None, missing=nan, monotone_constraints=None,\n",
      "              multi_strategy=None, n_estimators=100, n_jobs=None,\n",
      "              num_parallel_tree=None, random_state=None, ...)\n",
      "Best Params: {'learning_rate': 0.2, 'n_estimators': 100}\n",
      "Accuracy: 0.956140350877193\n",
      "\n"
     ]
    }
   ],
   "source": [
    "# Print results\n",
    "for name, model_info in best_models.items():\n",
    "    print(f\"Model: {name}\")\n",
    "    print(f\"Best Estimator: {model_info['best_estimator']}\")\n",
    "    print(f\"Best Params: {model_info['best_params']}\")\n",
    "    print(f\"Accuracy: {model_info['accuracy']}\\n\")"
   ]
  },
  {
   "cell_type": "markdown",
   "metadata": {},
   "source": [
    "# Analyze the accuracy results of different models\n",
    "To analyze the accuracy results of different models and implement additional performance metrics, we will modify the script to include precision, recall, and F1-score calculations. We'll use the classification_report from sklearn.metrics for detailed evaluation. Here's the updated script:"
   ]
  },
  {
   "cell_type": "markdown",
   "metadata": {},
   "source": [
    "## Import library"
   ]
  },
  {
   "cell_type": "code",
   "execution_count": 11,
   "metadata": {},
   "outputs": [],
   "source": [
    "import numpy as np\n",
    "from sklearn.datasets import load_breast_cancer\n",
    "from sklearn.model_selection import train_test_split, GridSearchCV\n",
    "from sklearn.linear_model import LogisticRegression\n",
    "from sklearn.tree import DecisionTreeClassifier\n",
    "from sklearn.ensemble import RandomForestClassifier\n",
    "from sklearn.svm import SVC\n",
    "from sklearn.neighbors import KNeighborsClassifier\n",
    "from sklearn.naive_bayes import GaussianNB\n",
    "from sklearn.metrics import accuracy_score, classification_report\n",
    "from xgboost import XGBClassifier"
   ]
  },
  {
   "cell_type": "markdown",
   "metadata": {},
   "source": [
    "## Load dataset"
   ]
  },
  {
   "cell_type": "code",
   "execution_count": 12,
   "metadata": {},
   "outputs": [],
   "source": [
    "# Load dataset\n",
    "data = load_breast_cancer()\n",
    "X = data.data\n",
    "y = data.target"
   ]
  },
  {
   "cell_type": "markdown",
   "metadata": {},
   "source": [
    "## Split dataset"
   ]
  },
  {
   "cell_type": "code",
   "execution_count": 13,
   "metadata": {},
   "outputs": [],
   "source": [
    "# Split dataset\n",
    "X_train, X_test, y_train, y_test = train_test_split(X, y, test_size=0.2, random_state=42)"
   ]
  },
  {
   "cell_type": "code",
   "execution_count": 14,
   "metadata": {},
   "outputs": [],
   "source": [
    "from sklearn.preprocessing import StandardScaler\n",
    "\n",
    "scaler = StandardScaler()\n",
    "X_train = scaler.fit_transform(X_train)\n",
    "X_test = scaler.transform(X_test)"
   ]
  },
  {
   "cell_type": "markdown",
   "metadata": {},
   "source": [
    "## Algorithms and hyperparameters"
   ]
  },
  {
   "cell_type": "code",
   "execution_count": 15,
   "metadata": {},
   "outputs": [],
   "source": [
    "# Algorithms and hyperparameters\n",
    "models = {\n",
    "    'LogisticRegression': {\n",
    "        'model': LogisticRegression(),\n",
    "        'params': {\n",
    "            'C': [0.1, 1, 10, 100],\n",
    "            'solver': ['liblinear', 'lbfgs']\n",
    "        }\n",
    "    },\n",
    "    'DecisionTree': {\n",
    "        'model': DecisionTreeClassifier(),\n",
    "        'params': {\n",
    "            'max_depth': [3, 5, 10, None],\n",
    "            'min_samples_split': [2, 5, 10]\n",
    "        }\n",
    "    },\n",
    "    'RandomForest': {\n",
    "        'model': RandomForestClassifier(),\n",
    "        'params': {\n",
    "            'n_estimators': [10, 50, 100],\n",
    "            'max_depth': [3, 5, 10, None]\n",
    "        }\n",
    "    },\n",
    "    'SVM': {\n",
    "        'model': SVC(),\n",
    "        'params': {\n",
    "            'C': [0.1, 1, 10, 100],\n",
    "            'kernel': ['linear', 'rbf']\n",
    "        }\n",
    "    },\n",
    "    'KNN': {\n",
    "        'model': KNeighborsClassifier(),\n",
    "        'params': {\n",
    "            'n_neighbors': [3, 5, 7, 9]\n",
    "        }\n",
    "    },\n",
    "    'NaiveBayes': {\n",
    "        'model': GaussianNB(),\n",
    "        'params': {}\n",
    "    },\n",
    "    'XGBoost': {\n",
    "        'model': XGBClassifier(),\n",
    "        'params': {\n",
    "            'n_estimators': [10, 50, 100],\n",
    "            'learning_rate': [0.01, 0.1, 0.2]\n",
    "        }\n",
    "    }\n",
    "}"
   ]
  },
  {
   "cell_type": "markdown",
   "metadata": {},
   "source": [
    "## Train, tune and evaluate each model"
   ]
  },
  {
   "cell_type": "code",
   "execution_count": 16,
   "metadata": {},
   "outputs": [],
   "source": [
    "# Train, tune and evaluate each model\n",
    "best_models = {}\n",
    "for name, m in models.items():\n",
    "    clf = GridSearchCV(m['model'], m['params'], cv=5, scoring='accuracy')\n",
    "    clf.fit(X_train, y_train)\n",
    "    y_pred = clf.predict(X_test)\n",
    "    accuracy = accuracy_score(y_test, y_pred)\n",
    "    report = classification_report(y_test, y_pred, output_dict=True)\n",
    "    best_models[name] = {\n",
    "        'best_estimator': clf.best_estimator_,\n",
    "        'best_params': clf.best_params_,\n",
    "        'accuracy': accuracy,\n",
    "        'report': report\n",
    "    }"
   ]
  },
  {
   "cell_type": "markdown",
   "metadata": {},
   "source": [
    "## Print results"
   ]
  },
  {
   "cell_type": "code",
   "execution_count": 17,
   "metadata": {},
   "outputs": [
    {
     "name": "stdout",
     "output_type": "stream",
     "text": [
      "Model: LogisticRegression\n",
      "Best Estimator: LogisticRegression(C=0.1, max_iter=10000, solver='liblinear')\n",
      "Best Params: {'C': 0.1, 'solver': 'liblinear'}\n",
      "Accuracy: 0.9912280701754386\n",
      "Classification Report: {'0': {'precision': 1.0, 'recall': 0.9767441860465116, 'f1-score': 0.9882352941176471, 'support': 43.0}, '1': {'precision': 0.9861111111111112, 'recall': 1.0, 'f1-score': 0.993006993006993, 'support': 71.0}, 'accuracy': 0.9912280701754386, 'macro avg': {'precision': 0.9930555555555556, 'recall': 0.9883720930232558, 'f1-score': 0.99062114356232, 'support': 114.0}, 'weighted avg': {'precision': 0.991349902534113, 'recall': 0.9912280701754386, 'f1-score': 0.991207141671538, 'support': 114.0}}\n",
      "\n",
      "Model: DecisionTree\n",
      "Best Estimator: DecisionTreeClassifier(max_depth=5, min_samples_split=10)\n",
      "Best Params: {'max_depth': 5, 'min_samples_split': 10}\n",
      "Accuracy: 0.9473684210526315\n",
      "Classification Report: {'0': {'precision': 0.9302325581395349, 'recall': 0.9302325581395349, 'f1-score': 0.9302325581395349, 'support': 43.0}, '1': {'precision': 0.9577464788732394, 'recall': 0.9577464788732394, 'f1-score': 0.9577464788732394, 'support': 71.0}, 'accuracy': 0.9473684210526315, 'macro avg': {'precision': 0.9439895185063871, 'recall': 0.9439895185063871, 'f1-score': 0.9439895185063871, 'support': 114.0}, 'weighted avg': {'precision': 0.9473684210526315, 'recall': 0.9473684210526315, 'f1-score': 0.9473684210526315, 'support': 114.0}}\n",
      "\n",
      "Model: RandomForest\n",
      "Best Estimator: RandomForestClassifier(n_estimators=50)\n",
      "Best Params: {'max_depth': None, 'n_estimators': 50}\n",
      "Accuracy: 0.9649122807017544\n",
      "Classification Report: {'0': {'precision': 0.975609756097561, 'recall': 0.9302325581395349, 'f1-score': 0.9523809523809523, 'support': 43.0}, '1': {'precision': 0.958904109589041, 'recall': 0.9859154929577465, 'f1-score': 0.9722222222222222, 'support': 71.0}, 'accuracy': 0.9649122807017544, 'macro avg': {'precision': 0.9672569328433009, 'recall': 0.9580740255486406, 'f1-score': 0.9623015873015872, 'support': 114.0}, 'weighted avg': {'precision': 0.9652053622194477, 'recall': 0.9649122807017544, 'f1-score': 0.9647382344750765, 'support': 114.0}}\n",
      "\n",
      "Model: SVM\n",
      "Best Estimator: SVC(C=1)\n",
      "Best Params: {'C': 1, 'kernel': 'rbf'}\n",
      "Accuracy: 0.9824561403508771\n",
      "Classification Report: {'0': {'precision': 1.0, 'recall': 0.9534883720930233, 'f1-score': 0.9761904761904762, 'support': 43.0}, '1': {'precision': 0.9726027397260274, 'recall': 1.0, 'f1-score': 0.9861111111111112, 'support': 71.0}, 'accuracy': 0.9824561403508771, 'macro avg': {'precision': 0.9863013698630136, 'recall': 0.9767441860465116, 'f1-score': 0.9811507936507937, 'support': 114.0}, 'weighted avg': {'precision': 0.9829367940398942, 'recall': 0.9824561403508771, 'f1-score': 0.9823691172375383, 'support': 114.0}}\n",
      "\n",
      "Model: KNN\n",
      "Best Estimator: KNeighborsClassifier()\n",
      "Best Params: {'n_neighbors': 5}\n",
      "Accuracy: 0.9473684210526315\n",
      "Classification Report: {'0': {'precision': 0.9302325581395349, 'recall': 0.9302325581395349, 'f1-score': 0.9302325581395349, 'support': 43.0}, '1': {'precision': 0.9577464788732394, 'recall': 0.9577464788732394, 'f1-score': 0.9577464788732394, 'support': 71.0}, 'accuracy': 0.9473684210526315, 'macro avg': {'precision': 0.9439895185063871, 'recall': 0.9439895185063871, 'f1-score': 0.9439895185063871, 'support': 114.0}, 'weighted avg': {'precision': 0.9473684210526315, 'recall': 0.9473684210526315, 'f1-score': 0.9473684210526315, 'support': 114.0}}\n",
      "\n",
      "Model: NaiveBayes\n",
      "Best Estimator: GaussianNB()\n",
      "Best Params: {}\n",
      "Accuracy: 0.9649122807017544\n",
      "Classification Report: {'0': {'precision': 0.975609756097561, 'recall': 0.9302325581395349, 'f1-score': 0.9523809523809523, 'support': 43.0}, '1': {'precision': 0.958904109589041, 'recall': 0.9859154929577465, 'f1-score': 0.9722222222222222, 'support': 71.0}, 'accuracy': 0.9649122807017544, 'macro avg': {'precision': 0.9672569328433009, 'recall': 0.9580740255486406, 'f1-score': 0.9623015873015872, 'support': 114.0}, 'weighted avg': {'precision': 0.9652053622194477, 'recall': 0.9649122807017544, 'f1-score': 0.9647382344750765, 'support': 114.0}}\n",
      "\n",
      "Model: XGBoost\n",
      "Best Estimator: XGBClassifier(base_score=None, booster=None, callbacks=None,\n",
      "              colsample_bylevel=None, colsample_bynode=None,\n",
      "              colsample_bytree=None, device=None, early_stopping_rounds=None,\n",
      "              enable_categorical=False, eval_metric=None, feature_types=None,\n",
      "              gamma=None, grow_policy=None, importance_type=None,\n",
      "              interaction_constraints=None, learning_rate=0.2, max_bin=None,\n",
      "              max_cat_threshold=None, max_cat_to_onehot=None,\n",
      "              max_delta_step=None, max_depth=None, max_leaves=None,\n",
      "              min_child_weight=None, missing=nan, monotone_constraints=None,\n",
      "              multi_strategy=None, n_estimators=100, n_jobs=None,\n",
      "              num_parallel_tree=None, random_state=None, ...)\n",
      "Best Params: {'learning_rate': 0.2, 'n_estimators': 100}\n",
      "Accuracy: 0.956140350877193\n",
      "Classification Report: {'0': {'precision': 0.9523809523809523, 'recall': 0.9302325581395349, 'f1-score': 0.9411764705882353, 'support': 43.0}, '1': {'precision': 0.9583333333333334, 'recall': 0.971830985915493, 'f1-score': 0.965034965034965, 'support': 71.0}, 'accuracy': 0.956140350877193, 'macro avg': {'precision': 0.9553571428571428, 'recall': 0.9510317720275139, 'f1-score': 0.9531057178116001, 'support': 114.0}, 'weighted avg': {'precision': 0.9560881370091896, 'recall': 0.956140350877193, 'f1-score': 0.9560357083576898, 'support': 114.0}}\n",
      "\n"
     ]
    }
   ],
   "source": [
    "# Print results\n",
    "for name, model_info in best_models.items():\n",
    "    print(f\"Model: {name}\")\n",
    "    print(f\"Best Estimator: {model_info['best_estimator']}\")\n",
    "    print(f\"Best Params: {model_info['best_params']}\")\n",
    "    print(f\"Accuracy: {model_info['accuracy']}\")\n",
    "    print(f\"Classification Report: {model_info['report']}\\n\")"
   ]
  },
  {
   "cell_type": "markdown",
   "metadata": {},
   "source": [
    "# compare the models based on the provided metrics\n",
    "To compare the models based on the provided metrics and determine which performs best overall, we'll need to systematically review the accuracy, precision, recall, and F1-score for each model. After that, we'll visualize these metrics using bar charts.\n",
    "\n",
    "First, let's extend our script to collect the metrics and then use matplotlib to create the visualizations."
   ]
  },
  {
   "cell_type": "markdown",
   "metadata": {},
   "source": [
    "## Import library"
   ]
  },
  {
   "cell_type": "code",
   "execution_count": 18,
   "metadata": {},
   "outputs": [],
   "source": [
    "import numpy as np\n",
    "from sklearn.datasets import load_breast_cancer\n",
    "from sklearn.model_selection import train_test_split, GridSearchCV\n",
    "from sklearn.linear_model import LogisticRegression\n",
    "from sklearn.tree import DecisionTreeClassifier\n",
    "from sklearn.ensemble import RandomForestClassifier\n",
    "from sklearn.svm import SVC\n",
    "from sklearn.neighbors import KNeighborsClassifier\n",
    "from sklearn.naive_bayes import GaussianNB\n",
    "from sklearn.metrics import accuracy_score, classification_report\n",
    "from xgboost import XGBClassifier\n",
    "import matplotlib.pyplot as plt"
   ]
  },
  {
   "cell_type": "markdown",
   "metadata": {},
   "source": [
    "## Load dataset"
   ]
  },
  {
   "cell_type": "code",
   "execution_count": 19,
   "metadata": {},
   "outputs": [],
   "source": [
    "# Load dataset\n",
    "data = load_breast_cancer()\n",
    "X = data.data\n",
    "y = data.target"
   ]
  },
  {
   "cell_type": "markdown",
   "metadata": {},
   "source": [
    "## Split dataset"
   ]
  },
  {
   "cell_type": "code",
   "execution_count": 20,
   "metadata": {},
   "outputs": [],
   "source": [
    "# Split dataset\n",
    "X_train, X_test, y_train, y_test = train_test_split(X, y, test_size=0.2, random_state=42)"
   ]
  },
  {
   "cell_type": "code",
   "execution_count": 21,
   "metadata": {},
   "outputs": [],
   "source": [
    "from sklearn.preprocessing import StandardScaler\n",
    "\n",
    "scaler = StandardScaler()\n",
    "X_train = scaler.fit_transform(X_train)\n",
    "X_test = scaler.transform(X_test)"
   ]
  },
  {
   "cell_type": "markdown",
   "metadata": {},
   "source": [
    "## Algorithms and hyperparameters"
   ]
  },
  {
   "cell_type": "code",
   "execution_count": 22,
   "metadata": {},
   "outputs": [],
   "source": [
    "# Algorithms and hyperparameters\n",
    "models = {\n",
    "    'LogisticRegression': {\n",
    "        'model': LogisticRegression(),\n",
    "        'params': {\n",
    "            'C': [0.1, 1, 10, 100],\n",
    "            'solver': ['liblinear', 'lbfgs']\n",
    "        }\n",
    "    },\n",
    "    'DecisionTree': {\n",
    "        'model': DecisionTreeClassifier(),\n",
    "        'params': {\n",
    "            'max_depth': [3, 5, 10, None],\n",
    "            'min_samples_split': [2, 5, 10]\n",
    "        }\n",
    "    },\n",
    "    'RandomForest': {\n",
    "        'model': RandomForestClassifier(),\n",
    "        'params': {\n",
    "            'n_estimators': [10, 50, 100],\n",
    "            'max_depth': [3, 5, 10, None]\n",
    "        }\n",
    "    },\n",
    "    'SVM': {\n",
    "        'model': SVC(),\n",
    "        'params': {\n",
    "            'C': [0.1, 1, 10, 100],\n",
    "            'kernel': ['linear', 'rbf']\n",
    "        }\n",
    "    },\n",
    "    'KNN': {\n",
    "        'model': KNeighborsClassifier(),\n",
    "        'params': {\n",
    "            'n_neighbors': [3, 5, 7, 9]\n",
    "        }\n",
    "    },\n",
    "    'NaiveBayes': {\n",
    "        'model': GaussianNB(),\n",
    "        'params': {}\n",
    "    },\n",
    "    'XGBoost': {\n",
    "        'model': XGBClassifier(),\n",
    "        'params': {\n",
    "            'n_estimators': [10, 50, 100],\n",
    "            'learning_rate': [0.01, 0.1, 0.2]\n",
    "        }\n",
    "    }\n",
    "}"
   ]
  },
  {
   "cell_type": "markdown",
   "metadata": {},
   "source": [
    "## Train, tune and evaluate each model"
   ]
  },
  {
   "cell_type": "code",
   "execution_count": 23,
   "metadata": {},
   "outputs": [],
   "source": [
    "# Train, tune and evaluate each model\n",
    "best_models = {}\n",
    "for name, m in models.items():\n",
    "    clf = GridSearchCV(m['model'], m['params'], cv=5, scoring='accuracy')\n",
    "    clf.fit(X_train, y_train)\n",
    "    y_pred = clf.predict(X_test)\n",
    "    accuracy = accuracy_score(y_test, y_pred)\n",
    "    report = classification_report(y_test, y_pred, output_dict=True)\n",
    "    best_models[name] = {\n",
    "        'best_estimator': clf.best_estimator_,\n",
    "        'best_params': clf.best_params_,\n",
    "        'accuracy': accuracy,\n",
    "        'report': report\n",
    "    }"
   ]
  },
  {
   "cell_type": "markdown",
   "metadata": {},
   "source": [
    "## Print results"
   ]
  },
  {
   "cell_type": "code",
   "execution_count": 24,
   "metadata": {},
   "outputs": [
    {
     "name": "stdout",
     "output_type": "stream",
     "text": [
      "Model: LogisticRegression\n",
      "Best Estimator: LogisticRegression(C=0.1, max_iter=10000, solver='liblinear')\n",
      "Best Params: {'C': 0.1, 'solver': 'liblinear'}\n",
      "Accuracy: 0.9912280701754386\n",
      "Classification Report: {'0': {'precision': 1.0, 'recall': 0.9767441860465116, 'f1-score': 0.9882352941176471, 'support': 43.0}, '1': {'precision': 0.9861111111111112, 'recall': 1.0, 'f1-score': 0.993006993006993, 'support': 71.0}, 'accuracy': 0.9912280701754386, 'macro avg': {'precision': 0.9930555555555556, 'recall': 0.9883720930232558, 'f1-score': 0.99062114356232, 'support': 114.0}, 'weighted avg': {'precision': 0.991349902534113, 'recall': 0.9912280701754386, 'f1-score': 0.991207141671538, 'support': 114.0}}\n",
      "\n",
      "Model: DecisionTree\n",
      "Best Estimator: DecisionTreeClassifier(min_samples_split=10)\n",
      "Best Params: {'max_depth': None, 'min_samples_split': 10}\n",
      "Accuracy: 0.9298245614035088\n",
      "Classification Report: {'0': {'precision': 0.9069767441860465, 'recall': 0.9069767441860465, 'f1-score': 0.9069767441860465, 'support': 43.0}, '1': {'precision': 0.9436619718309859, 'recall': 0.9436619718309859, 'f1-score': 0.9436619718309859, 'support': 71.0}, 'accuracy': 0.9298245614035088, 'macro avg': {'precision': 0.9253193580085162, 'recall': 0.9253193580085162, 'f1-score': 0.9253193580085162, 'support': 114.0}, 'weighted avg': {'precision': 0.9298245614035088, 'recall': 0.9298245614035088, 'f1-score': 0.9298245614035088, 'support': 114.0}}\n",
      "\n",
      "Model: RandomForest\n",
      "Best Estimator: RandomForestClassifier(n_estimators=50)\n",
      "Best Params: {'max_depth': None, 'n_estimators': 50}\n",
      "Accuracy: 0.956140350877193\n",
      "Classification Report: {'0': {'precision': 0.9523809523809523, 'recall': 0.9302325581395349, 'f1-score': 0.9411764705882353, 'support': 43.0}, '1': {'precision': 0.9583333333333334, 'recall': 0.971830985915493, 'f1-score': 0.965034965034965, 'support': 71.0}, 'accuracy': 0.956140350877193, 'macro avg': {'precision': 0.9553571428571428, 'recall': 0.9510317720275139, 'f1-score': 0.9531057178116001, 'support': 114.0}, 'weighted avg': {'precision': 0.9560881370091896, 'recall': 0.956140350877193, 'f1-score': 0.9560357083576898, 'support': 114.0}}\n",
      "\n",
      "Model: SVM\n",
      "Best Estimator: SVC(C=1)\n",
      "Best Params: {'C': 1, 'kernel': 'rbf'}\n",
      "Accuracy: 0.9824561403508771\n",
      "Classification Report: {'0': {'precision': 1.0, 'recall': 0.9534883720930233, 'f1-score': 0.9761904761904762, 'support': 43.0}, '1': {'precision': 0.9726027397260274, 'recall': 1.0, 'f1-score': 0.9861111111111112, 'support': 71.0}, 'accuracy': 0.9824561403508771, 'macro avg': {'precision': 0.9863013698630136, 'recall': 0.9767441860465116, 'f1-score': 0.9811507936507937, 'support': 114.0}, 'weighted avg': {'precision': 0.9829367940398942, 'recall': 0.9824561403508771, 'f1-score': 0.9823691172375383, 'support': 114.0}}\n",
      "\n",
      "Model: KNN\n",
      "Best Estimator: KNeighborsClassifier()\n",
      "Best Params: {'n_neighbors': 5}\n",
      "Accuracy: 0.9473684210526315\n",
      "Classification Report: {'0': {'precision': 0.9302325581395349, 'recall': 0.9302325581395349, 'f1-score': 0.9302325581395349, 'support': 43.0}, '1': {'precision': 0.9577464788732394, 'recall': 0.9577464788732394, 'f1-score': 0.9577464788732394, 'support': 71.0}, 'accuracy': 0.9473684210526315, 'macro avg': {'precision': 0.9439895185063871, 'recall': 0.9439895185063871, 'f1-score': 0.9439895185063871, 'support': 114.0}, 'weighted avg': {'precision': 0.9473684210526315, 'recall': 0.9473684210526315, 'f1-score': 0.9473684210526315, 'support': 114.0}}\n",
      "\n",
      "Model: NaiveBayes\n",
      "Best Estimator: GaussianNB()\n",
      "Best Params: {}\n",
      "Accuracy: 0.9649122807017544\n",
      "Classification Report: {'0': {'precision': 0.975609756097561, 'recall': 0.9302325581395349, 'f1-score': 0.9523809523809523, 'support': 43.0}, '1': {'precision': 0.958904109589041, 'recall': 0.9859154929577465, 'f1-score': 0.9722222222222222, 'support': 71.0}, 'accuracy': 0.9649122807017544, 'macro avg': {'precision': 0.9672569328433009, 'recall': 0.9580740255486406, 'f1-score': 0.9623015873015872, 'support': 114.0}, 'weighted avg': {'precision': 0.9652053622194477, 'recall': 0.9649122807017544, 'f1-score': 0.9647382344750765, 'support': 114.0}}\n",
      "\n",
      "Model: XGBoost\n",
      "Best Estimator: XGBClassifier(base_score=None, booster=None, callbacks=None,\n",
      "              colsample_bylevel=None, colsample_bynode=None,\n",
      "              colsample_bytree=None, device=None, early_stopping_rounds=None,\n",
      "              enable_categorical=False, eval_metric=None, feature_types=None,\n",
      "              gamma=None, grow_policy=None, importance_type=None,\n",
      "              interaction_constraints=None, learning_rate=0.2, max_bin=None,\n",
      "              max_cat_threshold=None, max_cat_to_onehot=None,\n",
      "              max_delta_step=None, max_depth=None, max_leaves=None,\n",
      "              min_child_weight=None, missing=nan, monotone_constraints=None,\n",
      "              multi_strategy=None, n_estimators=100, n_jobs=None,\n",
      "              num_parallel_tree=None, random_state=None, ...)\n",
      "Best Params: {'learning_rate': 0.2, 'n_estimators': 100}\n",
      "Accuracy: 0.956140350877193\n",
      "Classification Report: {'0': {'precision': 0.9523809523809523, 'recall': 0.9302325581395349, 'f1-score': 0.9411764705882353, 'support': 43.0}, '1': {'precision': 0.9583333333333334, 'recall': 0.971830985915493, 'f1-score': 0.965034965034965, 'support': 71.0}, 'accuracy': 0.956140350877193, 'macro avg': {'precision': 0.9553571428571428, 'recall': 0.9510317720275139, 'f1-score': 0.9531057178116001, 'support': 114.0}, 'weighted avg': {'precision': 0.9560881370091896, 'recall': 0.956140350877193, 'f1-score': 0.9560357083576898, 'support': 114.0}}\n",
      "\n"
     ]
    }
   ],
   "source": [
    "# Print results\n",
    "for name, model_info in best_models.items():\n",
    "    print(f\"Model: {name}\")\n",
    "    print(f\"Best Estimator: {model_info['best_estimator']}\")\n",
    "    print(f\"Best Params: {model_info['best_params']}\")\n",
    "    print(f\"Accuracy: {model_info['accuracy']}\")\n",
    "    print(f\"Classification Report: {model_info['report']}\\n\")"
   ]
  },
  {
   "cell_type": "markdown",
   "metadata": {},
   "source": [
    "## Collect metrics for visualization"
   ]
  },
  {
   "cell_type": "code",
   "execution_count": 25,
   "metadata": {},
   "outputs": [],
   "source": [
    "# Collect metrics for visualization\n",
    "metrics = ['precision', 'recall', 'f1-score']\n",
    "scores = {metric: {} for metric in metrics}\n",
    "\n",
    "for name, model_info in best_models.items():\n",
    "    for metric in metrics:\n",
    "        scores[metric][name] = model_info['report']['weighted avg'][metric]"
   ]
  },
  {
   "cell_type": "markdown",
   "metadata": {},
   "source": [
    "## Visualize the metrics"
   ]
  },
  {
   "cell_type": "code",
   "execution_count": 28,
   "metadata": {},
   "outputs": [],
   "source": [
    "# Visualize the metrics\n",
    "def plot_metrics(scores, metric):\n",
    "    plt.figure(figsize=(10, 6))\n",
    "    models = list(scores[metric].keys())\n",
    "    values = list(scores[metric].values())\n",
    "    plt.barh(models, values)\n",
    "    plt.xlabel(metric.capitalize())\n",
    "    plt.title(f'Model Comparison based on {metric.capitalize()}')\n",
    "    plt.xlim(0, 1)\n",
    "    plt.show()"
   ]
  },
  {
   "cell_type": "markdown",
   "metadata": {},
   "source": [
    "## Plot each metric"
   ]
  },
  {
   "cell_type": "code",
   "execution_count": 29,
   "metadata": {},
   "outputs": [
    {
     "data": {
      "image/png": "[encoded data removed]",
      "text/plain": [
       "<Figure size 1000x600 with 1 Axes>"
      ]
     },
     "metadata": {},
     "output_type": "display_data"
    },
    {
     "data": {
      "image/png": "[encoded data removed]",
      "text/plain": [
       "<Figure size 1000x600 with 1 Axes>"
      ]
     },
     "metadata": {},
     "output_type": "display_data"
    },
    {
     "data": {
      "image/png": "[encoded data removed]",
      "text/plain": [
       "<Figure size 1000x600 with 1 Axes>"
      ]
     },
     "metadata": {},
     "output_type": "display_data"
    }
   ],
   "source": [
    "# Plot each metric\n",
    "for metric in metrics:\n",
    "    plot_metrics(scores, metric)"
   ]
  }
 ],
 "metadata": {
  "kernelspec": {
   "display_name": "base",
   "language": "python",
   "name": "python3"
  },
  "language_info": {
   "codemirror_mode": {
    "name": "ipython",
    "version": 3
   },
   "file_extension": ".py",
   "mimetype": "text/x-python",
   "name": "python",
   "nbconvert_exporter": "python",
   "pygments_lexer": "ipython3",
   "version": "3.11.9"
  }
 },
 "nbformat": 4,
 "nbformat_minor": 2
}
