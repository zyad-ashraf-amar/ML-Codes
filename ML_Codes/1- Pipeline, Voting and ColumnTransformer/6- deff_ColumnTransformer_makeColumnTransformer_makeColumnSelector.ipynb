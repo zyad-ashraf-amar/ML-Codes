{
 "cells": [
  {
   "cell_type": "markdown",
   "metadata": {},
   "source": [
    "# 1. ColumnTransformer\n",
    "\n",
    "## Logic:\n",
    "ColumnTransformer is a versatile tool in scikit-learn used to apply different preprocessing steps to different subsets of features within a dataset. This is particularly useful in cases where you need to apply different transformations to numerical and categorical features, or to different groups of features.\n",
    "\n",
    "## Usage:\n",
    "You explicitly define which columns are transformed by which transformer, and you can combine multiple transformers together."
   ]
  },
  {
   "cell_type": "code",
   "execution_count": null,
   "metadata": {},
   "outputs": [],
   "source": [
    "from sklearn.compose import ColumnTransformer\n",
    "from sklearn.preprocessing import StandardScaler, OneHotEncoder\n",
    "from sklearn.impute import SimpleImputer\n",
    "\n",
    "# Sample data\n",
    "import pandas as pd\n",
    "X = pd.DataFrame({\n",
    "    'num_feature1': [1, 2, 3, None],\n",
    "    'num_feature2': [4, 5, 6, 7],\n",
    "    'cat_feature': ['a', 'b', 'a', 'b']\n",
    "})\n",
    "\n",
    "# Define the column transformer\n",
    "preprocessor = ColumnTransformer(\n",
    "    transformers=[\n",
    "        ('num', SimpleImputer(strategy='mean'), ['num_feature1', 'num_feature2']),\n",
    "        ('cat', OneHotEncoder(), ['cat_feature'])\n",
    "    ]\n",
    ")\n",
    "\n",
    "# Fit and transform the data\n",
    "X_transformed = preprocessor.fit_transform(X)\n",
    "print(X_transformed)\n"
   ]
  },
  {
   "cell_type": "markdown",
   "metadata": {},
   "source": [
    "# 2. make_column_transformer\n",
    "\n",
    "## Logic:\n",
    "make_column_transformer is a convenience function that helps to create a ColumnTransformer without needing to explicitly name each transformer.\n",
    "\n",
    "## Usage:\n",
    "It simplifies the syntax by not requiring names for each transformer, which can be handy for quick prototyping or simpler pipelines."
   ]
  },
  {
   "cell_type": "code",
   "execution_count": null,
   "metadata": {},
   "outputs": [],
   "source": [
    "from sklearn.compose import make_column_transformer\n",
    "from sklearn.preprocessing import StandardScaler, OneHotEncoder\n",
    "from sklearn.impute import SimpleImputer\n",
    "\n",
    "# Sample data\n",
    "X = pd.DataFrame({\n",
    "    'num_feature1': [1, 2, 3, None],\n",
    "    'num_feature2': [4, 5, 6, 7],\n",
    "    'cat_feature': ['a', 'b', 'a', 'b']\n",
    "})\n",
    "\n",
    "# Define the column transformer using make_column_transformer\n",
    "preprocessor = make_column_transformer(\n",
    "    (SimpleImputer(strategy='mean'), ['num_feature1', 'num_feature2']),\n",
    "    (OneHotEncoder(), ['cat_feature'])\n",
    ")\n",
    "\n",
    "# Fit and transform the data\n",
    "X_transformed = preprocessor.fit_transform(X)\n",
    "print(X_transformed)\n"
   ]
  },
  {
   "cell_type": "markdown",
   "metadata": {},
   "source": [
    "# 3. make_column_selector\n",
    "\n",
    "## Logic:\n",
    "make_column_selector is used to create selectors for column names based on certain criteria, such as selecting columns by data type (numerical, categorical, etc.). It is often used in conjunction with ColumnTransformer or make_column_transformer.\n",
    "\n",
    "## Usage:\n",
    "It helps to dynamically select columns, which can be particularly useful when the column names are not known in advance or when you want to select columns by type."
   ]
  },
  {
   "cell_type": "code",
   "execution_count": null,
   "metadata": {},
   "outputs": [],
   "source": [
    "from sklearn.compose import make_column_selector, ColumnTransformer\n",
    "from sklearn.preprocessing import StandardScaler, OneHotEncoder\n",
    "from sklearn.impute import SimpleImputer\n",
    "\n",
    "# Sample data\n",
    "X = pd.DataFrame({\n",
    "    'num_feature1': [1, 2, 3, None],\n",
    "    'num_feature2': [4, 5, 6, 7],\n",
    "    'cat_feature': ['a', 'b', 'a', 'b']\n",
    "})\n",
    "\n",
    "# Define the column transformer using make_column_selector\n",
    "preprocessor = ColumnTransformer(\n",
    "    transformers=[\n",
    "        ('num', SimpleImputer(strategy='mean'), make_column_selector(dtype_include='number')),\n",
    "        ('cat', OneHotEncoder(), make_column_selector(dtype_include='object'))\n",
    "    ]\n",
    ")\n",
    "\n",
    "# Fit and transform the data\n",
    "X_transformed = preprocessor.fit_transform(X)\n",
    "print(X_transformed)\n"
   ]
  },
  {
   "cell_type": "markdown",
   "metadata": {},
   "source": [
    "# Summary\n",
    "- ColumnTransformer: Flexible and explicitly names transformers.\n",
    "- make_column_transformer: Simplifies the creation of a ColumnTransformer without naming transformers.\n",
    "- make_column_selector: Dynamically selects columns based on criteria, often used with ColumnTransformer."
   ]
  }
 ],
 "metadata": {
  "language_info": {
   "name": "python"
  }
 },
 "nbformat": 4,
 "nbformat_minor": 2
}
