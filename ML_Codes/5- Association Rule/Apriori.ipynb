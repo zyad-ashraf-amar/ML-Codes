{
 "cells": [
  {
   "cell_type": "code",
   "execution_count": 1,
   "metadata": {},
   "outputs": [],
   "source": [
    "import numpy as np\n",
    "import seaborn as sns\n",
    "import matplotlib.pyplot as plt\n",
    "import plotly.express as px\n",
    "from wordcloud import WordCloud\n",
    "import pandas as pd\n",
    "from mlxtend.preprocessing import TransactionEncoder\n",
    "from mlxtend.frequent_patterns import apriori, association_rules\n",
    "from pandas.plotting import parallel_coordinates"
   ]
  },
  {
   "cell_type": "markdown",
   "metadata": {},
   "source": [
    "# call_Apriori_def"
   ]
  },
  {
   "cell_type": "code",
   "execution_count": 2,
   "metadata": {},
   "outputs": [],
   "source": [
    "from Apriori_def import (\n",
    "    read_data,\n",
    "    columns_info,\n",
    "    bar_plot,\n",
    "    transaction_to_df,\n",
    "    association_rules_apriori,\n",
    "    plot_rule_px_scatter,\n",
    "    plot_rule_scatter,\n",
    "    plot_rule_polyfit\n",
    ")"
   ]
  },
  {
   "cell_type": "markdown",
   "metadata": {},
   "source": [
    "# read_data"
   ]
  },
  {
   "cell_type": "code",
   "execution_count": 3,
   "metadata": {},
   "outputs": [
    {
     "name": "stdout",
     "output_type": "stream",
     "text": [
      "the DataFrame have 759 duplicates rows\n",
      "the DataFrame without duplicates rows\n",
      "Data read successfully from Association_Rule_data.csv\n",
      "(38006, 3)\n"
     ]
    },
    {
     "data": {
      "text/html": [
       "<div>\n",
       "<style scoped>\n",
       "    .dataframe tbody tr th:only-of-type {\n",
       "        vertical-align: middle;\n",
       "    }\n",
       "\n",
       "    .dataframe tbody tr th {\n",
       "        vertical-align: top;\n",
       "    }\n",
       "\n",
       "    .dataframe thead th {\n",
       "        text-align: right;\n",
       "    }\n",
       "</style>\n",
       "<table border=\"1\" class=\"dataframe\">\n",
       "  <thead>\n",
       "    <tr style=\"text-align: right;\">\n",
       "      <th></th>\n",
       "      <th>Member_number</th>\n",
       "      <th>Date</th>\n",
       "      <th>itemDescription</th>\n",
       "    </tr>\n",
       "  </thead>\n",
       "  <tbody>\n",
       "    <tr>\n",
       "      <th>0</th>\n",
       "      <td>1808</td>\n",
       "      <td>21-07-2015</td>\n",
       "      <td>tropical fruit</td>\n",
       "    </tr>\n",
       "    <tr>\n",
       "      <th>1</th>\n",
       "      <td>2552</td>\n",
       "      <td>05-01-2015</td>\n",
       "      <td>whole milk</td>\n",
       "    </tr>\n",
       "    <tr>\n",
       "      <th>2</th>\n",
       "      <td>2300</td>\n",
       "      <td>19-09-2015</td>\n",
       "      <td>pip fruit</td>\n",
       "    </tr>\n",
       "  </tbody>\n",
       "</table>\n",
       "</div>"
      ],
      "text/plain": [
       "   Member_number        Date itemDescription\n",
       "0           1808  21-07-2015  tropical fruit\n",
       "1           2552  05-01-2015      whole milk\n",
       "2           2300  19-09-2015       pip fruit"
      ]
     },
     "execution_count": 3,
     "metadata": {},
     "output_type": "execute_result"
    }
   ],
   "source": [
    "df = read_data(r\"Association_Rule_data.csv\")\n",
    "print(df.shape)\n",
    "df.head(3)"
   ]
  },
  {
   "cell_type": "code",
   "execution_count": 4,
   "metadata": {},
   "outputs": [
    {
     "data": {
      "text/html": [
       "<div>\n",
       "<style scoped>\n",
       "    .dataframe tbody tr th:only-of-type {\n",
       "        vertical-align: middle;\n",
       "    }\n",
       "\n",
       "    .dataframe tbody tr th {\n",
       "        vertical-align: top;\n",
       "    }\n",
       "\n",
       "    .dataframe thead th {\n",
       "        text-align: right;\n",
       "    }\n",
       "</style>\n",
       "<table border=\"1\" class=\"dataframe\">\n",
       "  <thead>\n",
       "    <tr style=\"text-align: right;\">\n",
       "      <th></th>\n",
       "      <th>names</th>\n",
       "      <th>dtypes</th>\n",
       "      <th>unique</th>\n",
       "      <th>n_unique</th>\n",
       "      <th>number_of_rows</th>\n",
       "      <th>number_of_null</th>\n",
       "    </tr>\n",
       "  </thead>\n",
       "  <tbody>\n",
       "    <tr>\n",
       "      <th>0</th>\n",
       "      <td>Member_number</td>\n",
       "      <td>int64</td>\n",
       "      <td>[1808, 2552, 2300, 1187, 3037, 4941, 4501, 380...</td>\n",
       "      <td>3898</td>\n",
       "      <td>38006</td>\n",
       "      <td>0</td>\n",
       "    </tr>\n",
       "    <tr>\n",
       "      <th>1</th>\n",
       "      <td>Date</td>\n",
       "      <td>object</td>\n",
       "      <td>[21-07-2015, 05-01-2015, 19-09-2015, 12-12-201...</td>\n",
       "      <td>728</td>\n",
       "      <td>38006</td>\n",
       "      <td>0</td>\n",
       "    </tr>\n",
       "    <tr>\n",
       "      <th>2</th>\n",
       "      <td>itemDescription</td>\n",
       "      <td>object</td>\n",
       "      <td>[tropical fruit, whole milk, pip fruit, other ...</td>\n",
       "      <td>167</td>\n",
       "      <td>38006</td>\n",
       "      <td>0</td>\n",
       "    </tr>\n",
       "  </tbody>\n",
       "</table>\n",
       "</div>"
      ],
      "text/plain": [
       "             names  dtypes                                             unique  \\\n",
       "0    Member_number   int64  [1808, 2552, 2300, 1187, 3037, 4941, 4501, 380...   \n",
       "1             Date  object  [21-07-2015, 05-01-2015, 19-09-2015, 12-12-201...   \n",
       "2  itemDescription  object  [tropical fruit, whole milk, pip fruit, other ...   \n",
       "\n",
       "   n_unique  number_of_rows  number_of_null  \n",
       "0      3898           38006               0  \n",
       "1       728           38006               0  \n",
       "2       167           38006               0  "
      ]
     },
     "execution_count": 4,
     "metadata": {},
     "output_type": "execute_result"
    }
   ],
   "source": [
    "columns_info(df)"
   ]
  },
  {
   "cell_type": "markdown",
   "metadata": {},
   "source": [
    "# from the data"
   ]
  },
  {
   "cell_type": "code",
   "execution_count": 5,
   "metadata": {},
   "outputs": [
    {
     "data": {
      "text/plain": [
       "[Text(0.5, 0, 'Date'), Text(0, 0.5, 'Total Number of Items Sold')]"
      ]
     },
     "execution_count": 5,
     "metadata": {},
     "output_type": "execute_result"
    },
    {
     "data": {
      "image/png": "[encoded data removed]",
      "text/plain": [
       "<Figure size 1200x500 with 1 Axes>"
      ]
     },
     "metadata": {},
     "output_type": "display_data"
    }
   ],
   "source": [
    "df.groupby(['Date'])['itemDescription'].agg(['count']).plot(figsize=(12,5), grid=True, title=\"Total Number of Items Sold by Date\").set(xlabel=\"Date\", ylabel=\"Total Number of Items Sold\")"
   ]
  },
  {
   "cell_type": "code",
   "execution_count": 6,
   "metadata": {},
   "outputs": [
    {
     "name": "stdout",
     "output_type": "stream",
     "text": [
      "There are 167 unique items sold \n",
      "Total 38006 items sold in 728 days throughout 12 months\n",
      "With an average of 52.206043956043956 items sold daily\n"
     ]
    }
   ],
   "source": [
    "d=df.set_index(['Date'])\n",
    "d.index=pd.to_datetime(d.index ,dayfirst=True)\n",
    "\n",
    "total_items = len(d)\n",
    "\n",
    "total_days = len(np.unique(d.index.date))\n",
    "\n",
    "total_months = len(np.unique(d.index.month))\n",
    "\n",
    "average_items = total_items / total_days\n",
    "\n",
    "unique_items = d['itemDescription'].unique().size\n",
    "\n",
    "print(\"There are {} unique items sold \".format(unique_items))\n",
    "print(\"Total {} items sold in {} days throughout {} months\".format(total_items, total_days, total_months))\n",
    "print(\"With an average of {} items sold daily\".format(average_items))"
   ]
  },
  {
   "cell_type": "code",
   "execution_count": 7,
   "metadata": {},
   "outputs": [
    {
     "data": {
      "text/plain": [
       "[Text(0.5, 0, 'Date'), Text(0, 0.5, 'Total Number of Items Sold')]"
      ]
     },
     "execution_count": 7,
     "metadata": {},
     "output_type": "execute_result"
    },
    {
     "data": {
      "image/png": "[encoded data removed]",
      "text/plain": [
       "<Figure size 1200x500 with 1 Axes>"
      ]
     },
     "metadata": {},
     "output_type": "display_data"
    }
   ],
   "source": [
    "d.resample(\"D\")['itemDescription'].count().plot(figsize=(12,5), grid=True, title=\"Total Number of Items Sold by Date\").set(xlabel=\"Date\", ylabel=\"Total Number of Items Sold\")"
   ]
  },
  {
   "cell_type": "code",
   "execution_count": 8,
   "metadata": {},
   "outputs": [
    {
     "data": {
      "text/plain": [
       "[Text(0.5, 0, 'Date'), Text(0, 0.5, 'Total Number of Items Sold')]"
      ]
     },
     "execution_count": 8,
     "metadata": {},
     "output_type": "execute_result"
    },
    {
     "data": {
      "image/png": "[encoded data removed]",
      "text/plain": [
       "<Figure size 1200x500 with 1 Axes>"
      ]
     },
     "metadata": {},
     "output_type": "display_data"
    }
   ],
   "source": [
    "d.resample(\"ME\")['itemDescription'].count().plot(figsize=(12,5), grid=True, title=\"Total Number by Items Sold by Month\").set(xlabel=\"Date\", ylabel=\"Total Number of Items Sold\")"
   ]
  },
  {
   "cell_type": "code",
   "execution_count": 9,
   "metadata": {},
   "outputs": [
    {
     "data": {
      "application/vnd.plotly.v1+json": {
       "config": {
        "plotlyServerURL": "https://plot.ly"
       },
       "data": [
        {
         "alignmentgroup": "True",
         "hovertemplate": "color=whole milk<br>x=%{x}<br>y=%{y}<extra></extra>",
         "legendgroup": "whole milk",
         "marker": {
          "color": "#636efa",
          "pattern": {
           "shape": ""
          }
         },
         "name": "whole milk",
         "offsetgroup": "whole milk",
         "orientation": "v",
         "showlegend": true,
         "textposition": "auto",
         "type": "bar",
         "x": [
          "whole milk"
         ],
         "xaxis": "x",
         "y": [
          2363
         ],
         "yaxis": "y"
        },
        {
         "alignmentgroup": "True",
         "hovertemplate": "color=other vegetables<br>x=%{x}<br>y=%{y}<extra></extra>",
         "legendgroup": "other vegetables",
         "marker": {
          "color": "#EF553B",
          "pattern": {
           "shape": ""
          }
         },
         "name": "other vegetables",
         "offsetgroup": "other vegetables",
         "orientation": "v",
         "showlegend": true,
         "textposition": "auto",
         "type": "bar",
         "x": [
          "other vegetables"
         ],
         "xaxis": "x",
         "y": [
          1827
         ],
         "yaxis": "y"
        },
        {
         "alignmentgroup": "True",
         "hovertemplate": "color=rolls/buns<br>x=%{x}<br>y=%{y}<extra></extra>",
         "legendgroup": "rolls/buns",
         "marker": {
          "color": "#00cc96",
          "pattern": {
           "shape": ""
          }
         },
         "name": "rolls/buns",
         "offsetgroup": "rolls/buns",
         "orientation": "v",
         "showlegend": true,
         "textposition": "auto",
         "type": "bar",
         "x": [
          "rolls/buns"
         ],
         "xaxis": "x",
         "y": [
          1646
         ],
         "yaxis": "y"
        },
        {
         "alignmentgroup": "True",
         "hovertemplate": "color=soda<br>x=%{x}<br>y=%{y}<extra></extra>",
         "legendgroup": "soda",
         "marker": {
          "color": "#ab63fa",
          "pattern": {
           "shape": ""
          }
         },
         "name": "soda",
         "offsetgroup": "soda",
         "orientation": "v",
         "showlegend": true,
         "textposition": "auto",
         "type": "bar",
         "x": [
          "soda"
         ],
         "xaxis": "x",
         "y": [
          1453
         ],
         "yaxis": "y"
        },
        {
         "alignmentgroup": "True",
         "hovertemplate": "color=yogurt<br>x=%{x}<br>y=%{y}<extra></extra>",
         "legendgroup": "yogurt",
         "marker": {
          "color": "#FFA15A",
          "pattern": {
           "shape": ""
          }
         },
         "name": "yogurt",
         "offsetgroup": "yogurt",
         "orientation": "v",
         "showlegend": true,
         "textposition": "auto",
         "type": "bar",
         "x": [
          "yogurt"
         ],
         "xaxis": "x",
         "y": [
          1285
         ],
         "yaxis": "y"
        },
        {
         "alignmentgroup": "True",
         "hovertemplate": "color=root vegetables<br>x=%{x}<br>y=%{y}<extra></extra>",
         "legendgroup": "root vegetables",
         "marker": {
          "color": "#19d3f3",
          "pattern": {
           "shape": ""
          }
         },
         "name": "root vegetables",
         "offsetgroup": "root vegetables",
         "orientation": "v",
         "showlegend": true,
         "textposition": "auto",
         "type": "bar",
         "x": [
          "root vegetables"
         ],
         "xaxis": "x",
         "y": [
          1041
         ],
         "yaxis": "y"
        },
        {
         "alignmentgroup": "True",
         "hovertemplate": "color=tropical fruit<br>x=%{x}<br>y=%{y}<extra></extra>",
         "legendgroup": "tropical fruit",
         "marker": {
          "color": "#FF6692",
          "pattern": {
           "shape": ""
          }
         },
         "name": "tropical fruit",
         "offsetgroup": "tropical fruit",
         "orientation": "v",
         "showlegend": true,
         "textposition": "auto",
         "type": "bar",
         "x": [
          "tropical fruit"
         ],
         "xaxis": "x",
         "y": [
          1014
         ],
         "yaxis": "y"
        },
        {
         "alignmentgroup": "True",
         "hovertemplate": "color=bottled water<br>x=%{x}<br>y=%{y}<extra></extra>",
         "legendgroup": "bottled water",
         "marker": {
          "color": "#B6E880",
          "pattern": {
           "shape": ""
          }
         },
         "name": "bottled water",
         "offsetgroup": "bottled water",
         "orientation": "v",
         "showlegend": true,
         "textposition": "auto",
         "type": "bar",
         "x": [
          "bottled water"
         ],
         "xaxis": "x",
         "y": [
          908
         ],
         "yaxis": "y"
        },
        {
         "alignmentgroup": "True",
         "hovertemplate": "color=sausage<br>x=%{x}<br>y=%{y}<extra></extra>",
         "legendgroup": "sausage",
         "marker": {
          "color": "#FF97FF",
          "pattern": {
           "shape": ""
          }
         },
         "name": "sausage",
         "offsetgroup": "sausage",
         "orientation": "v",
         "showlegend": true,
         "textposition": "auto",
         "type": "bar",
         "x": [
          "sausage"
         ],
         "xaxis": "x",
         "y": [
          903
         ],
         "yaxis": "y"
        },
        {
         "alignmentgroup": "True",
         "hovertemplate": "color=citrus fruit<br>x=%{x}<br>y=%{y}<extra></extra>",
         "legendgroup": "citrus fruit",
         "marker": {
          "color": "#FECB52",
          "pattern": {
           "shape": ""
          }
         },
         "name": "citrus fruit",
         "offsetgroup": "citrus fruit",
         "orientation": "v",
         "showlegend": true,
         "textposition": "auto",
         "type": "bar",
         "x": [
          "citrus fruit"
         ],
         "xaxis": "x",
         "y": [
          795
         ],
         "yaxis": "y"
        },
        {
         "alignmentgroup": "True",
         "hovertemplate": "color=pastry<br>x=%{x}<br>y=%{y}<extra></extra>",
         "legendgroup": "pastry",
         "marker": {
          "color": "#636efa",
          "pattern": {
           "shape": ""
          }
         },
         "name": "pastry",
         "offsetgroup": "pastry",
         "orientation": "v",
         "showlegend": true,
         "textposition": "auto",
         "type": "bar",
         "x": [
          "pastry"
         ],
         "xaxis": "x",
         "y": [
          774
         ],
         "yaxis": "y"
        },
        {
         "alignmentgroup": "True",
         "hovertemplate": "color=pip fruit<br>x=%{x}<br>y=%{y}<extra></extra>",
         "legendgroup": "pip fruit",
         "marker": {
          "color": "#EF553B",
          "pattern": {
           "shape": ""
          }
         },
         "name": "pip fruit",
         "offsetgroup": "pip fruit",
         "orientation": "v",
         "showlegend": true,
         "textposition": "auto",
         "type": "bar",
         "x": [
          "pip fruit"
         ],
         "xaxis": "x",
         "y": [
          734
         ],
         "yaxis": "y"
        },
        {
         "alignmentgroup": "True",
         "hovertemplate": "color=shopping bags<br>x=%{x}<br>y=%{y}<extra></extra>",
         "legendgroup": "shopping bags",
         "marker": {
          "color": "#00cc96",
          "pattern": {
           "shape": ""
          }
         },
         "name": "shopping bags",
         "offsetgroup": "shopping bags",
         "orientation": "v",
         "showlegend": true,
         "textposition": "auto",
         "type": "bar",
         "x": [
          "shopping bags"
         ],
         "xaxis": "x",
         "y": [
          712
         ],
         "yaxis": "y"
        },
        {
         "alignmentgroup": "True",
         "hovertemplate": "color=canned beer<br>x=%{x}<br>y=%{y}<extra></extra>",
         "legendgroup": "canned beer",
         "marker": {
          "color": "#ab63fa",
          "pattern": {
           "shape": ""
          }
         },
         "name": "canned beer",
         "offsetgroup": "canned beer",
         "orientation": "v",
         "showlegend": true,
         "textposition": "auto",
         "type": "bar",
         "x": [
          "canned beer"
         ],
         "xaxis": "x",
         "y": [
          702
         ],
         "yaxis": "y"
        },
        {
         "alignmentgroup": "True",
         "hovertemplate": "color=bottled beer<br>x=%{x}<br>y=%{y}<extra></extra>",
         "legendgroup": "bottled beer",
         "marker": {
          "color": "#FFA15A",
          "pattern": {
           "shape": ""
          }
         },
         "name": "bottled beer",
         "offsetgroup": "bottled beer",
         "orientation": "v",
         "showlegend": true,
         "textposition": "auto",
         "type": "bar",
         "x": [
          "bottled beer"
         ],
         "xaxis": "x",
         "y": [
          678
         ],
         "yaxis": "y"
        },
        {
         "alignmentgroup": "True",
         "hovertemplate": "color=whipped/sour cream<br>x=%{x}<br>y=%{y}<extra></extra>",
         "legendgroup": "whipped/sour cream",
         "marker": {
          "color": "#19d3f3",
          "pattern": {
           "shape": ""
          }
         },
         "name": "whipped/sour cream",
         "offsetgroup": "whipped/sour cream",
         "orientation": "v",
         "showlegend": true,
         "textposition": "auto",
         "type": "bar",
         "x": [
          "whipped/sour cream"
         ],
         "xaxis": "x",
         "y": [
          654
         ],
         "yaxis": "y"
        },
        {
         "alignmentgroup": "True",
         "hovertemplate": "color=newspapers<br>x=%{x}<br>y=%{y}<extra></extra>",
         "legendgroup": "newspapers",
         "marker": {
          "color": "#FF6692",
          "pattern": {
           "shape": ""
          }
         },
         "name": "newspapers",
         "offsetgroup": "newspapers",
         "orientation": "v",
         "showlegend": true,
         "textposition": "auto",
         "type": "bar",
         "x": [
          "newspapers"
         ],
         "xaxis": "x",
         "y": [
          582
         ],
         "yaxis": "y"
        },
        {
         "alignmentgroup": "True",
         "hovertemplate": "color=frankfurter<br>x=%{x}<br>y=%{y}<extra></extra>",
         "legendgroup": "frankfurter",
         "marker": {
          "color": "#B6E880",
          "pattern": {
           "shape": ""
          }
         },
         "name": "frankfurter",
         "offsetgroup": "frankfurter",
         "orientation": "v",
         "showlegend": true,
         "textposition": "auto",
         "type": "bar",
         "x": [
          "frankfurter"
         ],
         "xaxis": "x",
         "y": [
          565
         ],
         "yaxis": "y"
        },
        {
         "alignmentgroup": "True",
         "hovertemplate": "color=brown bread<br>x=%{x}<br>y=%{y}<extra></extra>",
         "legendgroup": "brown bread",
         "marker": {
          "color": "#FF97FF",
          "pattern": {
           "shape": ""
          }
         },
         "name": "brown bread",
         "offsetgroup": "brown bread",
         "orientation": "v",
         "showlegend": true,
         "textposition": "auto",
         "type": "bar",
         "x": [
          "brown bread"
         ],
         "xaxis": "x",
         "y": [
          563
         ],
         "yaxis": "y"
        },
        {
         "alignmentgroup": "True",
         "hovertemplate": "color=pork<br>x=%{x}<br>y=%{y}<extra></extra>",
         "legendgroup": "pork",
         "marker": {
          "color": "#FECB52",
          "pattern": {
           "shape": ""
          }
         },
         "name": "pork",
         "offsetgroup": "pork",
         "orientation": "v",
         "showlegend": true,
         "textposition": "auto",
         "type": "bar",
         "x": [
          "pork"
         ],
         "xaxis": "x",
         "y": [
          555
         ],
         "yaxis": "y"
        },
        {
         "alignmentgroup": "True",
         "hovertemplate": "color=domestic eggs<br>x=%{x}<br>y=%{y}<extra></extra>",
         "legendgroup": "domestic eggs",
         "marker": {
          "color": "#636efa",
          "pattern": {
           "shape": ""
          }
         },
         "name": "domestic eggs",
         "offsetgroup": "domestic eggs",
         "orientation": "v",
         "showlegend": true,
         "textposition": "auto",
         "type": "bar",
         "x": [
          "domestic eggs"
         ],
         "xaxis": "x",
         "y": [
          555
         ],
         "yaxis": "y"
        },
        {
         "alignmentgroup": "True",
         "hovertemplate": "color=butter<br>x=%{x}<br>y=%{y}<extra></extra>",
         "legendgroup": "butter",
         "marker": {
          "color": "#EF553B",
          "pattern": {
           "shape": ""
          }
         },
         "name": "butter",
         "offsetgroup": "butter",
         "orientation": "v",
         "showlegend": true,
         "textposition": "auto",
         "type": "bar",
         "x": [
          "butter"
         ],
         "xaxis": "x",
         "y": [
          527
         ],
         "yaxis": "y"
        },
        {
         "alignmentgroup": "True",
         "hovertemplate": "color=fruit/vegetable juice<br>x=%{x}<br>y=%{y}<extra></extra>",
         "legendgroup": "fruit/vegetable juice",
         "marker": {
          "color": "#00cc96",
          "pattern": {
           "shape": ""
          }
         },
         "name": "fruit/vegetable juice",
         "offsetgroup": "fruit/vegetable juice",
         "orientation": "v",
         "showlegend": true,
         "textposition": "auto",
         "type": "bar",
         "x": [
          "fruit/vegetable juice"
         ],
         "xaxis": "x",
         "y": [
          509
         ],
         "yaxis": "y"
        },
        {
         "alignmentgroup": "True",
         "hovertemplate": "color=beef<br>x=%{x}<br>y=%{y}<extra></extra>",
         "legendgroup": "beef",
         "marker": {
          "color": "#ab63fa",
          "pattern": {
           "shape": ""
          }
         },
         "name": "beef",
         "offsetgroup": "beef",
         "orientation": "v",
         "showlegend": true,
         "textposition": "auto",
         "type": "bar",
         "x": [
          "beef"
         ],
         "xaxis": "x",
         "y": [
          508
         ],
         "yaxis": "y"
        },
        {
         "alignmentgroup": "True",
         "hovertemplate": "color=curd<br>x=%{x}<br>y=%{y}<extra></extra>",
         "legendgroup": "curd",
         "marker": {
          "color": "#FFA15A",
          "pattern": {
           "shape": ""
          }
         },
         "name": "curd",
         "offsetgroup": "curd",
         "orientation": "v",
         "showlegend": true,
         "textposition": "auto",
         "type": "bar",
         "x": [
          "curd"
         ],
         "xaxis": "x",
         "y": [
          504
         ],
         "yaxis": "y"
        },
        {
         "alignmentgroup": "True",
         "hovertemplate": "color=margarine<br>x=%{x}<br>y=%{y}<extra></extra>",
         "legendgroup": "margarine",
         "marker": {
          "color": "#19d3f3",
          "pattern": {
           "shape": ""
          }
         },
         "name": "margarine",
         "offsetgroup": "margarine",
         "orientation": "v",
         "showlegend": true,
         "textposition": "auto",
         "type": "bar",
         "x": [
          "margarine"
         ],
         "xaxis": "x",
         "y": [
          482
         ],
         "yaxis": "y"
        },
        {
         "alignmentgroup": "True",
         "hovertemplate": "color=coffee<br>x=%{x}<br>y=%{y}<extra></extra>",
         "legendgroup": "coffee",
         "marker": {
          "color": "#FF6692",
          "pattern": {
           "shape": ""
          }
         },
         "name": "coffee",
         "offsetgroup": "coffee",
         "orientation": "v",
         "showlegend": true,
         "textposition": "auto",
         "type": "bar",
         "x": [
          "coffee"
         ],
         "xaxis": "x",
         "y": [
          473
         ],
         "yaxis": "y"
        },
        {
         "alignmentgroup": "True",
         "hovertemplate": "color=frozen vegetables<br>x=%{x}<br>y=%{y}<extra></extra>",
         "legendgroup": "frozen vegetables",
         "marker": {
          "color": "#B6E880",
          "pattern": {
           "shape": ""
          }
         },
         "name": "frozen vegetables",
         "offsetgroup": "frozen vegetables",
         "orientation": "v",
         "showlegend": true,
         "textposition": "auto",
         "type": "bar",
         "x": [
          "frozen vegetables"
         ],
         "xaxis": "x",
         "y": [
          419
         ],
         "yaxis": "y"
        },
        {
         "alignmentgroup": "True",
         "hovertemplate": "color=chicken<br>x=%{x}<br>y=%{y}<extra></extra>",
         "legendgroup": "chicken",
         "marker": {
          "color": "#FF97FF",
          "pattern": {
           "shape": ""
          }
         },
         "name": "chicken",
         "offsetgroup": "chicken",
         "orientation": "v",
         "showlegend": true,
         "textposition": "auto",
         "type": "bar",
         "x": [
          "chicken"
         ],
         "xaxis": "x",
         "y": [
          417
         ],
         "yaxis": "y"
        },
        {
         "alignmentgroup": "True",
         "hovertemplate": "color=white bread<br>x=%{x}<br>y=%{y}<extra></extra>",
         "legendgroup": "white bread",
         "marker": {
          "color": "#FECB52",
          "pattern": {
           "shape": ""
          }
         },
         "name": "white bread",
         "offsetgroup": "white bread",
         "orientation": "v",
         "showlegend": true,
         "textposition": "auto",
         "type": "bar",
         "x": [
          "white bread"
         ],
         "xaxis": "x",
         "y": [
          359
         ],
         "yaxis": "y"
        },
        {
         "alignmentgroup": "True",
         "hovertemplate": "color=cream cheese <br>x=%{x}<br>y=%{y}<extra></extra>",
         "legendgroup": "cream cheese ",
         "marker": {
          "color": "#636efa",
          "pattern": {
           "shape": ""
          }
         },
         "name": "cream cheese ",
         "offsetgroup": "cream cheese ",
         "orientation": "v",
         "showlegend": true,
         "textposition": "auto",
         "type": "bar",
         "x": [
          "cream cheese "
         ],
         "xaxis": "x",
         "y": [
          354
         ],
         "yaxis": "y"
        },
        {
         "alignmentgroup": "True",
         "hovertemplate": "color=chocolate<br>x=%{x}<br>y=%{y}<extra></extra>",
         "legendgroup": "chocolate",
         "marker": {
          "color": "#EF553B",
          "pattern": {
           "shape": ""
          }
         },
         "name": "chocolate",
         "offsetgroup": "chocolate",
         "orientation": "v",
         "showlegend": true,
         "textposition": "auto",
         "type": "bar",
         "x": [
          "chocolate"
         ],
         "xaxis": "x",
         "y": [
          353
         ],
         "yaxis": "y"
        },
        {
         "alignmentgroup": "True",
         "hovertemplate": "color=dessert<br>x=%{x}<br>y=%{y}<extra></extra>",
         "legendgroup": "dessert",
         "marker": {
          "color": "#00cc96",
          "pattern": {
           "shape": ""
          }
         },
         "name": "dessert",
         "offsetgroup": "dessert",
         "orientation": "v",
         "showlegend": true,
         "textposition": "auto",
         "type": "bar",
         "x": [
          "dessert"
         ],
         "xaxis": "x",
         "y": [
          353
         ],
         "yaxis": "y"
        },
        {
         "alignmentgroup": "True",
         "hovertemplate": "color=napkins<br>x=%{x}<br>y=%{y}<extra></extra>",
         "legendgroup": "napkins",
         "marker": {
          "color": "#ab63fa",
          "pattern": {
           "shape": ""
          }
         },
         "name": "napkins",
         "offsetgroup": "napkins",
         "orientation": "v",
         "showlegend": true,
         "textposition": "auto",
         "type": "bar",
         "x": [
          "napkins"
         ],
         "xaxis": "x",
         "y": [
          331
         ],
         "yaxis": "y"
        },
        {
         "alignmentgroup": "True",
         "hovertemplate": "color=hamburger meat<br>x=%{x}<br>y=%{y}<extra></extra>",
         "legendgroup": "hamburger meat",
         "marker": {
          "color": "#FFA15A",
          "pattern": {
           "shape": ""
          }
         },
         "name": "hamburger meat",
         "offsetgroup": "hamburger meat",
         "orientation": "v",
         "showlegend": true,
         "textposition": "auto",
         "type": "bar",
         "x": [
          "hamburger meat"
         ],
         "xaxis": "x",
         "y": [
          327
         ],
         "yaxis": "y"
        },
        {
         "alignmentgroup": "True",
         "hovertemplate": "color=berries<br>x=%{x}<br>y=%{y}<extra></extra>",
         "legendgroup": "berries",
         "marker": {
          "color": "#19d3f3",
          "pattern": {
           "shape": ""
          }
         },
         "name": "berries",
         "offsetgroup": "berries",
         "orientation": "v",
         "showlegend": true,
         "textposition": "auto",
         "type": "bar",
         "x": [
          "berries"
         ],
         "xaxis": "x",
         "y": [
          326
         ],
         "yaxis": "y"
        },
        {
         "alignmentgroup": "True",
         "hovertemplate": "color=UHT-milk<br>x=%{x}<br>y=%{y}<extra></extra>",
         "legendgroup": "UHT-milk",
         "marker": {
          "color": "#FF6692",
          "pattern": {
           "shape": ""
          }
         },
         "name": "UHT-milk",
         "offsetgroup": "UHT-milk",
         "orientation": "v",
         "showlegend": true,
         "textposition": "auto",
         "type": "bar",
         "x": [
          "UHT-milk"
         ],
         "xaxis": "x",
         "y": [
          320
         ],
         "yaxis": "y"
        },
        {
         "alignmentgroup": "True",
         "hovertemplate": "color=onions<br>x=%{x}<br>y=%{y}<extra></extra>",
         "legendgroup": "onions",
         "marker": {
          "color": "#B6E880",
          "pattern": {
           "shape": ""
          }
         },
         "name": "onions",
         "offsetgroup": "onions",
         "orientation": "v",
         "showlegend": true,
         "textposition": "auto",
         "type": "bar",
         "x": [
          "onions"
         ],
         "xaxis": "x",
         "y": [
          303
         ],
         "yaxis": "y"
        },
        {
         "alignmentgroup": "True",
         "hovertemplate": "color=salty snack<br>x=%{x}<br>y=%{y}<extra></extra>",
         "legendgroup": "salty snack",
         "marker": {
          "color": "#FF97FF",
          "pattern": {
           "shape": ""
          }
         },
         "name": "salty snack",
         "offsetgroup": "salty snack",
         "orientation": "v",
         "showlegend": true,
         "textposition": "auto",
         "type": "bar",
         "x": [
          "salty snack"
         ],
         "xaxis": "x",
         "y": [
          281
         ],
         "yaxis": "y"
        },
        {
         "alignmentgroup": "True",
         "hovertemplate": "color=waffles<br>x=%{x}<br>y=%{y}<extra></extra>",
         "legendgroup": "waffles",
         "marker": {
          "color": "#FECB52",
          "pattern": {
           "shape": ""
          }
         },
         "name": "waffles",
         "offsetgroup": "waffles",
         "orientation": "v",
         "showlegend": true,
         "textposition": "auto",
         "type": "bar",
         "x": [
          "waffles"
         ],
         "xaxis": "x",
         "y": [
          277
         ],
         "yaxis": "y"
        },
        {
         "alignmentgroup": "True",
         "hovertemplate": "color=long life bakery product<br>x=%{x}<br>y=%{y}<extra></extra>",
         "legendgroup": "long life bakery product",
         "marker": {
          "color": "#636efa",
          "pattern": {
           "shape": ""
          }
         },
         "name": "long life bakery product",
         "offsetgroup": "long life bakery product",
         "orientation": "v",
         "showlegend": true,
         "textposition": "auto",
         "type": "bar",
         "x": [
          "long life bakery product"
         ],
         "xaxis": "x",
         "y": [
          268
         ],
         "yaxis": "y"
        },
        {
         "alignmentgroup": "True",
         "hovertemplate": "color=sugar<br>x=%{x}<br>y=%{y}<extra></extra>",
         "legendgroup": "sugar",
         "marker": {
          "color": "#EF553B",
          "pattern": {
           "shape": ""
          }
         },
         "name": "sugar",
         "offsetgroup": "sugar",
         "orientation": "v",
         "showlegend": true,
         "textposition": "auto",
         "type": "bar",
         "x": [
          "sugar"
         ],
         "xaxis": "x",
         "y": [
          265
         ],
         "yaxis": "y"
        },
        {
         "alignmentgroup": "True",
         "hovertemplate": "color=butter milk<br>x=%{x}<br>y=%{y}<extra></extra>",
         "legendgroup": "butter milk",
         "marker": {
          "color": "#00cc96",
          "pattern": {
           "shape": ""
          }
         },
         "name": "butter milk",
         "offsetgroup": "butter milk",
         "orientation": "v",
         "showlegend": true,
         "textposition": "auto",
         "type": "bar",
         "x": [
          "butter milk"
         ],
         "xaxis": "x",
         "y": [
          263
         ],
         "yaxis": "y"
        },
        {
         "alignmentgroup": "True",
         "hovertemplate": "color=ham<br>x=%{x}<br>y=%{y}<extra></extra>",
         "legendgroup": "ham",
         "marker": {
          "color": "#ab63fa",
          "pattern": {
           "shape": ""
          }
         },
         "name": "ham",
         "offsetgroup": "ham",
         "orientation": "v",
         "showlegend": true,
         "textposition": "auto",
         "type": "bar",
         "x": [
          "ham"
         ],
         "xaxis": "x",
         "y": [
          256
         ],
         "yaxis": "y"
        },
        {
         "alignmentgroup": "True",
         "hovertemplate": "color=meat<br>x=%{x}<br>y=%{y}<extra></extra>",
         "legendgroup": "meat",
         "marker": {
          "color": "#FFA15A",
          "pattern": {
           "shape": ""
          }
         },
         "name": "meat",
         "offsetgroup": "meat",
         "orientation": "v",
         "showlegend": true,
         "textposition": "auto",
         "type": "bar",
         "x": [
          "meat"
         ],
         "xaxis": "x",
         "y": [
          252
         ],
         "yaxis": "y"
        },
        {
         "alignmentgroup": "True",
         "hovertemplate": "color=frozen meals<br>x=%{x}<br>y=%{y}<extra></extra>",
         "legendgroup": "frozen meals",
         "marker": {
          "color": "#19d3f3",
          "pattern": {
           "shape": ""
          }
         },
         "name": "frozen meals",
         "offsetgroup": "frozen meals",
         "orientation": "v",
         "showlegend": true,
         "textposition": "auto",
         "type": "bar",
         "x": [
          "frozen meals"
         ],
         "xaxis": "x",
         "y": [
          251
         ],
         "yaxis": "y"
        },
        {
         "alignmentgroup": "True",
         "hovertemplate": "color=beverages<br>x=%{x}<br>y=%{y}<extra></extra>",
         "legendgroup": "beverages",
         "marker": {
          "color": "#FF6692",
          "pattern": {
           "shape": ""
          }
         },
         "name": "beverages",
         "offsetgroup": "beverages",
         "orientation": "v",
         "showlegend": true,
         "textposition": "auto",
         "type": "bar",
         "x": [
          "beverages"
         ],
         "xaxis": "x",
         "y": [
          248
         ],
         "yaxis": "y"
        },
        {
         "alignmentgroup": "True",
         "hovertemplate": "color=specialty chocolate<br>x=%{x}<br>y=%{y}<extra></extra>",
         "legendgroup": "specialty chocolate",
         "marker": {
          "color": "#B6E880",
          "pattern": {
           "shape": ""
          }
         },
         "name": "specialty chocolate",
         "offsetgroup": "specialty chocolate",
         "orientation": "v",
         "showlegend": true,
         "textposition": "auto",
         "type": "bar",
         "x": [
          "specialty chocolate"
         ],
         "xaxis": "x",
         "y": [
          239
         ],
         "yaxis": "y"
        },
        {
         "alignmentgroup": "True",
         "hovertemplate": "color=misc. beverages<br>x=%{x}<br>y=%{y}<extra></extra>",
         "legendgroup": "misc. beverages",
         "marker": {
          "color": "#FF97FF",
          "pattern": {
           "shape": ""
          }
         },
         "name": "misc. beverages",
         "offsetgroup": "misc. beverages",
         "orientation": "v",
         "showlegend": true,
         "textposition": "auto",
         "type": "bar",
         "x": [
          "misc. beverages"
         ],
         "xaxis": "x",
         "y": [
          236
         ],
         "yaxis": "y"
        },
        {
         "alignmentgroup": "True",
         "hovertemplate": "color=ice cream<br>x=%{x}<br>y=%{y}<extra></extra>",
         "legendgroup": "ice cream",
         "marker": {
          "color": "#FECB52",
          "pattern": {
           "shape": ""
          }
         },
         "name": "ice cream",
         "offsetgroup": "ice cream",
         "orientation": "v",
         "showlegend": true,
         "textposition": "auto",
         "type": "bar",
         "x": [
          "ice cream"
         ],
         "xaxis": "x",
         "y": [
          227
         ],
         "yaxis": "y"
        },
        {
         "alignmentgroup": "True",
         "hovertemplate": "color=oil<br>x=%{x}<br>y=%{y}<extra></extra>",
         "legendgroup": "oil",
         "marker": {
          "color": "#636efa",
          "pattern": {
           "shape": ""
          }
         },
         "name": "oil",
         "offsetgroup": "oil",
         "orientation": "v",
         "showlegend": true,
         "textposition": "auto",
         "type": "bar",
         "x": [
          "oil"
         ],
         "xaxis": "x",
         "y": [
          223
         ],
         "yaxis": "y"
        },
        {
         "alignmentgroup": "True",
         "hovertemplate": "color=hard cheese<br>x=%{x}<br>y=%{y}<extra></extra>",
         "legendgroup": "hard cheese",
         "marker": {
          "color": "#EF553B",
          "pattern": {
           "shape": ""
          }
         },
         "name": "hard cheese",
         "offsetgroup": "hard cheese",
         "orientation": "v",
         "showlegend": true,
         "textposition": "auto",
         "type": "bar",
         "x": [
          "hard cheese"
         ],
         "xaxis": "x",
         "y": [
          220
         ],
         "yaxis": "y"
        },
        {
         "alignmentgroup": "True",
         "hovertemplate": "color=grapes<br>x=%{x}<br>y=%{y}<extra></extra>",
         "legendgroup": "grapes",
         "marker": {
          "color": "#00cc96",
          "pattern": {
           "shape": ""
          }
         },
         "name": "grapes",
         "offsetgroup": "grapes",
         "orientation": "v",
         "showlegend": true,
         "textposition": "auto",
         "type": "bar",
         "x": [
          "grapes"
         ],
         "xaxis": "x",
         "y": [
          216
         ],
         "yaxis": "y"
        },
        {
         "alignmentgroup": "True",
         "hovertemplate": "color=candy<br>x=%{x}<br>y=%{y}<extra></extra>",
         "legendgroup": "candy",
         "marker": {
          "color": "#ab63fa",
          "pattern": {
           "shape": ""
          }
         },
         "name": "candy",
         "offsetgroup": "candy",
         "orientation": "v",
         "showlegend": true,
         "textposition": "auto",
         "type": "bar",
         "x": [
          "candy"
         ],
         "xaxis": "x",
         "y": [
          215
         ],
         "yaxis": "y"
        },
        {
         "alignmentgroup": "True",
         "hovertemplate": "color=sliced cheese<br>x=%{x}<br>y=%{y}<extra></extra>",
         "legendgroup": "sliced cheese",
         "marker": {
          "color": "#FFA15A",
          "pattern": {
           "shape": ""
          }
         },
         "name": "sliced cheese",
         "offsetgroup": "sliced cheese",
         "orientation": "v",
         "showlegend": true,
         "textposition": "auto",
         "type": "bar",
         "x": [
          "sliced cheese"
         ],
         "xaxis": "x",
         "y": [
          210
         ],
         "yaxis": "y"
        },
        {
         "alignmentgroup": "True",
         "hovertemplate": "color=specialty bar<br>x=%{x}<br>y=%{y}<extra></extra>",
         "legendgroup": "specialty bar",
         "marker": {
          "color": "#19d3f3",
          "pattern": {
           "shape": ""
          }
         },
         "name": "specialty bar",
         "offsetgroup": "specialty bar",
         "orientation": "v",
         "showlegend": true,
         "textposition": "auto",
         "type": "bar",
         "x": [
          "specialty bar"
         ],
         "xaxis": "x",
         "y": [
          209
         ],
         "yaxis": "y"
        },
        {
         "alignmentgroup": "True",
         "hovertemplate": "color=hygiene articles<br>x=%{x}<br>y=%{y}<extra></extra>",
         "legendgroup": "hygiene articles",
         "marker": {
          "color": "#FF6692",
          "pattern": {
           "shape": ""
          }
         },
         "name": "hygiene articles",
         "offsetgroup": "hygiene articles",
         "orientation": "v",
         "showlegend": true,
         "textposition": "auto",
         "type": "bar",
         "x": [
          "hygiene articles"
         ],
         "xaxis": "x",
         "y": [
          205
         ],
         "yaxis": "y"
        },
        {
         "alignmentgroup": "True",
         "hovertemplate": "color=chewing gum<br>x=%{x}<br>y=%{y}<extra></extra>",
         "legendgroup": "chewing gum",
         "marker": {
          "color": "#B6E880",
          "pattern": {
           "shape": ""
          }
         },
         "name": "chewing gum",
         "offsetgroup": "chewing gum",
         "orientation": "v",
         "showlegend": true,
         "textposition": "auto",
         "type": "bar",
         "x": [
          "chewing gum"
         ],
         "xaxis": "x",
         "y": [
          180
         ],
         "yaxis": "y"
        },
        {
         "alignmentgroup": "True",
         "hovertemplate": "color=cat food<br>x=%{x}<br>y=%{y}<extra></extra>",
         "legendgroup": "cat food",
         "marker": {
          "color": "#FF97FF",
          "pattern": {
           "shape": ""
          }
         },
         "name": "cat food",
         "offsetgroup": "cat food",
         "orientation": "v",
         "showlegend": true,
         "textposition": "auto",
         "type": "bar",
         "x": [
          "cat food"
         ],
         "xaxis": "x",
         "y": [
          177
         ],
         "yaxis": "y"
        },
        {
         "alignmentgroup": "True",
         "hovertemplate": "color=white wine<br>x=%{x}<br>y=%{y}<extra></extra>",
         "legendgroup": "white wine",
         "marker": {
          "color": "#FECB52",
          "pattern": {
           "shape": ""
          }
         },
         "name": "white wine",
         "offsetgroup": "white wine",
         "orientation": "v",
         "showlegend": true,
         "textposition": "auto",
         "type": "bar",
         "x": [
          "white wine"
         ],
         "xaxis": "x",
         "y": [
          175
         ],
         "yaxis": "y"
        },
        {
         "alignmentgroup": "True",
         "hovertemplate": "color=herbs<br>x=%{x}<br>y=%{y}<extra></extra>",
         "legendgroup": "herbs",
         "marker": {
          "color": "#636efa",
          "pattern": {
           "shape": ""
          }
         },
         "name": "herbs",
         "offsetgroup": "herbs",
         "orientation": "v",
         "showlegend": true,
         "textposition": "auto",
         "type": "bar",
         "x": [
          "herbs"
         ],
         "xaxis": "x",
         "y": [
          158
         ],
         "yaxis": "y"
        },
        {
         "alignmentgroup": "True",
         "hovertemplate": "color=red/blush wine<br>x=%{x}<br>y=%{y}<extra></extra>",
         "legendgroup": "red/blush wine",
         "marker": {
          "color": "#EF553B",
          "pattern": {
           "shape": ""
          }
         },
         "name": "red/blush wine",
         "offsetgroup": "red/blush wine",
         "orientation": "v",
         "showlegend": true,
         "textposition": "auto",
         "type": "bar",
         "x": [
          "red/blush wine"
         ],
         "xaxis": "x",
         "y": [
          157
         ],
         "yaxis": "y"
        },
        {
         "alignmentgroup": "True",
         "hovertemplate": "color=processed cheese<br>x=%{x}<br>y=%{y}<extra></extra>",
         "legendgroup": "processed cheese",
         "marker": {
          "color": "#00cc96",
          "pattern": {
           "shape": ""
          }
         },
         "name": "processed cheese",
         "offsetgroup": "processed cheese",
         "orientation": "v",
         "showlegend": true,
         "textposition": "auto",
         "type": "bar",
         "x": [
          "processed cheese"
         ],
         "xaxis": "x",
         "y": [
          152
         ],
         "yaxis": "y"
        },
        {
         "alignmentgroup": "True",
         "hovertemplate": "color=soft cheese<br>x=%{x}<br>y=%{y}<extra></extra>",
         "legendgroup": "soft cheese",
         "marker": {
          "color": "#ab63fa",
          "pattern": {
           "shape": ""
          }
         },
         "name": "soft cheese",
         "offsetgroup": "soft cheese",
         "orientation": "v",
         "showlegend": true,
         "textposition": "auto",
         "type": "bar",
         "x": [
          "soft cheese"
         ],
         "xaxis": "x",
         "y": [
          150
         ],
         "yaxis": "y"
        },
        {
         "alignmentgroup": "True",
         "hovertemplate": "color=flour<br>x=%{x}<br>y=%{y}<extra></extra>",
         "legendgroup": "flour",
         "marker": {
          "color": "#FFA15A",
          "pattern": {
           "shape": ""
          }
         },
         "name": "flour",
         "offsetgroup": "flour",
         "orientation": "v",
         "showlegend": true,
         "textposition": "auto",
         "type": "bar",
         "x": [
          "flour"
         ],
         "xaxis": "x",
         "y": [
          146
         ],
         "yaxis": "y"
        },
        {
         "alignmentgroup": "True",
         "hovertemplate": "color=semi-finished bread<br>x=%{x}<br>y=%{y}<extra></extra>",
         "legendgroup": "semi-finished bread",
         "marker": {
          "color": "#19d3f3",
          "pattern": {
           "shape": ""
          }
         },
         "name": "semi-finished bread",
         "offsetgroup": "semi-finished bread",
         "orientation": "v",
         "showlegend": true,
         "textposition": "auto",
         "type": "bar",
         "x": [
          "semi-finished bread"
         ],
         "xaxis": "x",
         "y": [
          142
         ],
         "yaxis": "y"
        },
        {
         "alignmentgroup": "True",
         "hovertemplate": "color=dishes<br>x=%{x}<br>y=%{y}<extra></extra>",
         "legendgroup": "dishes",
         "marker": {
          "color": "#FF6692",
          "pattern": {
           "shape": ""
          }
         },
         "name": "dishes",
         "offsetgroup": "dishes",
         "orientation": "v",
         "showlegend": true,
         "textposition": "auto",
         "type": "bar",
         "x": [
          "dishes"
         ],
         "xaxis": "x",
         "y": [
          135
         ],
         "yaxis": "y"
        },
        {
         "alignmentgroup": "True",
         "hovertemplate": "color=pickled vegetables<br>x=%{x}<br>y=%{y}<extra></extra>",
         "legendgroup": "pickled vegetables",
         "marker": {
          "color": "#B6E880",
          "pattern": {
           "shape": ""
          }
         },
         "name": "pickled vegetables",
         "offsetgroup": "pickled vegetables",
         "orientation": "v",
         "showlegend": true,
         "textposition": "auto",
         "type": "bar",
         "x": [
          "pickled vegetables"
         ],
         "xaxis": "x",
         "y": [
          134
         ],
         "yaxis": "y"
        },
        {
         "alignmentgroup": "True",
         "hovertemplate": "color=detergent<br>x=%{x}<br>y=%{y}<extra></extra>",
         "legendgroup": "detergent",
         "marker": {
          "color": "#FF97FF",
          "pattern": {
           "shape": ""
          }
         },
         "name": "detergent",
         "offsetgroup": "detergent",
         "orientation": "v",
         "showlegend": true,
         "textposition": "auto",
         "type": "bar",
         "x": [
          "detergent"
         ],
         "xaxis": "x",
         "y": [
          129
         ],
         "yaxis": "y"
        },
        {
         "alignmentgroup": "True",
         "hovertemplate": "color=packaged fruit/vegetables<br>x=%{x}<br>y=%{y}<extra></extra>",
         "legendgroup": "packaged fruit/vegetables",
         "marker": {
          "color": "#FECB52",
          "pattern": {
           "shape": ""
          }
         },
         "name": "packaged fruit/vegetables",
         "offsetgroup": "packaged fruit/vegetables",
         "orientation": "v",
         "showlegend": true,
         "textposition": "auto",
         "type": "bar",
         "x": [
          "packaged fruit/vegetables"
         ],
         "xaxis": "x",
         "y": [
          127
         ],
         "yaxis": "y"
        },
        {
         "alignmentgroup": "True",
         "hovertemplate": "color=baking powder<br>x=%{x}<br>y=%{y}<extra></extra>",
         "legendgroup": "baking powder",
         "marker": {
          "color": "#636efa",
          "pattern": {
           "shape": ""
          }
         },
         "name": "baking powder",
         "offsetgroup": "baking powder",
         "orientation": "v",
         "showlegend": true,
         "textposition": "auto",
         "type": "bar",
         "x": [
          "baking powder"
         ],
         "xaxis": "x",
         "y": [
          121
         ],
         "yaxis": "y"
        },
        {
         "alignmentgroup": "True",
         "hovertemplate": "color=pasta<br>x=%{x}<br>y=%{y}<extra></extra>",
         "legendgroup": "pasta",
         "marker": {
          "color": "#EF553B",
          "pattern": {
           "shape": ""
          }
         },
         "name": "pasta",
         "offsetgroup": "pasta",
         "orientation": "v",
         "showlegend": true,
         "textposition": "auto",
         "type": "bar",
         "x": [
          "pasta"
         ],
         "xaxis": "x",
         "y": [
          121
         ],
         "yaxis": "y"
        },
        {
         "alignmentgroup": "True",
         "hovertemplate": "color=pot plants<br>x=%{x}<br>y=%{y}<extra></extra>",
         "legendgroup": "pot plants",
         "marker": {
          "color": "#00cc96",
          "pattern": {
           "shape": ""
          }
         },
         "name": "pot plants",
         "offsetgroup": "pot plants",
         "orientation": "v",
         "showlegend": true,
         "textposition": "auto",
         "type": "bar",
         "x": [
          "pot plants"
         ],
         "xaxis": "x",
         "y": [
          117
         ],
         "yaxis": "y"
        },
        {
         "alignmentgroup": "True",
         "hovertemplate": "color=canned fish<br>x=%{x}<br>y=%{y}<extra></extra>",
         "legendgroup": "canned fish",
         "marker": {
          "color": "#ab63fa",
          "pattern": {
           "shape": ""
          }
         },
         "name": "canned fish",
         "offsetgroup": "canned fish",
         "orientation": "v",
         "showlegend": true,
         "textposition": "auto",
         "type": "bar",
         "x": [
          "canned fish"
         ],
         "xaxis": "x",
         "y": [
          115
         ],
         "yaxis": "y"
        },
        {
         "alignmentgroup": "True",
         "hovertemplate": "color=seasonal products<br>x=%{x}<br>y=%{y}<extra></extra>",
         "legendgroup": "seasonal products",
         "marker": {
          "color": "#FFA15A",
          "pattern": {
           "shape": ""
          }
         },
         "name": "seasonal products",
         "offsetgroup": "seasonal products",
         "orientation": "v",
         "showlegend": true,
         "textposition": "auto",
         "type": "bar",
         "x": [
          "seasonal products"
         ],
         "xaxis": "x",
         "y": [
          106
         ],
         "yaxis": "y"
        },
        {
         "alignmentgroup": "True",
         "hovertemplate": "color=liquor<br>x=%{x}<br>y=%{y}<extra></extra>",
         "legendgroup": "liquor",
         "marker": {
          "color": "#19d3f3",
          "pattern": {
           "shape": ""
          }
         },
         "name": "liquor",
         "offsetgroup": "liquor",
         "orientation": "v",
         "showlegend": true,
         "textposition": "auto",
         "type": "bar",
         "x": [
          "liquor"
         ],
         "xaxis": "x",
         "y": [
          103
         ],
         "yaxis": "y"
        },
        {
         "alignmentgroup": "True",
         "hovertemplate": "color=frozen fish<br>x=%{x}<br>y=%{y}<extra></extra>",
         "legendgroup": "frozen fish",
         "marker": {
          "color": "#FF6692",
          "pattern": {
           "shape": ""
          }
         },
         "name": "frozen fish",
         "offsetgroup": "frozen fish",
         "orientation": "v",
         "showlegend": true,
         "textposition": "auto",
         "type": "bar",
         "x": [
          "frozen fish"
         ],
         "xaxis": "x",
         "y": [
          102
         ],
         "yaxis": "y"
        },
        {
         "alignmentgroup": "True",
         "hovertemplate": "color=spread cheese<br>x=%{x}<br>y=%{y}<extra></extra>",
         "legendgroup": "spread cheese",
         "marker": {
          "color": "#B6E880",
          "pattern": {
           "shape": ""
          }
         },
         "name": "spread cheese",
         "offsetgroup": "spread cheese",
         "orientation": "v",
         "showlegend": true,
         "textposition": "auto",
         "type": "bar",
         "x": [
          "spread cheese"
         ],
         "xaxis": "x",
         "y": [
          100
         ],
         "yaxis": "y"
        },
        {
         "alignmentgroup": "True",
         "hovertemplate": "color=condensed milk<br>x=%{x}<br>y=%{y}<extra></extra>",
         "legendgroup": "condensed milk",
         "marker": {
          "color": "#FF97FF",
          "pattern": {
           "shape": ""
          }
         },
         "name": "condensed milk",
         "offsetgroup": "condensed milk",
         "orientation": "v",
         "showlegend": true,
         "textposition": "auto",
         "type": "bar",
         "x": [
          "condensed milk"
         ],
         "xaxis": "x",
         "y": [
          98
         ],
         "yaxis": "y"
        },
        {
         "alignmentgroup": "True",
         "hovertemplate": "color=mustard<br>x=%{x}<br>y=%{y}<extra></extra>",
         "legendgroup": "mustard",
         "marker": {
          "color": "#FECB52",
          "pattern": {
           "shape": ""
          }
         },
         "name": "mustard",
         "offsetgroup": "mustard",
         "orientation": "v",
         "showlegend": true,
         "textposition": "auto",
         "type": "bar",
         "x": [
          "mustard"
         ],
         "xaxis": "x",
         "y": [
          92
         ],
         "yaxis": "y"
        },
        {
         "alignmentgroup": "True",
         "hovertemplate": "color=cake bar<br>x=%{x}<br>y=%{y}<extra></extra>",
         "legendgroup": "cake bar",
         "marker": {
          "color": "#636efa",
          "pattern": {
           "shape": ""
          }
         },
         "name": "cake bar",
         "offsetgroup": "cake bar",
         "orientation": "v",
         "showlegend": true,
         "textposition": "auto",
         "type": "bar",
         "x": [
          "cake bar"
         ],
         "xaxis": "x",
         "y": [
          92
         ],
         "yaxis": "y"
        },
        {
         "alignmentgroup": "True",
         "hovertemplate": "color=frozen dessert<br>x=%{x}<br>y=%{y}<extra></extra>",
         "legendgroup": "frozen dessert",
         "marker": {
          "color": "#EF553B",
          "pattern": {
           "shape": ""
          }
         },
         "name": "frozen dessert",
         "offsetgroup": "frozen dessert",
         "orientation": "v",
         "showlegend": true,
         "textposition": "auto",
         "type": "bar",
         "x": [
          "frozen dessert"
         ],
         "xaxis": "x",
         "y": [
          92
         ],
         "yaxis": "y"
        },
        {
         "alignmentgroup": "True",
         "hovertemplate": "color=salt<br>x=%{x}<br>y=%{y}<extra></extra>",
         "legendgroup": "salt",
         "marker": {
          "color": "#00cc96",
          "pattern": {
           "shape": ""
          }
         },
         "name": "salt",
         "offsetgroup": "salt",
         "orientation": "v",
         "showlegend": true,
         "textposition": "auto",
         "type": "bar",
         "x": [
          "salt"
         ],
         "xaxis": "x",
         "y": [
          89
         ],
         "yaxis": "y"
        },
        {
         "alignmentgroup": "True",
         "hovertemplate": "color=pet care<br>x=%{x}<br>y=%{y}<extra></extra>",
         "legendgroup": "pet care",
         "marker": {
          "color": "#ab63fa",
          "pattern": {
           "shape": ""
          }
         },
         "name": "pet care",
         "offsetgroup": "pet care",
         "orientation": "v",
         "showlegend": true,
         "textposition": "auto",
         "type": "bar",
         "x": [
          "pet care"
         ],
         "xaxis": "x",
         "y": [
          85
         ],
         "yaxis": "y"
        },
        {
         "alignmentgroup": "True",
         "hovertemplate": "color=canned vegetables<br>x=%{x}<br>y=%{y}<extra></extra>",
         "legendgroup": "canned vegetables",
         "marker": {
          "color": "#FFA15A",
          "pattern": {
           "shape": ""
          }
         },
         "name": "canned vegetables",
         "offsetgroup": "canned vegetables",
         "orientation": "v",
         "showlegend": true,
         "textposition": "auto",
         "type": "bar",
         "x": [
          "canned vegetables"
         ],
         "xaxis": "x",
         "y": [
          82
         ],
         "yaxis": "y"
        },
        {
         "alignmentgroup": "True",
         "hovertemplate": "color=roll products <br>x=%{x}<br>y=%{y}<extra></extra>",
         "legendgroup": "roll products ",
         "marker": {
          "color": "#19d3f3",
          "pattern": {
           "shape": ""
          }
         },
         "name": "roll products ",
         "offsetgroup": "roll products ",
         "orientation": "v",
         "showlegend": true,
         "textposition": "auto",
         "type": "bar",
         "x": [
          "roll products "
         ],
         "xaxis": "x",
         "y": [
          82
         ],
         "yaxis": "y"
        },
        {
         "alignmentgroup": "True",
         "hovertemplate": "color=turkey<br>x=%{x}<br>y=%{y}<extra></extra>",
         "legendgroup": "turkey",
         "marker": {
          "color": "#FF6692",
          "pattern": {
           "shape": ""
          }
         },
         "name": "turkey",
         "offsetgroup": "turkey",
         "orientation": "v",
         "showlegend": true,
         "textposition": "auto",
         "type": "bar",
         "x": [
          "turkey"
         ],
         "xaxis": "x",
         "y": [
          80
         ],
         "yaxis": "y"
        },
        {
         "alignmentgroup": "True",
         "hovertemplate": "color=photo/film<br>x=%{x}<br>y=%{y}<extra></extra>",
         "legendgroup": "photo/film",
         "marker": {
          "color": "#B6E880",
          "pattern": {
           "shape": ""
          }
         },
         "name": "photo/film",
         "offsetgroup": "photo/film",
         "orientation": "v",
         "showlegend": true,
         "textposition": "auto",
         "type": "bar",
         "x": [
          "photo/film"
         ],
         "xaxis": "x",
         "y": [
          79
         ],
         "yaxis": "y"
        },
        {
         "alignmentgroup": "True",
         "hovertemplate": "color=mayonnaise<br>x=%{x}<br>y=%{y}<extra></extra>",
         "legendgroup": "mayonnaise",
         "marker": {
          "color": "#FF97FF",
          "pattern": {
           "shape": ""
          }
         },
         "name": "mayonnaise",
         "offsetgroup": "mayonnaise",
         "orientation": "v",
         "showlegend": true,
         "textposition": "auto",
         "type": "bar",
         "x": [
          "mayonnaise"
         ],
         "xaxis": "x",
         "y": [
          75
         ],
         "yaxis": "y"
        },
        {
         "alignmentgroup": "True",
         "hovertemplate": "color=cling film/bags<br>x=%{x}<br>y=%{y}<extra></extra>",
         "legendgroup": "cling film/bags",
         "marker": {
          "color": "#FECB52",
          "pattern": {
           "shape": ""
          }
         },
         "name": "cling film/bags",
         "offsetgroup": "cling film/bags",
         "orientation": "v",
         "showlegend": true,
         "textposition": "auto",
         "type": "bar",
         "x": [
          "cling film/bags"
         ],
         "xaxis": "x",
         "y": [
          74
         ],
         "yaxis": "y"
        },
        {
         "alignmentgroup": "True",
         "hovertemplate": "color=dish cleaner<br>x=%{x}<br>y=%{y}<extra></extra>",
         "legendgroup": "dish cleaner",
         "marker": {
          "color": "#636efa",
          "pattern": {
           "shape": ""
          }
         },
         "name": "dish cleaner",
         "offsetgroup": "dish cleaner",
         "orientation": "v",
         "showlegend": true,
         "textposition": "auto",
         "type": "bar",
         "x": [
          "dish cleaner"
         ],
         "xaxis": "x",
         "y": [
          73
         ],
         "yaxis": "y"
        },
        {
         "alignmentgroup": "True",
         "hovertemplate": "color=frozen potato products<br>x=%{x}<br>y=%{y}<extra></extra>",
         "legendgroup": "frozen potato products",
         "marker": {
          "color": "#EF553B",
          "pattern": {
           "shape": ""
          }
         },
         "name": "frozen potato products",
         "offsetgroup": "frozen potato products",
         "orientation": "v",
         "showlegend": true,
         "textposition": "auto",
         "type": "bar",
         "x": [
          "frozen potato products"
         ],
         "xaxis": "x",
         "y": [
          72
         ],
         "yaxis": "y"
        },
        {
         "alignmentgroup": "True",
         "hovertemplate": "color=specialty cheese<br>x=%{x}<br>y=%{y}<extra></extra>",
         "legendgroup": "specialty cheese",
         "marker": {
          "color": "#00cc96",
          "pattern": {
           "shape": ""
          }
         },
         "name": "specialty cheese",
         "offsetgroup": "specialty cheese",
         "orientation": "v",
         "showlegend": true,
         "textposition": "auto",
         "type": "bar",
         "x": [
          "specialty cheese"
         ],
         "xaxis": "x",
         "y": [
          72
         ],
         "yaxis": "y"
        },
        {
         "alignmentgroup": "True",
         "hovertemplate": "color=flower (seeds)<br>x=%{x}<br>y=%{y}<extra></extra>",
         "legendgroup": "flower (seeds)",
         "marker": {
          "color": "#ab63fa",
          "pattern": {
           "shape": ""
          }
         },
         "name": "flower (seeds)",
         "offsetgroup": "flower (seeds)",
         "orientation": "v",
         "showlegend": true,
         "textposition": "auto",
         "type": "bar",
         "x": [
          "flower (seeds)"
         ],
         "xaxis": "x",
         "y": [
          69
         ],
         "yaxis": "y"
        },
        {
         "alignmentgroup": "True",
         "hovertemplate": "color=sweet spreads<br>x=%{x}<br>y=%{y}<extra></extra>",
         "legendgroup": "sweet spreads",
         "marker": {
          "color": "#FFA15A",
          "pattern": {
           "shape": ""
          }
         },
         "name": "sweet spreads",
         "offsetgroup": "sweet spreads",
         "orientation": "v",
         "showlegend": true,
         "textposition": "auto",
         "type": "bar",
         "x": [
          "sweet spreads"
         ],
         "xaxis": "x",
         "y": [
          68
         ],
         "yaxis": "y"
        },
        {
         "alignmentgroup": "True",
         "hovertemplate": "color=liquor (appetizer)<br>x=%{x}<br>y=%{y}<extra></extra>",
         "legendgroup": "liquor (appetizer)",
         "marker": {
          "color": "#19d3f3",
          "pattern": {
           "shape": ""
          }
         },
         "name": "liquor (appetizer)",
         "offsetgroup": "liquor (appetizer)",
         "orientation": "v",
         "showlegend": true,
         "textposition": "auto",
         "type": "bar",
         "x": [
          "liquor (appetizer)"
         ],
         "xaxis": "x",
         "y": [
          67
         ],
         "yaxis": "y"
        },
        {
         "alignmentgroup": "True",
         "hovertemplate": "color=dog food<br>x=%{x}<br>y=%{y}<extra></extra>",
         "legendgroup": "dog food",
         "marker": {
          "color": "#FF6692",
          "pattern": {
           "shape": ""
          }
         },
         "name": "dog food",
         "offsetgroup": "dog food",
         "orientation": "v",
         "showlegend": true,
         "textposition": "auto",
         "type": "bar",
         "x": [
          "dog food"
         ],
         "xaxis": "x",
         "y": [
          67
         ],
         "yaxis": "y"
        },
        {
         "alignmentgroup": "True",
         "hovertemplate": "color=candles<br>x=%{x}<br>y=%{y}<extra></extra>",
         "legendgroup": "candles",
         "marker": {
          "color": "#B6E880",
          "pattern": {
           "shape": ""
          }
         },
         "name": "candles",
         "offsetgroup": "candles",
         "orientation": "v",
         "showlegend": true,
         "textposition": "auto",
         "type": "bar",
         "x": [
          "candles"
         ],
         "xaxis": "x",
         "y": [
          66
         ],
         "yaxis": "y"
        },
        {
         "alignmentgroup": "True",
         "hovertemplate": "color=finished products<br>x=%{x}<br>y=%{y}<extra></extra>",
         "legendgroup": "finished products",
         "marker": {
          "color": "#FF97FF",
          "pattern": {
           "shape": ""
          }
         },
         "name": "finished products",
         "offsetgroup": "finished products",
         "orientation": "v",
         "showlegend": true,
         "textposition": "auto",
         "type": "bar",
         "x": [
          "finished products"
         ],
         "xaxis": "x",
         "y": [
          64
         ],
         "yaxis": "y"
        },
        {
         "alignmentgroup": "True",
         "hovertemplate": "color=chocolate marshmallow<br>x=%{x}<br>y=%{y}<extra></extra>",
         "legendgroup": "chocolate marshmallow",
         "marker": {
          "color": "#FECB52",
          "pattern": {
           "shape": ""
          }
         },
         "name": "chocolate marshmallow",
         "offsetgroup": "chocolate marshmallow",
         "orientation": "v",
         "showlegend": true,
         "textposition": "auto",
         "type": "bar",
         "x": [
          "chocolate marshmallow"
         ],
         "xaxis": "x",
         "y": [
          60
         ],
         "yaxis": "y"
        },
        {
         "alignmentgroup": "True",
         "hovertemplate": "color=Instant food products<br>x=%{x}<br>y=%{y}<extra></extra>",
         "legendgroup": "Instant food products",
         "marker": {
          "color": "#636efa",
          "pattern": {
           "shape": ""
          }
         },
         "name": "Instant food products",
         "offsetgroup": "Instant food products",
         "orientation": "v",
         "showlegend": true,
         "textposition": "auto",
         "type": "bar",
         "x": [
          "Instant food products"
         ],
         "xaxis": "x",
         "y": [
          60
         ],
         "yaxis": "y"
        },
        {
         "alignmentgroup": "True",
         "hovertemplate": "color=zwieback<br>x=%{x}<br>y=%{y}<extra></extra>",
         "legendgroup": "zwieback",
         "marker": {
          "color": "#EF553B",
          "pattern": {
           "shape": ""
          }
         },
         "name": "zwieback",
         "offsetgroup": "zwieback",
         "orientation": "v",
         "showlegend": true,
         "textposition": "auto",
         "type": "bar",
         "x": [
          "zwieback"
         ],
         "xaxis": "x",
         "y": [
          60
         ],
         "yaxis": "y"
        },
        {
         "alignmentgroup": "True",
         "hovertemplate": "color=instant coffee<br>x=%{x}<br>y=%{y}<extra></extra>",
         "legendgroup": "instant coffee",
         "marker": {
          "color": "#00cc96",
          "pattern": {
           "shape": ""
          }
         },
         "name": "instant coffee",
         "offsetgroup": "instant coffee",
         "orientation": "v",
         "showlegend": true,
         "textposition": "auto",
         "type": "bar",
         "x": [
          "instant coffee"
         ],
         "xaxis": "x",
         "y": [
          59
         ],
         "yaxis": "y"
        },
        {
         "alignmentgroup": "True",
         "hovertemplate": "color=vinegar<br>x=%{x}<br>y=%{y}<extra></extra>",
         "legendgroup": "vinegar",
         "marker": {
          "color": "#ab63fa",
          "pattern": {
           "shape": ""
          }
         },
         "name": "vinegar",
         "offsetgroup": "vinegar",
         "orientation": "v",
         "showlegend": true,
         "textposition": "auto",
         "type": "bar",
         "x": [
          "vinegar"
         ],
         "xaxis": "x",
         "y": [
          51
         ],
         "yaxis": "y"
        },
        {
         "alignmentgroup": "True",
         "hovertemplate": "color=liver loaf<br>x=%{x}<br>y=%{y}<extra></extra>",
         "legendgroup": "liver loaf",
         "marker": {
          "color": "#FFA15A",
          "pattern": {
           "shape": ""
          }
         },
         "name": "liver loaf",
         "offsetgroup": "liver loaf",
         "orientation": "v",
         "showlegend": true,
         "textposition": "auto",
         "type": "bar",
         "x": [
          "liver loaf"
         ],
         "xaxis": "x",
         "y": [
          50
         ],
         "yaxis": "y"
        },
        {
         "alignmentgroup": "True",
         "hovertemplate": "color=rice<br>x=%{x}<br>y=%{y}<extra></extra>",
         "legendgroup": "rice",
         "marker": {
          "color": "#19d3f3",
          "pattern": {
           "shape": ""
          }
         },
         "name": "rice",
         "offsetgroup": "rice",
         "orientation": "v",
         "showlegend": true,
         "textposition": "auto",
         "type": "bar",
         "x": [
          "rice"
         ],
         "xaxis": "x",
         "y": [
          49
         ],
         "yaxis": "y"
        },
        {
         "alignmentgroup": "True",
         "hovertemplate": "color=soups<br>x=%{x}<br>y=%{y}<extra></extra>",
         "legendgroup": "soups",
         "marker": {
          "color": "#FF6692",
          "pattern": {
           "shape": ""
          }
         },
         "name": "soups",
         "offsetgroup": "soups",
         "orientation": "v",
         "showlegend": true,
         "textposition": "auto",
         "type": "bar",
         "x": [
          "soups"
         ],
         "xaxis": "x",
         "y": [
          48
         ],
         "yaxis": "y"
        },
        {
         "alignmentgroup": "True",
         "hovertemplate": "color=popcorn<br>x=%{x}<br>y=%{y}<extra></extra>",
         "legendgroup": "popcorn",
         "marker": {
          "color": "#B6E880",
          "pattern": {
           "shape": ""
          }
         },
         "name": "popcorn",
         "offsetgroup": "popcorn",
         "orientation": "v",
         "showlegend": true,
         "textposition": "auto",
         "type": "bar",
         "x": [
          "popcorn"
         ],
         "xaxis": "x",
         "y": [
          48
         ],
         "yaxis": "y"
        },
        {
         "alignmentgroup": "True",
         "hovertemplate": "color=sparkling wine<br>x=%{x}<br>y=%{y}<extra></extra>",
         "legendgroup": "sparkling wine",
         "marker": {
          "color": "#FF97FF",
          "pattern": {
           "shape": ""
          }
         },
         "name": "sparkling wine",
         "offsetgroup": "sparkling wine",
         "orientation": "v",
         "showlegend": true,
         "textposition": "auto",
         "type": "bar",
         "x": [
          "sparkling wine"
         ],
         "xaxis": "x",
         "y": [
          46
         ],
         "yaxis": "y"
        },
        {
         "alignmentgroup": "True",
         "hovertemplate": "color=curd cheese<br>x=%{x}<br>y=%{y}<extra></extra>",
         "legendgroup": "curd cheese",
         "marker": {
          "color": "#FECB52",
          "pattern": {
           "shape": ""
          }
         },
         "name": "curd cheese",
         "offsetgroup": "curd cheese",
         "orientation": "v",
         "showlegend": true,
         "textposition": "auto",
         "type": "bar",
         "x": [
          "curd cheese"
         ],
         "xaxis": "x",
         "y": [
          46
         ],
         "yaxis": "y"
        },
        {
         "alignmentgroup": "True",
         "hovertemplate": "color=house keeping products<br>x=%{x}<br>y=%{y}<extra></extra>",
         "legendgroup": "house keeping products",
         "marker": {
          "color": "#636efa",
          "pattern": {
           "shape": ""
          }
         },
         "name": "house keeping products",
         "offsetgroup": "house keeping products",
         "orientation": "v",
         "showlegend": true,
         "textposition": "auto",
         "type": "bar",
         "x": [
          "house keeping products"
         ],
         "xaxis": "x",
         "y": [
          45
         ],
         "yaxis": "y"
        },
        {
         "alignmentgroup": "True",
         "hovertemplate": "color=sauces<br>x=%{x}<br>y=%{y}<extra></extra>",
         "legendgroup": "sauces",
         "marker": {
          "color": "#EF553B",
          "pattern": {
           "shape": ""
          }
         },
         "name": "sauces",
         "offsetgroup": "sauces",
         "orientation": "v",
         "showlegend": true,
         "textposition": "auto",
         "type": "bar",
         "x": [
          "sauces"
         ],
         "xaxis": "x",
         "y": [
          44
         ],
         "yaxis": "y"
        },
        {
         "alignmentgroup": "True",
         "hovertemplate": "color=cereals<br>x=%{x}<br>y=%{y}<extra></extra>",
         "legendgroup": "cereals",
         "marker": {
          "color": "#00cc96",
          "pattern": {
           "shape": ""
          }
         },
         "name": "cereals",
         "offsetgroup": "cereals",
         "orientation": "v",
         "showlegend": true,
         "textposition": "auto",
         "type": "bar",
         "x": [
          "cereals"
         ],
         "xaxis": "x",
         "y": [
          42
         ],
         "yaxis": "y"
        },
        {
         "alignmentgroup": "True",
         "hovertemplate": "color=softener<br>x=%{x}<br>y=%{y}<extra></extra>",
         "legendgroup": "softener",
         "marker": {
          "color": "#ab63fa",
          "pattern": {
           "shape": ""
          }
         },
         "name": "softener",
         "offsetgroup": "softener",
         "orientation": "v",
         "showlegend": true,
         "textposition": "auto",
         "type": "bar",
         "x": [
          "softener"
         ],
         "xaxis": "x",
         "y": [
          41
         ],
         "yaxis": "y"
        },
        {
         "alignmentgroup": "True",
         "hovertemplate": "color=female sanitary products<br>x=%{x}<br>y=%{y}<extra></extra>",
         "legendgroup": "female sanitary products",
         "marker": {
          "color": "#FFA15A",
          "pattern": {
           "shape": ""
          }
         },
         "name": "female sanitary products",
         "offsetgroup": "female sanitary products",
         "orientation": "v",
         "showlegend": true,
         "textposition": "auto",
         "type": "bar",
         "x": [
          "female sanitary products"
         ],
         "xaxis": "x",
         "y": [
          40
         ],
         "yaxis": "y"
        },
        {
         "alignmentgroup": "True",
         "hovertemplate": "color=spices<br>x=%{x}<br>y=%{y}<extra></extra>",
         "legendgroup": "spices",
         "marker": {
          "color": "#19d3f3",
          "pattern": {
           "shape": ""
          }
         },
         "name": "spices",
         "offsetgroup": "spices",
         "orientation": "v",
         "showlegend": true,
         "textposition": "auto",
         "type": "bar",
         "x": [
          "spices"
         ],
         "xaxis": "x",
         "y": [
          40
         ],
         "yaxis": "y"
        },
        {
         "alignmentgroup": "True",
         "hovertemplate": "color=brandy<br>x=%{x}<br>y=%{y}<extra></extra>",
         "legendgroup": "brandy",
         "marker": {
          "color": "#FF6692",
          "pattern": {
           "shape": ""
          }
         },
         "name": "brandy",
         "offsetgroup": "brandy",
         "orientation": "v",
         "showlegend": true,
         "textposition": "auto",
         "type": "bar",
         "x": [
          "brandy"
         ],
         "xaxis": "x",
         "y": [
          38
         ],
         "yaxis": "y"
        },
        {
         "alignmentgroup": "True",
         "hovertemplate": "color=male cosmetics<br>x=%{x}<br>y=%{y}<extra></extra>",
         "legendgroup": "male cosmetics",
         "marker": {
          "color": "#B6E880",
          "pattern": {
           "shape": ""
          }
         },
         "name": "male cosmetics",
         "offsetgroup": "male cosmetics",
         "orientation": "v",
         "showlegend": true,
         "textposition": "auto",
         "type": "bar",
         "x": [
          "male cosmetics"
         ],
         "xaxis": "x",
         "y": [
          37
         ],
         "yaxis": "y"
        },
        {
         "alignmentgroup": "True",
         "hovertemplate": "color=meat spreads<br>x=%{x}<br>y=%{y}<extra></extra>",
         "legendgroup": "meat spreads",
         "marker": {
          "color": "#FF97FF",
          "pattern": {
           "shape": ""
          }
         },
         "name": "meat spreads",
         "offsetgroup": "meat spreads",
         "orientation": "v",
         "showlegend": true,
         "textposition": "auto",
         "type": "bar",
         "x": [
          "meat spreads"
         ],
         "xaxis": "x",
         "y": [
          35
         ],
         "yaxis": "y"
        },
        {
         "alignmentgroup": "True",
         "hovertemplate": "color=jam<br>x=%{x}<br>y=%{y}<extra></extra>",
         "legendgroup": "jam",
         "marker": {
          "color": "#FECB52",
          "pattern": {
           "shape": ""
          }
         },
         "name": "jam",
         "offsetgroup": "jam",
         "orientation": "v",
         "showlegend": true,
         "textposition": "auto",
         "type": "bar",
         "x": [
          "jam"
         ],
         "xaxis": "x",
         "y": [
          34
         ],
         "yaxis": "y"
        },
        {
         "alignmentgroup": "True",
         "hovertemplate": "color=nuts/prunes<br>x=%{x}<br>y=%{y}<extra></extra>",
         "legendgroup": "nuts/prunes",
         "marker": {
          "color": "#636efa",
          "pattern": {
           "shape": ""
          }
         },
         "name": "nuts/prunes",
         "offsetgroup": "nuts/prunes",
         "orientation": "v",
         "showlegend": true,
         "textposition": "auto",
         "type": "bar",
         "x": [
          "nuts/prunes"
         ],
         "xaxis": "x",
         "y": [
          33
         ],
         "yaxis": "y"
        },
        {
         "alignmentgroup": "True",
         "hovertemplate": "color=dental care<br>x=%{x}<br>y=%{y}<extra></extra>",
         "legendgroup": "dental care",
         "marker": {
          "color": "#EF553B",
          "pattern": {
           "shape": ""
          }
         },
         "name": "dental care",
         "offsetgroup": "dental care",
         "orientation": "v",
         "showlegend": true,
         "textposition": "auto",
         "type": "bar",
         "x": [
          "dental care"
         ],
         "xaxis": "x",
         "y": [
          33
         ],
         "yaxis": "y"
        },
        {
         "alignmentgroup": "True",
         "hovertemplate": "color=rum<br>x=%{x}<br>y=%{y}<extra></extra>",
         "legendgroup": "rum",
         "marker": {
          "color": "#00cc96",
          "pattern": {
           "shape": ""
          }
         },
         "name": "rum",
         "offsetgroup": "rum",
         "orientation": "v",
         "showlegend": true,
         "textposition": "auto",
         "type": "bar",
         "x": [
          "rum"
         ],
         "xaxis": "x",
         "y": [
          32
         ],
         "yaxis": "y"
        },
        {
         "alignmentgroup": "True",
         "hovertemplate": "color=ketchup<br>x=%{x}<br>y=%{y}<extra></extra>",
         "legendgroup": "ketchup",
         "marker": {
          "color": "#ab63fa",
          "pattern": {
           "shape": ""
          }
         },
         "name": "ketchup",
         "offsetgroup": "ketchup",
         "orientation": "v",
         "showlegend": true,
         "textposition": "auto",
         "type": "bar",
         "x": [
          "ketchup"
         ],
         "xaxis": "x",
         "y": [
          32
         ],
         "yaxis": "y"
        },
        {
         "alignmentgroup": "True",
         "hovertemplate": "color=cleaner<br>x=%{x}<br>y=%{y}<extra></extra>",
         "legendgroup": "cleaner",
         "marker": {
          "color": "#FFA15A",
          "pattern": {
           "shape": ""
          }
         },
         "name": "cleaner",
         "offsetgroup": "cleaner",
         "orientation": "v",
         "showlegend": true,
         "textposition": "auto",
         "type": "bar",
         "x": [
          "cleaner"
         ],
         "xaxis": "x",
         "y": [
          31
         ],
         "yaxis": "y"
        },
        {
         "alignmentgroup": "True",
         "hovertemplate": "color=kitchen towels<br>x=%{x}<br>y=%{y}<extra></extra>",
         "legendgroup": "kitchen towels",
         "marker": {
          "color": "#19d3f3",
          "pattern": {
           "shape": ""
          }
         },
         "name": "kitchen towels",
         "offsetgroup": "kitchen towels",
         "orientation": "v",
         "showlegend": true,
         "textposition": "auto",
         "type": "bar",
         "x": [
          "kitchen towels"
         ],
         "xaxis": "x",
         "y": [
          30
         ],
         "yaxis": "y"
        },
        {
         "alignmentgroup": "True",
         "hovertemplate": "color=light bulbs<br>x=%{x}<br>y=%{y}<extra></extra>",
         "legendgroup": "light bulbs",
         "marker": {
          "color": "#FF6692",
          "pattern": {
           "shape": ""
          }
         },
         "name": "light bulbs",
         "offsetgroup": "light bulbs",
         "orientation": "v",
         "showlegend": true,
         "textposition": "auto",
         "type": "bar",
         "x": [
          "light bulbs"
         ],
         "xaxis": "x",
         "y": [
          29
         ],
         "yaxis": "y"
        },
        {
         "alignmentgroup": "True",
         "hovertemplate": "color=fish<br>x=%{x}<br>y=%{y}<extra></extra>",
         "legendgroup": "fish",
         "marker": {
          "color": "#B6E880",
          "pattern": {
           "shape": ""
          }
         },
         "name": "fish",
         "offsetgroup": "fish",
         "orientation": "v",
         "showlegend": true,
         "textposition": "auto",
         "type": "bar",
         "x": [
          "fish"
         ],
         "xaxis": "x",
         "y": [
          29
         ],
         "yaxis": "y"
        },
        {
         "alignmentgroup": "True",
         "hovertemplate": "color=artif. sweetener<br>x=%{x}<br>y=%{y}<extra></extra>",
         "legendgroup": "artif. sweetener",
         "marker": {
          "color": "#FF97FF",
          "pattern": {
           "shape": ""
          }
         },
         "name": "artif. sweetener",
         "offsetgroup": "artif. sweetener",
         "orientation": "v",
         "showlegend": true,
         "textposition": "auto",
         "type": "bar",
         "x": [
          "artif. sweetener"
         ],
         "xaxis": "x",
         "y": [
          29
         ],
         "yaxis": "y"
        },
        {
         "alignmentgroup": "True",
         "hovertemplate": "color=specialty fat<br>x=%{x}<br>y=%{y}<extra></extra>",
         "legendgroup": "specialty fat",
         "marker": {
          "color": "#FECB52",
          "pattern": {
           "shape": ""
          }
         },
         "name": "specialty fat",
         "offsetgroup": "specialty fat",
         "orientation": "v",
         "showlegend": true,
         "textposition": "auto",
         "type": "bar",
         "x": [
          "specialty fat"
         ],
         "xaxis": "x",
         "y": [
          29
         ],
         "yaxis": "y"
        },
        {
         "alignmentgroup": "True",
         "hovertemplate": "color=snack products<br>x=%{x}<br>y=%{y}<extra></extra>",
         "legendgroup": "snack products",
         "marker": {
          "color": "#636efa",
          "pattern": {
           "shape": ""
          }
         },
         "name": "snack products",
         "offsetgroup": "snack products",
         "orientation": "v",
         "showlegend": true,
         "textposition": "auto",
         "type": "bar",
         "x": [
          "snack products"
         ],
         "xaxis": "x",
         "y": [
          27
         ],
         "yaxis": "y"
        },
        {
         "alignmentgroup": "True",
         "hovertemplate": "color=tea<br>x=%{x}<br>y=%{y}<extra></extra>",
         "legendgroup": "tea",
         "marker": {
          "color": "#EF553B",
          "pattern": {
           "shape": ""
          }
         },
         "name": "tea",
         "offsetgroup": "tea",
         "orientation": "v",
         "showlegend": true,
         "textposition": "auto",
         "type": "bar",
         "x": [
          "tea"
         ],
         "xaxis": "x",
         "y": [
          27
         ],
         "yaxis": "y"
        },
        {
         "alignmentgroup": "True",
         "hovertemplate": "color=potato products<br>x=%{x}<br>y=%{y}<extra></extra>",
         "legendgroup": "potato products",
         "marker": {
          "color": "#00cc96",
          "pattern": {
           "shape": ""
          }
         },
         "name": "potato products",
         "offsetgroup": "potato products",
         "orientation": "v",
         "showlegend": true,
         "textposition": "auto",
         "type": "bar",
         "x": [
          "potato products"
         ],
         "xaxis": "x",
         "y": [
          23
         ],
         "yaxis": "y"
        },
        {
         "alignmentgroup": "True",
         "hovertemplate": "color=nut snack<br>x=%{x}<br>y=%{y}<extra></extra>",
         "legendgroup": "nut snack",
         "marker": {
          "color": "#ab63fa",
          "pattern": {
           "shape": ""
          }
         },
         "name": "nut snack",
         "offsetgroup": "nut snack",
         "orientation": "v",
         "showlegend": true,
         "textposition": "auto",
         "type": "bar",
         "x": [
          "nut snack"
         ],
         "xaxis": "x",
         "y": [
          22
         ],
         "yaxis": "y"
        },
        {
         "alignmentgroup": "True",
         "hovertemplate": "color=abrasive cleaner<br>x=%{x}<br>y=%{y}<extra></extra>",
         "legendgroup": "abrasive cleaner",
         "marker": {
          "color": "#FFA15A",
          "pattern": {
           "shape": ""
          }
         },
         "name": "abrasive cleaner",
         "offsetgroup": "abrasive cleaner",
         "orientation": "v",
         "showlegend": true,
         "textposition": "auto",
         "type": "bar",
         "x": [
          "abrasive cleaner"
         ],
         "xaxis": "x",
         "y": [
          22
         ],
         "yaxis": "y"
        },
        {
         "alignmentgroup": "True",
         "hovertemplate": "color=organic sausage<br>x=%{x}<br>y=%{y}<extra></extra>",
         "legendgroup": "organic sausage",
         "marker": {
          "color": "#19d3f3",
          "pattern": {
           "shape": ""
          }
         },
         "name": "organic sausage",
         "offsetgroup": "organic sausage",
         "orientation": "v",
         "showlegend": true,
         "textposition": "auto",
         "type": "bar",
         "x": [
          "organic sausage"
         ],
         "xaxis": "x",
         "y": [
          22
         ],
         "yaxis": "y"
        },
        {
         "alignmentgroup": "True",
         "hovertemplate": "color=tidbits<br>x=%{x}<br>y=%{y}<extra></extra>",
         "legendgroup": "tidbits",
         "marker": {
          "color": "#FF6692",
          "pattern": {
           "shape": ""
          }
         },
         "name": "tidbits",
         "offsetgroup": "tidbits",
         "orientation": "v",
         "showlegend": true,
         "textposition": "auto",
         "type": "bar",
         "x": [
          "tidbits"
         ],
         "xaxis": "x",
         "y": [
          22
         ],
         "yaxis": "y"
        },
        {
         "alignmentgroup": "True",
         "hovertemplate": "color=canned fruit<br>x=%{x}<br>y=%{y}<extra></extra>",
         "legendgroup": "canned fruit",
         "marker": {
          "color": "#B6E880",
          "pattern": {
           "shape": ""
          }
         },
         "name": "canned fruit",
         "offsetgroup": "canned fruit",
         "orientation": "v",
         "showlegend": true,
         "textposition": "auto",
         "type": "bar",
         "x": [
          "canned fruit"
         ],
         "xaxis": "x",
         "y": [
          21
         ],
         "yaxis": "y"
        },
        {
         "alignmentgroup": "True",
         "hovertemplate": "color=syrup<br>x=%{x}<br>y=%{y}<extra></extra>",
         "legendgroup": "syrup",
         "marker": {
          "color": "#FF97FF",
          "pattern": {
           "shape": ""
          }
         },
         "name": "syrup",
         "offsetgroup": "syrup",
         "orientation": "v",
         "showlegend": true,
         "textposition": "auto",
         "type": "bar",
         "x": [
          "syrup"
         ],
         "xaxis": "x",
         "y": [
          21
         ],
         "yaxis": "y"
        },
        {
         "alignmentgroup": "True",
         "hovertemplate": "color=skin care<br>x=%{x}<br>y=%{y}<extra></extra>",
         "legendgroup": "skin care",
         "marker": {
          "color": "#FECB52",
          "pattern": {
           "shape": ""
          }
         },
         "name": "skin care",
         "offsetgroup": "skin care",
         "orientation": "v",
         "showlegend": true,
         "textposition": "auto",
         "type": "bar",
         "x": [
          "skin care"
         ],
         "xaxis": "x",
         "y": [
          20
         ],
         "yaxis": "y"
        },
        {
         "alignmentgroup": "True",
         "hovertemplate": "color=soap<br>x=%{x}<br>y=%{y}<extra></extra>",
         "legendgroup": "soap",
         "marker": {
          "color": "#636efa",
          "pattern": {
           "shape": ""
          }
         },
         "name": "soap",
         "offsetgroup": "soap",
         "orientation": "v",
         "showlegend": true,
         "textposition": "auto",
         "type": "bar",
         "x": [
          "soap"
         ],
         "xaxis": "x",
         "y": [
          20
         ],
         "yaxis": "y"
        },
        {
         "alignmentgroup": "True",
         "hovertemplate": "color=prosecco<br>x=%{x}<br>y=%{y}<extra></extra>",
         "legendgroup": "prosecco",
         "marker": {
          "color": "#EF553B",
          "pattern": {
           "shape": ""
          }
         },
         "name": "prosecco",
         "offsetgroup": "prosecco",
         "orientation": "v",
         "showlegend": true,
         "textposition": "auto",
         "type": "bar",
         "x": [
          "prosecco"
         ],
         "xaxis": "x",
         "y": [
          19
         ],
         "yaxis": "y"
        },
        {
         "alignmentgroup": "True",
         "hovertemplate": "color=pudding powder<br>x=%{x}<br>y=%{y}<extra></extra>",
         "legendgroup": "pudding powder",
         "marker": {
          "color": "#00cc96",
          "pattern": {
           "shape": ""
          }
         },
         "name": "pudding powder",
         "offsetgroup": "pudding powder",
         "orientation": "v",
         "showlegend": true,
         "textposition": "auto",
         "type": "bar",
         "x": [
          "pudding powder"
         ],
         "xaxis": "x",
         "y": [
          17
         ],
         "yaxis": "y"
        },
        {
         "alignmentgroup": "True",
         "hovertemplate": "color=cookware<br>x=%{x}<br>y=%{y}<extra></extra>",
         "legendgroup": "cookware",
         "marker": {
          "color": "#ab63fa",
          "pattern": {
           "shape": ""
          }
         },
         "name": "cookware",
         "offsetgroup": "cookware",
         "orientation": "v",
         "showlegend": true,
         "textposition": "auto",
         "type": "bar",
         "x": [
          "cookware"
         ],
         "xaxis": "x",
         "y": [
          17
         ],
         "yaxis": "y"
        },
        {
         "alignmentgroup": "True",
         "hovertemplate": "color=bathroom cleaner<br>x=%{x}<br>y=%{y}<extra></extra>",
         "legendgroup": "bathroom cleaner",
         "marker": {
          "color": "#FFA15A",
          "pattern": {
           "shape": ""
          }
         },
         "name": "bathroom cleaner",
         "offsetgroup": "bathroom cleaner",
         "orientation": "v",
         "showlegend": true,
         "textposition": "auto",
         "type": "bar",
         "x": [
          "bathroom cleaner"
         ],
         "xaxis": "x",
         "y": [
          17
         ],
         "yaxis": "y"
        },
        {
         "alignmentgroup": "True",
         "hovertemplate": "color=flower soil/fertilizer<br>x=%{x}<br>y=%{y}<extra></extra>",
         "legendgroup": "flower soil/fertilizer",
         "marker": {
          "color": "#19d3f3",
          "pattern": {
           "shape": ""
          }
         },
         "name": "flower soil/fertilizer",
         "offsetgroup": "flower soil/fertilizer",
         "orientation": "v",
         "showlegend": true,
         "textposition": "auto",
         "type": "bar",
         "x": [
          "flower soil/fertilizer"
         ],
         "xaxis": "x",
         "y": [
          16
         ],
         "yaxis": "y"
        },
        {
         "alignmentgroup": "True",
         "hovertemplate": "color=cocoa drinks<br>x=%{x}<br>y=%{y}<extra></extra>",
         "legendgroup": "cocoa drinks",
         "marker": {
          "color": "#FF6692",
          "pattern": {
           "shape": ""
          }
         },
         "name": "cocoa drinks",
         "offsetgroup": "cocoa drinks",
         "orientation": "v",
         "showlegend": true,
         "textposition": "auto",
         "type": "bar",
         "x": [
          "cocoa drinks"
         ],
         "xaxis": "x",
         "y": [
          16
         ],
         "yaxis": "y"
        },
        {
         "alignmentgroup": "True",
         "hovertemplate": "color=cooking chocolate<br>x=%{x}<br>y=%{y}<extra></extra>",
         "legendgroup": "cooking chocolate",
         "marker": {
          "color": "#B6E880",
          "pattern": {
           "shape": ""
          }
         },
         "name": "cooking chocolate",
         "offsetgroup": "cooking chocolate",
         "orientation": "v",
         "showlegend": true,
         "textposition": "auto",
         "type": "bar",
         "x": [
          "cooking chocolate"
         ],
         "xaxis": "x",
         "y": [
          15
         ],
         "yaxis": "y"
        },
        {
         "alignmentgroup": "True",
         "hovertemplate": "color=ready soups<br>x=%{x}<br>y=%{y}<extra></extra>",
         "legendgroup": "ready soups",
         "marker": {
          "color": "#FF97FF",
          "pattern": {
           "shape": ""
          }
         },
         "name": "ready soups",
         "offsetgroup": "ready soups",
         "orientation": "v",
         "showlegend": true,
         "textposition": "auto",
         "type": "bar",
         "x": [
          "ready soups"
         ],
         "xaxis": "x",
         "y": [
          15
         ],
         "yaxis": "y"
        },
        {
         "alignmentgroup": "True",
         "hovertemplate": "color=honey<br>x=%{x}<br>y=%{y}<extra></extra>",
         "legendgroup": "honey",
         "marker": {
          "color": "#FECB52",
          "pattern": {
           "shape": ""
          }
         },
         "name": "honey",
         "offsetgroup": "honey",
         "orientation": "v",
         "showlegend": true,
         "textposition": "auto",
         "type": "bar",
         "x": [
          "honey"
         ],
         "xaxis": "x",
         "y": [
          13
         ],
         "yaxis": "y"
        },
        {
         "alignmentgroup": "True",
         "hovertemplate": "color=cream<br>x=%{x}<br>y=%{y}<extra></extra>",
         "legendgroup": "cream",
         "marker": {
          "color": "#636efa",
          "pattern": {
           "shape": ""
          }
         },
         "name": "cream",
         "offsetgroup": "cream",
         "orientation": "v",
         "showlegend": true,
         "textposition": "auto",
         "type": "bar",
         "x": [
          "cream"
         ],
         "xaxis": "x",
         "y": [
          12
         ],
         "yaxis": "y"
        },
        {
         "alignmentgroup": "True",
         "hovertemplate": "color=specialty vegetables<br>x=%{x}<br>y=%{y}<extra></extra>",
         "legendgroup": "specialty vegetables",
         "marker": {
          "color": "#EF553B",
          "pattern": {
           "shape": ""
          }
         },
         "name": "specialty vegetables",
         "offsetgroup": "specialty vegetables",
         "orientation": "v",
         "showlegend": true,
         "textposition": "auto",
         "type": "bar",
         "x": [
          "specialty vegetables"
         ],
         "xaxis": "x",
         "y": [
          11
         ],
         "yaxis": "y"
        },
        {
         "alignmentgroup": "True",
         "hovertemplate": "color=frozen fruits<br>x=%{x}<br>y=%{y}<extra></extra>",
         "legendgroup": "frozen fruits",
         "marker": {
          "color": "#00cc96",
          "pattern": {
           "shape": ""
          }
         },
         "name": "frozen fruits",
         "offsetgroup": "frozen fruits",
         "orientation": "v",
         "showlegend": true,
         "textposition": "auto",
         "type": "bar",
         "x": [
          "frozen fruits"
         ],
         "xaxis": "x",
         "y": [
          11
         ],
         "yaxis": "y"
        },
        {
         "alignmentgroup": "True",
         "hovertemplate": "color=organic products<br>x=%{x}<br>y=%{y}<extra></extra>",
         "legendgroup": "organic products",
         "marker": {
          "color": "#ab63fa",
          "pattern": {
           "shape": ""
          }
         },
         "name": "organic products",
         "offsetgroup": "organic products",
         "orientation": "v",
         "showlegend": true,
         "textposition": "auto",
         "type": "bar",
         "x": [
          "organic products"
         ],
         "xaxis": "x",
         "y": [
          10
         ],
         "yaxis": "y"
        },
        {
         "alignmentgroup": "True",
         "hovertemplate": "color=liqueur<br>x=%{x}<br>y=%{y}<extra></extra>",
         "legendgroup": "liqueur",
         "marker": {
          "color": "#FFA15A",
          "pattern": {
           "shape": ""
          }
         },
         "name": "liqueur",
         "offsetgroup": "liqueur",
         "orientation": "v",
         "showlegend": true,
         "textposition": "auto",
         "type": "bar",
         "x": [
          "liqueur"
         ],
         "xaxis": "x",
         "y": [
          9
         ],
         "yaxis": "y"
        },
        {
         "alignmentgroup": "True",
         "hovertemplate": "color=hair spray<br>x=%{x}<br>y=%{y}<extra></extra>",
         "legendgroup": "hair spray",
         "marker": {
          "color": "#19d3f3",
          "pattern": {
           "shape": ""
          }
         },
         "name": "hair spray",
         "offsetgroup": "hair spray",
         "orientation": "v",
         "showlegend": true,
         "textposition": "auto",
         "type": "bar",
         "x": [
          "hair spray"
         ],
         "xaxis": "x",
         "y": [
          9
         ],
         "yaxis": "y"
        },
        {
         "alignmentgroup": "True",
         "hovertemplate": "color=decalcifier<br>x=%{x}<br>y=%{y}<extra></extra>",
         "legendgroup": "decalcifier",
         "marker": {
          "color": "#FF6692",
          "pattern": {
           "shape": ""
          }
         },
         "name": "decalcifier",
         "offsetgroup": "decalcifier",
         "orientation": "v",
         "showlegend": true,
         "textposition": "auto",
         "type": "bar",
         "x": [
          "decalcifier"
         ],
         "xaxis": "x",
         "y": [
          9
         ],
         "yaxis": "y"
        },
        {
         "alignmentgroup": "True",
         "hovertemplate": "color=whisky<br>x=%{x}<br>y=%{y}<extra></extra>",
         "legendgroup": "whisky",
         "marker": {
          "color": "#B6E880",
          "pattern": {
           "shape": ""
          }
         },
         "name": "whisky",
         "offsetgroup": "whisky",
         "orientation": "v",
         "showlegend": true,
         "textposition": "auto",
         "type": "bar",
         "x": [
          "whisky"
         ],
         "xaxis": "x",
         "y": [
          8
         ],
         "yaxis": "y"
        },
        {
         "alignmentgroup": "True",
         "hovertemplate": "color=salad dressing<br>x=%{x}<br>y=%{y}<extra></extra>",
         "legendgroup": "salad dressing",
         "marker": {
          "color": "#FF97FF",
          "pattern": {
           "shape": ""
          }
         },
         "name": "salad dressing",
         "offsetgroup": "salad dressing",
         "orientation": "v",
         "showlegend": true,
         "textposition": "auto",
         "type": "bar",
         "x": [
          "salad dressing"
         ],
         "xaxis": "x",
         "y": [
          6
         ],
         "yaxis": "y"
        },
        {
         "alignmentgroup": "True",
         "hovertemplate": "color=make up remover<br>x=%{x}<br>y=%{y}<extra></extra>",
         "legendgroup": "make up remover",
         "marker": {
          "color": "#FECB52",
          "pattern": {
           "shape": ""
          }
         },
         "name": "make up remover",
         "offsetgroup": "make up remover",
         "orientation": "v",
         "showlegend": true,
         "textposition": "auto",
         "type": "bar",
         "x": [
          "make up remover"
         ],
         "xaxis": "x",
         "y": [
          5
         ],
         "yaxis": "y"
        },
        {
         "alignmentgroup": "True",
         "hovertemplate": "color=toilet cleaner<br>x=%{x}<br>y=%{y}<extra></extra>",
         "legendgroup": "toilet cleaner",
         "marker": {
          "color": "#636efa",
          "pattern": {
           "shape": ""
          }
         },
         "name": "toilet cleaner",
         "offsetgroup": "toilet cleaner",
         "orientation": "v",
         "showlegend": true,
         "textposition": "auto",
         "type": "bar",
         "x": [
          "toilet cleaner"
         ],
         "xaxis": "x",
         "y": [
          5
         ],
         "yaxis": "y"
        },
        {
         "alignmentgroup": "True",
         "hovertemplate": "color=frozen chicken<br>x=%{x}<br>y=%{y}<extra></extra>",
         "legendgroup": "frozen chicken",
         "marker": {
          "color": "#EF553B",
          "pattern": {
           "shape": ""
          }
         },
         "name": "frozen chicken",
         "offsetgroup": "frozen chicken",
         "orientation": "v",
         "showlegend": true,
         "textposition": "auto",
         "type": "bar",
         "x": [
          "frozen chicken"
         ],
         "xaxis": "x",
         "y": [
          5
         ],
         "yaxis": "y"
        },
        {
         "alignmentgroup": "True",
         "hovertemplate": "color=rubbing alcohol<br>x=%{x}<br>y=%{y}<extra></extra>",
         "legendgroup": "rubbing alcohol",
         "marker": {
          "color": "#00cc96",
          "pattern": {
           "shape": ""
          }
         },
         "name": "rubbing alcohol",
         "offsetgroup": "rubbing alcohol",
         "orientation": "v",
         "showlegend": true,
         "textposition": "auto",
         "type": "bar",
         "x": [
          "rubbing alcohol"
         ],
         "xaxis": "x",
         "y": [
          5
         ],
         "yaxis": "y"
        },
        {
         "alignmentgroup": "True",
         "hovertemplate": "color=bags<br>x=%{x}<br>y=%{y}<extra></extra>",
         "legendgroup": "bags",
         "marker": {
          "color": "#ab63fa",
          "pattern": {
           "shape": ""
          }
         },
         "name": "bags",
         "offsetgroup": "bags",
         "orientation": "v",
         "showlegend": true,
         "textposition": "auto",
         "type": "bar",
         "x": [
          "bags"
         ],
         "xaxis": "x",
         "y": [
          4
         ],
         "yaxis": "y"
        },
        {
         "alignmentgroup": "True",
         "hovertemplate": "color=baby cosmetics<br>x=%{x}<br>y=%{y}<extra></extra>",
         "legendgroup": "baby cosmetics",
         "marker": {
          "color": "#FFA15A",
          "pattern": {
           "shape": ""
          }
         },
         "name": "baby cosmetics",
         "offsetgroup": "baby cosmetics",
         "orientation": "v",
         "showlegend": true,
         "textposition": "auto",
         "type": "bar",
         "x": [
          "baby cosmetics"
         ],
         "xaxis": "x",
         "y": [
          3
         ],
         "yaxis": "y"
        },
        {
         "alignmentgroup": "True",
         "hovertemplate": "color=kitchen utensil<br>x=%{x}<br>y=%{y}<extra></extra>",
         "legendgroup": "kitchen utensil",
         "marker": {
          "color": "#19d3f3",
          "pattern": {
           "shape": ""
          }
         },
         "name": "kitchen utensil",
         "offsetgroup": "kitchen utensil",
         "orientation": "v",
         "showlegend": true,
         "textposition": "auto",
         "type": "bar",
         "x": [
          "kitchen utensil"
         ],
         "xaxis": "x",
         "y": [
          1
         ],
         "yaxis": "y"
        },
        {
         "alignmentgroup": "True",
         "hovertemplate": "color=preservation products<br>x=%{x}<br>y=%{y}<extra></extra>",
         "legendgroup": "preservation products",
         "marker": {
          "color": "#FF6692",
          "pattern": {
           "shape": ""
          }
         },
         "name": "preservation products",
         "offsetgroup": "preservation products",
         "orientation": "v",
         "showlegend": true,
         "textposition": "auto",
         "type": "bar",
         "x": [
          "preservation products"
         ],
         "xaxis": "x",
         "y": [
          1
         ],
         "yaxis": "y"
        }
       ],
       "layout": {
        "barmode": "relative",
        "font": {
         "color": "blue",
         "family": "Courier New"
        },
        "legend": {
         "title": {
          "font": {
           "color": "green"
          },
          "text": "itemDescription"
         },
         "tracegroupgap": 0
        },
        "margin": {
         "t": 60
        },
        "template": {
         "data": {
          "bar": [
           {
            "error_x": {
             "color": "#2a3f5f"
            },
            "error_y": {
             "color": "#2a3f5f"
            },
            "marker": {
             "line": {
              "color": "#E5ECF6",
              "width": 0.5
             },
             "pattern": {
              "fillmode": "overlay",
              "size": 10,
              "solidity": 0.2
             }
            },
            "type": "bar"
           }
          ],
          "barpolar": [
           {
            "marker": {
             "line": {
              "color": "#E5ECF6",
              "width": 0.5
             },
             "pattern": {
              "fillmode": "overlay",
              "size": 10,
              "solidity": 0.2
             }
            },
            "type": "barpolar"
           }
          ],
          "carpet": [
           {
            "aaxis": {
             "endlinecolor": "#2a3f5f",
             "gridcolor": "white",
             "linecolor": "white",
             "minorgridcolor": "white",
             "startlinecolor": "#2a3f5f"
            },
            "baxis": {
             "endlinecolor": "#2a3f5f",
             "gridcolor": "white",
             "linecolor": "white",
             "minorgridcolor": "white",
             "startlinecolor": "#2a3f5f"
            },
            "type": "carpet"
           }
          ],
          "choropleth": [
           {
            "colorbar": {
             "outlinewidth": 0,
             "ticks": ""
            },
            "type": "choropleth"
           }
          ],
          "contour": [
           {
            "colorbar": {
             "outlinewidth": 0,
             "ticks": ""
            },
            "colorscale": [
             [
              0,
              "#0d0887"
             ],
             [
              0.1111111111111111,
              "#46039f"
             ],
             [
              0.2222222222222222,
              "#7201a8"
             ],
             [
              0.3333333333333333,
              "#9c179e"
             ],
             [
              0.4444444444444444,
              "#bd3786"
             ],
             [
              0.5555555555555556,
              "#d8576b"
             ],
             [
              0.6666666666666666,
              "#ed7953"
             ],
             [
              0.7777777777777778,
              "#fb9f3a"
             ],
             [
              0.8888888888888888,
              "#fdca26"
             ],
             [
              1,
              "#f0f921"
             ]
            ],
            "type": "contour"
           }
          ],
          "contourcarpet": [
           {
            "colorbar": {
             "outlinewidth": 0,
             "ticks": ""
            },
            "type": "contourcarpet"
           }
          ],
          "heatmap": [
           {
            "colorbar": {
             "outlinewidth": 0,
             "ticks": ""
            },
            "colorscale": [
             [
              0,
              "#0d0887"
             ],
             [
              0.1111111111111111,
              "#46039f"
             ],
             [
              0.2222222222222222,
              "#7201a8"
             ],
             [
              0.3333333333333333,
              "#9c179e"
             ],
             [
              0.4444444444444444,
              "#bd3786"
             ],
             [
              0.5555555555555556,
              "#d8576b"
             ],
             [
              0.6666666666666666,
              "#ed7953"
             ],
             [
              0.7777777777777778,
              "#fb9f3a"
             ],
             [
              0.8888888888888888,
              "#fdca26"
             ],
             [
              1,
              "#f0f921"
             ]
            ],
            "type": "heatmap"
           }
          ],
          "heatmapgl": [
           {
            "colorbar": {
             "outlinewidth": 0,
             "ticks": ""
            },
            "colorscale": [
             [
              0,
              "#0d0887"
             ],
             [
              0.1111111111111111,
              "#46039f"
             ],
             [
              0.2222222222222222,
              "#7201a8"
             ],
             [
              0.3333333333333333,
              "#9c179e"
             ],
             [
              0.4444444444444444,
              "#bd3786"
             ],
             [
              0.5555555555555556,
              "#d8576b"
             ],
             [
              0.6666666666666666,
              "#ed7953"
             ],
             [
              0.7777777777777778,
              "#fb9f3a"
             ],
             [
              0.8888888888888888,
              "#fdca26"
             ],
             [
              1,
              "#f0f921"
             ]
            ],
            "type": "heatmapgl"
           }
          ],
          "histogram": [
           {
            "marker": {
             "pattern": {
              "fillmode": "overlay",
              "size": 10,
              "solidity": 0.2
             }
            },
            "type": "histogram"
           }
          ],
          "histogram2d": [
           {
            "colorbar": {
             "outlinewidth": 0,
             "ticks": ""
            },
            "colorscale": [
             [
              0,
              "#0d0887"
             ],
             [
              0.1111111111111111,
              "#46039f"
             ],
             [
              0.2222222222222222,
              "#7201a8"
             ],
             [
              0.3333333333333333,
              "#9c179e"
             ],
             [
              0.4444444444444444,
              "#bd3786"
             ],
             [
              0.5555555555555556,
              "#d8576b"
             ],
             [
              0.6666666666666666,
              "#ed7953"
             ],
             [
              0.7777777777777778,
              "#fb9f3a"
             ],
             [
              0.8888888888888888,
              "#fdca26"
             ],
             [
              1,
              "#f0f921"
             ]
            ],
            "type": "histogram2d"
           }
          ],
          "histogram2dcontour": [
           {
            "colorbar": {
             "outlinewidth": 0,
             "ticks": ""
            },
            "colorscale": [
             [
              0,
              "#0d0887"
             ],
             [
              0.1111111111111111,
              "#46039f"
             ],
             [
              0.2222222222222222,
              "#7201a8"
             ],
             [
              0.3333333333333333,
              "#9c179e"
             ],
             [
              0.4444444444444444,
              "#bd3786"
             ],
             [
              0.5555555555555556,
              "#d8576b"
             ],
             [
              0.6666666666666666,
              "#ed7953"
             ],
             [
              0.7777777777777778,
              "#fb9f3a"
             ],
             [
              0.8888888888888888,
              "#fdca26"
             ],
             [
              1,
              "#f0f921"
             ]
            ],
            "type": "histogram2dcontour"
           }
          ],
          "mesh3d": [
           {
            "colorbar": {
             "outlinewidth": 0,
             "ticks": ""
            },
            "type": "mesh3d"
           }
          ],
          "parcoords": [
           {
            "line": {
             "colorbar": {
              "outlinewidth": 0,
              "ticks": ""
             }
            },
            "type": "parcoords"
           }
          ],
          "pie": [
           {
            "automargin": true,
            "type": "pie"
           }
          ],
          "scatter": [
           {
            "fillpattern": {
             "fillmode": "overlay",
             "size": 10,
             "solidity": 0.2
            },
            "type": "scatter"
           }
          ],
          "scatter3d": [
           {
            "line": {
             "colorbar": {
              "outlinewidth": 0,
              "ticks": ""
             }
            },
            "marker": {
             "colorbar": {
              "outlinewidth": 0,
              "ticks": ""
             }
            },
            "type": "scatter3d"
           }
          ],
          "scattercarpet": [
           {
            "marker": {
             "colorbar": {
              "outlinewidth": 0,
              "ticks": ""
             }
            },
            "type": "scattercarpet"
           }
          ],
          "scattergeo": [
           {
            "marker": {
             "colorbar": {
              "outlinewidth": 0,
              "ticks": ""
             }
            },
            "type": "scattergeo"
           }
          ],
          "scattergl": [
           {
            "marker": {
             "colorbar": {
              "outlinewidth": 0,
              "ticks": ""
             }
            },
            "type": "scattergl"
           }
          ],
          "scattermapbox": [
           {
            "marker": {
             "colorbar": {
              "outlinewidth": 0,
              "ticks": ""
             }
            },
            "type": "scattermapbox"
           }
          ],
          "scatterpolar": [
           {
            "marker": {
             "colorbar": {
              "outlinewidth": 0,
              "ticks": ""
             }
            },
            "type": "scatterpolar"
           }
          ],
          "scatterpolargl": [
           {
            "marker": {
             "colorbar": {
              "outlinewidth": 0,
              "ticks": ""
             }
            },
            "type": "scatterpolargl"
           }
          ],
          "scatterternary": [
           {
            "marker": {
             "colorbar": {
              "outlinewidth": 0,
              "ticks": ""
             }
            },
            "type": "scatterternary"
           }
          ],
          "surface": [
           {
            "colorbar": {
             "outlinewidth": 0,
             "ticks": ""
            },
            "colorscale": [
             [
              0,
              "#0d0887"
             ],
             [
              0.1111111111111111,
              "#46039f"
             ],
             [
              0.2222222222222222,
              "#7201a8"
             ],
             [
              0.3333333333333333,
              "#9c179e"
             ],
             [
              0.4444444444444444,
              "#bd3786"
             ],
             [
              0.5555555555555556,
              "#d8576b"
             ],
             [
              0.6666666666666666,
              "#ed7953"
             ],
             [
              0.7777777777777778,
              "#fb9f3a"
             ],
             [
              0.8888888888888888,
              "#fdca26"
             ],
             [
              1,
              "#f0f921"
             ]
            ],
            "type": "surface"
           }
          ],
          "table": [
           {
            "cells": {
             "fill": {
              "color": "#EBF0F8"
             },
             "line": {
              "color": "white"
             }
            },
            "header": {
             "fill": {
              "color": "#C8D4E3"
             },
             "line": {
              "color": "white"
             }
            },
            "type": "table"
           }
          ]
         },
         "layout": {
          "annotationdefaults": {
           "arrowcolor": "#2a3f5f",
           "arrowhead": 0,
           "arrowwidth": 1
          },
          "autotypenumbers": "strict",
          "coloraxis": {
           "colorbar": {
            "outlinewidth": 0,
            "ticks": ""
           }
          },
          "colorscale": {
           "diverging": [
            [
             0,
             "#8e0152"
            ],
            [
             0.1,
             "#c51b7d"
            ],
            [
             0.2,
             "#de77ae"
            ],
            [
             0.3,
             "#f1b6da"
            ],
            [
             0.4,
             "#fde0ef"
            ],
            [
             0.5,
             "#f7f7f7"
            ],
            [
             0.6,
             "#e6f5d0"
            ],
            [
             0.7,
             "#b8e186"
            ],
            [
             0.8,
             "#7fbc41"
            ],
            [
             0.9,
             "#4d9221"
            ],
            [
             1,
             "#276419"
            ]
           ],
           "sequential": [
            [
             0,
             "#0d0887"
            ],
            [
             0.1111111111111111,
             "#46039f"
            ],
            [
             0.2222222222222222,
             "#7201a8"
            ],
            [
             0.3333333333333333,
             "#9c179e"
            ],
            [
             0.4444444444444444,
             "#bd3786"
            ],
            [
             0.5555555555555556,
             "#d8576b"
            ],
            [
             0.6666666666666666,
             "#ed7953"
            ],
            [
             0.7777777777777778,
             "#fb9f3a"
            ],
            [
             0.8888888888888888,
             "#fdca26"
            ],
            [
             1,
             "#f0f921"
            ]
           ],
           "sequentialminus": [
            [
             0,
             "#0d0887"
            ],
            [
             0.1111111111111111,
             "#46039f"
            ],
            [
             0.2222222222222222,
             "#7201a8"
            ],
            [
             0.3333333333333333,
             "#9c179e"
            ],
            [
             0.4444444444444444,
             "#bd3786"
            ],
            [
             0.5555555555555556,
             "#d8576b"
            ],
            [
             0.6666666666666666,
             "#ed7953"
            ],
            [
             0.7777777777777778,
             "#fb9f3a"
            ],
            [
             0.8888888888888888,
             "#fdca26"
            ],
            [
             1,
             "#f0f921"
            ]
           ]
          },
          "colorway": [
           "#636efa",
           "#EF553B",
           "#00cc96",
           "#ab63fa",
           "#FFA15A",
           "#19d3f3",
           "#FF6692",
           "#B6E880",
           "#FF97FF",
           "#FECB52"
          ],
          "font": {
           "color": "#2a3f5f"
          },
          "geo": {
           "bgcolor": "white",
           "lakecolor": "white",
           "landcolor": "#E5ECF6",
           "showlakes": true,
           "showland": true,
           "subunitcolor": "white"
          },
          "hoverlabel": {
           "align": "left"
          },
          "hovermode": "closest",
          "mapbox": {
           "style": "light"
          },
          "paper_bgcolor": "white",
          "plot_bgcolor": "#E5ECF6",
          "polar": {
           "angularaxis": {
            "gridcolor": "white",
            "linecolor": "white",
            "ticks": ""
           },
           "bgcolor": "#E5ECF6",
           "radialaxis": {
            "gridcolor": "white",
            "linecolor": "white",
            "ticks": ""
           }
          },
          "scene": {
           "xaxis": {
            "backgroundcolor": "#E5ECF6",
            "gridcolor": "white",
            "gridwidth": 2,
            "linecolor": "white",
            "showbackground": true,
            "ticks": "",
            "zerolinecolor": "white"
           },
           "yaxis": {
            "backgroundcolor": "#E5ECF6",
            "gridcolor": "white",
            "gridwidth": 2,
            "linecolor": "white",
            "showbackground": true,
            "ticks": "",
            "zerolinecolor": "white"
           },
           "zaxis": {
            "backgroundcolor": "#E5ECF6",
            "gridcolor": "white",
            "gridwidth": 2,
            "linecolor": "white",
            "showbackground": true,
            "ticks": "",
            "zerolinecolor": "white"
           }
          },
          "shapedefaults": {
           "line": {
            "color": "#2a3f5f"
           }
          },
          "ternary": {
           "aaxis": {
            "gridcolor": "white",
            "linecolor": "white",
            "ticks": ""
           },
           "baxis": {
            "gridcolor": "white",
            "linecolor": "white",
            "ticks": ""
           },
           "bgcolor": "#E5ECF6",
           "caxis": {
            "gridcolor": "white",
            "linecolor": "white",
            "ticks": ""
           }
          },
          "title": {
           "x": 0.05
          },
          "xaxis": {
           "automargin": true,
           "gridcolor": "white",
           "linecolor": "white",
           "ticks": "",
           "title": {
            "standoff": 15
           },
           "zerolinecolor": "white",
           "zerolinewidth": 2
          },
          "yaxis": {
           "automargin": true,
           "gridcolor": "white",
           "linecolor": "white",
           "ticks": "",
           "title": {
            "standoff": 15
           },
           "zerolinecolor": "white",
           "zerolinewidth": 2
          }
         }
        },
        "title": {
         "font": {
          "color": "red",
          "family": "Times New Roman"
         }
        },
        "xaxis": {
         "anchor": "y",
         "domain": [
          0,
          1
         ],
         "title": {
          "text": "itemDescription"
         }
        },
        "yaxis": {
         "anchor": "x",
         "domain": [
          0,
          1
         ],
         "title": {
          "text": "Count"
         }
        }
       }
      }
     },
     "metadata": {},
     "output_type": "display_data"
    }
   ],
   "source": [
    "bar_plot(df,'itemDescription')"
   ]
  },
  {
   "cell_type": "markdown",
   "metadata": {},
   "source": [
    "# get transactions"
   ]
  },
  {
   "cell_type": "code",
   "execution_count": 10,
   "metadata": {},
   "outputs": [
    {
     "data": {
      "text/plain": [
       "Member_number  Date      \n",
       "1000           15-03-2015        sausage,whole milk,semi-finished bread,yogurt\n",
       "               24-06-2014                        whole milk,pastry,salty snack\n",
       "               24-07-2015                          canned beer,misc. beverages\n",
       "               25-11-2015                             sausage,hygiene articles\n",
       "               27-05-2015                              soda,pickled vegetables\n",
       "                                                   ...                        \n",
       "4999           24-01-2015    tropical fruit,berries,other vegetables,yogurt...\n",
       "               26-12-2015                                  bottled water,herbs\n",
       "5000           09-03-2014                         fruit/vegetable juice,onions\n",
       "               10-02-2015             soda,root vegetables,semi-finished bread\n",
       "               16-11-2014                        bottled beer,other vegetables\n",
       "Name: itemDescription, Length: 14963, dtype: object"
      ]
     },
     "execution_count": 10,
     "metadata": {},
     "output_type": "execute_result"
    }
   ],
   "source": [
    "data_group = df.groupby(['Member_number', 'Date'])['itemDescription'].apply(lambda x: ','.join(x))\n",
    "data_group"
   ]
  },
  {
   "cell_type": "code",
   "execution_count": 11,
   "metadata": {},
   "outputs": [],
   "source": [
    "# # If you want to come up with all the purchases that a person has purchased and This is an error in this example.\n",
    "# new_df = df.groupby(['Member_number', 'itemDescription']).size().unstack().fillna(0)"
   ]
  },
  {
   "cell_type": "code",
   "execution_count": 12,
   "metadata": {},
   "outputs": [
    {
     "data": {
      "text/html": [
       "<div>\n",
       "<style scoped>\n",
       "    .dataframe tbody tr th:only-of-type {\n",
       "        vertical-align: middle;\n",
       "    }\n",
       "\n",
       "    .dataframe tbody tr th {\n",
       "        vertical-align: top;\n",
       "    }\n",
       "\n",
       "    .dataframe thead th {\n",
       "        text-align: right;\n",
       "    }\n",
       "</style>\n",
       "<table border=\"1\" class=\"dataframe\">\n",
       "  <thead>\n",
       "    <tr style=\"text-align: right;\">\n",
       "      <th></th>\n",
       "      <th>itemDescription</th>\n",
       "    </tr>\n",
       "  </thead>\n",
       "  <tbody>\n",
       "    <tr>\n",
       "      <th>0</th>\n",
       "      <td>sausage,whole milk,semi-finished bread,yogurt</td>\n",
       "    </tr>\n",
       "    <tr>\n",
       "      <th>1</th>\n",
       "      <td>whole milk,pastry,salty snack</td>\n",
       "    </tr>\n",
       "    <tr>\n",
       "      <th>2</th>\n",
       "      <td>canned beer,misc. beverages</td>\n",
       "    </tr>\n",
       "    <tr>\n",
       "      <th>3</th>\n",
       "      <td>sausage,hygiene articles</td>\n",
       "    </tr>\n",
       "    <tr>\n",
       "      <th>4</th>\n",
       "      <td>soda,pickled vegetables</td>\n",
       "    </tr>\n",
       "    <tr>\n",
       "      <th>...</th>\n",
       "      <td>...</td>\n",
       "    </tr>\n",
       "    <tr>\n",
       "      <th>14958</th>\n",
       "      <td>tropical fruit,berries,other vegetables,yogurt...</td>\n",
       "    </tr>\n",
       "    <tr>\n",
       "      <th>14959</th>\n",
       "      <td>bottled water,herbs</td>\n",
       "    </tr>\n",
       "    <tr>\n",
       "      <th>14960</th>\n",
       "      <td>fruit/vegetable juice,onions</td>\n",
       "    </tr>\n",
       "    <tr>\n",
       "      <th>14961</th>\n",
       "      <td>soda,root vegetables,semi-finished bread</td>\n",
       "    </tr>\n",
       "    <tr>\n",
       "      <th>14962</th>\n",
       "      <td>bottled beer,other vegetables</td>\n",
       "    </tr>\n",
       "  </tbody>\n",
       "</table>\n",
       "<p>14963 rows × 1 columns</p>\n",
       "</div>"
      ],
      "text/plain": [
       "                                         itemDescription\n",
       "0          sausage,whole milk,semi-finished bread,yogurt\n",
       "1                          whole milk,pastry,salty snack\n",
       "2                            canned beer,misc. beverages\n",
       "3                               sausage,hygiene articles\n",
       "4                                soda,pickled vegetables\n",
       "...                                                  ...\n",
       "14958  tropical fruit,berries,other vegetables,yogurt...\n",
       "14959                                bottled water,herbs\n",
       "14960                       fruit/vegetable juice,onions\n",
       "14961           soda,root vegetables,semi-finished bread\n",
       "14962                      bottled beer,other vegetables\n",
       "\n",
       "[14963 rows x 1 columns]"
      ]
     },
     "execution_count": 12,
     "metadata": {},
     "output_type": "execute_result"
    }
   ],
   "source": [
    "df_group = pd.DataFrame(data_group).reset_index()\n",
    "df_group.drop(['Member_number', 'Date'], axis=1, inplace=True)\n",
    "df_group"
   ]
  },
  {
   "cell_type": "code",
   "execution_count": 13,
   "metadata": {},
   "outputs": [
    {
     "name": "stdout",
     "output_type": "stream",
     "text": [
      "(14963,)\n"
     ]
    },
    {
     "data": {
      "text/plain": [
       "0    [sausage, whole milk, semi-finished bread, yog...\n",
       "1                    [whole milk, pastry, salty snack]\n",
       "2                       [canned beer, misc. beverages]\n",
       "Name: itemDescription, dtype: object"
      ]
     },
     "execution_count": 13,
     "metadata": {},
     "output_type": "execute_result"
    }
   ],
   "source": [
    "transactions = df_group['itemDescription'].apply(lambda x : x.split(','))\n",
    "print(transactions.shape)\n",
    "transactions.head(3)"
   ]
  },
  {
   "cell_type": "code",
   "execution_count": 14,
   "metadata": {},
   "outputs": [
    {
     "data": {
      "text/plain": [
       "['sausage', 'whole milk', 'semi-finished bread', 'yogurt']"
      ]
     },
     "execution_count": 14,
     "metadata": {},
     "output_type": "execute_result"
    }
   ],
   "source": [
    "transactions[0]"
   ]
  },
  {
   "cell_type": "code",
   "execution_count": 15,
   "metadata": {},
   "outputs": [
    {
     "name": "stdout",
     "output_type": "stream",
     "text": [
      "(14963, 167)\n"
     ]
    },
    {
     "data": {
      "text/html": [
       "<div>\n",
       "<style scoped>\n",
       "    .dataframe tbody tr th:only-of-type {\n",
       "        vertical-align: middle;\n",
       "    }\n",
       "\n",
       "    .dataframe tbody tr th {\n",
       "        vertical-align: top;\n",
       "    }\n",
       "\n",
       "    .dataframe thead th {\n",
       "        text-align: right;\n",
       "    }\n",
       "</style>\n",
       "<table border=\"1\" class=\"dataframe\">\n",
       "  <thead>\n",
       "    <tr style=\"text-align: right;\">\n",
       "      <th></th>\n",
       "      <th>Instant food products</th>\n",
       "      <th>UHT-milk</th>\n",
       "      <th>abrasive cleaner</th>\n",
       "      <th>artif. sweetener</th>\n",
       "      <th>baby cosmetics</th>\n",
       "      <th>bags</th>\n",
       "      <th>baking powder</th>\n",
       "      <th>bathroom cleaner</th>\n",
       "      <th>beef</th>\n",
       "      <th>berries</th>\n",
       "      <th>...</th>\n",
       "      <th>turkey</th>\n",
       "      <th>vinegar</th>\n",
       "      <th>waffles</th>\n",
       "      <th>whipped/sour cream</th>\n",
       "      <th>whisky</th>\n",
       "      <th>white bread</th>\n",
       "      <th>white wine</th>\n",
       "      <th>whole milk</th>\n",
       "      <th>yogurt</th>\n",
       "      <th>zwieback</th>\n",
       "    </tr>\n",
       "  </thead>\n",
       "  <tbody>\n",
       "    <tr>\n",
       "      <th>0</th>\n",
       "      <td>False</td>\n",
       "      <td>False</td>\n",
       "      <td>False</td>\n",
       "      <td>False</td>\n",
       "      <td>False</td>\n",
       "      <td>False</td>\n",
       "      <td>False</td>\n",
       "      <td>False</td>\n",
       "      <td>False</td>\n",
       "      <td>False</td>\n",
       "      <td>...</td>\n",
       "      <td>False</td>\n",
       "      <td>False</td>\n",
       "      <td>False</td>\n",
       "      <td>False</td>\n",
       "      <td>False</td>\n",
       "      <td>False</td>\n",
       "      <td>False</td>\n",
       "      <td>True</td>\n",
       "      <td>True</td>\n",
       "      <td>False</td>\n",
       "    </tr>\n",
       "    <tr>\n",
       "      <th>1</th>\n",
       "      <td>False</td>\n",
       "      <td>False</td>\n",
       "      <td>False</td>\n",
       "      <td>False</td>\n",
       "      <td>False</td>\n",
       "      <td>False</td>\n",
       "      <td>False</td>\n",
       "      <td>False</td>\n",
       "      <td>False</td>\n",
       "      <td>False</td>\n",
       "      <td>...</td>\n",
       "      <td>False</td>\n",
       "      <td>False</td>\n",
       "      <td>False</td>\n",
       "      <td>False</td>\n",
       "      <td>False</td>\n",
       "      <td>False</td>\n",
       "      <td>False</td>\n",
       "      <td>True</td>\n",
       "      <td>False</td>\n",
       "      <td>False</td>\n",
       "    </tr>\n",
       "    <tr>\n",
       "      <th>2</th>\n",
       "      <td>False</td>\n",
       "      <td>False</td>\n",
       "      <td>False</td>\n",
       "      <td>False</td>\n",
       "      <td>False</td>\n",
       "      <td>False</td>\n",
       "      <td>False</td>\n",
       "      <td>False</td>\n",
       "      <td>False</td>\n",
       "      <td>False</td>\n",
       "      <td>...</td>\n",
       "      <td>False</td>\n",
       "      <td>False</td>\n",
       "      <td>False</td>\n",
       "      <td>False</td>\n",
       "      <td>False</td>\n",
       "      <td>False</td>\n",
       "      <td>False</td>\n",
       "      <td>False</td>\n",
       "      <td>False</td>\n",
       "      <td>False</td>\n",
       "    </tr>\n",
       "  </tbody>\n",
       "</table>\n",
       "<p>3 rows × 167 columns</p>\n",
       "</div>"
      ],
      "text/plain": [
       "   Instant food products  UHT-milk  abrasive cleaner  artif. sweetener  \\\n",
       "0                  False     False             False             False   \n",
       "1                  False     False             False             False   \n",
       "2                  False     False             False             False   \n",
       "\n",
       "   baby cosmetics   bags  baking powder  bathroom cleaner   beef  berries  \\\n",
       "0           False  False          False             False  False    False   \n",
       "1           False  False          False             False  False    False   \n",
       "2           False  False          False             False  False    False   \n",
       "\n",
       "   ...  turkey  vinegar  waffles  whipped/sour cream  whisky  white bread  \\\n",
       "0  ...   False    False    False               False   False        False   \n",
       "1  ...   False    False    False               False   False        False   \n",
       "2  ...   False    False    False               False   False        False   \n",
       "\n",
       "   white wine  whole milk  yogurt  zwieback  \n",
       "0       False        True    True     False  \n",
       "1       False        True   False     False  \n",
       "2       False       False   False     False  \n",
       "\n",
       "[3 rows x 167 columns]"
      ]
     },
     "execution_count": 15,
     "metadata": {},
     "output_type": "execute_result"
    }
   ],
   "source": [
    "te_df = transaction_to_df(transactions)\n",
    "print(te_df.shape)\n",
    "te_df.head(3)"
   ]
  },
  {
   "cell_type": "markdown",
   "metadata": {},
   "source": [
    "# association_rules with apriori"
   ]
  },
  {
   "cell_type": "code",
   "execution_count": 16,
   "metadata": {},
   "outputs": [
    {
     "name": "stdout",
     "output_type": "stream",
     "text": [
      "Processing 28 combinations | Sampling itemset size 4e 3\n"
     ]
    }
   ],
   "source": [
    "freq_items, rules = association_rules_apriori(te_df, min_support = 0.001, min_threshold = 0.001, metric = 'lift')"
   ]
  },
  {
   "cell_type": "code",
   "execution_count": 17,
   "metadata": {},
   "outputs": [
    {
     "name": "stdout",
     "output_type": "stream",
     "text": [
      "(750, 3)\n"
     ]
    },
    {
     "data": {
      "text/html": [
       "<div>\n",
       "<style scoped>\n",
       "    .dataframe tbody tr th:only-of-type {\n",
       "        vertical-align: middle;\n",
       "    }\n",
       "\n",
       "    .dataframe tbody tr th {\n",
       "        vertical-align: top;\n",
       "    }\n",
       "\n",
       "    .dataframe thead th {\n",
       "        text-align: right;\n",
       "    }\n",
       "</style>\n",
       "<table border=\"1\" class=\"dataframe\">\n",
       "  <thead>\n",
       "    <tr style=\"text-align: right;\">\n",
       "      <th></th>\n",
       "      <th>support</th>\n",
       "      <th>itemsets</th>\n",
       "      <th>length</th>\n",
       "    </tr>\n",
       "  </thead>\n",
       "  <tbody>\n",
       "    <tr>\n",
       "      <th>0</th>\n",
       "      <td>0.004010</td>\n",
       "      <td>(Instant food products)</td>\n",
       "      <td>1</td>\n",
       "    </tr>\n",
       "    <tr>\n",
       "      <th>1</th>\n",
       "      <td>0.021386</td>\n",
       "      <td>(UHT-milk)</td>\n",
       "      <td>1</td>\n",
       "    </tr>\n",
       "    <tr>\n",
       "      <th>2</th>\n",
       "      <td>0.001470</td>\n",
       "      <td>(abrasive cleaner)</td>\n",
       "      <td>1</td>\n",
       "    </tr>\n",
       "  </tbody>\n",
       "</table>\n",
       "</div>"
      ],
      "text/plain": [
       "    support                 itemsets  length\n",
       "0  0.004010  (Instant food products)       1\n",
       "1  0.021386               (UHT-milk)       1\n",
       "2  0.001470       (abrasive cleaner)       1"
      ]
     },
     "execution_count": 17,
     "metadata": {},
     "output_type": "execute_result"
    }
   ],
   "source": [
    "print(freq_items.shape)\n",
    "freq_items.head(3)"
   ]
  },
  {
   "cell_type": "code",
   "execution_count": 18,
   "metadata": {},
   "outputs": [
    {
     "name": "stdout",
     "output_type": "stream",
     "text": [
      "(1238, 10)\n"
     ]
    },
    {
     "data": {
      "text/html": [
       "<div>\n",
       "<style scoped>\n",
       "    .dataframe tbody tr th:only-of-type {\n",
       "        vertical-align: middle;\n",
       "    }\n",
       "\n",
       "    .dataframe tbody tr th {\n",
       "        vertical-align: top;\n",
       "    }\n",
       "\n",
       "    .dataframe thead th {\n",
       "        text-align: right;\n",
       "    }\n",
       "</style>\n",
       "<table border=\"1\" class=\"dataframe\">\n",
       "  <thead>\n",
       "    <tr style=\"text-align: right;\">\n",
       "      <th></th>\n",
       "      <th>antecedents</th>\n",
       "      <th>consequents</th>\n",
       "      <th>antecedent support</th>\n",
       "      <th>consequent support</th>\n",
       "      <th>support</th>\n",
       "      <th>confidence</th>\n",
       "      <th>lift</th>\n",
       "      <th>leverage</th>\n",
       "      <th>conviction</th>\n",
       "      <th>zhangs_metric</th>\n",
       "    </tr>\n",
       "  </thead>\n",
       "  <tbody>\n",
       "    <tr>\n",
       "      <th>0</th>\n",
       "      <td>(bottled water)</td>\n",
       "      <td>(UHT-milk)</td>\n",
       "      <td>0.060683</td>\n",
       "      <td>0.021386</td>\n",
       "      <td>0.001069</td>\n",
       "      <td>0.017621</td>\n",
       "      <td>0.823954</td>\n",
       "      <td>-0.000228</td>\n",
       "      <td>0.996168</td>\n",
       "      <td>-0.185312</td>\n",
       "    </tr>\n",
       "    <tr>\n",
       "      <th>1</th>\n",
       "      <td>(UHT-milk)</td>\n",
       "      <td>(bottled water)</td>\n",
       "      <td>0.021386</td>\n",
       "      <td>0.060683</td>\n",
       "      <td>0.001069</td>\n",
       "      <td>0.050000</td>\n",
       "      <td>0.823954</td>\n",
       "      <td>-0.000228</td>\n",
       "      <td>0.988755</td>\n",
       "      <td>-0.179204</td>\n",
       "    </tr>\n",
       "    <tr>\n",
       "      <th>2</th>\n",
       "      <td>(UHT-milk)</td>\n",
       "      <td>(other vegetables)</td>\n",
       "      <td>0.021386</td>\n",
       "      <td>0.122101</td>\n",
       "      <td>0.002139</td>\n",
       "      <td>0.100000</td>\n",
       "      <td>0.818993</td>\n",
       "      <td>-0.000473</td>\n",
       "      <td>0.975443</td>\n",
       "      <td>-0.184234</td>\n",
       "    </tr>\n",
       "  </tbody>\n",
       "</table>\n",
       "</div>"
      ],
      "text/plain": [
       "       antecedents         consequents  antecedent support  \\\n",
       "0  (bottled water)          (UHT-milk)            0.060683   \n",
       "1       (UHT-milk)     (bottled water)            0.021386   \n",
       "2       (UHT-milk)  (other vegetables)            0.021386   \n",
       "\n",
       "   consequent support   support  confidence      lift  leverage  conviction  \\\n",
       "0            0.021386  0.001069    0.017621  0.823954 -0.000228    0.996168   \n",
       "1            0.060683  0.001069    0.050000  0.823954 -0.000228    0.988755   \n",
       "2            0.122101  0.002139    0.100000  0.818993 -0.000473    0.975443   \n",
       "\n",
       "   zhangs_metric  \n",
       "0      -0.185312  \n",
       "1      -0.179204  \n",
       "2      -0.184234  "
      ]
     },
     "execution_count": 18,
     "metadata": {},
     "output_type": "execute_result"
    }
   ],
   "source": [
    "print(rules.shape)\n",
    "rules.head(3)"
   ]
  },
  {
   "cell_type": "code",
   "execution_count": 19,
   "metadata": {},
   "outputs": [
    {
     "data": {
      "text/html": [
       "<div>\n",
       "<style scoped>\n",
       "    .dataframe tbody tr th:only-of-type {\n",
       "        vertical-align: middle;\n",
       "    }\n",
       "\n",
       "    .dataframe tbody tr th {\n",
       "        vertical-align: top;\n",
       "    }\n",
       "\n",
       "    .dataframe thead th {\n",
       "        text-align: right;\n",
       "    }\n",
       "</style>\n",
       "<table border=\"1\" class=\"dataframe\">\n",
       "  <thead>\n",
       "    <tr style=\"text-align: right;\">\n",
       "      <th></th>\n",
       "      <th>antecedents</th>\n",
       "      <th>consequents</th>\n",
       "      <th>antecedent support</th>\n",
       "      <th>consequent support</th>\n",
       "      <th>support</th>\n",
       "      <th>confidence</th>\n",
       "      <th>lift</th>\n",
       "      <th>leverage</th>\n",
       "      <th>conviction</th>\n",
       "      <th>zhangs_metric</th>\n",
       "    </tr>\n",
       "  </thead>\n",
       "  <tbody>\n",
       "    <tr>\n",
       "      <th>1237</th>\n",
       "      <td>(sausage)</td>\n",
       "      <td>(yogurt, whole milk)</td>\n",
       "      <td>0.060349</td>\n",
       "      <td>0.011161</td>\n",
       "      <td>0.001470</td>\n",
       "      <td>0.024363</td>\n",
       "      <td>2.182917</td>\n",
       "      <td>0.000797</td>\n",
       "      <td>1.013532</td>\n",
       "      <td>0.576701</td>\n",
       "    </tr>\n",
       "    <tr>\n",
       "      <th>1232</th>\n",
       "      <td>(yogurt, whole milk)</td>\n",
       "      <td>(sausage)</td>\n",
       "      <td>0.011161</td>\n",
       "      <td>0.060349</td>\n",
       "      <td>0.001470</td>\n",
       "      <td>0.131737</td>\n",
       "      <td>2.182917</td>\n",
       "      <td>0.000797</td>\n",
       "      <td>1.082219</td>\n",
       "      <td>0.548014</td>\n",
       "    </tr>\n",
       "    <tr>\n",
       "      <th>1234</th>\n",
       "      <td>(whole milk, sausage)</td>\n",
       "      <td>(yogurt)</td>\n",
       "      <td>0.008955</td>\n",
       "      <td>0.085879</td>\n",
       "      <td>0.001470</td>\n",
       "      <td>0.164179</td>\n",
       "      <td>1.911760</td>\n",
       "      <td>0.000701</td>\n",
       "      <td>1.093681</td>\n",
       "      <td>0.481231</td>\n",
       "    </tr>\n",
       "    <tr>\n",
       "      <th>1235</th>\n",
       "      <td>(yogurt)</td>\n",
       "      <td>(whole milk, sausage)</td>\n",
       "      <td>0.085879</td>\n",
       "      <td>0.008955</td>\n",
       "      <td>0.001470</td>\n",
       "      <td>0.017121</td>\n",
       "      <td>1.911760</td>\n",
       "      <td>0.000701</td>\n",
       "      <td>1.008307</td>\n",
       "      <td>0.521727</td>\n",
       "    </tr>\n",
       "    <tr>\n",
       "      <th>474</th>\n",
       "      <td>(citrus fruit)</td>\n",
       "      <td>(specialty chocolate)</td>\n",
       "      <td>0.053131</td>\n",
       "      <td>0.015973</td>\n",
       "      <td>0.001403</td>\n",
       "      <td>0.026415</td>\n",
       "      <td>1.653762</td>\n",
       "      <td>0.000555</td>\n",
       "      <td>1.010726</td>\n",
       "      <td>0.417500</td>\n",
       "    </tr>\n",
       "  </tbody>\n",
       "</table>\n",
       "</div>"
      ],
      "text/plain": [
       "                antecedents            consequents  antecedent support  \\\n",
       "1237              (sausage)   (yogurt, whole milk)            0.060349   \n",
       "1232   (yogurt, whole milk)              (sausage)            0.011161   \n",
       "1234  (whole milk, sausage)               (yogurt)            0.008955   \n",
       "1235               (yogurt)  (whole milk, sausage)            0.085879   \n",
       "474          (citrus fruit)  (specialty chocolate)            0.053131   \n",
       "\n",
       "      consequent support   support  confidence      lift  leverage  \\\n",
       "1237            0.011161  0.001470    0.024363  2.182917  0.000797   \n",
       "1232            0.060349  0.001470    0.131737  2.182917  0.000797   \n",
       "1234            0.085879  0.001470    0.164179  1.911760  0.000701   \n",
       "1235            0.008955  0.001470    0.017121  1.911760  0.000701   \n",
       "474             0.015973  0.001403    0.026415  1.653762  0.000555   \n",
       "\n",
       "      conviction  zhangs_metric  \n",
       "1237    1.013532       0.576701  \n",
       "1232    1.082219       0.548014  \n",
       "1234    1.093681       0.481231  \n",
       "1235    1.008307       0.521727  \n",
       "474     1.010726       0.417500  "
      ]
     },
     "execution_count": 19,
     "metadata": {},
     "output_type": "execute_result"
    }
   ],
   "source": [
    "rules.sort_values('lift',ascending = False).head(5)"
   ]
  },
  {
   "cell_type": "code",
   "execution_count": 20,
   "metadata": {},
   "outputs": [
    {
     "data": {
      "text/html": [
       "<div>\n",
       "<style scoped>\n",
       "    .dataframe tbody tr th:only-of-type {\n",
       "        vertical-align: middle;\n",
       "    }\n",
       "\n",
       "    .dataframe tbody tr th {\n",
       "        vertical-align: top;\n",
       "    }\n",
       "\n",
       "    .dataframe thead th {\n",
       "        text-align: right;\n",
       "    }\n",
       "</style>\n",
       "<table border=\"1\" class=\"dataframe\">\n",
       "  <thead>\n",
       "    <tr style=\"text-align: right;\">\n",
       "      <th></th>\n",
       "      <th>antecedents</th>\n",
       "      <th>consequents</th>\n",
       "      <th>antecedent support</th>\n",
       "      <th>consequent support</th>\n",
       "      <th>support</th>\n",
       "      <th>confidence</th>\n",
       "      <th>lift</th>\n",
       "      <th>leverage</th>\n",
       "      <th>conviction</th>\n",
       "      <th>zhangs_metric</th>\n",
       "    </tr>\n",
       "  </thead>\n",
       "  <tbody>\n",
       "    <tr>\n",
       "      <th>1233</th>\n",
       "      <td>(yogurt, sausage)</td>\n",
       "      <td>(whole milk)</td>\n",
       "      <td>0.005748</td>\n",
       "      <td>0.157923</td>\n",
       "      <td>0.001470</td>\n",
       "      <td>0.255814</td>\n",
       "      <td>1.619866</td>\n",
       "      <td>0.000563</td>\n",
       "      <td>1.131541</td>\n",
       "      <td>0.384877</td>\n",
       "    </tr>\n",
       "    <tr>\n",
       "      <th>1209</th>\n",
       "      <td>(rolls/buns, sausage)</td>\n",
       "      <td>(whole milk)</td>\n",
       "      <td>0.005347</td>\n",
       "      <td>0.157923</td>\n",
       "      <td>0.001136</td>\n",
       "      <td>0.212500</td>\n",
       "      <td>1.345594</td>\n",
       "      <td>0.000292</td>\n",
       "      <td>1.069304</td>\n",
       "      <td>0.258214</td>\n",
       "    </tr>\n",
       "    <tr>\n",
       "      <th>1227</th>\n",
       "      <td>(sausage, soda)</td>\n",
       "      <td>(whole milk)</td>\n",
       "      <td>0.005948</td>\n",
       "      <td>0.157923</td>\n",
       "      <td>0.001069</td>\n",
       "      <td>0.179775</td>\n",
       "      <td>1.138374</td>\n",
       "      <td>0.000130</td>\n",
       "      <td>1.026642</td>\n",
       "      <td>0.122281</td>\n",
       "    </tr>\n",
       "    <tr>\n",
       "      <th>1108</th>\n",
       "      <td>(semi-finished bread)</td>\n",
       "      <td>(whole milk)</td>\n",
       "      <td>0.009490</td>\n",
       "      <td>0.157923</td>\n",
       "      <td>0.001671</td>\n",
       "      <td>0.176056</td>\n",
       "      <td>1.114825</td>\n",
       "      <td>0.000172</td>\n",
       "      <td>1.022008</td>\n",
       "      <td>0.103985</td>\n",
       "    </tr>\n",
       "    <tr>\n",
       "      <th>1220</th>\n",
       "      <td>(yogurt, rolls/buns)</td>\n",
       "      <td>(whole milk)</td>\n",
       "      <td>0.007819</td>\n",
       "      <td>0.157923</td>\n",
       "      <td>0.001337</td>\n",
       "      <td>0.170940</td>\n",
       "      <td>1.082428</td>\n",
       "      <td>0.000102</td>\n",
       "      <td>1.015701</td>\n",
       "      <td>0.076751</td>\n",
       "    </tr>\n",
       "  </tbody>\n",
       "</table>\n",
       "</div>"
      ],
      "text/plain": [
       "                antecedents   consequents  antecedent support  \\\n",
       "1233      (yogurt, sausage)  (whole milk)            0.005748   \n",
       "1209  (rolls/buns, sausage)  (whole milk)            0.005347   \n",
       "1227        (sausage, soda)  (whole milk)            0.005948   \n",
       "1108  (semi-finished bread)  (whole milk)            0.009490   \n",
       "1220   (yogurt, rolls/buns)  (whole milk)            0.007819   \n",
       "\n",
       "      consequent support   support  confidence      lift  leverage  \\\n",
       "1233            0.157923  0.001470    0.255814  1.619866  0.000563   \n",
       "1209            0.157923  0.001136    0.212500  1.345594  0.000292   \n",
       "1227            0.157923  0.001069    0.179775  1.138374  0.000130   \n",
       "1108            0.157923  0.001671    0.176056  1.114825  0.000172   \n",
       "1220            0.157923  0.001337    0.170940  1.082428  0.000102   \n",
       "\n",
       "      conviction  zhangs_metric  \n",
       "1233    1.131541       0.384877  \n",
       "1209    1.069304       0.258214  \n",
       "1227    1.026642       0.122281  \n",
       "1108    1.022008       0.103985  \n",
       "1220    1.015701       0.076751  "
      ]
     },
     "execution_count": 20,
     "metadata": {},
     "output_type": "execute_result"
    }
   ],
   "source": [
    "rules.sort_values('confidence',ascending = False).head(5)"
   ]
  },
  {
   "cell_type": "code",
   "execution_count": 21,
   "metadata": {},
   "outputs": [
    {
     "data": {
      "text/html": [
       "<div>\n",
       "<style scoped>\n",
       "    .dataframe tbody tr th:only-of-type {\n",
       "        vertical-align: middle;\n",
       "    }\n",
       "\n",
       "    .dataframe tbody tr th {\n",
       "        vertical-align: top;\n",
       "    }\n",
       "\n",
       "    .dataframe thead th {\n",
       "        text-align: right;\n",
       "    }\n",
       "</style>\n",
       "<table border=\"1\" class=\"dataframe\">\n",
       "  <thead>\n",
       "    <tr style=\"text-align: right;\">\n",
       "      <th></th>\n",
       "      <th>antecedents</th>\n",
       "      <th>consequents</th>\n",
       "      <th>antecedent support</th>\n",
       "      <th>consequent support</th>\n",
       "      <th>support</th>\n",
       "      <th>confidence</th>\n",
       "      <th>lift</th>\n",
       "      <th>leverage</th>\n",
       "      <th>conviction</th>\n",
       "      <th>zhangs_metric</th>\n",
       "    </tr>\n",
       "  </thead>\n",
       "  <tbody>\n",
       "    <tr>\n",
       "      <th>952</th>\n",
       "      <td>(whole milk)</td>\n",
       "      <td>(other vegetables)</td>\n",
       "      <td>0.157923</td>\n",
       "      <td>0.122101</td>\n",
       "      <td>0.014837</td>\n",
       "      <td>0.093948</td>\n",
       "      <td>0.769430</td>\n",
       "      <td>-0.004446</td>\n",
       "      <td>0.968928</td>\n",
       "      <td>-0.262461</td>\n",
       "    </tr>\n",
       "    <tr>\n",
       "      <th>953</th>\n",
       "      <td>(other vegetables)</td>\n",
       "      <td>(whole milk)</td>\n",
       "      <td>0.122101</td>\n",
       "      <td>0.157923</td>\n",
       "      <td>0.014837</td>\n",
       "      <td>0.121511</td>\n",
       "      <td>0.769430</td>\n",
       "      <td>-0.004446</td>\n",
       "      <td>0.958551</td>\n",
       "      <td>-0.254477</td>\n",
       "    </tr>\n",
       "    <tr>\n",
       "      <th>1057</th>\n",
       "      <td>(whole milk)</td>\n",
       "      <td>(rolls/buns)</td>\n",
       "      <td>0.157923</td>\n",
       "      <td>0.110005</td>\n",
       "      <td>0.013968</td>\n",
       "      <td>0.088447</td>\n",
       "      <td>0.804028</td>\n",
       "      <td>-0.003404</td>\n",
       "      <td>0.976350</td>\n",
       "      <td>-0.224474</td>\n",
       "    </tr>\n",
       "    <tr>\n",
       "      <th>1056</th>\n",
       "      <td>(rolls/buns)</td>\n",
       "      <td>(whole milk)</td>\n",
       "      <td>0.110005</td>\n",
       "      <td>0.157923</td>\n",
       "      <td>0.013968</td>\n",
       "      <td>0.126974</td>\n",
       "      <td>0.804028</td>\n",
       "      <td>-0.003404</td>\n",
       "      <td>0.964550</td>\n",
       "      <td>-0.214986</td>\n",
       "    </tr>\n",
       "    <tr>\n",
       "      <th>1136</th>\n",
       "      <td>(whole milk)</td>\n",
       "      <td>(soda)</td>\n",
       "      <td>0.157923</td>\n",
       "      <td>0.097106</td>\n",
       "      <td>0.011629</td>\n",
       "      <td>0.073635</td>\n",
       "      <td>0.758296</td>\n",
       "      <td>-0.003707</td>\n",
       "      <td>0.974663</td>\n",
       "      <td>-0.274587</td>\n",
       "    </tr>\n",
       "  </tbody>\n",
       "</table>\n",
       "</div>"
      ],
      "text/plain": [
       "             antecedents         consequents  antecedent support  \\\n",
       "952         (whole milk)  (other vegetables)            0.157923   \n",
       "953   (other vegetables)        (whole milk)            0.122101   \n",
       "1057        (whole milk)        (rolls/buns)            0.157923   \n",
       "1056        (rolls/buns)        (whole milk)            0.110005   \n",
       "1136        (whole milk)              (soda)            0.157923   \n",
       "\n",
       "      consequent support   support  confidence      lift  leverage  \\\n",
       "952             0.122101  0.014837    0.093948  0.769430 -0.004446   \n",
       "953             0.157923  0.014837    0.121511  0.769430 -0.004446   \n",
       "1057            0.110005  0.013968    0.088447  0.804028 -0.003404   \n",
       "1056            0.157923  0.013968    0.126974  0.804028 -0.003404   \n",
       "1136            0.097106  0.011629    0.073635  0.758296 -0.003707   \n",
       "\n",
       "      conviction  zhangs_metric  \n",
       "952     0.968928      -0.262461  \n",
       "953     0.958551      -0.254477  \n",
       "1057    0.976350      -0.224474  \n",
       "1056    0.964550      -0.214986  \n",
       "1136    0.974663      -0.274587  "
      ]
     },
     "execution_count": 21,
     "metadata": {},
     "output_type": "execute_result"
    }
   ],
   "source": [
    "rules.sort_values('support',ascending = False).head(5)"
   ]
  },
  {
   "cell_type": "code",
   "execution_count": 22,
   "metadata": {},
   "outputs": [
    {
     "data": {
      "text/html": [
       "<div>\n",
       "<style scoped>\n",
       "    .dataframe tbody tr th:only-of-type {\n",
       "        vertical-align: middle;\n",
       "    }\n",
       "\n",
       "    .dataframe tbody tr th {\n",
       "        vertical-align: top;\n",
       "    }\n",
       "\n",
       "    .dataframe thead th {\n",
       "        text-align: right;\n",
       "    }\n",
       "</style>\n",
       "<table border=\"1\" class=\"dataframe\">\n",
       "  <thead>\n",
       "    <tr style=\"text-align: right;\">\n",
       "      <th></th>\n",
       "      <th>antecedents</th>\n",
       "      <th>consequents</th>\n",
       "      <th>antecedent support</th>\n",
       "      <th>consequent support</th>\n",
       "      <th>support</th>\n",
       "      <th>confidence</th>\n",
       "      <th>lift</th>\n",
       "      <th>leverage</th>\n",
       "      <th>conviction</th>\n",
       "      <th>zhangs_metric</th>\n",
       "    </tr>\n",
       "  </thead>\n",
       "  <tbody>\n",
       "    <tr>\n",
       "      <th>584</th>\n",
       "      <td>(detergent)</td>\n",
       "      <td>(whole milk)</td>\n",
       "      <td>0.008621</td>\n",
       "      <td>0.157923</td>\n",
       "      <td>0.001403</td>\n",
       "      <td>0.162791</td>\n",
       "      <td>1.030824</td>\n",
       "      <td>0.000042</td>\n",
       "      <td>1.005814</td>\n",
       "      <td>0.030162</td>\n",
       "    </tr>\n",
       "    <tr>\n",
       "      <th>630</th>\n",
       "      <td>(frankfurter)</td>\n",
       "      <td>(other vegetables)</td>\n",
       "      <td>0.037760</td>\n",
       "      <td>0.122101</td>\n",
       "      <td>0.005146</td>\n",
       "      <td>0.136283</td>\n",
       "      <td>1.116150</td>\n",
       "      <td>0.000536</td>\n",
       "      <td>1.016420</td>\n",
       "      <td>0.108146</td>\n",
       "    </tr>\n",
       "    <tr>\n",
       "      <th>728</th>\n",
       "      <td>(ham)</td>\n",
       "      <td>(whole milk)</td>\n",
       "      <td>0.017109</td>\n",
       "      <td>0.157923</td>\n",
       "      <td>0.002740</td>\n",
       "      <td>0.160156</td>\n",
       "      <td>1.014142</td>\n",
       "      <td>0.000038</td>\n",
       "      <td>1.002659</td>\n",
       "      <td>0.014188</td>\n",
       "    </tr>\n",
       "    <tr>\n",
       "      <th>956</th>\n",
       "      <td>(packaged fruit/vegetables)</td>\n",
       "      <td>(rolls/buns)</td>\n",
       "      <td>0.008488</td>\n",
       "      <td>0.110005</td>\n",
       "      <td>0.001203</td>\n",
       "      <td>0.141732</td>\n",
       "      <td>1.288421</td>\n",
       "      <td>0.000269</td>\n",
       "      <td>1.036967</td>\n",
       "      <td>0.225772</td>\n",
       "    </tr>\n",
       "    <tr>\n",
       "      <th>1022</th>\n",
       "      <td>(processed cheese)</td>\n",
       "      <td>(rolls/buns)</td>\n",
       "      <td>0.010158</td>\n",
       "      <td>0.110005</td>\n",
       "      <td>0.001470</td>\n",
       "      <td>0.144737</td>\n",
       "      <td>1.315734</td>\n",
       "      <td>0.000353</td>\n",
       "      <td>1.040610</td>\n",
       "      <td>0.242430</td>\n",
       "    </tr>\n",
       "    <tr>\n",
       "      <th>1036</th>\n",
       "      <td>(seasonal products)</td>\n",
       "      <td>(rolls/buns)</td>\n",
       "      <td>0.007084</td>\n",
       "      <td>0.110005</td>\n",
       "      <td>0.001002</td>\n",
       "      <td>0.141509</td>\n",
       "      <td>1.286395</td>\n",
       "      <td>0.000223</td>\n",
       "      <td>1.036698</td>\n",
       "      <td>0.224222</td>\n",
       "    </tr>\n",
       "    <tr>\n",
       "      <th>1108</th>\n",
       "      <td>(semi-finished bread)</td>\n",
       "      <td>(whole milk)</td>\n",
       "      <td>0.009490</td>\n",
       "      <td>0.157923</td>\n",
       "      <td>0.001671</td>\n",
       "      <td>0.176056</td>\n",
       "      <td>1.114825</td>\n",
       "      <td>0.000172</td>\n",
       "      <td>1.022008</td>\n",
       "      <td>0.103985</td>\n",
       "    </tr>\n",
       "    <tr>\n",
       "      <th>1185</th>\n",
       "      <td>(rolls/buns, soda)</td>\n",
       "      <td>(other vegetables)</td>\n",
       "      <td>0.008087</td>\n",
       "      <td>0.122101</td>\n",
       "      <td>0.001136</td>\n",
       "      <td>0.140496</td>\n",
       "      <td>1.150651</td>\n",
       "      <td>0.000149</td>\n",
       "      <td>1.021402</td>\n",
       "      <td>0.131994</td>\n",
       "    </tr>\n",
       "    <tr>\n",
       "      <th>1209</th>\n",
       "      <td>(rolls/buns, sausage)</td>\n",
       "      <td>(whole milk)</td>\n",
       "      <td>0.005347</td>\n",
       "      <td>0.157923</td>\n",
       "      <td>0.001136</td>\n",
       "      <td>0.212500</td>\n",
       "      <td>1.345594</td>\n",
       "      <td>0.000292</td>\n",
       "      <td>1.069304</td>\n",
       "      <td>0.258214</td>\n",
       "    </tr>\n",
       "    <tr>\n",
       "      <th>1220</th>\n",
       "      <td>(yogurt, rolls/buns)</td>\n",
       "      <td>(whole milk)</td>\n",
       "      <td>0.007819</td>\n",
       "      <td>0.157923</td>\n",
       "      <td>0.001337</td>\n",
       "      <td>0.170940</td>\n",
       "      <td>1.082428</td>\n",
       "      <td>0.000102</td>\n",
       "      <td>1.015701</td>\n",
       "      <td>0.076751</td>\n",
       "    </tr>\n",
       "    <tr>\n",
       "      <th>1227</th>\n",
       "      <td>(sausage, soda)</td>\n",
       "      <td>(whole milk)</td>\n",
       "      <td>0.005948</td>\n",
       "      <td>0.157923</td>\n",
       "      <td>0.001069</td>\n",
       "      <td>0.179775</td>\n",
       "      <td>1.138374</td>\n",
       "      <td>0.000130</td>\n",
       "      <td>1.026642</td>\n",
       "      <td>0.122281</td>\n",
       "    </tr>\n",
       "    <tr>\n",
       "      <th>1232</th>\n",
       "      <td>(yogurt, whole milk)</td>\n",
       "      <td>(sausage)</td>\n",
       "      <td>0.011161</td>\n",
       "      <td>0.060349</td>\n",
       "      <td>0.001470</td>\n",
       "      <td>0.131737</td>\n",
       "      <td>2.182917</td>\n",
       "      <td>0.000797</td>\n",
       "      <td>1.082219</td>\n",
       "      <td>0.548014</td>\n",
       "    </tr>\n",
       "    <tr>\n",
       "      <th>1233</th>\n",
       "      <td>(yogurt, sausage)</td>\n",
       "      <td>(whole milk)</td>\n",
       "      <td>0.005748</td>\n",
       "      <td>0.157923</td>\n",
       "      <td>0.001470</td>\n",
       "      <td>0.255814</td>\n",
       "      <td>1.619866</td>\n",
       "      <td>0.000563</td>\n",
       "      <td>1.131541</td>\n",
       "      <td>0.384877</td>\n",
       "    </tr>\n",
       "    <tr>\n",
       "      <th>1234</th>\n",
       "      <td>(whole milk, sausage)</td>\n",
       "      <td>(yogurt)</td>\n",
       "      <td>0.008955</td>\n",
       "      <td>0.085879</td>\n",
       "      <td>0.001470</td>\n",
       "      <td>0.164179</td>\n",
       "      <td>1.911760</td>\n",
       "      <td>0.000701</td>\n",
       "      <td>1.093681</td>\n",
       "      <td>0.481231</td>\n",
       "    </tr>\n",
       "  </tbody>\n",
       "</table>\n",
       "</div>"
      ],
      "text/plain": [
       "                      antecedents         consequents  antecedent support  \\\n",
       "584                   (detergent)        (whole milk)            0.008621   \n",
       "630                 (frankfurter)  (other vegetables)            0.037760   \n",
       "728                         (ham)        (whole milk)            0.017109   \n",
       "956   (packaged fruit/vegetables)        (rolls/buns)            0.008488   \n",
       "1022           (processed cheese)        (rolls/buns)            0.010158   \n",
       "1036          (seasonal products)        (rolls/buns)            0.007084   \n",
       "1108        (semi-finished bread)        (whole milk)            0.009490   \n",
       "1185           (rolls/buns, soda)  (other vegetables)            0.008087   \n",
       "1209        (rolls/buns, sausage)        (whole milk)            0.005347   \n",
       "1220         (yogurt, rolls/buns)        (whole milk)            0.007819   \n",
       "1227              (sausage, soda)        (whole milk)            0.005948   \n",
       "1232         (yogurt, whole milk)           (sausage)            0.011161   \n",
       "1233            (yogurt, sausage)        (whole milk)            0.005748   \n",
       "1234        (whole milk, sausage)            (yogurt)            0.008955   \n",
       "\n",
       "      consequent support   support  confidence      lift  leverage  \\\n",
       "584             0.157923  0.001403    0.162791  1.030824  0.000042   \n",
       "630             0.122101  0.005146    0.136283  1.116150  0.000536   \n",
       "728             0.157923  0.002740    0.160156  1.014142  0.000038   \n",
       "956             0.110005  0.001203    0.141732  1.288421  0.000269   \n",
       "1022            0.110005  0.001470    0.144737  1.315734  0.000353   \n",
       "1036            0.110005  0.001002    0.141509  1.286395  0.000223   \n",
       "1108            0.157923  0.001671    0.176056  1.114825  0.000172   \n",
       "1185            0.122101  0.001136    0.140496  1.150651  0.000149   \n",
       "1209            0.157923  0.001136    0.212500  1.345594  0.000292   \n",
       "1220            0.157923  0.001337    0.170940  1.082428  0.000102   \n",
       "1227            0.157923  0.001069    0.179775  1.138374  0.000130   \n",
       "1232            0.060349  0.001470    0.131737  2.182917  0.000797   \n",
       "1233            0.157923  0.001470    0.255814  1.619866  0.000563   \n",
       "1234            0.085879  0.001470    0.164179  1.911760  0.000701   \n",
       "\n",
       "      conviction  zhangs_metric  \n",
       "584     1.005814       0.030162  \n",
       "630     1.016420       0.108146  \n",
       "728     1.002659       0.014188  \n",
       "956     1.036967       0.225772  \n",
       "1022    1.040610       0.242430  \n",
       "1036    1.036698       0.224222  \n",
       "1108    1.022008       0.103985  \n",
       "1185    1.021402       0.131994  \n",
       "1209    1.069304       0.258214  \n",
       "1220    1.015701       0.076751  \n",
       "1227    1.026642       0.122281  \n",
       "1232    1.082219       0.548014  \n",
       "1233    1.131541       0.384877  \n",
       "1234    1.093681       0.481231  "
      ]
     },
     "execution_count": 22,
     "metadata": {},
     "output_type": "execute_result"
    }
   ],
   "source": [
    "rules[(rules['confidence']>0.13) & (rules['lift'] > 1)]"
   ]
  },
  {
   "cell_type": "code",
   "execution_count": 23,
   "metadata": {},
   "outputs": [
    {
     "name": "stdout",
     "output_type": "stream",
     "text": [
      "5\n"
     ]
    }
   ],
   "source": [
    "print(len(rules[(rules['confidence']>0.1) & (rules['lift'] > 1.5)]))"
   ]
  },
  {
   "cell_type": "code",
   "execution_count": 24,
   "metadata": {},
   "outputs": [
    {
     "data": {
      "application/vnd.plotly.v1+json": {
       "config": {
        "plotlyServerURL": "https://plot.ly"
       },
       "data": [
        {
         "hovertemplate": "x=%{x}<br>index=%{y}<extra></extra>",
         "legendgroup": "",
         "marker": {
          "color": "#636efa",
          "symbol": "circle"
         },
         "mode": "markers",
         "name": "",
         "showlegend": false,
         "type": "scattergl",
         "x": [
          0.01762114537444934,
          0.05,
          0.1,
          0.01751505199781062,
          0.016403402187120292,
          0.08437499999999999,
          0.01440922190201729,
          0.046875,
          0.053125,
          0.018826135105204873,
          0.059375,
          0.01307639366827254,
          0.022682445759368838,
          0.07187500000000001,
          0.11875,
          0.01608125264494287,
          0.013229571984435798,
          0.053125,
          0.03149606299212599,
          0.02359882005899705,
          0.022026431718061675,
          0.03937007874015749,
          0.045275590551181105,
          0.04085257548845471,
          0.03225806451612903,
          0.03346456692913386,
          0.021367521367521368,
          0.029527559055118113,
          0.033962264150943396,
          0.0531496062992126,
          0.037698412698412696,
          0.03740157480314961,
          0.03346456692913386,
          0.030630630630630633,
          0.026548672566371685,
          0.029527559055118113,
          0.045346062052505964,
          0.03740157480314961,
          0.031434184675834975,
          0.03149606299212599,
          0.04133858267716536,
          0.043568464730290454,
          0.0429553264604811,
          0.04921259842519685,
          0.08267716535433071,
          0.022988505747126436,
          0.03543307086614174,
          0.023255813953488375,
          0.014580801944106925,
          0.047244094488188976,
          0.024015369836695485,
          0.04921259842519685,
          0.03740157480314961,
          0.026685393258426966,
          0.0531496062992126,
          0.01858224363386098,
          0.01676528599605523,
          0.03346456692913386,
          0.03211009174311927,
          0.04133858267716536,
          0.1377952755905512,
          0.029623360135421075,
          0.025680933852140077,
          0.06496062992125985,
          0.01762114537444934,
          0.049079754601227,
          0.021893814997263273,
          0.12269938650306748,
          0.020671834625323002,
          0.049079754601227,
          0.02316076294277929,
          0.05214723926380368,
          0.015188335358444716,
          0.07668711656441718,
          0.015369836695485112,
          0.049079754601227,
          0.015141087405368205,
          0.06748466257668712,
          0.018737672583826432,
          0.05828220858895705,
          0.014388489208633094,
          0.10429447852760736,
          0.016342412451361865,
          0.06441717791411043,
          0.01762114537444934,
          0.06451612903225808,
          0.014230979748221127,
          0.10483870967741936,
          0.010935601458080195,
          0.07258064516129033,
          0.02547065337763012,
          0.09274193548387098,
          0.019270474879559536,
          0.11290322580645162,
          0.012272534913245875,
          0.11693548387096775,
          0.04185022026431718,
          0.056047197640117986,
          0.04085257548845471,
          0.03392330383480826,
          0.04743833017077799,
          0.03687315634218289,
          0.039886039886039885,
          0.04129793510324484,
          0.03597122302158274,
          0.022123893805309734,
          0.042492917847025496,
          0.022123893805309734,
          0.031446540880503145,
          0.03687315634218289,
          0.033730158730158735,
          0.025073746312684365,
          0.04504504504504505,
          0.03687315634218289,
          0.044247787610619475,
          0.03687315634218289,
          0.05011933174224343,
          0.030973451327433624,
          0.049115913555992145,
          0.03687315634218289,
          0.0489296636085627,
          0.02359882005899705,
          0.02359882005899705,
          0.03319502074688797,
          0.04467353951890034,
          0.0383480825958702,
          0.038314176245210725,
          0.10324483775811208,
          0.040051679586563305,
          0.04572271386430678,
          0.031335149863760216,
          0.03392330383480826,
          0.028828828828828833,
          0.02359882005899705,
          0.03645200486026732,
          0.08849557522123894,
          0.03554274735830931,
          0.05457227138643068,
          0.07374631268436578,
          0.05537098560354374,
          0.03089887640449438,
          0.032448377581120944,
          0.06489675516224189,
          0.03028217481073641,
          0.037475345167652864,
          0.056047197640117986,
          0.027522935779816515,
          0.02654867256637168,
          0.04528142192128651,
          0.15781710914454278,
          0.03968871595330739,
          0.07522123893805309,
          0.025330396475770924,
          0.04085257548845471,
          0.02973568281938326,
          0.051233396584440226,
          0.03133903133903134,
          0.024229074889867842,
          0.022026431718061675,
          0.04796163069544365,
          0.05949008498583569,
          0.023127753303964757,
          0.04905660377358491,
          0.042951541850220265,
          0.025330396475770924,
          0.048625792811839326,
          0.05753968253968254,
          0.031938325991189426,
          0.01762114537444934,
          0.0453257790368272,
          0.03524229074889868,
          0.057657657657657665,
          0.058407079646017705,
          0.03634361233480176,
          0.03818615751789976,
          0.01762114537444934,
          0.03536345776031435,
          0.019823788546255508,
          0.023127753303964757,
          0.043568464730290454,
          0.04639175257731958,
          0.02973568281938326,
          0.016519823788546256,
          0.04950495049504951,
          0.09030837004405286,
          0.044882320744389706,
          0.0473568281938326,
          0.05555555555555556,
          0.03303964757709251,
          0.04087193460490463,
          0.023127753303964757,
          0.03783783783783784,
          0.07709251101321585,
          0.0425273390036452,
          0.049951969260326606,
          0.057268722466960346,
          0.051762114537444934,
          0.052048726467331115,
          0.03303964757709251,
          0.042134831460674156,
          0.07929515418502203,
          0.04955264969029594,
          0.0830188679245283,
          0.024229074889867842,
          0.05837004405286344,
          0.05226824457593689,
          0.04128440366972477,
          0.02973568281938326,
          0.052924791086350974,
          0.02092511013215859,
          0.11784140969162996,
          0.04528142192128651,
          0.0443579766536965,
          0.06277533039647577,
          0.028462998102466792,
          0.026642984014209593,
          0.05128205128205129,
          0.06394316163410303,
          0.03270440251572327,
          0.046181172291296625,
          0.03571428571428572,
          0.031971580817051516,
          0.032432432432432434,
          0.031971580817051516,
          0.04070796460176992,
          0.04085257548845471,
          0.025177887246852767,
          0.08170515097690942,
          0.03875968992248062,
          0.05328596802841919,
          0.03405994550408719,
          0.044404973357015994,
          0.04504504504504505,
          0.044404973357015994,
          0.03037667071688943,
          0.08880994671403199,
          0.019212295869356386,
          0.03552397868561279,
          0.04795737122557727,
          0.02990033222591362,
          0.026685393258426966,
          0.03374777975133215,
          0.07637655417406751,
          0.029593943565037854,
          0.021696252465483238,
          0.03907637655417407,
          0.02446483180428135,
          0.028419182948490235,
          0.04178272980501393,
          0.026642984014209593,
          0.028353787558188747,
          0.11900532859680285,
          0.02723735408560311,
          0.06216696269982238,
          0.021367521367521368,
          0.028462998102466792,
          0.03647798742138365,
          0.05502846299810246,
          0.03716814159292035,
          0.039848197343453504,
          0.0412573673870334,
          0.039848197343453504,
          0.039848197343453504,
          0.043568464730290454,
          0.03608247422680412,
          0.039848197343453504,
          0.08159392789373814,
          0.02353585112205802,
          0.04364326375711575,
          0.02971576227390181,
          0.02316076294277929,
          0.03225806451612903,
          0.08159392789373814,
          0.02612393681652491,
          0.02881844380403458,
          0.056925996204933584,
          0.05502846299810246,
          0.03211517165005537,
          0.03795066413662239,
          0.02808988764044944,
          0.08918406072106262,
          0.03234686854783207,
          0.022682445759368838,
          0.04364326375711575,
          0.02599388379204893,
          0.03225806451612903,
          0.13282732447817835,
          0.029623360135421075,
          0.025680933852140077,
          0.06261859582542695,
          0.010399562123700055,
          0.07224334600760456,
          0.011543134872417983,
          0.07224334600760456,
          0.01440922190201729,
          0.057034220532319393,
          0.021067415730337078,
          0.057034220532319393,
          0.07984790874524714,
          0.014452856159669649,
          0.014792899408284025,
          0.057034220532319393,
          0.0105797714769361,
          0.09505703422053231,
          0.014785992217898832,
          0.07224334600760456,
          0.018867924528301886,
          0.06976744186046512,
          0.009304871373836891,
          0.07906976744186046,
          0.013365735115431349,
          0.10232558139534884,
          0.08837209302325581,
          0.01307639366827254,
          0.013542107490478208,
          0.1488372093023256,
          0.014007782101167316,
          0.08372093023255814,
          0.024216524216524215,
          0.0407673860911271,
          0.022792022792022793,
          0.0453257790368272,
          0.028930817610062894,
          0.03276353276353276,
          0.021367521367521368,
          0.03171247357293869,
          0.03571428571428572,
          0.025641025641025644,
          0.025641025641025644,
          0.032432432432432434,
          0.03539823008849558,
          0.02849002849002849,
          0.0477326968973747,
          0.02849002849002849,
          0.04518664047151277,
          0.03276353276353276,
          0.025641025641025644,
          0.03734439834024896,
          0.048109965635738834,
          0.039886039886039885,
          0.08547008547008547,
          0.03284072249589491,
          0.039886039886039885,
          0.03617571059431525,
          0.034188034188034185,
          0.0326975476839237,
          0.03561253561253561,
          0.04504504504504505,
          0.08974358974358974,
          0.03827460510328068,
          0.0297790585975024,
          0.04415954415954416,
          0.053380782918149475,
          0.021367521367521368,
          0.05270655270655271,
          0.04097452934662237,
          0.039886039886039885,
          0.03932584269662922,
          0.06695156695156695,
          0.03234686854783207,
          0.05413105413105413,
          0.037475345167652864,
          0.03276353276353276,
          0.035168195718654434,
          0.03276353276353276,
          0.06406685236768803,
          0.1282051282051282,
          0.03808717731696996,
          0.08262108262108261,
          0.045136186770428015,
          0.09039548022598871,
          0.009720534629404618,
          0.08474576271186442,
          0.014792899408284025,
          0.14124293785310735,
          0.0105797714769361,
          0.0888888888888889,
          0.00875752599890531,
          0.08333333333333334,
          0.010323468685478322,
          0.1388888888888889,
          0.0105797714769361,
          0.11666666666666667,
          0.016342412451361865,
          0.022641509433962266,
          0.04316546762589928,
          0.033730158730158735,
          0.0407673860911271,
          0.03597122302158274,
          0.02702702702702703,
          0.03597122302158274,
          0.03112033195020747,
          0.07913669064748202,
          0.018062397372742203,
          0.045563549160671464,
          0.02454780361757106,
          0.03836930455635492,
          0.021798365122615806,
          0.10311750599520385,
          0.02612393681652491,
          0.01440922190201729,
          0.03597122302158274,
          0.03836930455635492,
          0.017718715393134,
          0.045563549160671464,
          0.026685393258426966,
          0.07673860911270984,
          0.022023399862353753,
          0.050359712230215826,
          0.020710059171597635,
          0.0290519877675841,
          0.045563549160671464,
          0.1223021582733813,
          0.02158273381294964,
          0.02101167315175097,
          0.06474820143884892,
          0.020125786163522015,
          0.0453257790368272,
          0.07932011331444759,
          0.015325670498084292,
          0.056657223796033995,
          0.027247956403269755,
          0.11898016997167138,
          0.02551640340218712,
          0.01729106628242075,
          0.0509915014164306,
          0.05949008498583569,
          0.02325581395348837,
          0.0708215297450425,
          0.01720578114246387,
          0.05949008498583569,
          0.020710059171597635,
          0.12464589235127478,
          0.018620397799407534,
          0.01867704280155642,
          0.06798866855524079,
          0.025157232704402517,
          0.042283298097251586,
          0.018867924528301886,
          0.04237288135593221,
          0.021383647798742137,
          0.033730158730158735,
          0.023899371069182388,
          0.03423423423423423,
          0.04601769911504425,
          0.03270440251572327,
          0.030188679245283016,
          0.05727923627684964,
          0.025157232704402517,
          0.03929273084479372,
          0.021383647798742137,
          0.035269709543568464,
          0.02641509433962264,
          0.0634441087613293,
          0.022641509433962266,
          0.030927835051546393,
          0.09056603773584906,
          0.03940886699507389,
          0.04025157232704403,
          0.041343669250646004,
          0.027672955974842765,
          0.02997275204359673,
          0.025157232704402517,
          0.036036036036036036,
          0.0880503144654088,
          0.0425273390036452,
          0.04150943396226415,
          0.03170028818443804,
          0.022641509433962266,
          0.01993355481727575,
          0.033962264150943396,
          0.037921348314606744,
          0.07044025157232704,
          0.03854094975911907,
          0.02641509433962264,
          0.08786610878661087,
          0.05408805031446541,
          0.042406311637080876,
          0.0389937106918239,
          0.047400611620795105,
          0.021383647798742137,
          0.04735376044568245,
          0.13459119496855346,
          0.04528142192128651,
          0.08679245283018867,
          0.053696498054474705,
          0.03783783783783784,
          0.04439746300211416,
          0.03893805309734514,
          0.046511627906976744,
          0.021346469622331693,
          0.0824524312896406,
          0.027131782945736434,
          0.04439746300211416,
          0.021798365122615806,
          0.03382663847780127,
          0.02187120291616039,
          0.07610993657505286,
          0.02881844380403458,
          0.06342494714587738,
          0.022148394241417495,
          0.042283298097251586,
          0.02949438202247191,
          0.04439746300211416,
          0.025464556090846528,
          0.07822410147991543,
          0.022682445759368838,
          0.048625792811839326,
          0.024121878967414304,
          0.12050739957716701,
          0.02412451361867704,
          0.06553911205073995,
          0.026548672566371685,
          0.04237288135593221,
          0.09039548022598871,
          0.01751505199781062,
          0.07909604519774012,
          0.017010935601458083,
          0.023054755043227664,
          0.06779661016949153,
          0.05084745762711865,
          0.01993355481727575,
          0.05084745762711865,
          0.025280898876404497,
          0.062146892655367235,
          0.015141087405368205,
          0.05932203389830508,
          0.020710059171597635,
          0.12146892655367232,
          0.018197206940330092,
          0.01867704280155642,
          0.06779661016949153,
          0.029761904761904764,
          0.042492917847025496,
          0.03539823008849558,
          0.03968253968253969,
          0.03174603174603175,
          0.03319502074688797,
          0.10515873015873017,
          0.029009304871373837,
          0.041666666666666664,
          0.027131782945736434,
          0.03968253968253969,
          0.027247956403269755,
          0.033730158730158735,
          0.030630630630630633,
          0.08134920634920635,
          0.02490886998784933,
          0.021133525456292025,
          0.043650793650793655,
          0.08730158730158731,
          0.04872646733111849,
          0.037698412698412696,
          0.026685393258426966,
          0.08333333333333333,
          0.028905712319339298,
          0.05555555555555556,
          0.027613412228796846,
          0.04960317460317461,
          0.03822629969418961,
          0.12301587301587302,
          0.026237833262801526,
          0.06746031746031747,
          0.026459143968871595,
          0.08781869688385269,
          0.016967706622879036,
          0.01822600243013366,
          0.08498583569405099,
          0.015369836695485112,
          0.0453257790368272,
          0.06232294617563739,
          0.024363233665559245,
          0.025280898876404497,
          0.0509915014164306,
          0.06232294617563739,
          0.015141087405368205,
          0.01577909270216963,
          0.0453257790368272,
          0.015234870926787984,
          0.1019830028328612,
          0.014007782101167316,
          0.0509915014164306,
          0.11627906976744186,
          0.00911300121506683,
          0.1627906976744186,
          0.008887008040626322,
          0.012451361867704281,
          0.12403100775193798,
          0.03716814159292035,
          0.03783783783783784,
          0.031434184675834975,
          0.028828828828828833,
          0.03951890034364261,
          0.04144144144144145,
          0.0954954954954955,
          0.029009304871373837,
          0.036036036036036036,
          0.02583979328165375,
          0.032432432432432434,
          0.032432432432432434,
          0.030984204131227218,
          0.0918918918918919,
          0.02881844380403458,
          0.05405405405405406,
          0.04864864864864865,
          0.02990033222591362,
          0.03089887640449438,
          0.039639639639639644,
          0.06846846846846846,
          0.02615278733654508,
          0.03155818540433926,
          0.057657657657657665,
          0.04178272980501393,
          0.02702702702702703,
          0.033432077867118076,
          0.14234234234234236,
          0.02412451361867704,
          0.055855855855855854,
          0.10958904109589042,
          0.01577909270216963,
          0.136986301369863,
          0.008463817181548879,
          0.028318584070796467,
          0.03818615751789976,
          0.030088495575221242,
          0.03339882121807466,
          0.04247787610619469,
          0.04979253112033195,
          0.028318584070796467,
          0.027491408934707907,
          0.13628318584070798,
          0.042145593869731796,
          0.04601769911504425,
          0.03359173126614987,
          0.04778761061946903,
          0.036784741144414164,
          0.09734513274336283,
          0.03341433778857837,
          0.058407079646017705,
          0.03170028818443804,
          0.03893805309734514,
          0.024363233665559245,
          0.04070796460176992,
          0.032303370786516857,
          0.08141592920353984,
          0.03165863730213352,
          0.03539823008849558,
          0.019723865877712035,
          0.03893805309734514,
          0.03363914373088685,
          0.13982300884955753,
          0.033432077867118076,
          0.06725663716814159,
          0.029571984435797664,
          0.15686274509803924,
          0.006771053745239104,
          0.12749003984063748,
          0.01751505199781062,
          0.08764940239043825,
          0.013365735115431349,
          0.07569721115537849,
          0.02104097452934662,
          0.09163346613545818,
          0.01582931865106676,
          0.1155378486055777,
          0.012272534913245875,
          0.01556420233463035,
          0.07968127490039842,
          0.11217183770883055,
          0.025725232621784347,
          0.0477326968973747,
          0.027247956403269755,
          0.09785202863961813,
          0.02490886998784933,
          0.07637231503579953,
          0.030739673390970224,
          0.07398568019093078,
          0.03433001107419712,
          0.07159904534606205,
          0.020646937370956644,
          0.03818615751789976,
          0.01577909270216963,
          0.1360381861575179,
          0.024121878967414304,
          0.07398568019093078,
          0.02412451361867704,
          0.02946954813359529,
          0.03112033195020747,
          0.08644400785854618,
          0.0240831964969896,
          0.04322200392927309,
          0.028423772609819122,
          0.0412573673870334,
          0.028610354223433238,
          0.11001964636542241,
          0.034021871202916165,
          0.02593659942363112,
          0.05304518664047152,
          0.05304518664047152,
          0.02990033222591362,
          0.06286836935166995,
          0.022023399862353753,
          0.06286836935166995,
          0.03155818540433926,
          0.12966601178781928,
          0.027930596699111302,
          0.06483300589390964,
          0.025680933852140077,
          0.013136288998357963,
          0.1111111111111111,
          0.010935601458080195,
          0.08333333333333334,
          0.015369836695485112,
          0.07407407407407408,
          0.07407407407407408,
          0.017718715393134,
          0.09722222222222221,
          0.014452856159669649,
          0.012272534913245875,
          0.13425925925925924,
          0.09374999999999999,
          0.013136288998357963,
          0.07421874999999999,
          0.011543134872417983,
          0.0703125,
          0.012388162422573986,
          0.06640624999999999,
          0.01676528599605523,
          0.16015624999999997,
          0.017350825222175202,
          0.07421874999999999,
          0.014785992217898832,
          0.10091743119266056,
          0.018062397372742203,
          0.045871559633027525,
          0.01937984496124031,
          0.01761846901579587,
          0.08868501529051988,
          0.018251681075888565,
          0.0581039755351682,
          0.07645259938837921,
          0.01720578114246387,
          0.019723865877712035,
          0.06116207951070337,
          0.019466779517562424,
          0.14067278287461774,
          0.019455252918287938,
          0.07645259938837921,
          0.013683634373289545,
          0.11363636363636365,
          0.021798365122615806,
          0.07272727272727274,
          0.015188335358444716,
          0.11363636363636365,
          0.01440922190201729,
          0.06818181818181819,
          0.011849344054168431,
          0.1272727272727273,
          0.014785992217898832,
          0.08636363636363636,
          0.10759493670886075,
          0.007194244604316547,
          0.013229571984435798,
          0.10759493670886075,
          0.1024390243902439,
          0.011494252873563218,
          0.0975609756097561,
          0.012150668286755772,
          0.01440922190201729,
          0.07317073170731708,
          0.07804878048780489,
          0.011011699931176877,
          0.12682926829268293,
          0.011002962336013543,
          0.08370044052863436,
          0.010399562123700055,
          0.11453744493392069,
          0.015795868772782502,
          0.07929515418502203,
          0.012388162422573986,
          0.1277533039647577,
          0.012272534913245875,
          0.009304871373836891,
          0.06343283582089553,
          0.015188335358444716,
          0.09328358208955224,
          0.05970149253731344,
          0.017718715393134,
          0.0746268656716418,
          0.013764624913971096,
          0.01577909270216963,
          0.05970149253731344,
          0.015234870926787984,
          0.13432835820895522,
          0.014007782101167316,
          0.06716417910447761,
          0.026272577996715927,
          0.0995850622406639,
          0.02583979328165375,
          0.04149377593360996,
          0.025885558583106264,
          0.03941908713692946,
          0.036036036036036036,
          0.04149377593360996,
          0.027339003645200484,
          0.0933609958506224,
          0.02785782901056676,
          0.060165975103734434,
          0.031007751937984496,
          0.058091286307053944,
          0.021067415730337078,
          0.03112033195020747,
          0.026841018582243636,
          0.08091286307053942,
          0.021696252465483238,
          0.04564315352697095,
          0.02599388379204893,
          0.035269709543568464,
          0.02581464240372408,
          0.12655601659751037,
          0.024902723735408562,
          0.06639004149377593,
          0.126984126984127,
          0.01751505199781062,
          0.07936507936507937,
          0.012150668286755772,
          0.019212295869356386,
          0.07936507936507937,
          0.05952380952380953,
          0.010323468685478322,
          0.13095238095238096,
          0.013965298349555651,
          0.07627118644067797,
          0.009852216748768473,
          0.0847457627118644,
          0.012150668286755772,
          0.01440922190201729,
          0.0635593220338983,
          0.06779661016949153,
          0.017718715393134,
          0.08898305084745761,
          0.008887008040626322,
          0.014785992217898832,
          0.08050847457627118,
          0.09667673716012086,
          0.01751505199781062,
          0.07854984894259819,
          0.03359173126614987,
          0.07854984894259819,
          0.015795868772782502,
          0.015369836695485112,
          0.04833836858006043,
          0.06948640483383686,
          0.01582931865106676,
          0.018737672583826432,
          0.05740181268882175,
          0.10876132930513596,
          0.015234870926787984,
          0.020233463035019453,
          0.07854984894259819,
          0.09450171821305842,
          0.030103995621237,
          0.05154639175257732,
          0.03875968992248062,
          0.03264604810996563,
          0.025885558583106264,
          0.07731958762886597,
          0.027339003645200484,
          0.06529209621993126,
          0.03650336215177713,
          0.04639175257731958,
          0.02990033222591362,
          0.04639175257731958,
          0.037921348314606744,
          0.060137457044673534,
          0.024088093599449415,
          0.048109965635738834,
          0.027613412228796846,
          0.03951890034364261,
          0.035168195718654434,
          0.14432989690721648,
          0.03554803216250529,
          0.07388316151202749,
          0.03346303501945525,
          0.12107623318385649,
          0.014778325123152709,
          0.08968609865470852,
          0.012150668286755772,
          0.12107623318385649,
          0.01858224363386098,
          0.13004484304932734,
          0.012272534913245875,
          0.07174887892376682,
          0.012451361867704281,
          0.07590759075907591,
          0.012588943623426383,
          0.0858085808580858,
          0.015795868772782502,
          0.019212295869356386,
          0.06600660066006601,
          0.07260726072607261,
          0.015141087405368205,
          0.05940594059405941,
          0.017751479289940832,
          0.02446483180428135,
          0.05280528052805281,
          0.14521452145214522,
          0.018620397799407534,
          0.014785992217898832,
          0.0627062706270627,
          0.0710594315245478,
          0.030103995621237,
          0.10081743869209808,
          0.04050355774493705,
          0.03229337712096333,
          0.10630630630630632,
          0.1282051282051282,
          0.008210180623973728,
          0.10828025477707005,
          0.009304871373836891,
          0.0959902794653706,
          0.08648056923918994,
          0.07588856868395773,
          0.04324028461959497,
          0.11743772241992884,
          0.018062397372742203,
          0.04926108374384236,
          0.09966777408637872,
          0.1056338028169014,
          0.008210180623973728,
          0.10393258426966293,
          0.04050355774493705,
          0.09999999999999999,
          0.011494252873563218,
          0.07936507936507937,
          0.09979353062629044,
          0.12000000000000001,
          0.009852216748768473,
          0.11961722488038277,
          0.013683634373289545,
          0.013683634373289545,
          0.10460251046025104,
          0.07169811320754717,
          0.010399562123700055,
          0.09270216962524655,
          0.051450465243568694,
          0.09386281588447654,
          0.014230979748221127,
          0.09480122324159021,
          0.03393541324575807,
          0.10863509749303622,
          0.021346469622331693,
          0.09394837071519255,
          0.12151067323481116,
          0.09416342412451362,
          0.0662287903667214,
          0.14173228346456695,
          0.010935601458080195,
          0.1322314049586777,
          0.006771053745239104,
          0.04495912806539509,
          0.04263565891472869,
          0.02971576227390181,
          0.04144144144144145,
          0.03584447144592953,
          0.07622739018087855,
          0.04130643611911623,
          0.05555555555555556,
          0.06201550387596899,
          0.05315614617940199,
          0.02808988764044944,
          0.02583979328165375,
          0.07881136950904392,
          0.04198210598761184,
          0.04142011834319527,
          0.05426356589147287,
          0.035168195718654434,
          0.02971576227390181,
          0.041049513330512065,
          0.12532299741602068,
          0.04202334630350194,
          0.06976744186046512,
          0.00634786288616166,
          0.11194029850746269,
          0.0326975476839237,
          0.043243243243243246,
          0.10081743869209808,
          0.04495747266099635,
          0.03842459173871277,
          0.05449591280653951,
          0.04359673024523161,
          0.035437430786268,
          0.03814713896457766,
          0.03932584269662922,
          0.08038147138964577,
          0.04060564349621473,
          0.03057199211045365,
          0.04223433242506812,
          0.03822629969418961,
          0.03405994550408719,
          0.13487738419618528,
          0.041895895048666955,
          0.04202334630350194,
          0.07356948228882833,
          0.030984204131227218,
          0.0918918918918919,
          0.024975984630163303,
          0.04684684684684685,
          0.04144144144144145,
          0.02547065337763012,
          0.032303370786516857,
          0.04144144144144145,
          0.08108108108108109,
          0.030970406056434963,
          0.022682445759368838,
          0.04144144144144145,
          0.031739314430808296,
          0.13513513513513514,
          0.03579766536964981,
          0.0828828828828829,
          0.1282051282051282,
          0.00634786288616166,
          0.14473684210526316,
          0.013365735115431349,
          0.015369836695485112,
          0.10526315789473686,
          0.14473684210526316,
          0.009310198899703767,
          0.12738853503184713,
          0.012150668286755772,
          0.08261287223823247,
          0.05224787363304982,
          0.10320284697508897,
          0.01761846901579587,
          0.04860267314702309,
          0.08859357696566998,
          0.14150943396226415,
          0.00911300121506683,
          0.04313487241798299,
          0.09971910112359551,
          0.07351154313487242,
          0.08327598072952512,
          0.1,
          0.00911300121506683,
          0.0861244019138756,
          0.010935601458080195,
          0.011543134872417983,
          0.0794979079497908,
          0.08974358974358976,
          0.05528554070473877,
          0.08664259927797834,
          0.014580801944106925,
          0.0672782874617737,
          0.026731470230862697,
          0.08913649025069639,
          0.019441069258809236,
          0.12697448359659783,
          0.0884468895471858,
          0.09105058365758756,
          0.07108140947752127,
          0.015369836695485112,
          0.05693950177935944,
          0.04803073967339097,
          0.05537098560354374,
          0.04803073967339097,
          0.0702247191011236,
          0.01729106628242075,
          0.08571428571428572,
          0.07588856868395773,
          0.05437026841018583,
          0.05283381364073006,
          0.054240631163708086,
          0.019212295869356386,
          0.07220216606498195,
          0.03554274735830931,
          0.05657492354740061,
          0.018251681075888565,
          0.052924791086350974,
          0.10854947166186359,
          0.04782056707575117,
          0.06147934678194045,
          0.049805447470817124,
          0.0604982206405694,
          0.018826135105204873,
          0.07473309608540925,
          0.014452856159669649,
          0.053380782918149475,
          0.014792899408284025,
          0.10320284697508897,
          0.012272534913245875,
          0.0818505338078292,
          0.017898832684824905,
          0.04073033707865169,
          0.03211517165005537,
          0.08095238095238094,
          0.018826135105204873,
          0.06125258086717137,
          0.09856035437430785,
          0.045364891518737675,
          0.05094130675526024,
          0.0489296636085627,
          0.035437430786268,
          0.0584958217270195,
          0.02325581395348837,
          0.056707575116377494,
          0.14839424141749724,
          0.0669260700389105,
          0.09523809523809523,
          0.176056338028169,
          0.0105797714769361,
          0.09269662921348315,
          0.04542326221610462,
          0.04043392504930967,
          0.05758426966292135,
          0.027522935779816515,
          0.025280898876404497,
          0.040203131612357175,
          0.13342696629213482,
          0.04124513618677043,
          0.07443820224719101,
          0.08095238095238094,
          0.011699931176875431,
          0.10476190476190475,
          0.009310198899703767,
          0.0909090909090909,
          0.01307639366827254,
          0.014452856159669649,
          0.08786610878661087,
          0.06792452830188679,
          0.012388162422573986,
          0.07988165680473373,
          0.055746730901582935,
          0.0779816513761468,
          0.03509979353062629,
          0.06406685236768803,
          0.01582931865106676,
          0.07363520947947524,
          0.11975223675154853,
          0.06770428015564202,
          0.059876118375774265,
          0.12000000000000001,
          0.007617435463393992,
          0.014785992217898832,
          0.12666666666666665,
          0.11961722488038277,
          0.0105797714769361,
          0.014007782101167316,
          0.0861244019138756,
          0.019723865877712035,
          0.08368200836820083,
          0.008463817181548879,
          0.08368200836820083,
          0.05660377358490566,
          0.014792899408284025,
          0.13962264150943396,
          0.015658061785865426,
          0.06137184115523466,
          0.01676528599605523,
          0.05657492354740061,
          0.036489151873767264,
          0.04178272980501393,
          0.014792899408284025,
          0.121301775147929,
          0.052052475666525606,
          0.06070038910505837,
          0.07692307692307694,
          0.14079422382671483,
          0.016504443504020316,
          0.013229571984435798,
          0.06137184115523466,
          0.022935779816513763,
          0.04178272980501393,
          0.1055045871559633,
          0.029200169276343634,
          0.03424124513618677,
          0.0672782874617737,
          0.1309192200557103,
          0.019889970376639865,
          0.012451361867704281,
          0.044568245125348196,
          0.008040626322471435,
          0.10857142857142857,
          0.1299610894941634,
          0.07067287346593314,
          0.10759493670886075,
          0.14049586776859505,
          0.11724137931034483,
          0.010328068043742407,
          0.009304871373836891,
          0.011699931176875431,
          0.11392405063291139,
          0.08108108108108109,
          0.0861244019138756,
          0.009852216748768473,
          0.010935601458080195,
          0.007617435463393992,
          0.07657657657657659,
          0.09770114942528735,
          0.11724137931034483,
          0.007194244604316547,
          0.009304871373836891,
          0.011699931176875431,
          0.10179640718562874,
          0.14049586776859505,
          0.07657657657657659,
          0.013229571984435798,
          0.007194244604316547,
          0.009304871373836891,
          0.08133971291866028,
          0.2125,
          0.12686567164179105,
          0.010328068043742407,
          0.007194244604316547,
          0.018826135105204873,
          0.07177033492822966,
          0.12396694214876033,
          0.08620689655172414,
          0.00911300121506683,
          0.00634786288616166,
          0.010323468685478322,
          0.17094017094017094,
          0.11976047904191618,
          0.09569377990430622,
          0.01556420233463035,
          0.012150668286755772,
          0.008463817181548879,
          0.09195402298850576,
          0.17977528089887643,
          0.11940298507462688,
          0.011011699931176877,
          0.006771053745239104,
          0.017718715393134,
          0.1317365269461078,
          0.2558139534883721,
          0.16417910447761194,
          0.017120622568093383,
          0.009310198899703767,
          0.024363233665559245
         ],
         "xaxis": "x",
         "y": [
          0,
          1,
          2,
          3,
          4,
          5,
          6,
          7,
          8,
          9,
          10,
          11,
          12,
          13,
          14,
          15,
          16,
          17,
          18,
          19,
          20,
          21,
          22,
          23,
          24,
          25,
          26,
          27,
          28,
          29,
          30,
          31,
          32,
          33,
          34,
          35,
          36,
          37,
          38,
          39,
          40,
          41,
          42,
          43,
          44,
          45,
          46,
          47,
          48,
          49,
          50,
          51,
          52,
          53,
          54,
          55,
          56,
          57,
          58,
          59,
          60,
          61,
          62,
          63,
          64,
          65,
          66,
          67,
          68,
          69,
          70,
          71,
          72,
          73,
          74,
          75,
          76,
          77,
          78,
          79,
          80,
          81,
          82,
          83,
          84,
          85,
          86,
          87,
          88,
          89,
          90,
          91,
          92,
          93,
          94,
          95,
          96,
          97,
          98,
          99,
          100,
          101,
          102,
          103,
          104,
          105,
          106,
          107,
          108,
          109,
          110,
          111,
          112,
          113,
          114,
          115,
          116,
          117,
          118,
          119,
          120,
          121,
          122,
          123,
          124,
          125,
          126,
          127,
          128,
          129,
          130,
          131,
          132,
          133,
          134,
          135,
          136,
          137,
          138,
          139,
          140,
          141,
          142,
          143,
          144,
          145,
          146,
          147,
          148,
          149,
          150,
          151,
          152,
          153,
          154,
          155,
          156,
          157,
          158,
          159,
          160,
          161,
          162,
          163,
          164,
          165,
          166,
          167,
          168,
          169,
          170,
          171,
          172,
          173,
          174,
          175,
          176,
          177,
          178,
          179,
          180,
          181,
          182,
          183,
          184,
          185,
          186,
          187,
          188,
          189,
          190,
          191,
          192,
          193,
          194,
          195,
          196,
          197,
          198,
          199,
          200,
          201,
          202,
          203,
          204,
          205,
          206,
          207,
          208,
          209,
          210,
          211,
          212,
          213,
          214,
          215,
          216,
          217,
          218,
          219,
          220,
          221,
          222,
          223,
          224,
          225,
          226,
          227,
          228,
          229,
          230,
          231,
          232,
          233,
          234,
          235,
          236,
          237,
          238,
          239,
          240,
          241,
          242,
          243,
          244,
          245,
          246,
          247,
          248,
          249,
          250,
          251,
          252,
          253,
          254,
          255,
          256,
          257,
          258,
          259,
          260,
          261,
          262,
          263,
          264,
          265,
          266,
          267,
          268,
          269,
          270,
          271,
          272,
          273,
          274,
          275,
          276,
          277,
          278,
          279,
          280,
          281,
          282,
          283,
          284,
          285,
          286,
          287,
          288,
          289,
          290,
          291,
          292,
          293,
          294,
          295,
          296,
          297,
          298,
          299,
          300,
          301,
          302,
          303,
          304,
          305,
          306,
          307,
          308,
          309,
          310,
          311,
          312,
          313,
          314,
          315,
          316,
          317,
          318,
          319,
          320,
          321,
          322,
          323,
          324,
          325,
          326,
          327,
          328,
          329,
          330,
          331,
          332,
          333,
          334,
          335,
          336,
          337,
          338,
          339,
          340,
          341,
          342,
          343,
          344,
          345,
          346,
          347,
          348,
          349,
          350,
          351,
          352,
          353,
          354,
          355,
          356,
          357,
          358,
          359,
          360,
          361,
          362,
          363,
          364,
          365,
          366,
          367,
          368,
          369,
          370,
          371,
          372,
          373,
          374,
          375,
          376,
          377,
          378,
          379,
          380,
          381,
          382,
          383,
          384,
          385,
          386,
          387,
          388,
          389,
          390,
          391,
          392,
          393,
          394,
          395,
          396,
          397,
          398,
          399,
          400,
          401,
          402,
          403,
          404,
          405,
          406,
          407,
          408,
          409,
          410,
          411,
          412,
          413,
          414,
          415,
          416,
          417,
          418,
          419,
          420,
          421,
          422,
          423,
          424,
          425,
          426,
          427,
          428,
          429,
          430,
          431,
          432,
          433,
          434,
          435,
          436,
          437,
          438,
          439,
          440,
          441,
          442,
          443,
          444,
          445,
          446,
          447,
          448,
          449,
          450,
          451,
          452,
          453,
          454,
          455,
          456,
          457,
          458,
          459,
          460,
          461,
          462,
          463,
          464,
          465,
          466,
          467,
          468,
          469,
          470,
          471,
          472,
          473,
          474,
          475,
          476,
          477,
          478,
          479,
          480,
          481,
          482,
          483,
          484,
          485,
          486,
          487,
          488,
          489,
          490,
          491,
          492,
          493,
          494,
          495,
          496,
          497,
          498,
          499,
          500,
          501,
          502,
          503,
          504,
          505,
          506,
          507,
          508,
          509,
          510,
          511,
          512,
          513,
          514,
          515,
          516,
          517,
          518,
          519,
          520,
          521,
          522,
          523,
          524,
          525,
          526,
          527,
          528,
          529,
          530,
          531,
          532,
          533,
          534,
          535,
          536,
          537,
          538,
          539,
          540,
          541,
          542,
          543,
          544,
          545,
          546,
          547,
          548,
          549,
          550,
          551,
          552,
          553,
          554,
          555,
          556,
          557,
          558,
          559,
          560,
          561,
          562,
          563,
          564,
          565,
          566,
          567,
          568,
          569,
          570,
          571,
          572,
          573,
          574,
          575,
          576,
          577,
          578,
          579,
          580,
          581,
          582,
          583,
          584,
          585,
          586,
          587,
          588,
          589,
          590,
          591,
          592,
          593,
          594,
          595,
          596,
          597,
          598,
          599,
          600,
          601,
          602,
          603,
          604,
          605,
          606,
          607,
          608,
          609,
          610,
          611,
          612,
          613,
          614,
          615,
          616,
          617,
          618,
          619,
          620,
          621,
          622,
          623,
          624,
          625,
          626,
          627,
          628,
          629,
          630,
          631,
          632,
          633,
          634,
          635,
          636,
          637,
          638,
          639,
          640,
          641,
          642,
          643,
          644,
          645,
          646,
          647,
          648,
          649,
          650,
          651,
          652,
          653,
          654,
          655,
          656,
          657,
          658,
          659,
          660,
          661,
          662,
          663,
          664,
          665,
          666,
          667,
          668,
          669,
          670,
          671,
          672,
          673,
          674,
          675,
          676,
          677,
          678,
          679,
          680,
          681,
          682,
          683,
          684,
          685,
          686,
          687,
          688,
          689,
          690,
          691,
          692,
          693,
          694,
          695,
          696,
          697,
          698,
          699,
          700,
          701,
          702,
          703,
          704,
          705,
          706,
          707,
          708,
          709,
          710,
          711,
          712,
          713,
          714,
          715,
          716,
          717,
          718,
          719,
          720,
          721,
          722,
          723,
          724,
          725,
          726,
          727,
          728,
          729,
          730,
          731,
          732,
          733,
          734,
          735,
          736,
          737,
          738,
          739,
          740,
          741,
          742,
          743,
          744,
          745,
          746,
          747,
          748,
          749,
          750,
          751,
          752,
          753,
          754,
          755,
          756,
          757,
          758,
          759,
          760,
          761,
          762,
          763,
          764,
          765,
          766,
          767,
          768,
          769,
          770,
          771,
          772,
          773,
          774,
          775,
          776,
          777,
          778,
          779,
          780,
          781,
          782,
          783,
          784,
          785,
          786,
          787,
          788,
          789,
          790,
          791,
          792,
          793,
          794,
          795,
          796,
          797,
          798,
          799,
          800,
          801,
          802,
          803,
          804,
          805,
          806,
          807,
          808,
          809,
          810,
          811,
          812,
          813,
          814,
          815,
          816,
          817,
          818,
          819,
          820,
          821,
          822,
          823,
          824,
          825,
          826,
          827,
          828,
          829,
          830,
          831,
          832,
          833,
          834,
          835,
          836,
          837,
          838,
          839,
          840,
          841,
          842,
          843,
          844,
          845,
          846,
          847,
          848,
          849,
          850,
          851,
          852,
          853,
          854,
          855,
          856,
          857,
          858,
          859,
          860,
          861,
          862,
          863,
          864,
          865,
          866,
          867,
          868,
          869,
          870,
          871,
          872,
          873,
          874,
          875,
          876,
          877,
          878,
          879,
          880,
          881,
          882,
          883,
          884,
          885,
          886,
          887,
          888,
          889,
          890,
          891,
          892,
          893,
          894,
          895,
          896,
          897,
          898,
          899,
          900,
          901,
          902,
          903,
          904,
          905,
          906,
          907,
          908,
          909,
          910,
          911,
          912,
          913,
          914,
          915,
          916,
          917,
          918,
          919,
          920,
          921,
          922,
          923,
          924,
          925,
          926,
          927,
          928,
          929,
          930,
          931,
          932,
          933,
          934,
          935,
          936,
          937,
          938,
          939,
          940,
          941,
          942,
          943,
          944,
          945,
          946,
          947,
          948,
          949,
          950,
          951,
          952,
          953,
          954,
          955,
          956,
          957,
          958,
          959,
          960,
          961,
          962,
          963,
          964,
          965,
          966,
          967,
          968,
          969,
          970,
          971,
          972,
          973,
          974,
          975,
          976,
          977,
          978,
          979,
          980,
          981,
          982,
          983,
          984,
          985,
          986,
          987,
          988,
          989,
          990,
          991,
          992,
          993,
          994,
          995,
          996,
          997,
          998,
          999,
          1000,
          1001,
          1002,
          1003,
          1004,
          1005,
          1006,
          1007,
          1008,
          1009,
          1010,
          1011,
          1012,
          1013,
          1014,
          1015,
          1016,
          1017,
          1018,
          1019,
          1020,
          1021,
          1022,
          1023,
          1024,
          1025,
          1026,
          1027,
          1028,
          1029,
          1030,
          1031,
          1032,
          1033,
          1034,
          1035,
          1036,
          1037,
          1038,
          1039,
          1040,
          1041,
          1042,
          1043,
          1044,
          1045,
          1046,
          1047,
          1048,
          1049,
          1050,
          1051,
          1052,
          1053,
          1054,
          1055,
          1056,
          1057,
          1058,
          1059,
          1060,
          1061,
          1062,
          1063,
          1064,
          1065,
          1066,
          1067,
          1068,
          1069,
          1070,
          1071,
          1072,
          1073,
          1074,
          1075,
          1076,
          1077,
          1078,
          1079,
          1080,
          1081,
          1082,
          1083,
          1084,
          1085,
          1086,
          1087,
          1088,
          1089,
          1090,
          1091,
          1092,
          1093,
          1094,
          1095,
          1096,
          1097,
          1098,
          1099,
          1100,
          1101,
          1102,
          1103,
          1104,
          1105,
          1106,
          1107,
          1108,
          1109,
          1110,
          1111,
          1112,
          1113,
          1114,
          1115,
          1116,
          1117,
          1118,
          1119,
          1120,
          1121,
          1122,
          1123,
          1124,
          1125,
          1126,
          1127,
          1128,
          1129,
          1130,
          1131,
          1132,
          1133,
          1134,
          1135,
          1136,
          1137,
          1138,
          1139,
          1140,
          1141,
          1142,
          1143,
          1144,
          1145,
          1146,
          1147,
          1148,
          1149,
          1150,
          1151,
          1152,
          1153,
          1154,
          1155,
          1156,
          1157,
          1158,
          1159,
          1160,
          1161,
          1162,
          1163,
          1164,
          1165,
          1166,
          1167,
          1168,
          1169,
          1170,
          1171,
          1172,
          1173,
          1174,
          1175,
          1176,
          1177,
          1178,
          1179,
          1180,
          1181,
          1182,
          1183,
          1184,
          1185,
          1186,
          1187,
          1188,
          1189,
          1190,
          1191,
          1192,
          1193,
          1194,
          1195,
          1196,
          1197,
          1198,
          1199,
          1200,
          1201,
          1202,
          1203,
          1204,
          1205,
          1206,
          1207,
          1208,
          1209,
          1210,
          1211,
          1212,
          1213,
          1214,
          1215,
          1216,
          1217,
          1218,
          1219,
          1220,
          1221,
          1222,
          1223,
          1224,
          1225,
          1226,
          1227,
          1228,
          1229,
          1230,
          1231,
          1232,
          1233,
          1234,
          1235,
          1236,
          1237
         ],
         "yaxis": "y"
        }
       ],
       "layout": {
        "font": {
         "color": "black",
         "family": "Courier New"
        },
        "legend": {
         "tracegroupgap": 0
        },
        "margin": {
         "t": 60
        },
        "template": {
         "data": {
          "bar": [
           {
            "error_x": {
             "color": "#2a3f5f"
            },
            "error_y": {
             "color": "#2a3f5f"
            },
            "marker": {
             "line": {
              "color": "#E5ECF6",
              "width": 0.5
             },
             "pattern": {
              "fillmode": "overlay",
              "size": 10,
              "solidity": 0.2
             }
            },
            "type": "bar"
           }
          ],
          "barpolar": [
           {
            "marker": {
             "line": {
              "color": "#E5ECF6",
              "width": 0.5
             },
             "pattern": {
              "fillmode": "overlay",
              "size": 10,
              "solidity": 0.2
             }
            },
            "type": "barpolar"
           }
          ],
          "carpet": [
           {
            "aaxis": {
             "endlinecolor": "#2a3f5f",
             "gridcolor": "white",
             "linecolor": "white",
             "minorgridcolor": "white",
             "startlinecolor": "#2a3f5f"
            },
            "baxis": {
             "endlinecolor": "#2a3f5f",
             "gridcolor": "white",
             "linecolor": "white",
             "minorgridcolor": "white",
             "startlinecolor": "#2a3f5f"
            },
            "type": "carpet"
           }
          ],
          "choropleth": [
           {
            "colorbar": {
             "outlinewidth": 0,
             "ticks": ""
            },
            "type": "choropleth"
           }
          ],
          "contour": [
           {
            "colorbar": {
             "outlinewidth": 0,
             "ticks": ""
            },
            "colorscale": [
             [
              0,
              "#0d0887"
             ],
             [
              0.1111111111111111,
              "#46039f"
             ],
             [
              0.2222222222222222,
              "#7201a8"
             ],
             [
              0.3333333333333333,
              "#9c179e"
             ],
             [
              0.4444444444444444,
              "#bd3786"
             ],
             [
              0.5555555555555556,
              "#d8576b"
             ],
             [
              0.6666666666666666,
              "#ed7953"
             ],
             [
              0.7777777777777778,
              "#fb9f3a"
             ],
             [
              0.8888888888888888,
              "#fdca26"
             ],
             [
              1,
              "#f0f921"
             ]
            ],
            "type": "contour"
           }
          ],
          "contourcarpet": [
           {
            "colorbar": {
             "outlinewidth": 0,
             "ticks": ""
            },
            "type": "contourcarpet"
           }
          ],
          "heatmap": [
           {
            "colorbar": {
             "outlinewidth": 0,
             "ticks": ""
            },
            "colorscale": [
             [
              0,
              "#0d0887"
             ],
             [
              0.1111111111111111,
              "#46039f"
             ],
             [
              0.2222222222222222,
              "#7201a8"
             ],
             [
              0.3333333333333333,
              "#9c179e"
             ],
             [
              0.4444444444444444,
              "#bd3786"
             ],
             [
              0.5555555555555556,
              "#d8576b"
             ],
             [
              0.6666666666666666,
              "#ed7953"
             ],
             [
              0.7777777777777778,
              "#fb9f3a"
             ],
             [
              0.8888888888888888,
              "#fdca26"
             ],
             [
              1,
              "#f0f921"
             ]
            ],
            "type": "heatmap"
           }
          ],
          "heatmapgl": [
           {
            "colorbar": {
             "outlinewidth": 0,
             "ticks": ""
            },
            "colorscale": [
             [
              0,
              "#0d0887"
             ],
             [
              0.1111111111111111,
              "#46039f"
             ],
             [
              0.2222222222222222,
              "#7201a8"
             ],
             [
              0.3333333333333333,
              "#9c179e"
             ],
             [
              0.4444444444444444,
              "#bd3786"
             ],
             [
              0.5555555555555556,
              "#d8576b"
             ],
             [
              0.6666666666666666,
              "#ed7953"
             ],
             [
              0.7777777777777778,
              "#fb9f3a"
             ],
             [
              0.8888888888888888,
              "#fdca26"
             ],
             [
              1,
              "#f0f921"
             ]
            ],
            "type": "heatmapgl"
           }
          ],
          "histogram": [
           {
            "marker": {
             "pattern": {
              "fillmode": "overlay",
              "size": 10,
              "solidity": 0.2
             }
            },
            "type": "histogram"
           }
          ],
          "histogram2d": [
           {
            "colorbar": {
             "outlinewidth": 0,
             "ticks": ""
            },
            "colorscale": [
             [
              0,
              "#0d0887"
             ],
             [
              0.1111111111111111,
              "#46039f"
             ],
             [
              0.2222222222222222,
              "#7201a8"
             ],
             [
              0.3333333333333333,
              "#9c179e"
             ],
             [
              0.4444444444444444,
              "#bd3786"
             ],
             [
              0.5555555555555556,
              "#d8576b"
             ],
             [
              0.6666666666666666,
              "#ed7953"
             ],
             [
              0.7777777777777778,
              "#fb9f3a"
             ],
             [
              0.8888888888888888,
              "#fdca26"
             ],
             [
              1,
              "#f0f921"
             ]
            ],
            "type": "histogram2d"
           }
          ],
          "histogram2dcontour": [
           {
            "colorbar": {
             "outlinewidth": 0,
             "ticks": ""
            },
            "colorscale": [
             [
              0,
              "#0d0887"
             ],
             [
              0.1111111111111111,
              "#46039f"
             ],
             [
              0.2222222222222222,
              "#7201a8"
             ],
             [
              0.3333333333333333,
              "#9c179e"
             ],
             [
              0.4444444444444444,
              "#bd3786"
             ],
             [
              0.5555555555555556,
              "#d8576b"
             ],
             [
              0.6666666666666666,
              "#ed7953"
             ],
             [
              0.7777777777777778,
              "#fb9f3a"
             ],
             [
              0.8888888888888888,
              "#fdca26"
             ],
             [
              1,
              "#f0f921"
             ]
            ],
            "type": "histogram2dcontour"
           }
          ],
          "mesh3d": [
           {
            "colorbar": {
             "outlinewidth": 0,
             "ticks": ""
            },
            "type": "mesh3d"
           }
          ],
          "parcoords": [
           {
            "line": {
             "colorbar": {
              "outlinewidth": 0,
              "ticks": ""
             }
            },
            "type": "parcoords"
           }
          ],
          "pie": [
           {
            "automargin": true,
            "type": "pie"
           }
          ],
          "scatter": [
           {
            "fillpattern": {
             "fillmode": "overlay",
             "size": 10,
             "solidity": 0.2
            },
            "type": "scatter"
           }
          ],
          "scatter3d": [
           {
            "line": {
             "colorbar": {
              "outlinewidth": 0,
              "ticks": ""
             }
            },
            "marker": {
             "colorbar": {
              "outlinewidth": 0,
              "ticks": ""
             }
            },
            "type": "scatter3d"
           }
          ],
          "scattercarpet": [
           {
            "marker": {
             "colorbar": {
              "outlinewidth": 0,
              "ticks": ""
             }
            },
            "type": "scattercarpet"
           }
          ],
          "scattergeo": [
           {
            "marker": {
             "colorbar": {
              "outlinewidth": 0,
              "ticks": ""
             }
            },
            "type": "scattergeo"
           }
          ],
          "scattergl": [
           {
            "marker": {
             "colorbar": {
              "outlinewidth": 0,
              "ticks": ""
             }
            },
            "type": "scattergl"
           }
          ],
          "scattermapbox": [
           {
            "marker": {
             "colorbar": {
              "outlinewidth": 0,
              "ticks": ""
             }
            },
            "type": "scattermapbox"
           }
          ],
          "scatterpolar": [
           {
            "marker": {
             "colorbar": {
              "outlinewidth": 0,
              "ticks": ""
             }
            },
            "type": "scatterpolar"
           }
          ],
          "scatterpolargl": [
           {
            "marker": {
             "colorbar": {
              "outlinewidth": 0,
              "ticks": ""
             }
            },
            "type": "scatterpolargl"
           }
          ],
          "scatterternary": [
           {
            "marker": {
             "colorbar": {
              "outlinewidth": 0,
              "ticks": ""
             }
            },
            "type": "scatterternary"
           }
          ],
          "surface": [
           {
            "colorbar": {
             "outlinewidth": 0,
             "ticks": ""
            },
            "colorscale": [
             [
              0,
              "#0d0887"
             ],
             [
              0.1111111111111111,
              "#46039f"
             ],
             [
              0.2222222222222222,
              "#7201a8"
             ],
             [
              0.3333333333333333,
              "#9c179e"
             ],
             [
              0.4444444444444444,
              "#bd3786"
             ],
             [
              0.5555555555555556,
              "#d8576b"
             ],
             [
              0.6666666666666666,
              "#ed7953"
             ],
             [
              0.7777777777777778,
              "#fb9f3a"
             ],
             [
              0.8888888888888888,
              "#fdca26"
             ],
             [
              1,
              "#f0f921"
             ]
            ],
            "type": "surface"
           }
          ],
          "table": [
           {
            "cells": {
             "fill": {
              "color": "#EBF0F8"
             },
             "line": {
              "color": "white"
             }
            },
            "header": {
             "fill": {
              "color": "#C8D4E3"
             },
             "line": {
              "color": "white"
             }
            },
            "type": "table"
           }
          ]
         },
         "layout": {
          "annotationdefaults": {
           "arrowcolor": "#2a3f5f",
           "arrowhead": 0,
           "arrowwidth": 1
          },
          "autotypenumbers": "strict",
          "coloraxis": {
           "colorbar": {
            "outlinewidth": 0,
            "ticks": ""
           }
          },
          "colorscale": {
           "diverging": [
            [
             0,
             "#8e0152"
            ],
            [
             0.1,
             "#c51b7d"
            ],
            [
             0.2,
             "#de77ae"
            ],
            [
             0.3,
             "#f1b6da"
            ],
            [
             0.4,
             "#fde0ef"
            ],
            [
             0.5,
             "#f7f7f7"
            ],
            [
             0.6,
             "#e6f5d0"
            ],
            [
             0.7,
             "#b8e186"
            ],
            [
             0.8,
             "#7fbc41"
            ],
            [
             0.9,
             "#4d9221"
            ],
            [
             1,
             "#276419"
            ]
           ],
           "sequential": [
            [
             0,
             "#0d0887"
            ],
            [
             0.1111111111111111,
             "#46039f"
            ],
            [
             0.2222222222222222,
             "#7201a8"
            ],
            [
             0.3333333333333333,
             "#9c179e"
            ],
            [
             0.4444444444444444,
             "#bd3786"
            ],
            [
             0.5555555555555556,
             "#d8576b"
            ],
            [
             0.6666666666666666,
             "#ed7953"
            ],
            [
             0.7777777777777778,
             "#fb9f3a"
            ],
            [
             0.8888888888888888,
             "#fdca26"
            ],
            [
             1,
             "#f0f921"
            ]
           ],
           "sequentialminus": [
            [
             0,
             "#0d0887"
            ],
            [
             0.1111111111111111,
             "#46039f"
            ],
            [
             0.2222222222222222,
             "#7201a8"
            ],
            [
             0.3333333333333333,
             "#9c179e"
            ],
            [
             0.4444444444444444,
             "#bd3786"
            ],
            [
             0.5555555555555556,
             "#d8576b"
            ],
            [
             0.6666666666666666,
             "#ed7953"
            ],
            [
             0.7777777777777778,
             "#fb9f3a"
            ],
            [
             0.8888888888888888,
             "#fdca26"
            ],
            [
             1,
             "#f0f921"
            ]
           ]
          },
          "colorway": [
           "#636efa",
           "#EF553B",
           "#00cc96",
           "#ab63fa",
           "#FFA15A",
           "#19d3f3",
           "#FF6692",
           "#B6E880",
           "#FF97FF",
           "#FECB52"
          ],
          "font": {
           "color": "#2a3f5f"
          },
          "geo": {
           "bgcolor": "white",
           "lakecolor": "white",
           "landcolor": "#E5ECF6",
           "showlakes": true,
           "showland": true,
           "subunitcolor": "white"
          },
          "hoverlabel": {
           "align": "left"
          },
          "hovermode": "closest",
          "mapbox": {
           "style": "light"
          },
          "paper_bgcolor": "white",
          "plot_bgcolor": "#E5ECF6",
          "polar": {
           "angularaxis": {
            "gridcolor": "white",
            "linecolor": "white",
            "ticks": ""
           },
           "bgcolor": "#E5ECF6",
           "radialaxis": {
            "gridcolor": "white",
            "linecolor": "white",
            "ticks": ""
           }
          },
          "scene": {
           "xaxis": {
            "backgroundcolor": "#E5ECF6",
            "gridcolor": "white",
            "gridwidth": 2,
            "linecolor": "white",
            "showbackground": true,
            "ticks": "",
            "zerolinecolor": "white"
           },
           "yaxis": {
            "backgroundcolor": "#E5ECF6",
            "gridcolor": "white",
            "gridwidth": 2,
            "linecolor": "white",
            "showbackground": true,
            "ticks": "",
            "zerolinecolor": "white"
           },
           "zaxis": {
            "backgroundcolor": "#E5ECF6",
            "gridcolor": "white",
            "gridwidth": 2,
            "linecolor": "white",
            "showbackground": true,
            "ticks": "",
            "zerolinecolor": "white"
           }
          },
          "shapedefaults": {
           "line": {
            "color": "#2a3f5f"
           }
          },
          "ternary": {
           "aaxis": {
            "gridcolor": "white",
            "linecolor": "white",
            "ticks": ""
           },
           "baxis": {
            "gridcolor": "white",
            "linecolor": "white",
            "ticks": ""
           },
           "bgcolor": "#E5ECF6",
           "caxis": {
            "gridcolor": "white",
            "linecolor": "white",
            "ticks": ""
           }
          },
          "title": {
           "x": 0.05
          },
          "xaxis": {
           "automargin": true,
           "gridcolor": "white",
           "linecolor": "white",
           "ticks": "",
           "title": {
            "standoff": 15
           },
           "zerolinecolor": "white",
           "zerolinewidth": 2
          },
          "yaxis": {
           "automargin": true,
           "gridcolor": "white",
           "linecolor": "white",
           "ticks": "",
           "title": {
            "standoff": 15
           },
           "zerolinecolor": "white",
           "zerolinewidth": 2
          }
         }
        },
        "title": {
         "text": "support vs confidence"
        },
        "xaxis": {
         "anchor": "y",
         "domain": [
          0,
          1
         ],
         "title": {
          "text": "support"
         }
        },
        "yaxis": {
         "anchor": "x",
         "domain": [
          0,
          1
         ],
         "title": {
          "text": "confidence"
         }
        }
       }
      }
     },
     "metadata": {},
     "output_type": "display_data"
    }
   ],
   "source": [
    "plot_rule_px_scatter(rules, x = 'support', y = 'confidence')"
   ]
  },
  {
   "cell_type": "code",
   "execution_count": 25,
   "metadata": {},
   "outputs": [
    {
     "data": {
      "application/vnd.plotly.v1+json": {
       "config": {
        "plotlyServerURL": "https://plot.ly"
       },
       "data": [
        {
         "hovertemplate": "x=%{x}<br>index=%{y}<extra></extra>",
         "legendgroup": "",
         "marker": {
          "color": "#636efa",
          "symbol": "circle"
         },
         "mode": "markers",
         "name": "",
         "showlegend": false,
         "type": "scattergl",
         "x": [
          0.8239537444933921,
          0.8239537444933921,
          0.818992884510126,
          0.8189928845101259,
          0.767012834143378,
          0.7670128341433778,
          0.6737662103746397,
          0.6737662103746397,
          0.8802983111849391,
          0.8802983111849391,
          0.6114439951823814,
          0.6114439951823814,
          1.0606169871794873,
          1.0606169871794875,
          0.7519493228946255,
          0.7519493228946256,
          0.6186065175097276,
          0.6186065175097276,
          0.6950967412259309,
          0.6950967412259309,
          0.6487824759790489,
          0.6487824759790489,
          1.2033013524286376,
          1.2033013524286376,
          0.9501524003048006,
          0.9501524003048006,
          0.629374453193351,
          0.629374453193351,
          1.000349130886941,
          1.000349130886941,
          1.1103963567054118,
          1.110396356705412,
          0.9022167837128469,
          0.9022167837128469,
          0.7819838338791724,
          0.7819838338791724,
          1.3356557608103283,
          1.3356557608103283,
          0.9258852466624385,
          0.9258852466624385,
          1.2832971215734963,
          1.2832971215734963,
          1.2652373028113755,
          1.2652373028113755,
          0.6771201013666396,
          0.6771201013666396,
          0.6849935909174145,
          0.6849935909174145,
          0.4294735029324251,
          0.4294735029324251,
          0.7073661001308554,
          0.7073661001308554,
          0.7860109041847299,
          0.7860109041847297,
          0.5473348651446099,
          0.5473348651446099,
          0.49381687865939844,
          0.49381687865939844,
          0.9457939030556961,
          0.9457939030556961,
          0.8725479088706803,
          0.8725479088706802,
          0.7564248291920709,
          0.756424829192071,
          0.8087889516499555,
          0.8087889516499556,
          1.0048992447977005,
          1.0048992447977005,
          0.9488118450880616,
          0.9488118450880616,
          1.0630506009595293,
          1.063050600959529,
          0.6971259569583076,
          0.6971259569583076,
          0.7054566456274347,
          0.7054566456274347,
          0.6949573338850443,
          0.6949573338850443,
          0.860036180588328,
          0.8600361805883279,
          0.660414000088273,
          0.660414000088273,
          0.750096679477692,
          0.7500966794776921,
          1.0631661219269577,
          1.0631661219269577,
          0.8586215724702932,
          0.8586215724702932,
          0.659795986359895,
          0.659795986359895,
          1.536763655199514,
          1.5367636551995143,
          1.1626778855760054,
          1.1626778855760054,
          0.7404594351084598,
          0.7404594351084598,
          0.9236059672787285,
          0.9236059672787285,
          0.9015886239435807,
          0.9015886239435809,
          1.0469317615713143,
          1.046931761571314,
          0.8802578389599038,
          0.8802578389599038,
          0.7938604868317736,
          0.7938604868317736,
          0.9377898668805936,
          0.9377898668805936,
          0.6940038218214875,
          0.6940038218214876,
          0.7444017184061432,
          0.7444017184061432,
          0.9941135826091578,
          0.9941135826091578,
          0.9765186519435091,
          0.9765186519435091,
          1.1060996472849387,
          1.1060996472849387,
          1.083954888699573,
          1.083954888699573,
          1.0798444787240762,
          1.079844478724076,
          0.7325915861883254,
          0.7325915861883254,
          0.9859147077010408,
          0.9859147077010408,
          0.8455678748629617,
          0.8455678748629617,
          0.8839133947695379,
          0.8839133947695379,
          0.6915454976569971,
          0.6915454976569972,
          0.6362326928698611,
          0.6362326928698611,
          0.8044710158173745,
          0.8044710158173743,
          0.7844043196495313,
          0.7844043196495314,
          1.2220000849348451,
          1.2220000849348451,
          0.6819172384077424,
          0.6819172384077425,
          0.6683070526446149,
          0.6683070526446149,
          0.82705544209969,
          0.8270554420996898,
          0.6074125192822928,
          0.6074125192822928,
          0.9993302598941151,
          0.9993302598941151,
          0.8759030336420921,
          0.8759030336420921,
          0.6732126509182245,
          0.6732126509182245,
          0.8442789791772897,
          0.8442789791772898,
          0.5164382444118127,
          0.5164382444118127,
          0.7903633040704001,
          0.7903633040704001,
          0.9803415656861888,
          0.9803415656861889,
          0.808407447427479,
          0.808407447427479,
          0.8013080813254975,
          0.8013080813254976,
          0.9482007377106496,
          0.9482007377106496,
          0.7469269071894773,
          0.7469269071894773,
          0.9501448585149027,
          0.9501448585149027,
          0.9624946395852014,
          0.9624946395852014,
          0.6292725494937601,
          0.6292725494937601,
          0.5827570687968981,
          0.5827570687968983,
          0.7179679931270221,
          0.7179679931270221,
          0.7644931649938689,
          0.7644931649938689,
          0.8157957866271209,
          0.8157957866271209,
          0.739619124777867,
          0.739619124777867,
          0.9155041605482135,
          0.9155041605482135,
          0.6735316712480044,
          0.6735316712480044,
          0.6235325634004049,
          0.6235325634004049,
          0.7008112043078668,
          0.7008112043078668,
          0.8231622423372985,
          0.8231622423372984,
          0.8577148613773959,
          0.8577148613773958,
          0.694343043112409,
          0.694343043112409,
          0.8165818252377735,
          0.8165818252377733,
          1.368074141800349,
          1.368074141800349,
          0.8613323167287926,
          0.8613323167287925,
          0.6803287798569293,
          0.6803287798569292,
          0.8721515958425877,
          0.8721515958425877,
          0.7461959429605837,
          0.7461959429605837,
          0.7309784192392739,
          0.7309784192392739,
          0.7564686334053475,
          0.7564686334053475,
          1.3629366489046775,
          1.3629366489046777,
          0.8691935609995868,
          0.8691935609995867,
          0.9491880233443291,
          0.9491880233443291,
          0.8619653401180933,
          0.8619653401180934,
          1.0819063487322973,
          1.081906348732297,
          0.6691593727791438,
          0.6691593727791437,
          1.0301265369628376,
          1.0301265369628376,
          0.9052201857507223,
          0.9052201857507225,
          1.1971740834973519,
          1.1971740834973519,
          0.8073288169392835,
          0.8073288169392835,
          0.5106102719239425,
          0.5106102719239426,
          0.7946690427999034,
          0.7946690427999032,
          0.7092247590157065,
          0.7092247590157064,
          0.7865260702729334,
          0.7865260702729333,
          0.5766270437673636,
          0.5766270437673636,
          0.6502083095692041,
          0.650208309569204,
          1.1104706679794378,
          1.1104706679794378,
          0.7535661158671016,
          0.7535661158671016,
          0.7238943679980095,
          0.7238943679980095,
          0.6066835336285051,
          0.6066835336285051,
          1.0357118136359837,
          1.0357118136359837,
          1.0553072156638847,
          1.0553072156638847,
          1.1714117423381039,
          1.1714117423381039,
          1.2370302424275825,
          1.2370302424275825,
          1.024482090807723,
          1.024482090807723,
          0.6682484636420382,
          0.6682484636420382,
          0.8437133793252235,
          0.8437133793252235,
          0.6575986639711698,
          0.6575986639711698,
          0.7417314356464179,
          0.7417314356464179,
          0.8182360050090501,
          0.8182360050090501,
          0.911839304363906,
          0.911839304363906,
          0.7975502633093832,
          0.7975502633093833,
          0.9184178255810462,
          0.9184178255810461,
          0.6440179049287209,
          0.6440179049287209,
          0.7380388675150439,
          0.7380388675150439,
          0.84108982486965,
          0.84108982486965,
          0.729153345786664,
          0.7291533457866641,
          0.5916678633343114,
          0.5916678633343114,
          0.6567297608212558,
          0.6567297608212558,
          0.8197915867676224,
          0.8197915867676225,
          1.1985997778442345,
          1.1985997778442348,
          0.8222740939815093,
          0.8222740939815093,
          0.8416203568294823,
          0.8416203568294824,
          0.6019206106821097,
          0.6019206106821097,
          0.8412273823438031,
          0.8412273823438031,
          1.3131197893813076,
          1.3131197893813076,
          0.6475757691475414,
          0.6475757691475413,
          0.9301929978241826,
          0.9301929978241826,
          0.9100561788761025,
          0.9100561788761025,
          0.9424676947908159,
          0.942467694790816,
          0.974876481766356,
          0.974876481766356,
          0.8689492850164313,
          0.8689492850164314,
          0.9661105865071872,
          0.9661105865071872,
          0.6166550197996739,
          0.6166550197996739,
          0.6759455015268968,
          0.6759455015268968,
          0.7612433862433864,
          0.7612433862433864,
          0.6912912912912914,
          0.6912912912912913,
          0.7545067191084892,
          0.7545067191084891,
          1.0174135949792273,
          1.0174135949792273,
          0.9631448737539111,
          0.9631448737539111,
          0.7959889349930844,
          0.7959889349930843,
          1.0254550082728777,
          1.0254550082728777,
          0.699993918384723,
          0.699993918384723,
          0.7710785721121639,
          0.7710785721121639,
          0.6969421737814108,
          0.6969421737814108,
          0.9601267934601269,
          0.9601267934601269,
          0.8158161198865937,
          0.8158161198865937,
          0.6347351193652826,
          0.6347351193652826,
          1.137801502570186,
          1.137801502570186,
          0.8733645051474509,
          0.8733645051474509,
          0.8382230545151894,
          0.8382230545151895,
          0.6894675129361985,
          0.6894675129361985,
          0.7987800423697861,
          0.7987800423697861,
          0.7496035791142824,
          0.7496035791142824,
          1.3655730939853503,
          1.3655730939853503,
          0.8118211313302299,
          0.81182113133023,
          0.9620694624585674,
          0.9620694624585675,
          0.8217421449705159,
          0.8217421449705159,
          1.250543242068666,
          1.250543242068666,
          0.8943792124824568,
          0.8943792124824569,
          0.727993675120112,
          0.7279936751201119,
          0.8581670107822896,
          0.8581670107822897,
          0.8794728922744158,
          0.8794728922744159,
          1.358508430609598,
          1.3585084306095978,
          0.8124338265236868,
          0.8124338265236867,
          1.2103222184157438,
          1.2103222184157438,
          0.9697971352647614,
          0.9697971352647613,
          1.1166751246305862,
          1.1166751246305862,
          0.648123865439668,
          0.648123865439668,
          0.8808364161384071,
          0.8808364161384072,
          0.7821797058266194,
          0.7821797058266196,
          0.9373920062006289,
          0.9373920062006289,
          0.517038818512913,
          0.517038818512913,
          0.6357916988668202,
          0.6357916988668203,
          0.9575384636111336,
          0.9575384636111336,
          0.7902545135261373,
          0.7902545135261373,
          0.7431285740638259,
          0.7431285740638259,
          1.0424577768977479,
          1.0424577768977479,
          0.774442316650277,
          0.774442316650277,
          0.7539512358984407,
          0.7539512358984408,
          0.8530938763874785,
          0.8530938763874785,
          0.6496260840306948,
          0.6496260840306948,
          1.1549891548502134,
          1.1549891548502134,
          1.081591909651348,
          1.0815919096513482,
          0.7329354809741124,
          0.7329354809741124,
          0.9857698135582054,
          0.9857698135582053,
          0.7293204057639855,
          0.7293204057639855,
          0.8778601002397036,
          0.8778601002397037,
          0.789283320885368,
          0.7892833208853681,
          0.7916843950132825,
          0.7916843950132824,
          0.7958301753826107,
          0.7958301753826106,
          0.7975162562626585,
          0.7975162562626587,
          0.6348482579614655,
          0.6348482579614656,
          0.6443356564111281,
          0.644335656411128,
          0.8661167696332164,
          0.8661167696332165,
          1.0780744810194982,
          1.0780744810194982,
          0.7395435617995577,
          0.7395435617995577,
          0.6638247344659307,
          0.6638247344659307,
          1.1941059111896482,
          1.1941059111896482,
          0.582104648900992,
          0.582104648900992,
          0.7417294048393593,
          0.7417294048393592,
          0.7781450603741084,
          0.7781450603741084,
          0.5641286651928777,
          0.5641286651928777,
          0.6782480593801349,
          0.6782480593801348,
          0.8004233629076014,
          0.8004233629076014,
          0.5966432856650897,
          0.5966432856650898,
          0.37517708268037364,
          0.37517708268037364,
          0.7137322450710197,
          0.7137322450710197,
          0.7253940015669165,
          0.7253940015669166,
          1.6537617431120233,
          1.6537617431120233,
          0.7981454604096114,
          0.7981454604096115,
          0.892145096455292,
          0.8921450964552919,
          0.8912632925141466,
          0.8912632925141465,
          0.8522590140983773,
          0.8522590140983773,
          1.0106423904265471,
          1.0106423904265471,
          1.1969716016227645,
          1.1969716016227643,
          1.231776085614324,
          1.231776085614324,
          0.6752795453677571,
          0.6752795453677571,
          0.8582935903108969,
          0.8582935903108969,
          0.6895749203587744,
          0.6895749203587743,
          0.6918790892907144,
          0.6918790892907144,
          0.9116498406760453,
          0.9116498406760453,
          0.7006478288252219,
          0.700647828825222,
          0.9330326389053851,
          0.9330326389053851,
          0.805552120057794,
          0.805552120057794,
          0.7175421477747059,
          0.717542147774706,
          0.7630775369755184,
          0.7630775369755185,
          0.7631608821908341,
          0.7631608821908341,
          1.1221688915554224,
          1.1221688915554224,
          0.7403325509696055,
          0.7403325509696054,
          0.7190243768492014,
          0.7190243768492014,
          0.9744867223497614,
          0.9744867223497614,
          0.8425587026296526,
          0.8425587026296527,
          1.068582174823843,
          1.0685821748238433,
          0.639988957193572,
          0.639988957193572,
          0.875380269448066,
          0.8753802694480661,
          0.7691661227349129,
          0.7691661227349129,
          0.7894479984171998,
          0.7894479984171997,
          1.2615506542560369,
          1.2615506542560369,
          1.0509200730439672,
          1.0509200730439672,
          0.985510109991438,
          0.9855101099914378,
          0.861242517441204,
          0.8612425174412038,
          0.8055017226528854,
          0.8055017226528854,
          0.8089507374248519,
          0.8089507374248519,
          0.9093772343772346,
          0.9093772343772345,
          0.7395067889448206,
          0.7395067889448206,
          0.6274225027827334,
          0.6274225027827334,
          1.446615338641917,
          1.4466153386419167,
          0.7922490859639736,
          0.7922490859639736,
          0.8581670107822895,
          0.8581670107822896,
          0.8198005698005699,
          0.8198005698005699,
          1.1348811950876172,
          1.1348811950876174,
          0.7789617045859112,
          0.7789617045859112,
          0.7855320857266384,
          0.7855320857266384,
          0.7192288787482691,
          0.7192288787482691,
          0.772565649750963,
          0.772565649750963,
          0.6514982053103222,
          0.6514982053103221,
          1.0327112332514532,
          1.0327112332514532,
          1.0716093197950156,
          1.0716093197950156,
          0.6418019570723071,
          0.6418019570723072,
          0.668845790658822,
          0.6688457906588219,
          0.645777262542574,
          0.645777262542574,
          0.5937632962599619,
          0.5937632962599619,
          1.0570374975274803,
          1.0570374975274803,
          1.0308240411774547,
          1.0308240411774545,
          1.4442614544686756,
          1.4442614544686756,
          1.0020664912700312,
          1.0020664912700312,
          0.8474769464946283,
          0.8474769464946285,
          1.0654437943097737,
          1.0654437943097739,
          0.782101313135796,
          0.782101313135796,
          0.6966501385106036,
          0.6966501385106038,
          0.8743900657414172,
          0.8743900657414172,
          0.8353453088568521,
          0.8353453088568521,
          0.7769556299815666,
          0.7769556299815665,
          0.8061237317051271,
          0.8061237317051271,
          0.8330448425954045,
          0.8330448425954046,
          0.7050885710211243,
          0.7050885710211244,
          0.8508200508200511,
          0.850820050820051,
          1.126477452382745,
          1.126477452382745,
          0.9013408668931312,
          0.9013408668931312,
          0.6504055806779542,
          0.6504055806779542,
          1.6171408500175626,
          1.6171408500175628,
          0.8674253184076429,
          0.8674253184076429,
          1.0112911060890872,
          1.011291106089087,
          0.8845071891788516,
          0.8845071891788516,
          1.3186648551389857,
          1.318664855138986,
          0.7280600918407689,
          0.7280600918407689,
          1.1161495948191098,
          1.1161495948191096,
          0.8896160618325674,
          0.8896160618325674,
          0.9741771358298571,
          0.974177135829857,
          0.8849181173991119,
          0.8849181173991119,
          0.8395246231924716,
          0.8395246231924716,
          0.6452160448455984,
          0.6452160448455982,
          0.8554961718206227,
          0.8554961718206227,
          0.8384215751359715,
          0.8384215751359716,
          0.5223508055366464,
          0.5223508055366464,
          0.8908716949473628,
          0.8908716949473627,
          0.8853879311959075,
          0.8853879311959076,
          0.783160359491753,
          0.7831603594917531,
          0.9932870312746345,
          0.9932870312746345,
          1.0441343547539457,
          1.0441343547539454,
          0.7967788626780848,
          0.7967788626780848,
          1.2543270991339184,
          1.2543270991339182,
          0.9436418126530357,
          0.9436418126530357,
          0.7316093223382392,
          0.7316093223382392,
          0.9278372889763903,
          0.9278372889763903,
          0.9186793692595684,
          0.9186793692595684,
          0.9730576889310867,
          0.9730576889310867,
          0.8895260659383999,
          0.8895260659383998,
          1.0977511526231203,
          1.0977511526231203,
          1.2259664813919129,
          1.2259664813919129,
          0.7373272646339482,
          0.7373272646339482,
          0.5634906064500337,
          0.5634906064500338,
          0.8614216586859672,
          0.8614216586859671,
          0.8615157452894142,
          0.8615157452894142,
          0.9148399351099301,
          0.9148399351099301,
          0.7079702734468672,
          0.7079702734468672,
          0.8355695669169423,
          0.8355695669169422,
          0.8410544798531073,
          0.8410544798531072,
          1.0001360683874942,
          1.0001360683874942,
          0.7624544934691405,
          0.7624544934691405,
          0.8789757781853547,
          0.8789757781853547,
          0.6474187271913541,
          0.6474187271913541,
          0.9277114503047708,
          0.9277114503047709,
          0.8210717454003978,
          0.8210717454003977,
          0.7549387293311828,
          0.7549387293311827,
          0.9099920939001398,
          0.9099920939001398,
          0.7575435398946943,
          0.7575435398946944,
          1.064716974419184,
          1.064716974419184,
          1.2274311964234446,
          1.2274311964234448,
          1.001194845912671,
          1.0011948459126712,
          0.850157129198602,
          0.8501571291986019,
          0.7678058292282429,
          0.7678058292282429,
          0.6746872152187119,
          0.674687215218712,
          0.7240784153475568,
          0.7240784153475568,
          0.9799178685897435,
          0.9799178685897436,
          1.0141421789039355,
          1.0141421789039355,
          0.8642296935797663,
          0.8642296935797664,
          0.8265065806982922,
          0.8265065806982923,
          0.8867908873242777,
          0.8867908873242776,
          0.8061931250255462,
          0.8061931250255462,
          0.8351679019526624,
          0.8351679019526626,
          0.7873091842039355,
          0.7873091842039355,
          0.9025327373951229,
          0.9025327373951229,
          0.8907688743770231,
          0.890768874377023,
          0.8902414355239829,
          0.890241435523983,
          0.9306737323978703,
          0.9306737323978704,
          1.4825860787713652,
          1.482586078771365,
          1.0330139180382194,
          1.0330139180382194,
          0.9800235787267487,
          0.9800235787267488,
          0.8059169776478284,
          0.8059169776478284,
          1.0056490979837283,
          1.0056490979837283,
          0.6813131773062563,
          0.6813131773062563,
          1.2528739595133724,
          1.2528739595133722,
          0.8389683207176899,
          0.8389683207176899,
          0.8868802418279348,
          0.8868802418279347,
          1.0517326210726083,
          1.0517326210726086,
          0.8037466637570714,
          0.8037466637570713,
          0.8031089045549787,
          0.8031089045549787,
          0.685500652233145,
          0.685500652233145,
          1.0412052178288307,
          1.0412052178288307,
          0.8165818252377735,
          0.8165818252377733,
          0.808960087695586,
          0.808960087695586,
          0.5195104118161247,
          0.5195104118161247,
          0.8479964998821204,
          0.8479964998821204,
          0.9892729045800897,
          0.9892729045800898,
          0.7685077708498116,
          0.7685077708498116,
          0.8809797168006126,
          0.8809797168006125,
          0.8505946779012261,
          0.850594677901226,
          0.7820837447006215,
          0.7820837447006214,
          0.8155945737860174,
          0.8155945737860174,
          0.8021593918534959,
          0.8021593918534959,
          0.8035801101224461,
          0.8035801101224461,
          1.1186871518821726,
          1.1186871518821726,
          0.8487002314172922,
          0.8487002314172922,
          0.8648064221682789,
          0.8648064221682789,
          0.962591270224195,
          0.9625912702241951,
          0.654007762599655,
          0.654007762599655,
          0.8332409980209783,
          0.8332409980209783,
          0.6735290988403022,
          0.6735290988403022,
          0.8069429111627139,
          0.806942911162714,
          0.8013786188525382,
          0.8013786188525382,
          0.7730694092384197,
          0.7730694092384197,
          1.0399909644573029,
          1.0399909644573029,
          0.721470037994947,
          0.7214700379949469,
          1.1407681868776969,
          1.140768186877697,
          0.612976436273064,
          0.6129764362730641,
          0.8292172984301636,
          0.8292172984301636,
          0.6246555898806045,
          0.6246555898806044,
          0.7703832609098585,
          0.7703832609098585,
          0.9135813022029013,
          0.9135813022029012,
          1.1234116035062034,
          1.1234116035062036,
          0.5634589038639477,
          0.5634589038639477,
          0.9374694981204247,
          0.9374694981204247,
          0.7917755983179466,
          0.7917755983179465,
          1.5185289272972826,
          1.5185289272972826,
          0.714059167514032,
          0.714059167514032,
          0.6948002008294373,
          0.6948002008294373,
          0.7155712839151418,
          0.7155712839151419,
          0.8470446974978698,
          0.8470446974978698,
          0.6886990141315064,
          0.6886990141315064,
          0.914662560099686,
          0.914662560099686,
          0.7739623479047582,
          0.7739623479047582,
          0.9964969764777964,
          0.9964969764777963,
          0.6655079262526099,
          0.66550792625261,
          0.7028754493868296,
          0.7028754493868296,
          0.9384876424004144,
          0.9384876424004144,
          0.7687262389971571,
          0.7687262389971572,
          0.9749435306382485,
          0.9749435306382486,
          0.61929578097691,
          0.61929578097691,
          0.7099303903427616,
          0.7099303903427615,
          0.9041610181069181,
          0.904161018106918,
          0.9139264694975372,
          0.9139264694975371,
          0.8603219810929708,
          0.8603219810929706,
          0.9916057346086725,
          0.9916057346086725,
          0.8152934958507919,
          0.8152934958507919,
          1.246843549298035,
          1.246843549298035,
          0.8234705825421436,
          0.8234705825421436,
          0.8354696306119244,
          0.8354696306119245,
          0.6216777671198975,
          0.6216777671198976,
          0.7800448331588931,
          0.7800448331588931,
          0.9487576999774905,
          0.9487576999774906,
          0.7477098707806088,
          0.7477098707806088,
          0.8766184310738767,
          0.8766184310738768,
          1.2081428326318873,
          1.2081428326318873,
          0.9195280933086962,
          0.9195280933086961,
          0.730174262562443,
          0.730174262562443,
          0.5819716879593918,
          0.5819716879593918,
          0.8256876492336418,
          0.8256876492336418,
          0.870641084434188,
          0.870641084434188,
          1.0499908775770843,
          1.0499908775770845,
          0.8868075819536394,
          0.8868075819536395,
          0.7861535586427697,
          0.7861535586427698,
          0.6215219776781935,
          0.6215219776781935,
          0.96180659034997,
          0.9618065903499701,
          0.8162719779170688,
          0.8162719779170688,
          0.8651333287078794,
          0.8651333287078794,
          0.8512004698560297,
          0.8512004698560297,
          0.8189928845101259,
          0.8189928845101259,
          0.8173019150307521,
          0.817301915030752,
          0.9827914614121511,
          0.9827914614121511,
          0.9796565604188109,
          0.9796565604188108,
          0.8566871176884161,
          0.8566871176884162,
          0.5872024454978261,
          0.5872024454978261,
          0.7592241730172765,
          0.7592241730172765,
          0.768729783294703,
          0.768729783294703,
          0.7764152727771836,
          0.7764152727771836,
          0.8897137185486048,
          0.8897137185486048,
          0.7694304712706218,
          0.7694304712706219,
          0.7711917433908578,
          0.7711917433908578,
          1.2884205087972755,
          1.2884205087972753,
          0.8373163404133281,
          0.8373163404133281,
          0.8691517225355385,
          0.8691517225355386,
          0.8011476592871942,
          0.8011476592871943,
          0.6929468039346817,
          0.6929468039346816,
          0.7985377308143878,
          0.7985377308143878,
          1.0276168156103256,
          1.0276168156103256,
          0.5430348692041925,
          0.5430348692041925,
          0.8115998086468165,
          0.8115998086468165,
          0.8007354402703241,
          0.8007354402703241,
          0.6798730136152795,
          0.6798730136152795,
          0.7935708888429613,
          0.7935708888429613,
          0.81239706813863,
          0.81239706813863,
          0.7088288982510218,
          0.7088288982510217,
          0.8815376684586493,
          0.8815376684586493,
          0.9164831926791396,
          0.9164831926791395,
          0.7833067659214703,
          0.7833067659214703,
          0.7224118213282399,
          0.7224118213282399,
          0.8016792701221567,
          0.8016792701221567,
          0.8277687242968134,
          0.8277687242968134,
          0.6232271361699154,
          0.6232271361699155,
          0.7792644718312793,
          0.7792644718312792,
          0.8540712229062719,
          0.8540712229062719,
          0.856669387928201,
          0.856669387928201,
          0.8353453088568521,
          0.8353453088568521,
          0.6733615459840244,
          0.6733615459840243,
          0.6866979936747379,
          0.6866979936747378,
          0.870910517258832,
          0.8709105172588321,
          0.8349733077881737,
          0.8349733077881737,
          0.6115269115269116,
          0.6115269115269116,
          0.8557033546453776,
          0.8557033546453776,
          0.9651179584253516,
          0.9651179584253515,
          0.8118211313302299,
          0.81182113133023,
          1.315733516659206,
          1.3157335166592057,
          1.5130188583851563,
          1.5130188583851563,
          0.916503329843865,
          0.916503329843865,
          1.158028341240297,
          1.1580283412402967,
          0.7509941721146248,
          0.7509941721146248,
          0.938167800296632,
          0.938167800296632,
          0.8053619028780802,
          0.8053619028780802,
          1.2863946903872165,
          1.2863946903872168,
          0.9064987303234263,
          0.9064987303234263,
          0.7570221747605617,
          0.7570221747605617,
          0.9090522478736331,
          0.9090522478736331,
          0.7829158115658085,
          0.7829158115658084,
          0.7226775192300848,
          0.7226775192300848,
          0.815816119886594,
          0.815816119886594,
          0.7876264963526063,
          0.7876264963526063,
          0.6115947845021384,
          0.6115947845021384,
          0.8102972682996173,
          0.8102972682996173,
          0.8040284376030019,
          0.8040284376030019,
          0.8276973774413625,
          0.8276973774413625,
          0.8184301298026467,
          0.8184301298026467,
          0.7958847815425792,
          0.7958847815425791,
          1.0093875810856028,
          1.0093875810856026,
          1.2320296418279129,
          1.2320296418279126,
          0.7815007936807017,
          0.7815007936807017,
          0.7796374294933373,
          0.7796374294933373,
          1.0378107692894571,
          1.0378107692894571,
          0.8131897992696976,
          0.8131897992696977,
          0.7607239664025643,
          0.7607239664025645,
          0.6873574881406962,
          0.6873574881406962,
          0.715887522099747,
          0.7158875220997469,
          1.0024749451216388,
          1.002474945121639,
          0.7696017320894554,
          0.7696017320894555,
          0.7877087325485904,
          0.7877087325485903,
          0.6535015655049752,
          0.6535015655049752,
          0.953096916238559,
          0.953096916238559,
          0.6749147660109249,
          0.6749147660109248,
          1.3414069503770498,
          1.34140695037705,
          1.0149749363405152,
          1.0149749363405152,
          0.7517108214782634,
          0.7517108214782634,
          0.8107802398393396,
          0.8107802398393397,
          0.9692945520502688,
          0.9692945520502687,
          0.9396627314134622,
          0.9396627314134623,
          1.1089864739670185,
          1.1089864739670185,
          1.1148247930239072,
          1.1148247930239075,
          0.9545902704207492,
          0.9545902704207492,
          0.8497371074618267,
          0.8497371074618266,
          0.5784068652716216,
          0.5784068652716216,
          0.8448868796568826,
          0.8448868796568826,
          0.8667850741048397,
          0.8667850741048397,
          0.8336479533313669,
          0.833647953331367,
          0.6633738387441307,
          0.6633738387441307,
          0.9361821935806794,
          0.9361821935806794,
          0.9048455511177278,
          0.9048455511177279,
          0.6994870729395266,
          0.6994870729395266,
          0.822621631637461,
          0.822621631637461,
          0.8030553678880141,
          0.803055367888014,
          0.659760710239309,
          0.659760710239309,
          0.7582956912879478,
          0.7582956912879478,
          0.697218956620008,
          0.697218956620008,
          0.7598645789250953,
          0.7598645789250954,
          1.4749520103761349,
          1.4749520103761347,
          0.757440768466004,
          0.757440768466004,
          1.002863366410366,
          1.0028633664103663,
          1.2348460465615279,
          1.2348460465615279,
          0.5298916171025768,
          0.5298916171025769,
          0.835268505079826,
          0.8352685050798259,
          0.8841191641581297,
          0.8841191641581296,
          0.905628066277886,
          0.905628066277886,
          0.8348427820904886,
          0.8348427820904887,
          0.616563102635526,
          0.616563102635526,
          0.7681076857970638,
          0.7681076857970638,
          0.8957198443579768,
          0.8957198443579768,
          0.891537863359769,
          0.8915378633597689,
          0.7146356880978804,
          0.7146356880978804,
          0.9559556361963661,
          0.9559556361963661,
          0.6680766557827672,
          0.6680766557827673,
          0.7834124632611049,
          0.7834124632611049,
          0.829007316840285,
          0.829007316840285,
          0.5189686006308055,
          0.5189686006308055,
          0.6874965237893719,
          0.6874965237893719,
          0.8229402378760758,
          0.8229402378760758,
          1.108013102529032,
          1.150651160055549,
          1.0657853940587423,
          1.0657853940587423,
          1.1506511600555487,
          1.108013102529032,
          0.7213904230301538,
          0.7370693901678107,
          0.7053527235015439,
          0.7053527235015438,
          0.7370693901678107,
          0.7213904230301538,
          0.7885859017999418,
          0.8001654618777091,
          0.7423964276854379,
          0.7423964276854379,
          0.8001654618777092,
          0.7885859017999418,
          0.8337053315372539,
          0.8896486116891612,
          0.8916850702842921,
          0.8916850702842921,
          0.8896486116891611,
          0.833705331537254,
          1.3478251654506244,
          1.345593525179856,
          1.1532752398396837,
          1.1532752398396837,
          1.345593525179856,
          1.3478251654506244,
          0.7390912054584312,
          0.7849840691374952,
          0.7836657309255458,
          0.7836657309255458,
          0.7849840691374952,
          0.7390912054584312,
          1.0824281751069733,
          1.0886853267947703,
          1.1142926293448514,
          1.1142926293448512,
          1.0886853267947703,
          1.082428175106973,
          1.5237076921118622,
          1.138373901011379,
          1.2296124333596987,
          1.2296124333596985,
          1.138373901011379,
          1.5237076921118624,
          2.1829165589087607,
          1.6198663504217148,
          1.9117602648237413,
          1.911760264823741,
          1.6198663504217146,
          2.1829165589087607
         ],
         "xaxis": "x",
         "y": [
          0,
          1,
          2,
          3,
          4,
          5,
          6,
          7,
          8,
          9,
          10,
          11,
          12,
          13,
          14,
          15,
          16,
          17,
          18,
          19,
          20,
          21,
          22,
          23,
          24,
          25,
          26,
          27,
          28,
          29,
          30,
          31,
          32,
          33,
          34,
          35,
          36,
          37,
          38,
          39,
          40,
          41,
          42,
          43,
          44,
          45,
          46,
          47,
          48,
          49,
          50,
          51,
          52,
          53,
          54,
          55,
          56,
          57,
          58,
          59,
          60,
          61,
          62,
          63,
          64,
          65,
          66,
          67,
          68,
          69,
          70,
          71,
          72,
          73,
          74,
          75,
          76,
          77,
          78,
          79,
          80,
          81,
          82,
          83,
          84,
          85,
          86,
          87,
          88,
          89,
          90,
          91,
          92,
          93,
          94,
          95,
          96,
          97,
          98,
          99,
          100,
          101,
          102,
          103,
          104,
          105,
          106,
          107,
          108,
          109,
          110,
          111,
          112,
          113,
          114,
          115,
          116,
          117,
          118,
          119,
          120,
          121,
          122,
          123,
          124,
          125,
          126,
          127,
          128,
          129,
          130,
          131,
          132,
          133,
          134,
          135,
          136,
          137,
          138,
          139,
          140,
          141,
          142,
          143,
          144,
          145,
          146,
          147,
          148,
          149,
          150,
          151,
          152,
          153,
          154,
          155,
          156,
          157,
          158,
          159,
          160,
          161,
          162,
          163,
          164,
          165,
          166,
          167,
          168,
          169,
          170,
          171,
          172,
          173,
          174,
          175,
          176,
          177,
          178,
          179,
          180,
          181,
          182,
          183,
          184,
          185,
          186,
          187,
          188,
          189,
          190,
          191,
          192,
          193,
          194,
          195,
          196,
          197,
          198,
          199,
          200,
          201,
          202,
          203,
          204,
          205,
          206,
          207,
          208,
          209,
          210,
          211,
          212,
          213,
          214,
          215,
          216,
          217,
          218,
          219,
          220,
          221,
          222,
          223,
          224,
          225,
          226,
          227,
          228,
          229,
          230,
          231,
          232,
          233,
          234,
          235,
          236,
          237,
          238,
          239,
          240,
          241,
          242,
          243,
          244,
          245,
          246,
          247,
          248,
          249,
          250,
          251,
          252,
          253,
          254,
          255,
          256,
          257,
          258,
          259,
          260,
          261,
          262,
          263,
          264,
          265,
          266,
          267,
          268,
          269,
          270,
          271,
          272,
          273,
          274,
          275,
          276,
          277,
          278,
          279,
          280,
          281,
          282,
          283,
          284,
          285,
          286,
          287,
          288,
          289,
          290,
          291,
          292,
          293,
          294,
          295,
          296,
          297,
          298,
          299,
          300,
          301,
          302,
          303,
          304,
          305,
          306,
          307,
          308,
          309,
          310,
          311,
          312,
          313,
          314,
          315,
          316,
          317,
          318,
          319,
          320,
          321,
          322,
          323,
          324,
          325,
          326,
          327,
          328,
          329,
          330,
          331,
          332,
          333,
          334,
          335,
          336,
          337,
          338,
          339,
          340,
          341,
          342,
          343,
          344,
          345,
          346,
          347,
          348,
          349,
          350,
          351,
          352,
          353,
          354,
          355,
          356,
          357,
          358,
          359,
          360,
          361,
          362,
          363,
          364,
          365,
          366,
          367,
          368,
          369,
          370,
          371,
          372,
          373,
          374,
          375,
          376,
          377,
          378,
          379,
          380,
          381,
          382,
          383,
          384,
          385,
          386,
          387,
          388,
          389,
          390,
          391,
          392,
          393,
          394,
          395,
          396,
          397,
          398,
          399,
          400,
          401,
          402,
          403,
          404,
          405,
          406,
          407,
          408,
          409,
          410,
          411,
          412,
          413,
          414,
          415,
          416,
          417,
          418,
          419,
          420,
          421,
          422,
          423,
          424,
          425,
          426,
          427,
          428,
          429,
          430,
          431,
          432,
          433,
          434,
          435,
          436,
          437,
          438,
          439,
          440,
          441,
          442,
          443,
          444,
          445,
          446,
          447,
          448,
          449,
          450,
          451,
          452,
          453,
          454,
          455,
          456,
          457,
          458,
          459,
          460,
          461,
          462,
          463,
          464,
          465,
          466,
          467,
          468,
          469,
          470,
          471,
          472,
          473,
          474,
          475,
          476,
          477,
          478,
          479,
          480,
          481,
          482,
          483,
          484,
          485,
          486,
          487,
          488,
          489,
          490,
          491,
          492,
          493,
          494,
          495,
          496,
          497,
          498,
          499,
          500,
          501,
          502,
          503,
          504,
          505,
          506,
          507,
          508,
          509,
          510,
          511,
          512,
          513,
          514,
          515,
          516,
          517,
          518,
          519,
          520,
          521,
          522,
          523,
          524,
          525,
          526,
          527,
          528,
          529,
          530,
          531,
          532,
          533,
          534,
          535,
          536,
          537,
          538,
          539,
          540,
          541,
          542,
          543,
          544,
          545,
          546,
          547,
          548,
          549,
          550,
          551,
          552,
          553,
          554,
          555,
          556,
          557,
          558,
          559,
          560,
          561,
          562,
          563,
          564,
          565,
          566,
          567,
          568,
          569,
          570,
          571,
          572,
          573,
          574,
          575,
          576,
          577,
          578,
          579,
          580,
          581,
          582,
          583,
          584,
          585,
          586,
          587,
          588,
          589,
          590,
          591,
          592,
          593,
          594,
          595,
          596,
          597,
          598,
          599,
          600,
          601,
          602,
          603,
          604,
          605,
          606,
          607,
          608,
          609,
          610,
          611,
          612,
          613,
          614,
          615,
          616,
          617,
          618,
          619,
          620,
          621,
          622,
          623,
          624,
          625,
          626,
          627,
          628,
          629,
          630,
          631,
          632,
          633,
          634,
          635,
          636,
          637,
          638,
          639,
          640,
          641,
          642,
          643,
          644,
          645,
          646,
          647,
          648,
          649,
          650,
          651,
          652,
          653,
          654,
          655,
          656,
          657,
          658,
          659,
          660,
          661,
          662,
          663,
          664,
          665,
          666,
          667,
          668,
          669,
          670,
          671,
          672,
          673,
          674,
          675,
          676,
          677,
          678,
          679,
          680,
          681,
          682,
          683,
          684,
          685,
          686,
          687,
          688,
          689,
          690,
          691,
          692,
          693,
          694,
          695,
          696,
          697,
          698,
          699,
          700,
          701,
          702,
          703,
          704,
          705,
          706,
          707,
          708,
          709,
          710,
          711,
          712,
          713,
          714,
          715,
          716,
          717,
          718,
          719,
          720,
          721,
          722,
          723,
          724,
          725,
          726,
          727,
          728,
          729,
          730,
          731,
          732,
          733,
          734,
          735,
          736,
          737,
          738,
          739,
          740,
          741,
          742,
          743,
          744,
          745,
          746,
          747,
          748,
          749,
          750,
          751,
          752,
          753,
          754,
          755,
          756,
          757,
          758,
          759,
          760,
          761,
          762,
          763,
          764,
          765,
          766,
          767,
          768,
          769,
          770,
          771,
          772,
          773,
          774,
          775,
          776,
          777,
          778,
          779,
          780,
          781,
          782,
          783,
          784,
          785,
          786,
          787,
          788,
          789,
          790,
          791,
          792,
          793,
          794,
          795,
          796,
          797,
          798,
          799,
          800,
          801,
          802,
          803,
          804,
          805,
          806,
          807,
          808,
          809,
          810,
          811,
          812,
          813,
          814,
          815,
          816,
          817,
          818,
          819,
          820,
          821,
          822,
          823,
          824,
          825,
          826,
          827,
          828,
          829,
          830,
          831,
          832,
          833,
          834,
          835,
          836,
          837,
          838,
          839,
          840,
          841,
          842,
          843,
          844,
          845,
          846,
          847,
          848,
          849,
          850,
          851,
          852,
          853,
          854,
          855,
          856,
          857,
          858,
          859,
          860,
          861,
          862,
          863,
          864,
          865,
          866,
          867,
          868,
          869,
          870,
          871,
          872,
          873,
          874,
          875,
          876,
          877,
          878,
          879,
          880,
          881,
          882,
          883,
          884,
          885,
          886,
          887,
          888,
          889,
          890,
          891,
          892,
          893,
          894,
          895,
          896,
          897,
          898,
          899,
          900,
          901,
          902,
          903,
          904,
          905,
          906,
          907,
          908,
          909,
          910,
          911,
          912,
          913,
          914,
          915,
          916,
          917,
          918,
          919,
          920,
          921,
          922,
          923,
          924,
          925,
          926,
          927,
          928,
          929,
          930,
          931,
          932,
          933,
          934,
          935,
          936,
          937,
          938,
          939,
          940,
          941,
          942,
          943,
          944,
          945,
          946,
          947,
          948,
          949,
          950,
          951,
          952,
          953,
          954,
          955,
          956,
          957,
          958,
          959,
          960,
          961,
          962,
          963,
          964,
          965,
          966,
          967,
          968,
          969,
          970,
          971,
          972,
          973,
          974,
          975,
          976,
          977,
          978,
          979,
          980,
          981,
          982,
          983,
          984,
          985,
          986,
          987,
          988,
          989,
          990,
          991,
          992,
          993,
          994,
          995,
          996,
          997,
          998,
          999,
          1000,
          1001,
          1002,
          1003,
          1004,
          1005,
          1006,
          1007,
          1008,
          1009,
          1010,
          1011,
          1012,
          1013,
          1014,
          1015,
          1016,
          1017,
          1018,
          1019,
          1020,
          1021,
          1022,
          1023,
          1024,
          1025,
          1026,
          1027,
          1028,
          1029,
          1030,
          1031,
          1032,
          1033,
          1034,
          1035,
          1036,
          1037,
          1038,
          1039,
          1040,
          1041,
          1042,
          1043,
          1044,
          1045,
          1046,
          1047,
          1048,
          1049,
          1050,
          1051,
          1052,
          1053,
          1054,
          1055,
          1056,
          1057,
          1058,
          1059,
          1060,
          1061,
          1062,
          1063,
          1064,
          1065,
          1066,
          1067,
          1068,
          1069,
          1070,
          1071,
          1072,
          1073,
          1074,
          1075,
          1076,
          1077,
          1078,
          1079,
          1080,
          1081,
          1082,
          1083,
          1084,
          1085,
          1086,
          1087,
          1088,
          1089,
          1090,
          1091,
          1092,
          1093,
          1094,
          1095,
          1096,
          1097,
          1098,
          1099,
          1100,
          1101,
          1102,
          1103,
          1104,
          1105,
          1106,
          1107,
          1108,
          1109,
          1110,
          1111,
          1112,
          1113,
          1114,
          1115,
          1116,
          1117,
          1118,
          1119,
          1120,
          1121,
          1122,
          1123,
          1124,
          1125,
          1126,
          1127,
          1128,
          1129,
          1130,
          1131,
          1132,
          1133,
          1134,
          1135,
          1136,
          1137,
          1138,
          1139,
          1140,
          1141,
          1142,
          1143,
          1144,
          1145,
          1146,
          1147,
          1148,
          1149,
          1150,
          1151,
          1152,
          1153,
          1154,
          1155,
          1156,
          1157,
          1158,
          1159,
          1160,
          1161,
          1162,
          1163,
          1164,
          1165,
          1166,
          1167,
          1168,
          1169,
          1170,
          1171,
          1172,
          1173,
          1174,
          1175,
          1176,
          1177,
          1178,
          1179,
          1180,
          1181,
          1182,
          1183,
          1184,
          1185,
          1186,
          1187,
          1188,
          1189,
          1190,
          1191,
          1192,
          1193,
          1194,
          1195,
          1196,
          1197,
          1198,
          1199,
          1200,
          1201,
          1202,
          1203,
          1204,
          1205,
          1206,
          1207,
          1208,
          1209,
          1210,
          1211,
          1212,
          1213,
          1214,
          1215,
          1216,
          1217,
          1218,
          1219,
          1220,
          1221,
          1222,
          1223,
          1224,
          1225,
          1226,
          1227,
          1228,
          1229,
          1230,
          1231,
          1232,
          1233,
          1234,
          1235,
          1236,
          1237
         ],
         "yaxis": "y"
        }
       ],
       "layout": {
        "font": {
         "color": "black",
         "family": "Courier New"
        },
        "legend": {
         "tracegroupgap": 0
        },
        "margin": {
         "t": 60
        },
        "template": {
         "data": {
          "bar": [
           {
            "error_x": {
             "color": "#2a3f5f"
            },
            "error_y": {
             "color": "#2a3f5f"
            },
            "marker": {
             "line": {
              "color": "#E5ECF6",
              "width": 0.5
             },
             "pattern": {
              "fillmode": "overlay",
              "size": 10,
              "solidity": 0.2
             }
            },
            "type": "bar"
           }
          ],
          "barpolar": [
           {
            "marker": {
             "line": {
              "color": "#E5ECF6",
              "width": 0.5
             },
             "pattern": {
              "fillmode": "overlay",
              "size": 10,
              "solidity": 0.2
             }
            },
            "type": "barpolar"
           }
          ],
          "carpet": [
           {
            "aaxis": {
             "endlinecolor": "#2a3f5f",
             "gridcolor": "white",
             "linecolor": "white",
             "minorgridcolor": "white",
             "startlinecolor": "#2a3f5f"
            },
            "baxis": {
             "endlinecolor": "#2a3f5f",
             "gridcolor": "white",
             "linecolor": "white",
             "minorgridcolor": "white",
             "startlinecolor": "#2a3f5f"
            },
            "type": "carpet"
           }
          ],
          "choropleth": [
           {
            "colorbar": {
             "outlinewidth": 0,
             "ticks": ""
            },
            "type": "choropleth"
           }
          ],
          "contour": [
           {
            "colorbar": {
             "outlinewidth": 0,
             "ticks": ""
            },
            "colorscale": [
             [
              0,
              "#0d0887"
             ],
             [
              0.1111111111111111,
              "#46039f"
             ],
             [
              0.2222222222222222,
              "#7201a8"
             ],
             [
              0.3333333333333333,
              "#9c179e"
             ],
             [
              0.4444444444444444,
              "#bd3786"
             ],
             [
              0.5555555555555556,
              "#d8576b"
             ],
             [
              0.6666666666666666,
              "#ed7953"
             ],
             [
              0.7777777777777778,
              "#fb9f3a"
             ],
             [
              0.8888888888888888,
              "#fdca26"
             ],
             [
              1,
              "#f0f921"
             ]
            ],
            "type": "contour"
           }
          ],
          "contourcarpet": [
           {
            "colorbar": {
             "outlinewidth": 0,
             "ticks": ""
            },
            "type": "contourcarpet"
           }
          ],
          "heatmap": [
           {
            "colorbar": {
             "outlinewidth": 0,
             "ticks": ""
            },
            "colorscale": [
             [
              0,
              "#0d0887"
             ],
             [
              0.1111111111111111,
              "#46039f"
             ],
             [
              0.2222222222222222,
              "#7201a8"
             ],
             [
              0.3333333333333333,
              "#9c179e"
             ],
             [
              0.4444444444444444,
              "#bd3786"
             ],
             [
              0.5555555555555556,
              "#d8576b"
             ],
             [
              0.6666666666666666,
              "#ed7953"
             ],
             [
              0.7777777777777778,
              "#fb9f3a"
             ],
             [
              0.8888888888888888,
              "#fdca26"
             ],
             [
              1,
              "#f0f921"
             ]
            ],
            "type": "heatmap"
           }
          ],
          "heatmapgl": [
           {
            "colorbar": {
             "outlinewidth": 0,
             "ticks": ""
            },
            "colorscale": [
             [
              0,
              "#0d0887"
             ],
             [
              0.1111111111111111,
              "#46039f"
             ],
             [
              0.2222222222222222,
              "#7201a8"
             ],
             [
              0.3333333333333333,
              "#9c179e"
             ],
             [
              0.4444444444444444,
              "#bd3786"
             ],
             [
              0.5555555555555556,
              "#d8576b"
             ],
             [
              0.6666666666666666,
              "#ed7953"
             ],
             [
              0.7777777777777778,
              "#fb9f3a"
             ],
             [
              0.8888888888888888,
              "#fdca26"
             ],
             [
              1,
              "#f0f921"
             ]
            ],
            "type": "heatmapgl"
           }
          ],
          "histogram": [
           {
            "marker": {
             "pattern": {
              "fillmode": "overlay",
              "size": 10,
              "solidity": 0.2
             }
            },
            "type": "histogram"
           }
          ],
          "histogram2d": [
           {
            "colorbar": {
             "outlinewidth": 0,
             "ticks": ""
            },
            "colorscale": [
             [
              0,
              "#0d0887"
             ],
             [
              0.1111111111111111,
              "#46039f"
             ],
             [
              0.2222222222222222,
              "#7201a8"
             ],
             [
              0.3333333333333333,
              "#9c179e"
             ],
             [
              0.4444444444444444,
              "#bd3786"
             ],
             [
              0.5555555555555556,
              "#d8576b"
             ],
             [
              0.6666666666666666,
              "#ed7953"
             ],
             [
              0.7777777777777778,
              "#fb9f3a"
             ],
             [
              0.8888888888888888,
              "#fdca26"
             ],
             [
              1,
              "#f0f921"
             ]
            ],
            "type": "histogram2d"
           }
          ],
          "histogram2dcontour": [
           {
            "colorbar": {
             "outlinewidth": 0,
             "ticks": ""
            },
            "colorscale": [
             [
              0,
              "#0d0887"
             ],
             [
              0.1111111111111111,
              "#46039f"
             ],
             [
              0.2222222222222222,
              "#7201a8"
             ],
             [
              0.3333333333333333,
              "#9c179e"
             ],
             [
              0.4444444444444444,
              "#bd3786"
             ],
             [
              0.5555555555555556,
              "#d8576b"
             ],
             [
              0.6666666666666666,
              "#ed7953"
             ],
             [
              0.7777777777777778,
              "#fb9f3a"
             ],
             [
              0.8888888888888888,
              "#fdca26"
             ],
             [
              1,
              "#f0f921"
             ]
            ],
            "type": "histogram2dcontour"
           }
          ],
          "mesh3d": [
           {
            "colorbar": {
             "outlinewidth": 0,
             "ticks": ""
            },
            "type": "mesh3d"
           }
          ],
          "parcoords": [
           {
            "line": {
             "colorbar": {
              "outlinewidth": 0,
              "ticks": ""
             }
            },
            "type": "parcoords"
           }
          ],
          "pie": [
           {
            "automargin": true,
            "type": "pie"
           }
          ],
          "scatter": [
           {
            "fillpattern": {
             "fillmode": "overlay",
             "size": 10,
             "solidity": 0.2
            },
            "type": "scatter"
           }
          ],
          "scatter3d": [
           {
            "line": {
             "colorbar": {
              "outlinewidth": 0,
              "ticks": ""
             }
            },
            "marker": {
             "colorbar": {
              "outlinewidth": 0,
              "ticks": ""
             }
            },
            "type": "scatter3d"
           }
          ],
          "scattercarpet": [
           {
            "marker": {
             "colorbar": {
              "outlinewidth": 0,
              "ticks": ""
             }
            },
            "type": "scattercarpet"
           }
          ],
          "scattergeo": [
           {
            "marker": {
             "colorbar": {
              "outlinewidth": 0,
              "ticks": ""
             }
            },
            "type": "scattergeo"
           }
          ],
          "scattergl": [
           {
            "marker": {
             "colorbar": {
              "outlinewidth": 0,
              "ticks": ""
             }
            },
            "type": "scattergl"
           }
          ],
          "scattermapbox": [
           {
            "marker": {
             "colorbar": {
              "outlinewidth": 0,
              "ticks": ""
             }
            },
            "type": "scattermapbox"
           }
          ],
          "scatterpolar": [
           {
            "marker": {
             "colorbar": {
              "outlinewidth": 0,
              "ticks": ""
             }
            },
            "type": "scatterpolar"
           }
          ],
          "scatterpolargl": [
           {
            "marker": {
             "colorbar": {
              "outlinewidth": 0,
              "ticks": ""
             }
            },
            "type": "scatterpolargl"
           }
          ],
          "scatterternary": [
           {
            "marker": {
             "colorbar": {
              "outlinewidth": 0,
              "ticks": ""
             }
            },
            "type": "scatterternary"
           }
          ],
          "surface": [
           {
            "colorbar": {
             "outlinewidth": 0,
             "ticks": ""
            },
            "colorscale": [
             [
              0,
              "#0d0887"
             ],
             [
              0.1111111111111111,
              "#46039f"
             ],
             [
              0.2222222222222222,
              "#7201a8"
             ],
             [
              0.3333333333333333,
              "#9c179e"
             ],
             [
              0.4444444444444444,
              "#bd3786"
             ],
             [
              0.5555555555555556,
              "#d8576b"
             ],
             [
              0.6666666666666666,
              "#ed7953"
             ],
             [
              0.7777777777777778,
              "#fb9f3a"
             ],
             [
              0.8888888888888888,
              "#fdca26"
             ],
             [
              1,
              "#f0f921"
             ]
            ],
            "type": "surface"
           }
          ],
          "table": [
           {
            "cells": {
             "fill": {
              "color": "#EBF0F8"
             },
             "line": {
              "color": "white"
             }
            },
            "header": {
             "fill": {
              "color": "#C8D4E3"
             },
             "line": {
              "color": "white"
             }
            },
            "type": "table"
           }
          ]
         },
         "layout": {
          "annotationdefaults": {
           "arrowcolor": "#2a3f5f",
           "arrowhead": 0,
           "arrowwidth": 1
          },
          "autotypenumbers": "strict",
          "coloraxis": {
           "colorbar": {
            "outlinewidth": 0,
            "ticks": ""
           }
          },
          "colorscale": {
           "diverging": [
            [
             0,
             "#8e0152"
            ],
            [
             0.1,
             "#c51b7d"
            ],
            [
             0.2,
             "#de77ae"
            ],
            [
             0.3,
             "#f1b6da"
            ],
            [
             0.4,
             "#fde0ef"
            ],
            [
             0.5,
             "#f7f7f7"
            ],
            [
             0.6,
             "#e6f5d0"
            ],
            [
             0.7,
             "#b8e186"
            ],
            [
             0.8,
             "#7fbc41"
            ],
            [
             0.9,
             "#4d9221"
            ],
            [
             1,
             "#276419"
            ]
           ],
           "sequential": [
            [
             0,
             "#0d0887"
            ],
            [
             0.1111111111111111,
             "#46039f"
            ],
            [
             0.2222222222222222,
             "#7201a8"
            ],
            [
             0.3333333333333333,
             "#9c179e"
            ],
            [
             0.4444444444444444,
             "#bd3786"
            ],
            [
             0.5555555555555556,
             "#d8576b"
            ],
            [
             0.6666666666666666,
             "#ed7953"
            ],
            [
             0.7777777777777778,
             "#fb9f3a"
            ],
            [
             0.8888888888888888,
             "#fdca26"
            ],
            [
             1,
             "#f0f921"
            ]
           ],
           "sequentialminus": [
            [
             0,
             "#0d0887"
            ],
            [
             0.1111111111111111,
             "#46039f"
            ],
            [
             0.2222222222222222,
             "#7201a8"
            ],
            [
             0.3333333333333333,
             "#9c179e"
            ],
            [
             0.4444444444444444,
             "#bd3786"
            ],
            [
             0.5555555555555556,
             "#d8576b"
            ],
            [
             0.6666666666666666,
             "#ed7953"
            ],
            [
             0.7777777777777778,
             "#fb9f3a"
            ],
            [
             0.8888888888888888,
             "#fdca26"
            ],
            [
             1,
             "#f0f921"
            ]
           ]
          },
          "colorway": [
           "#636efa",
           "#EF553B",
           "#00cc96",
           "#ab63fa",
           "#FFA15A",
           "#19d3f3",
           "#FF6692",
           "#B6E880",
           "#FF97FF",
           "#FECB52"
          ],
          "font": {
           "color": "#2a3f5f"
          },
          "geo": {
           "bgcolor": "white",
           "lakecolor": "white",
           "landcolor": "#E5ECF6",
           "showlakes": true,
           "showland": true,
           "subunitcolor": "white"
          },
          "hoverlabel": {
           "align": "left"
          },
          "hovermode": "closest",
          "mapbox": {
           "style": "light"
          },
          "paper_bgcolor": "white",
          "plot_bgcolor": "#E5ECF6",
          "polar": {
           "angularaxis": {
            "gridcolor": "white",
            "linecolor": "white",
            "ticks": ""
           },
           "bgcolor": "#E5ECF6",
           "radialaxis": {
            "gridcolor": "white",
            "linecolor": "white",
            "ticks": ""
           }
          },
          "scene": {
           "xaxis": {
            "backgroundcolor": "#E5ECF6",
            "gridcolor": "white",
            "gridwidth": 2,
            "linecolor": "white",
            "showbackground": true,
            "ticks": "",
            "zerolinecolor": "white"
           },
           "yaxis": {
            "backgroundcolor": "#E5ECF6",
            "gridcolor": "white",
            "gridwidth": 2,
            "linecolor": "white",
            "showbackground": true,
            "ticks": "",
            "zerolinecolor": "white"
           },
           "zaxis": {
            "backgroundcolor": "#E5ECF6",
            "gridcolor": "white",
            "gridwidth": 2,
            "linecolor": "white",
            "showbackground": true,
            "ticks": "",
            "zerolinecolor": "white"
           }
          },
          "shapedefaults": {
           "line": {
            "color": "#2a3f5f"
           }
          },
          "ternary": {
           "aaxis": {
            "gridcolor": "white",
            "linecolor": "white",
            "ticks": ""
           },
           "baxis": {
            "gridcolor": "white",
            "linecolor": "white",
            "ticks": ""
           },
           "bgcolor": "#E5ECF6",
           "caxis": {
            "gridcolor": "white",
            "linecolor": "white",
            "ticks": ""
           }
          },
          "title": {
           "x": 0.05
          },
          "xaxis": {
           "automargin": true,
           "gridcolor": "white",
           "linecolor": "white",
           "ticks": "",
           "title": {
            "standoff": 15
           },
           "zerolinecolor": "white",
           "zerolinewidth": 2
          },
          "yaxis": {
           "automargin": true,
           "gridcolor": "white",
           "linecolor": "white",
           "ticks": "",
           "title": {
            "standoff": 15
           },
           "zerolinecolor": "white",
           "zerolinewidth": 2
          }
         }
        },
        "title": {
         "text": "support vs lift"
        },
        "xaxis": {
         "anchor": "y",
         "domain": [
          0,
          1
         ],
         "title": {
          "text": "support"
         }
        },
        "yaxis": {
         "anchor": "x",
         "domain": [
          0,
          1
         ],
         "title": {
          "text": "confidence"
         }
        }
       }
      }
     },
     "metadata": {},
     "output_type": "display_data"
    }
   ],
   "source": [
    "plot_rule_px_scatter(rules, x = 'support', y = 'lift')"
   ]
  },
  {
   "cell_type": "code",
   "execution_count": 26,
   "metadata": {},
   "outputs": [
    {
     "data": {
      "image/png": "[encoded data removed]",
      "text/plain": [
       "<Figure size 1000x600 with 1 Axes>"
      ]
     },
     "metadata": {},
     "output_type": "display_data"
    }
   ],
   "source": [
    "plot_rule_scatter(rules, x = 'support', y = 'confidence')"
   ]
  },
  {
   "cell_type": "code",
   "execution_count": 27,
   "metadata": {},
   "outputs": [
    {
     "data": {
      "image/png": "[encoded data removed]",
      "text/plain": [
       "<Figure size 640x480 with 1 Axes>"
      ]
     },
     "metadata": {},
     "output_type": "display_data"
    }
   ],
   "source": [
    "plot_rule_polyfit(rules, x = 'lift', y = 'confidence')"
   ]
  }
 ],
 "metadata": {
  "kernelspec": {
   "display_name": "base",
   "language": "python",
   "name": "python3"
  },
  "language_info": {
   "codemirror_mode": {
    "name": "ipython",
    "version": 3
   },
   "file_extension": ".py",
   "mimetype": "text/x-python",
   "name": "python",
   "nbconvert_exporter": "python",
   "pygments_lexer": "ipython3",
   "version": "3.11.9"
  }
 },
 "nbformat": 4,
 "nbformat_minor": 2
}
