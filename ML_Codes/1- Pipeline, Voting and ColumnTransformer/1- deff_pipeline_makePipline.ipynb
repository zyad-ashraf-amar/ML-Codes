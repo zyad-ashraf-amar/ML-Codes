{
 "cells": [
  {
   "cell_type": "markdown",
   "metadata": {},
   "source": [
    "# Summary of Differences\n",
    "\n",
    "1. Naming of Steps:\n",
    "- Pipeline: Requires explicit naming of each step.\n",
    "- make_pipeline: Automatically names each step based on its type.\n",
    "\n",
    "2. Usage:\n",
    "- Pipeline: More suitable for complex pipelines where step names are needed for reference.\n",
    "- make_pipeline: Ideal for simple, straightforward pipelines where explicit names are not necessary.\n",
    "\n",
    "3. Flexibility:\n",
    "- Pipeline: Offers more control and flexibility.\n",
    "- make_pipeline: More convenient but less customizable.\n",
    "\n",
    "4. Code Readability:\n",
    "- Pipeline: Provides clearer, more descriptive names for each step.\n",
    "- make_pipeline: Provides a more concise and streamlined code.\n",
    "\n",
    "## Conclusion\n",
    "Use Pipeline when you need to reference specific steps by name or when working with more complex pipelines. Use make_pipeline for simpler and more straightforward pipelines to reduce boilerplate code and enhance readability."
   ]
  },
  {
   "cell_type": "markdown",
   "metadata": {},
   "source": [
    "### ---------------------------------------------------------------------------------------------------------------------------------------------------"
   ]
  },
  {
   "cell_type": "markdown",
   "metadata": {},
   "source": [
    "# Pipeline Function\n",
    "The Pipeline function is a class that allows you to create a sequence of data processing steps (transformers) followed by a final estimator.\n",
    "\n",
    "## Usage\n",
    "- You explicitly define the names of each step in the pipeline.\n",
    "- More flexible and customizable.\n",
    "- Useful when you need to reference specific steps by name later (e.g., accessing intermediate steps).\n",
    "\n",
    "## Advantages\n",
    "- Explicit naming allows for better readability and the ability to reference steps by name.\n",
    "- Useful for more complex pipelines where specific steps need to be accessed or modified."
   ]
  },
  {
   "cell_type": "code",
   "execution_count": null,
   "metadata": {},
   "outputs": [],
   "source": [
    "from sklearn.pipeline import Pipeline\n",
    "from sklearn.preprocessing import StandardScaler\n",
    "from sklearn.linear_model import LogisticRegression\n",
    "\n",
    "# Define pipeline steps with names\n",
    "steps = [\n",
    "    ('scaler', StandardScaler()),\n",
    "    ('classifier', LogisticRegression())\n",
    "]\n",
    "\n",
    "# Create pipeline\n",
    "pipeline = Pipeline(steps)\n",
    "\n",
    "# Fit and predict\n",
    "pipeline.fit(X_train, y_train)\n",
    "predictions = pipeline.predict(X_test)\n"
   ]
  },
  {
   "cell_type": "markdown",
   "metadata": {},
   "source": [
    "### ---------------------------------------------------------------------------------------------------------------------------------------------------"
   ]
  },
  {
   "cell_type": "markdown",
   "metadata": {},
   "source": [
    "# make_pipeline Function\n",
    "The make_pipeline function is a convenience function that simplifies the creation of a Pipeline without explicitly naming the steps.\n",
    "\n",
    "## Usage\n",
    "- Automatically names the steps based on their types.\n",
    "- More concise and convenient for simple pipelines.\n",
    "- Less flexible than Pipeline because it does not allow custom step names.\n",
    "\n",
    "## Advantages\n",
    "- Easier and quicker to set up for simple pipelines.\n",
    "- Reduces boilerplate code by automatically generating step names."
   ]
  },
  {
   "cell_type": "code",
   "execution_count": null,
   "metadata": {},
   "outputs": [],
   "source": [
    "from sklearn.pipeline import make_pipeline\n",
    "from sklearn.preprocessing import StandardScaler\n",
    "from sklearn.linear_model import LogisticRegression\n",
    "\n",
    "# Create pipeline\n",
    "pipeline = make_pipeline(\n",
    "    StandardScaler(),\n",
    "    LogisticRegression()\n",
    ")\n",
    "\n",
    "# Fit and predict\n",
    "pipeline.fit(X_train, y_train)\n",
    "predictions = pipeline.predict(X_test)\n"
   ]
  }
 ],
 "metadata": {
  "language_info": {
   "name": "python"
  }
 },
 "nbformat": 4,
 "nbformat_minor": 2
}
