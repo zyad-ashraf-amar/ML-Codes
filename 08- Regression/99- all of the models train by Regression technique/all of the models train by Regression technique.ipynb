{
 "cells": [
  {
   "cell_type": "markdown",
   "metadata": {},
   "source": [
    "### let's go through some of the common regression models in machine learning, their special features, and how to implement them in Python. We'll cover the following models:\n",
    "1. Linear Regression\n",
    "2. Ridge Regression\n",
    "3. Lasso Regression\n",
    "4. Elastic Net Regression\n",
    "5. Polynomial Regression\n",
    "6. Support Vector Regression (SVR)\n",
    "7. Decision Tree Regression\n",
    "8. Random Forest Regression\n",
    "9. Gradient Boosting Regression\n",
    "10. XGBoost Regression\n",
    "\n",
    "### We'll use the scikit-learn library for implementing these models and assume that the dataset is already loaded into a pandas DataFrame df. The target variable is y and the feature variables are X."
   ]
  },
  {
   "cell_type": "markdown",
   "metadata": {},
   "source": [
    "# compare all the regression models in terms of their coding and use cases. \n",
    "## then we'll proceed with visualizing the results and further analyzing the model performance."
   ]
  },
  {
   "cell_type": "markdown",
   "metadata": {},
   "source": [
    "# Comparison of Regression Models\n",
    "\n",
    "## *Linear Regression*:\n",
    "1. *Coding Complexity*: \n",
    "- Simple, straightforward implementation.\n",
    "2. *Typical Use Cases*: \n",
    "- Predicting continuous outcomes, problems where the relationship between features and target variable is linear.\n",
    "3. *Strengths*:\n",
    "- Easy to implement and interpret.\n",
    "- Computationally efficient.\n",
    "4. *Weaknesses*:\n",
    "- Assumes a linear relationship between features and the target variable.\n",
    "- Sensitive to outliers.\n",
    "5. *When to Use*:\n",
    "- When you need a quick baseline model.\n",
    "- When the relationship between features and the target variable is approximately linear.\n",
    "\n",
    "\n",
    "## *Ridge Regression*:\n",
    "1. *Coding Complexity*: \n",
    "- Simple to moderate, involves setting a regularization parameter.\n",
    "2. *Typical Use Cases*: \n",
    "- Predicting continuous outcomes with many features.\n",
    "3. *Strengths*:\n",
    "- Reduces model complexity and prevents overfitting.\n",
    "- Handles multicollinearity well.\n",
    "4. *Weaknesses*:\n",
    "- Requires tuning of the regularization parameter.\n",
    "- Can be less interpretable than simple linear regression.\n",
    "5. *When to Use*:\n",
    "- When you have many correlated features.\n",
    "- When you want to prevent overfitting.\n",
    "6. *Additional Information*: \n",
    "- Adds regularization to Linear Regression to manage multicollinearity and overfitting.\n",
    "\n",
    "\n",
    "## *Lasso Regression*:\n",
    "1. *Coding Complexity*: \n",
    "- Simple to moderate, involves setting a regularization parameter.\n",
    "2. *Typical Use Cases*: \n",
    "- Predicting continuous outcomes with many features.\n",
    "3. *Strengths*:\n",
    "- Performs feature selection by setting some coefficients to zero.\n",
    "- Prevents overfitting.\n",
    "4. *Weaknesses*:\n",
    "- Requires tuning of the regularization parameter.\n",
    "- Can exclude important features if not tuned properly.\n",
    "5. *When to Use*:\n",
    "- When you need feature selection along with regression.\n",
    "- When you want to prevent overfitting.\n",
    "6. *Additional Information*: \n",
    "- Similar to Ridge Regression but can shrink some coefficients to zero for feature selection.\n",
    "\n",
    "\n",
    "## *Elastic Net Regression*:\n",
    "1. *Coding Complexity*: \n",
    "- Moderate, involves setting two regularization parameters.\n",
    "2. *Typical Use Cases*: \n",
    "- Predicting continuous outcomes with many features.\n",
    "3. *Strengths*:\n",
    "- Combines the *Strengths* of Ridge and Lasso regression.\n",
    "- Can handle correlated predictors well.\n",
    "4. *Weaknesses*:\n",
    "- Requires tuning of two regularization parameters.\n",
    "- Can be computationally intensive.\n",
    "5. *When to Use*:\n",
    "- When you need a balance between Ridge and Lasso regression.\n",
    "- When you have many correlated features and need feature selection.\n",
    "6. *Additional Information*: \n",
    "- Combination of Ridge and Lasso to address both feature selection and multicollinearity.\n",
    "\n",
    "\n",
    "## *Polynomial Regression*:\n",
    "1. *Coding Complexity*: \n",
    "- Moderate, involves creating polynomial features.\n",
    "2. *Typical Use Cases*: \n",
    "- Predicting continuous outcomes with non-linear relationships.\n",
    "3. *Strengths*:\n",
    "- Can model non-linear relationships.\n",
    "- More flexible than linear regression.\n",
    "4. *Weaknesses*:\n",
    "- Prone to overfitting.\n",
    "- Can be computationally expensive with high-degree polynomials.\n",
    "5. *When to Use*:\n",
    "- When you need to model non-linear relationships.\n",
    "- When you are willing to trade off interpretability for flexibility.\n",
    "6. *Additional Information*: \n",
    "- Extends Linear Regression with polynomial features to capture non-linear relationships.\n",
    "\n",
    "\n",
    "## *Support Vector Regression (SVR)*:\n",
    "1. *Coding Complexity*: \n",
    "- Moderate to complex, involves selecting kernel and parameters.\n",
    "2. *Typical Use Cases*: \n",
    "- Predicting continuous outcomes with complex relationships.\n",
    "3. *Strengths*:\n",
    "- Effective in high-dimensional spaces.\n",
    "- Robust to outliers.\n",
    "4. *Weaknesses*:\n",
    "- Can be memory intensive.\n",
    "- Requires careful tuning of parameters.\n",
    "5. *When to Use*:\n",
    "- When you need a powerful model for complex relationships.\n",
    "- When dealing with high-dimensional data.\n",
    "6. *Additional Information*: \n",
    "- suitable for small to medium-sized datasets with non-linear relationships.\n",
    "\n",
    "\n",
    "## *Decision Tree Regression*:\n",
    "1. *Coding Complexity*: \n",
    "- Simple to moderate, involves setting tree parameters.\n",
    "2. *Typical Use Cases*: \n",
    "- Predicting continuous outcomes with non-linear relationships.\n",
    "3. *Strengths*:\n",
    "- Handles both numerical and categorical data.\n",
    "- Easy to interpret and visualize.\n",
    "4. *Weaknesses*:\n",
    "- Prone to overfitting.\n",
    "- Can be unstable due to small variations in data.\n",
    "5. *When to Use*:\n",
    "- When you need a model that can capture non-linear relationships.\n",
    "- When interpretability is important.\n",
    "6. *Additional Information*: \n",
    "- Tree-based model, easy to implement\n",
    "- handles missing values well.\n",
    "\n",
    "\n",
    "## *Random Forest Regression*:\n",
    "1. *Coding Complexity*: \n",
    "- Moderate, involves setting parameters for the ensemble.\n",
    "2. *Typical Use Cases*: \n",
    "- Predicting continuous outcomes with high variance.\n",
    "3. *Strengths*:\n",
    "- Reduces overfitting through ensemble learning.\n",
    "- Provides feature importance.\n",
    "- Handles missing values and noisy data well.\n",
    "4. *Weaknesses*:\n",
    "- Less interpretable than a single decision tree.\n",
    "- Can be computationally intensive.\n",
    "5. *When to Use*:\n",
    "- When you need a robust model that reduces overfitting.\n",
    "- When dealing with complex and high-variance data.\n",
    "6. *Additional Information*: \n",
    "- Ensemble of decision trees providing high accuracy and robustness\n",
    "- handles non-linear relationships.\n",
    "\n",
    "\n",
    "## *Gradient Boosting Regression*:\n",
    "1. *Coding Complexity*: \n",
    "- Moderate to complex, involves setting boosting parameters.\n",
    "2. *Typical Use Cases*: \n",
    "- Predicting continuous outcomes with high accuracy requirements.\n",
    "3. *Strengths*:\n",
    "- Highly accurate model.\n",
    "- Reduces bias by building trees sequentially.\n",
    "4. *Weaknesses*:\n",
    "- Can be prone to overfitting if not carefully tuned.\n",
    "- Training can be slow and computationally expensive.\n",
    "5. *When to Use*:\n",
    "- When you need a highly accurate model.\n",
    "- Willing to trade off interpretability and training time for performance.\n",
    "6. *Additional Information*: \n",
    "- Ensemble of trees built sequentially\n",
    "- provides high predictive power and accuracy\n",
    "- especially on tabular data.\n",
    "\n",
    "\n",
    "## *XGBoost Regression*:\n",
    "1. *Coding Complexity*: \n",
    "- Moderate to complex, involves setting boosting parameters.\n",
    "2. *Typical Use Cases*: \n",
    "- Predicting continuous outcomes with high accuracy requirements.\n",
    "3. *Strengths*:\n",
    "- Highly efficient and scalable implementation of gradient boosting.\n",
    "- Handles missing values and outliers well.\n",
    "4. *Weaknesses*:\n",
    "- Can be prone to overfitting if not carefully tuned.\n",
    "- Requires careful parameter tuning.\n",
    "5. *When to Use*:\n",
    "- When you need a highly accurate and efficient model.\n",
    "- When dealing with large datasets and complex problems.\n",
    "6. *Additional Information*: \n",
    "- Optimized version of gradient boosting\n",
    "- known for its high accuracy and efficiency\n",
    "- often used in competitions.\n",
    "\n"
   ]
  },
  {
   "cell_type": "markdown",
   "metadata": {},
   "source": [
    "### Here's the code for each model:\n",
    "# Load data train "
   ]
  },
  {
   "cell_type": "code",
   "execution_count": 1,
   "metadata": {},
   "outputs": [],
   "source": [
    "import pandas as pd\n",
    "from sklearn.datasets import fetch_california_housing\n",
    "from sklearn.model_selection import train_test_split\n",
    "from sklearn.preprocessing import StandardScaler\n",
    "\n",
    "# Load the dataset\n",
    "california = fetch_california_housing()\n",
    "df = pd.DataFrame(california.data, columns=california.feature_names)\n",
    "df['TARGET'] = california.target\n",
    "\n",
    "# Assume df is your DataFrame, y is your target variable, and X are your features\n",
    "X = df.drop('TARGET', axis=1)\n",
    "y = df['TARGET']\n",
    "\n",
    "X_train, X_test, y_train, y_test = train_test_split(X, y, test_size=0.2, random_state=42)\n",
    "\n",
    "scaler = StandardScaler()\n",
    "X_train_scaled = scaler.fit_transform(X_train)\n",
    "X_test_scaled = scaler.transform(X_test)"
   ]
  },
  {
   "cell_type": "markdown",
   "metadata": {},
   "source": [
    "# 1. Linear Regression\n",
    "## Linear regression is the simplest form of regression which assumes a linear relationship between the input features and the target variable."
   ]
  },
  {
   "cell_type": "code",
   "execution_count": 2,
   "metadata": {},
   "outputs": [
    {
     "name": "stdout",
     "output_type": "stream",
     "text": [
      "Linear Regression MSE: 0.5558915986952444\n"
     ]
    }
   ],
   "source": [
    "from sklearn.linear_model import LinearRegression\n",
    "from sklearn.metrics import mean_squared_error\n",
    "\n",
    "model = LinearRegression()\n",
    "model.fit(X_train_scaled, y_train)\n",
    "\n",
    "y_pred = model.predict(X_test_scaled)\n",
    "mse = mean_squared_error(y_test, y_pred)\n",
    "print(f\"Linear Regression MSE: {mse}\")"
   ]
  },
  {
   "cell_type": "markdown",
   "metadata": {},
   "source": [
    "# 2. Ridge Regression\n",
    "## Ridge regression adds a penalty term to the linear regression loss function to prevent overfitting."
   ]
  },
  {
   "cell_type": "code",
   "execution_count": 3,
   "metadata": {},
   "outputs": [
    {
     "name": "stdout",
     "output_type": "stream",
     "text": [
      "Ridge Regression MSE: 0.5558548589435972\n"
     ]
    }
   ],
   "source": [
    "from sklearn.linear_model import Ridge\n",
    "\n",
    "model = Ridge(alpha=1.0)\n",
    "model.fit(X_train_scaled, y_train)\n",
    "\n",
    "y_pred = model.predict(X_test_scaled)\n",
    "mse = mean_squared_error(y_test, y_pred)\n",
    "print(f\"Ridge Regression MSE: {mse}\")"
   ]
  },
  {
   "cell_type": "markdown",
   "metadata": {},
   "source": [
    "# 3. Lasso Regression\n",
    "## Lasso regression adds a penalty term that can shrink coefficients to zero, effectively performing feature selection."
   ]
  },
  {
   "cell_type": "code",
   "execution_count": 4,
   "metadata": {},
   "outputs": [
    {
     "name": "stdout",
     "output_type": "stream",
     "text": [
      "Lasso Regression MSE: 0.6796290284328825\n"
     ]
    }
   ],
   "source": [
    "from sklearn.linear_model import Lasso\n",
    "\n",
    "model = Lasso(alpha=0.1)\n",
    "model.fit(X_train_scaled, y_train)\n",
    "\n",
    "y_pred = model.predict(X_test_scaled)\n",
    "mse = mean_squared_error(y_test, y_pred)\n",
    "print(f\"Lasso Regression MSE: {mse}\")"
   ]
  },
  {
   "cell_type": "markdown",
   "metadata": {},
   "source": [
    "# 4. Elastic Net Regression\n",
    "## Elastic Net combines penalties of both Lasso and Ridge to get the benefits of both methods."
   ]
  },
  {
   "cell_type": "code",
   "execution_count": 5,
   "metadata": {},
   "outputs": [
    {
     "name": "stdout",
     "output_type": "stream",
     "text": [
      "Elastic Net Regression MSE: 0.6358566879910782\n"
     ]
    }
   ],
   "source": [
    "from sklearn.linear_model import ElasticNet\n",
    "\n",
    "model = ElasticNet(alpha=0.1, l1_ratio=0.5)\n",
    "model.fit(X_train_scaled, y_train)\n",
    "\n",
    "y_pred = model.predict(X_test_scaled)\n",
    "mse = mean_squared_error(y_test, y_pred)\n",
    "print(f\"Elastic Net Regression MSE: {mse}\")"
   ]
  },
  {
   "cell_type": "markdown",
   "metadata": {},
   "source": [
    "# 5. Polynomial Regression\n",
    "## Polynomial regression fits a polynomial equation to the data."
   ]
  },
  {
   "cell_type": "code",
   "execution_count": 6,
   "metadata": {},
   "outputs": [
    {
     "name": "stdout",
     "output_type": "stream",
     "text": [
      "Polynomial Regression MSE: 0.46430152672998964\n"
     ]
    }
   ],
   "source": [
    "from sklearn.preprocessing import PolynomialFeatures\n",
    "\n",
    "poly = PolynomialFeatures(degree=2)\n",
    "X_poly = poly.fit_transform(X)\n",
    "\n",
    "X_train, X_test, y_train, y_test = train_test_split(X_poly, y, test_size=0.2, random_state=42)\n",
    "\n",
    "model = LinearRegression()\n",
    "model.fit(X_train, y_train)\n",
    "\n",
    "y_pred = model.predict(X_test)\n",
    "mse = mean_squared_error(y_test, y_pred)\n",
    "print(f\"Polynomial Regression MSE: {mse}\")"
   ]
  },
  {
   "cell_type": "markdown",
   "metadata": {},
   "source": [
    "# 6. Support Vector Regression (SVR)\n",
    "## SVR uses the support vector machine algorithm for regression."
   ]
  },
  {
   "cell_type": "code",
   "execution_count": 7,
   "metadata": {},
   "outputs": [
    {
     "name": "stdout",
     "output_type": "stream",
     "text": [
      "Support Vector Regression MSE: 0.35700403193386515\n"
     ]
    }
   ],
   "source": [
    "from sklearn.svm import SVR\n",
    "\n",
    "model = SVR(kernel='rbf')\n",
    "model.fit(X_train_scaled, y_train)\n",
    "\n",
    "y_pred = model.predict(X_test_scaled)\n",
    "mse = mean_squared_error(y_test, y_pred)\n",
    "print(f\"Support Vector Regression MSE: {mse}\")"
   ]
  },
  {
   "cell_type": "markdown",
   "metadata": {},
   "source": [
    "# 7. Decision Tree Regression\n",
    "## Decision tree regression uses a tree-like model of decisions for regression tasks."
   ]
  },
  {
   "cell_type": "code",
   "execution_count": 8,
   "metadata": {},
   "outputs": [
    {
     "name": "stdout",
     "output_type": "stream",
     "text": [
      "Decision Tree Regression MSE: 0.551924968444283\n"
     ]
    }
   ],
   "source": [
    "from sklearn.tree import DecisionTreeRegressor\n",
    "\n",
    "model = DecisionTreeRegressor(random_state=42)\n",
    "model.fit(X_train, y_train)\n",
    "\n",
    "y_pred = model.predict(X_test)\n",
    "mse = mean_squared_error(y_test, y_pred)\n",
    "print(f\"Decision Tree Regression MSE: {mse}\")"
   ]
  },
  {
   "cell_type": "markdown",
   "metadata": {},
   "source": [
    "# 8. Random Forest Regression\n",
    "## Random forest regression uses an ensemble of decision trees."
   ]
  },
  {
   "cell_type": "code",
   "execution_count": 9,
   "metadata": {},
   "outputs": [
    {
     "name": "stdout",
     "output_type": "stream",
     "text": [
      "Random Forest Regression MSE: 0.2662959981126572\n"
     ]
    }
   ],
   "source": [
    "from sklearn.ensemble import RandomForestRegressor\n",
    "\n",
    "model = RandomForestRegressor(n_estimators=100, random_state=42)\n",
    "model.fit(X_train, y_train)\n",
    "\n",
    "y_pred = model.predict(X_test)\n",
    "mse = mean_squared_error(y_test, y_pred)\n",
    "print(f\"Random Forest Regression MSE: {mse}\")"
   ]
  },
  {
   "cell_type": "markdown",
   "metadata": {},
   "source": [
    "# 9. Gradient Boosting Regression\n",
    "## Gradient boosting regression builds an additive model in a forward stage-wise manner."
   ]
  },
  {
   "cell_type": "code",
   "execution_count": 10,
   "metadata": {},
   "outputs": [
    {
     "name": "stdout",
     "output_type": "stream",
     "text": [
      "Gradient Boosting Regression MSE: 0.29372044147499166\n"
     ]
    }
   ],
   "source": [
    "from sklearn.ensemble import GradientBoostingRegressor\n",
    "\n",
    "model = GradientBoostingRegressor(n_estimators=100, random_state=42)\n",
    "model.fit(X_train, y_train)\n",
    "\n",
    "y_pred = model.predict(X_test)\n",
    "mse = mean_squared_error(y_test, y_pred)\n",
    "print(f\"Gradient Boosting Regression MSE: {mse}\")"
   ]
  },
  {
   "cell_type": "markdown",
   "metadata": {},
   "source": [
    "# 10. XGBoost Regression\n",
    "## XGBoost is an optimized gradient boosting library."
   ]
  },
  {
   "cell_type": "code",
   "execution_count": 11,
   "metadata": {},
   "outputs": [
    {
     "name": "stdout",
     "output_type": "stream",
     "text": [
      "XGBoost Regression MSE: 0.22905032935494876\n"
     ]
    }
   ],
   "source": [
    "import xgboost as xgb\n",
    "\n",
    "model = xgb.XGBRegressor(n_estimators=100, random_state=42)\n",
    "model.fit(X_train, y_train)\n",
    "\n",
    "y_pred = model.predict(X_test)\n",
    "mse = mean_squared_error(y_test, y_pred)\n",
    "print(f\"XGBoost Regression MSE: {mse}\")"
   ]
  },
  {
   "cell_type": "markdown",
   "metadata": {},
   "source": [
    "# proceed with an example of running these regression models on a dataset.\n",
    "\n",
    "## Additionally, we'll implement hyperparameter tuning using GridSearchCV for one of the models as an example. Let's choose Ridge Regression for hyperparameter tuning.\n",
    "\n",
    "### Here's the complete code:"
   ]
  },
  {
   "cell_type": "code",
   "execution_count": 12,
   "metadata": {},
   "outputs": [
    {
     "name": "stdout",
     "output_type": "stream",
     "text": [
      "Linear Regression MSE: 0.5558915986952444\n",
      "Ridge Regression MSE: 0.5558548589435972\n",
      "Best Ridge Regression MSE after tuning: 0.5558879138674183\n",
      "Best parameters: {'alpha': 0.1}\n",
      "Lasso Regression MSE: 0.6796290284328825\n",
      "Elastic Net Regression MSE: 0.6358566879910782\n",
      "Polynomial Regression MSE: 0.46430152672998964\n",
      "Support Vector Regression MSE: 0.35700403193386515\n",
      "Decision Tree Regression MSE: 0.551924968444283\n",
      "Random Forest Regression MSE: 0.2662959981126572\n",
      "Gradient Boosting Regression MSE: 0.29372044147499166\n",
      "XGBoost Regression MSE: 0.22905032935494876\n"
     ]
    }
   ],
   "source": [
    "import pandas as pd\n",
    "from sklearn.datasets import fetch_california_housing\n",
    "from sklearn.model_selection import train_test_split, GridSearchCV\n",
    "from sklearn.preprocessing import StandardScaler, PolynomialFeatures\n",
    "from sklearn.linear_model import LinearRegression, Ridge, Lasso, ElasticNet\n",
    "from sklearn.svm import SVR\n",
    "from sklearn.tree import DecisionTreeRegressor\n",
    "from sklearn.ensemble import RandomForestRegressor, GradientBoostingRegressor\n",
    "import xgboost as xgb\n",
    "from sklearn.metrics import mean_squared_error\n",
    "\n",
    "# Load the dataset\n",
    "california = fetch_california_housing()\n",
    "df = pd.DataFrame(california.data, columns=california.feature_names)\n",
    "df['TARGET'] = california.target\n",
    "\n",
    "# Assume df is your DataFrame, y is your target variable, and X are your features\n",
    "X = df.drop('TARGET', axis=1)\n",
    "y = df['TARGET']\n",
    "\n",
    "X_train, X_test, y_train, y_test = train_test_split(X, y, test_size=0.2, random_state=42)\n",
    "\n",
    "scaler = StandardScaler()\n",
    "X_train_scaled = scaler.fit_transform(X_train)\n",
    "X_test_scaled = scaler.transform(X_test)\n",
    "\n",
    "# Linear Regression\n",
    "model = LinearRegression()\n",
    "model.fit(X_train_scaled, y_train)\n",
    "y_pred = model.predict(X_test_scaled)\n",
    "mse = mean_squared_error(y_test, y_pred)\n",
    "print(f\"Linear Regression MSE: {mse}\")\n",
    "\n",
    "# Ridge Regression\n",
    "model = Ridge(alpha=1.0)\n",
    "model.fit(X_train_scaled, y_train)\n",
    "y_pred = model.predict(X_test_scaled)\n",
    "mse = mean_squared_error(y_test, y_pred)\n",
    "print(f\"Ridge Regression MSE: {mse}\")\n",
    "\n",
    "# Hyperparameter Tuning for Ridge Regression\n",
    "param_grid = {'alpha': [0.1, 1.0, 10.0, 100.0]}\n",
    "grid_search = GridSearchCV(Ridge(), param_grid, cv=5, scoring='neg_mean_squared_error')\n",
    "grid_search.fit(X_train_scaled, y_train)\n",
    "best_model = grid_search.best_estimator_\n",
    "y_pred = best_model.predict(X_test_scaled)\n",
    "mse = mean_squared_error(y_test, y_pred)\n",
    "print(f\"Best Ridge Regression MSE after tuning: {mse}\")\n",
    "print(f\"Best parameters: {grid_search.best_params_}\")\n",
    "\n",
    "# Lasso Regression\n",
    "model = Lasso(alpha=0.1)\n",
    "model.fit(X_train_scaled, y_train)\n",
    "y_pred = model.predict(X_test_scaled)\n",
    "mse = mean_squared_error(y_test, y_pred)\n",
    "print(f\"Lasso Regression MSE: {mse}\")\n",
    "\n",
    "# Elastic Net Regression\n",
    "model = ElasticNet(alpha=0.1, l1_ratio=0.5)\n",
    "model.fit(X_train_scaled, y_train)\n",
    "y_pred = model.predict(X_test_scaled)\n",
    "mse = mean_squared_error(y_test, y_pred)\n",
    "print(f\"Elastic Net Regression MSE: {mse}\")\n",
    "\n",
    "# Polynomial Regression\n",
    "poly = PolynomialFeatures(degree=2)\n",
    "X_poly = poly.fit_transform(X)\n",
    "X_train, X_test, y_train, y_test = train_test_split(X_poly, y, test_size=0.2, random_state=42)\n",
    "model = LinearRegression()\n",
    "model.fit(X_train, y_train)\n",
    "y_pred = model.predict(X_test)\n",
    "mse = mean_squared_error(y_test, y_pred)\n",
    "print(f\"Polynomial Regression MSE: {mse}\")\n",
    "\n",
    "# Support Vector Regression (SVR)\n",
    "model = SVR(kernel='rbf')\n",
    "model.fit(X_train_scaled, y_train)\n",
    "y_pred = model.predict(X_test_scaled)\n",
    "mse = mean_squared_error(y_test, y_pred)\n",
    "print(f\"Support Vector Regression MSE: {mse}\")\n",
    "\n",
    "# Decision Tree Regression\n",
    "model = DecisionTreeRegressor(random_state=42)\n",
    "model.fit(X_train, y_train)\n",
    "y_pred = model.predict(X_test)\n",
    "mse = mean_squared_error(y_test, y_pred)\n",
    "print(f\"Decision Tree Regression MSE: {mse}\")\n",
    "\n",
    "# Random Forest Regression\n",
    "model = RandomForestRegressor(n_estimators=100, random_state=42)\n",
    "model.fit(X_train, y_train)\n",
    "y_pred = model.predict(X_test)\n",
    "mse = mean_squared_error(y_test, y_pred)\n",
    "print(f\"Random Forest Regression MSE: {mse}\")\n",
    "\n",
    "# Gradient Boosting Regression\n",
    "model = GradientBoostingRegressor(n_estimators=100, random_state=42)\n",
    "model.fit(X_train, y_train)\n",
    "y_pred = model.predict(X_test)\n",
    "mse = mean_squared_error(y_test, y_pred)\n",
    "print(f\"Gradient Boosting Regression MSE: {mse}\")\n",
    "\n",
    "# XGBoost Regression\n",
    "model = xgb.XGBRegressor(n_estimators=100, random_state=42)\n",
    "model.fit(X_train, y_train)\n",
    "y_pred = model.predict(X_test)\n",
    "mse = mean_squared_error(y_test, y_pred)\n",
    "print(f\"XGBoost Regression MSE: {mse}\")"
   ]
  },
  {
   "cell_type": "markdown",
   "metadata": {},
   "source": [
    "## This script:\n",
    "\n",
    "1. Loads the Boston Housing dataset.\n",
    "2. Splits the data into training and testing sets.\n",
    "3. Scales the features.\n",
    "4. Trains various regression models and evaluates their performance.\n",
    "5. Includes hyperparameter tuning for Ridge Regression using GridSearchCV."
   ]
  },
  {
   "cell_type": "markdown",
   "metadata": {},
   "source": [
    "# Visualizing and Analyzing Model Performance\n",
    "## We will use the matplotlib and seaborn libraries to visualize the results. We'll create a bar plot comparing the Mean Squared Error (MSE) of each model.\n",
    "\n",
    "### Here is the code to compare the models and visualize their performance:"
   ]
  },
  {
   "cell_type": "code",
   "execution_count": 13,
   "metadata": {},
   "outputs": [
    {
     "data": {
      "image/png": "[encoded data removed]",
      "text/plain": [
       "<Figure size 1000x600 with 1 Axes>"
      ]
     },
     "metadata": {},
     "output_type": "display_data"
    }
   ],
   "source": [
    "import pandas as pd\n",
    "import numpy as np\n",
    "from sklearn.datasets import fetch_california_housing\n",
    "from sklearn.model_selection import train_test_split, GridSearchCV\n",
    "from sklearn.preprocessing import StandardScaler, PolynomialFeatures\n",
    "from sklearn.linear_model import LinearRegression, Ridge, Lasso, ElasticNet\n",
    "from sklearn.svm import SVR\n",
    "from sklearn.tree import DecisionTreeRegressor\n",
    "from sklearn.ensemble import RandomForestRegressor, GradientBoostingRegressor\n",
    "import xgboost as xgb\n",
    "from sklearn.metrics import mean_squared_error\n",
    "import matplotlib.pyplot as plt\n",
    "import seaborn as sns\n",
    "\n",
    "# Load the dataset\n",
    "boston = fetch_california_housing()\n",
    "df = pd.DataFrame(boston.data, columns=boston.feature_names)\n",
    "df['TARGET'] = boston.target\n",
    "\n",
    "# Prepare the data\n",
    "X = df.drop('TARGET', axis=1)\n",
    "y = df['TARGET']\n",
    "\n",
    "X_train, X_test, y_train, y_test = train_test_split(X, y, test_size=0.2, random_state=42)\n",
    "\n",
    "scaler = StandardScaler()\n",
    "X_train_scaled = scaler.fit_transform(X_train)\n",
    "X_test_scaled = scaler.transform(X_test)\n",
    "\n",
    "# Function to calculate and store MSE\n",
    "def calculate_mse(model, X_train, X_test, y_train, y_test):\n",
    "    model.fit(X_train, y_train)\n",
    "    y_pred = model.predict(X_test)\n",
    "    mse = mean_squared_error(y_test, y_pred)\n",
    "    return mse\n",
    "\n",
    "# Dictionary to store the results\n",
    "results = {}\n",
    "\n",
    "# Linear Regression\n",
    "results['Linear Regression'] = calculate_mse(LinearRegression(), X_train_scaled, X_test_scaled, y_train, y_test)\n",
    "\n",
    "# Ridge Regression\n",
    "ridge = Ridge(alpha=1.0)\n",
    "results['Ridge Regression'] = calculate_mse(ridge, X_train_scaled, X_test_scaled, y_train, y_test)\n",
    "\n",
    "# Hyperparameter Tuning for Ridge Regression\n",
    "param_grid = {'alpha': [0.1, 1.0, 10.0, 100.0]}\n",
    "grid_search = GridSearchCV(Ridge(), param_grid, cv=5, scoring='neg_mean_squared_error')\n",
    "grid_search.fit(X_train_scaled, y_train)\n",
    "best_model = grid_search.best_estimator_\n",
    "results['Ridge Regression (Tuned)'] = calculate_mse(best_model, X_train_scaled, X_test_scaled, y_train, y_test)\n",
    "\n",
    "# Lasso Regression\n",
    "results['Lasso Regression'] = calculate_mse(Lasso(alpha=0.1), X_train_scaled, X_test_scaled, y_train, y_test)\n",
    "\n",
    "# Elastic Net Regression\n",
    "results['Elastic Net Regression'] = calculate_mse(ElasticNet(alpha=0.1, l1_ratio=0.5), X_train_scaled, X_test_scaled, y_train, y_test)\n",
    "\n",
    "# Polynomial Regression\n",
    "poly = PolynomialFeatures(degree=2)\n",
    "X_poly = poly.fit_transform(X)\n",
    "X_train_poly, X_test_poly, y_train, y_test = train_test_split(X_poly, y, test_size=0.2, random_state=42)\n",
    "results['Polynomial Regression'] = calculate_mse(LinearRegression(), X_train_poly, X_test_poly, y_train, y_test)\n",
    "\n",
    "# Support Vector Regression (SVR)\n",
    "results['Support Vector Regression'] = calculate_mse(SVR(kernel='rbf'), X_train_scaled, X_test_scaled, y_train, y_test)\n",
    "\n",
    "# Decision Tree Regression\n",
    "results['Decision Tree Regression'] = calculate_mse(DecisionTreeRegressor(random_state=42), X_train, X_test, y_train, y_test)\n",
    "\n",
    "# Random Forest Regression\n",
    "results['Random Forest Regression'] = calculate_mse(RandomForestRegressor(n_estimators=100, random_state=42), X_train, X_test, y_train, y_test)\n",
    "\n",
    "# Gradient Boosting Regression\n",
    "results['Gradient Boosting Regression'] = calculate_mse(GradientBoostingRegressor(n_estimators=100, random_state=42), X_train, X_test, y_train, y_test)\n",
    "\n",
    "# XGBoost Regression\n",
    "results['XGBoost Regression'] = calculate_mse(xgb.XGBRegressor(n_estimators=100, random_state=42), X_train, X_test, y_train, y_test)\n",
    "\n",
    "# Visualize the results\n",
    "result_df = pd.DataFrame(list(results.items()), columns=['Model', 'MSE'])\n",
    "plt.figure(figsize=(10, 6))\n",
    "sns.barplot(x='MSE', y='Model', data=result_df)\n",
    "plt.title('Comparison of Regression Models')\n",
    "plt.xlabel('Mean Squared Error')\n",
    "plt.ylabel('Model')\n",
    "plt.show()\n"
   ]
  },
  {
   "cell_type": "markdown",
   "metadata": {},
   "source": [
    "## Explanation:\n",
    "1. Loading and Preparing the Dataset: We load the Boston Housing dataset and split it into training and testing sets.\n",
    "2. Scaling the Features: We use StandardScaler to scale the features.\n",
    "3. Calculating MSE: We create a function calculate_mse to fit a model, predict, and calculate the Mean Squared Error.\n",
    "4. Model Training and Evaluation: We train and evaluate each regression model, storing their MSE in a dictionary.\n",
    "5. Hyperparameter Tuning: We perform hyperparameter tuning for Ridge Regression using GridSearchCV.\n",
    "6. Visualization: We create a bar plot to compare the MSE of each model using matplotlib and seaborn."
   ]
  },
  {
   "cell_type": "markdown",
   "metadata": {},
   "source": [
    "# compare the performance of different regression models comprehensively, we can use multiple evaluation metrics, including:\n",
    "\n",
    "## 1. Mean Squared Error (MSE)\n",
    "## 2. Mean Absolute Error (MAE)\n",
    "## 3. R-squared (R²)\n",
    "\n",
    "### We'll use these metrics to evaluate each model and visualize the results. The following code performs these evaluations and generates visualizations for comparison."
   ]
  },
  {
   "cell_type": "code",
   "execution_count": 14,
   "metadata": {},
   "outputs": [
    {
     "data": {
      "image/png": "[encoded data removed]",
      "text/plain": [
       "<Figure size 1800x600 with 3 Axes>"
      ]
     },
     "metadata": {},
     "output_type": "display_data"
    }
   ],
   "source": [
    "import pandas as pd\n",
    "import numpy as np\n",
    "from sklearn.datasets import fetch_california_housing\n",
    "from sklearn.model_selection import train_test_split, GridSearchCV\n",
    "from sklearn.preprocessing import StandardScaler, PolynomialFeatures\n",
    "from sklearn.linear_model import LinearRegression, Ridge, Lasso, ElasticNet\n",
    "from sklearn.svm import SVR\n",
    "from sklearn.tree import DecisionTreeRegressor\n",
    "from sklearn.ensemble import RandomForestRegressor, GradientBoostingRegressor\n",
    "import xgboost as xgb\n",
    "from sklearn.metrics import mean_squared_error, mean_absolute_error, r2_score\n",
    "import matplotlib.pyplot as plt\n",
    "import seaborn as sns\n",
    "\n",
    "# Load the dataset\n",
    "boston = fetch_california_housing()\n",
    "df = pd.DataFrame(boston.data, columns=boston.feature_names)\n",
    "df['TARGET'] = boston.target\n",
    "\n",
    "# Prepare the data\n",
    "X = df.drop('TARGET', axis=1)\n",
    "y = df['TARGET']\n",
    "\n",
    "X_train, X_test, y_train, y_test = train_test_split(X, y, test_size=0.2, random_state=42)\n",
    "\n",
    "scaler = StandardScaler()\n",
    "X_train_scaled = scaler.fit_transform(X_train)\n",
    "X_test_scaled = scaler.transform(X_test)\n",
    "\n",
    "# Function to calculate and store metrics\n",
    "def calculate_metrics(model, X_train, X_test, y_train, y_test):\n",
    "    model.fit(X_train, y_train)\n",
    "    y_pred = model.predict(X_test)\n",
    "    mse = mean_squared_error(y_test, y_pred)\n",
    "    mae = mean_absolute_error(y_test, y_pred)\n",
    "    r2 = r2_score(y_test, y_pred)\n",
    "    return mse, mae, r2\n",
    "\n",
    "# Dictionary to store the results\n",
    "results = {}\n",
    "\n",
    "# Linear Regression\n",
    "results['Linear Regression'] = calculate_metrics(LinearRegression(), X_train_scaled, X_test_scaled, y_train, y_test)\n",
    "\n",
    "# Ridge Regression\n",
    "ridge = Ridge(alpha=1.0)\n",
    "results['Ridge Regression'] = calculate_metrics(ridge, X_train_scaled, X_test_scaled, y_train, y_test)\n",
    "\n",
    "# Hyperparameter Tuning for Ridge Regression\n",
    "param_grid = {'alpha': [0.1, 1.0, 10.0, 100.0]}\n",
    "grid_search = GridSearchCV(Ridge(), param_grid, cv=5, scoring='neg_mean_squared_error')\n",
    "grid_search.fit(X_train_scaled, y_train)\n",
    "best_model = grid_search.best_estimator_\n",
    "results['Ridge Regression (Tuned)'] = calculate_metrics(best_model, X_train_scaled, X_test_scaled, y_train, y_test)\n",
    "\n",
    "# Lasso Regression\n",
    "results['Lasso Regression'] = calculate_metrics(Lasso(alpha=0.1), X_train_scaled, X_test_scaled, y_train, y_test)\n",
    "\n",
    "# Elastic Net Regression\n",
    "results['Elastic Net Regression'] = calculate_metrics(ElasticNet(alpha=0.1, l1_ratio=0.5), X_train_scaled, X_test_scaled, y_train, y_test)\n",
    "\n",
    "# Polynomial Regression\n",
    "poly = PolynomialFeatures(degree=2)\n",
    "X_poly = poly.fit_transform(X)\n",
    "X_train_poly, X_test_poly, y_train, y_test = train_test_split(X_poly, y, test_size=0.2, random_state=42)\n",
    "results['Polynomial Regression'] = calculate_metrics(LinearRegression(), X_train_poly, X_test_poly, y_train, y_test)\n",
    "\n",
    "# Support Vector Regression (SVR)\n",
    "results['Support Vector Regression'] = calculate_metrics(SVR(kernel='rbf'), X_train_scaled, X_test_scaled, y_train, y_test)\n",
    "\n",
    "# Decision Tree Regression\n",
    "results['Decision Tree Regression'] = calculate_metrics(DecisionTreeRegressor(random_state=42), X_train, X_test, y_train, y_test)\n",
    "\n",
    "# Random Forest Regression\n",
    "results['Random Forest Regression'] = calculate_metrics(RandomForestRegressor(n_estimators=100, random_state=42), X_train, X_test, y_train, y_test)\n",
    "\n",
    "# Gradient Boosting Regression\n",
    "results['Gradient Boosting Regression'] = calculate_metrics(GradientBoostingRegressor(n_estimators=100, random_state=42), X_train, X_test, y_train, y_test)\n",
    "\n",
    "# XGBoost Regression\n",
    "results['XGBoost Regression'] = calculate_metrics(xgb.XGBRegressor(n_estimators=100, random_state=42), X_train, X_test, y_train, y_test)\n",
    "\n",
    "# Convert results to DataFrame\n",
    "result_df = pd.DataFrame(results, index=['MSE', 'MAE', 'R2']).T\n",
    "\n",
    "\n",
    "\n",
    "# Create a figure and axes\n",
    "fig, axes = plt.subplots(1, 3, figsize=(18, 6))\n",
    "\n",
    "# Plotting the results\n",
    "sns.barplot(ax=axes[0], x=result_df.index, y='MSE', data=result_df)\n",
    "axes[0].set_title('Mean Squared Error (MSE) Comparison')\n",
    "axes[0].tick_params(axis='x', rotation=90)\n",
    "\n",
    "sns.barplot(ax=axes[1], x=result_df.index, y='MAE', data=result_df)\n",
    "axes[1].set_title('Mean Absolute Error (MAE) Comparison')\n",
    "axes[1].tick_params(axis='x', rotation=90)\n",
    "\n",
    "sns.barplot(ax=axes[2], x=result_df.index, y='R2', data=result_df)\n",
    "axes[2].set_title('R-squared (R2) Comparison')\n",
    "axes[2].tick_params(axis='x', rotation=90)\n",
    "\n",
    "plt.tight_layout()\n",
    "# plt.subplots_adjust(wspace=0.5)  # Increase the width space between plots\n",
    "plt.show()\n"
   ]
  },
  {
   "cell_type": "markdown",
   "metadata": {},
   "source": [
    "## Explanation:\n",
    "1. Loading and Preparing the Dataset: We load the Boston Housing dataset and split it into training and testing sets.\n",
    "2. Scaling the Features: We use StandardScaler to scale the features.\n",
    "3. Calculating Metrics: We create a function calculate_metrics to fit a model, predict, and calculate MSE, MAE, and R-squared.\n",
    "4. Model Training and Evaluation: We train and evaluate each regression model, storing their metrics in a dictionary.\n",
    "5. Hyperparameter Tuning: We perform hyperparameter tuning for Ridge Regression using GridSearchCV.\n",
    "6. Visualization: We create bar plots to compare MSE, MAE, and R-squared of each model using matplotlib and seaborn.\n",
    "### This script provides a comprehensive comparison of regression models using multiple performance metrics. The visualizations help in understanding how each model performs in terms of different evaluation criteria."
   ]
  }
 ],
 "metadata": {
  "kernelspec": {
   "display_name": "base",
   "language": "python",
   "name": "python3"
  },
  "language_info": {
   "codemirror_mode": {
    "name": "ipython",
    "version": 3
   },
   "file_extension": ".py",
   "mimetype": "text/x-python",
   "name": "python",
   "nbconvert_exporter": "python",
   "pygments_lexer": "ipython3",
   "version": "3.11.9"
  }
 },
 "nbformat": 4,
 "nbformat_minor": 2
}
