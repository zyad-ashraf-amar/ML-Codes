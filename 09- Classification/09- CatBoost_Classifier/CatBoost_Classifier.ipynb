{
 "cells": [
  {
   "cell_type": "markdown",
   "metadata": {},
   "source": [
    "# CatBoost Classifier\n",
    "CatBoost (Categorical Boosting) is a high-performance gradient boosting library that is particularly efficient in handling categorical features. Developed by Yandex, CatBoost aims to provide state-of-the-art results without extensive hyperparameter tuning and preprocessing.\n",
    "\n",
    "## Advantages\n",
    "- Handles Categorical Features: Efficiently handles categorical features without needing extensive preprocessing like one-hot encoding.\n",
    "- High Accuracy: Often achieves high accuracy and is competitive with other leading gradient boosting libraries.\n",
    "- Robust to Overfitting: Implements techniques to prevent overfitting.\n",
    "- Fast Training: Optimized for fast training and prediction times.\n",
    "- Minimal Tuning Required: Provides good default settings that work well in many scenarios, reducing the need for extensive hyperparameter tuning.\n",
    "\n",
    "## Disadvantages\n",
    "- Complexity: More complex compared to simpler models, making it harder to interpret.\n",
    "- Requires Significant Resources: Can be resource-intensive in terms of memory and computation, especially for large datasets.\n",
    "- Sensitive to Hyperparameters: While good defaults are provided, fine-tuning can still be crucial for best performance.\n",
    "\n",
    "## Use Cases\n",
    "- Finance: Fraud detection, credit scoring, and risk management.\n",
    "- Marketing: Customer segmentation, churn prediction, and recommendation systems.\n",
    "- Healthcare: Disease prediction and patient risk stratification.\n",
    "- E-commerce: Product recommendation, inventory forecasting, and sales prediction.\n",
    "\n",
    "## Scaling(not necessarily)\n",
    "CatBoost does not require feature scaling because it is based on decision tree algorithms which are not sensitive to the scale of the features.\n",
    "\n",
    "## Encoding(necessary) \n",
    "CatBoost can handle categorical features directly without needing to encode them into numerical values. You can specify categorical features using the cat_features parameter."
   ]
  },
  {
   "cell_type": "markdown",
   "metadata": {},
   "source": [
    "# Import library"
   ]
  },
  {
   "cell_type": "code",
   "execution_count": null,
   "metadata": {},
   "outputs": [],
   "source": [
    "import numpy as np\n",
    "import pandas as pd\n",
    "from sklearn.model_selection import train_test_split, GridSearchCV, RandomizedSearchCV\n",
    "from catboost import CatBoostClassifier, Pool\n",
    "from sklearn.preprocessing import StandardScaler, OneHotEncoder\n",
    "from sklearn.pipeline import Pipeline\n",
    "from sklearn.compose import ColumnTransformer\n",
    "from sklearn.datasets import load_iris\n",
    "from scipy.stats import uniform, loguniform"
   ]
  },
  {
   "cell_type": "markdown",
   "metadata": {},
   "source": [
    "# Read data"
   ]
  },
  {
   "cell_type": "code",
   "execution_count": null,
   "metadata": {},
   "outputs": [],
   "source": [
    "df = pd.read_csv('Breast_Cancer.csv')\n",
    "x = df.drop('diagnosis',axis=1)\n",
    "y = df['diagnosis']"
   ]
  },
  {
   "cell_type": "code",
   "execution_count": null,
   "metadata": {},
   "outputs": [],
   "source": [
    "x_train, x_test, y_train, y_test = train_test_split(x, y, test_size=0.2, random_state=42)"
   ]
  },
  {
   "cell_type": "markdown",
   "metadata": {},
   "source": [
    "# Scale data"
   ]
  },
  {
   "cell_type": "code",
   "execution_count": null,
   "metadata": {},
   "outputs": [],
   "source": [
    "scaler = StandardScaler()\n",
    "x_train = scaler.fit_transform(x_train)\n",
    "x_test = scaler.transform(x_test)"
   ]
  },
  {
   "cell_type": "markdown",
   "metadata": {},
   "source": [
    "# Train"
   ]
  },
  {
   "cell_type": "markdown",
   "metadata": {},
   "source": [
    "## Grid Search"
   ]
  },
  {
   "cell_type": "code",
   "execution_count": null,
   "metadata": {},
   "outputs": [],
   "source": [
    "from catboost import CatBoostClassifier\n",
    "from sklearn.model_selection import GridSearchCV\n",
    "\n",
    "catboost_clf = CatBoostClassifier(random_state=42, silent=True)\n",
    "\n",
    "params = {\n",
    "    'iterations': [100, 200, 300],\n",
    "    'learning_rate': [0.01, 0.1, 0.2],\n",
    "    'depth': [4, 6, 10],\n",
    "    'l2_leaf_reg': [1, 3, 5, 7]\n",
    "}\n",
    "\n",
    "param_grid = {}\n",
    "\n",
    "\n",
    "grid_search = GridSearchCV(catboost_clf, params, scoring='accuracy', cv=5, n_jobs=-1)\n",
    "\n",
    "# Train the grid search\n",
    "grid_search.fit(x_train, y_train)  "
   ]
  },
  {
   "cell_type": "code",
   "execution_count": null,
   "metadata": {},
   "outputs": [],
   "source": [
    "print(\"Best Hyperparameter Index:\", grid_search.best_index_)\n",
    "print(\"Best Hyperparameters:\", grid_search.best_params_)\n",
    "print(\"Best Cross-Validated Score:\", grid_search.best_score_)"
   ]
  },
  {
   "cell_type": "code",
   "execution_count": null,
   "metadata": {},
   "outputs": [],
   "source": [
    "# Get the model with best hyperparameters\n",
    "model = grid_search.best_estimator_\n",
    "y_pred = model.predict(x_test)"
   ]
  },
  {
   "cell_type": "markdown",
   "metadata": {},
   "source": [
    "## Randomized Search"
   ]
  },
  {
   "cell_type": "code",
   "execution_count": null,
   "metadata": {},
   "outputs": [],
   "source": [
    "from catboost import CatBoostClassifier\n",
    "from sklearn.model_selection import RandomizedSearchCV\n",
    "\n",
    "catboost_clf = CatBoostClassifier(random_state=42, silent=True)\n",
    "\n",
    "params = {\n",
    "    'iterations': np.arange(50, 300, 50),\n",
    "    'learning_rate': np.linspace(0.01, 0.2, 20),\n",
    "    'depth': np.arange(4, 11),\n",
    "    'l2_leaf_reg': np.arange(1, 10)\n",
    "}\n",
    "\n",
    "param_dist = {}\n",
    "\n",
    "\n",
    "random_search = RandomizedSearchCV(catboost_clf, params, scoring='accuracy', n_iter=10, cv=5, n_jobs=-1, random_state=42)\n",
    "\n",
    "# Train the random search\n",
    "random_search.fit(x_train, y_train)"
   ]
  },
  {
   "cell_type": "code",
   "execution_count": null,
   "metadata": {},
   "outputs": [],
   "source": [
    "print(\"Best Hyperparameter Index:\", random_search.best_index_)\n",
    "print(\"Best Hyperparameters:\", random_search.best_params_)\n",
    "print(\"Best Cross-Validated Score:\", random_search.best_score_)"
   ]
  },
  {
   "cell_type": "code",
   "execution_count": null,
   "metadata": {},
   "outputs": [],
   "source": [
    "model = random_search.best_estimator_\n",
    "y_pred = model.predict(x_test)"
   ]
  },
  {
   "cell_type": "markdown",
   "metadata": {},
   "source": [
    "## Train DecisionTreeClassifier without search"
   ]
  },
  {
   "cell_type": "code",
   "execution_count": null,
   "metadata": {},
   "outputs": [],
   "source": [
    "from catboost import CatBoostClassifier\n",
    "model=GradientBoostingClassifier(learning_rate=0.2, min_samples_leaf=4, min_samples_split=10, n_estimators=200, random_state=42)\n",
    "model.fit(x_train, y_train)"
   ]
  }
 ],
 "metadata": {
  "kernelspec": {
   "display_name": "base",
   "language": "python",
   "name": "python3"
  },
  "language_info": {
   "codemirror_mode": {
    "name": "ipython",
    "version": 3
   },
   "file_extension": ".py",
   "mimetype": "text/x-python",
   "name": "python",
   "nbconvert_exporter": "python",
   "pygments_lexer": "ipython3",
   "version": "3.11.9"
  }
 },
 "nbformat": 4,
 "nbformat_minor": 2
}
