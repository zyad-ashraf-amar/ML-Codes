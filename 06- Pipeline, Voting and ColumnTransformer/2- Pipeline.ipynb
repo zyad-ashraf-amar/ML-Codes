{
 "cells": [
  {
   "cell_type": "markdown",
   "metadata": {},
   "source": [
    "# Pipeline\n",
    "A Pipeline in machine learning is a way to streamline and automate the workflow by chaining multiple processing steps together. It ensures that the data undergoes a predefined sequence of transformations and models, making the process efficient and reproducible. The Pipeline class in scikit-learn is commonly used for this purpose.\n",
    "\n",
    "## How It Works\n",
    "- Step Definition: Define each step of the pipeline. Each step can be a data transformation, preprocessing, or a model.\n",
    "- Chaining Steps: Combine these steps in a sequential order.\n",
    "- Fitting the Pipeline: Train the entire pipeline on the training data.\n",
    "- Making Predictions: Use the pipeline to make predictions on new data."
   ]
  },
  {
   "cell_type": "markdown",
   "metadata": {},
   "source": [
    "## Simple Example"
   ]
  },
  {
   "cell_type": "code",
   "execution_count": null,
   "metadata": {},
   "outputs": [],
   "source": [
    "from sklearn.pipeline import Pipeline\n",
    "from sklearn.preprocessing import StandardScaler\n",
    "from sklearn.linear_model import LogisticRegression\n",
    "from sklearn.datasets import load_iris\n",
    "from sklearn.model_selection import train_test_split\n",
    "\n",
    "# Load data\n",
    "data = load_iris()\n",
    "X_train, X_test, y_train, y_test = train_test_split(data.data, data.target, test_size=0.2, random_state=42)\n",
    "\n",
    "# Define pipeline steps\n",
    "steps = [\n",
    "    ('scaler', StandardScaler()), \n",
    "    ('classifier', LogisticRegression())\n",
    "]\n",
    "\n",
    "# Create pipeline\n",
    "pipeline = Pipeline(steps)\n",
    "\n",
    "# Fit pipeline\n",
    "pipeline.fit(X_train, y_train)\n",
    "\n",
    "# Make predictions\n",
    "predictions = pipeline.predict(X_test)\n",
    "\n",
    "print(predictions)\n"
   ]
  },
  {
   "cell_type": "markdown",
   "metadata": {},
   "source": [
    "## Complex Example"
   ]
  },
  {
   "cell_type": "code",
   "execution_count": null,
   "metadata": {},
   "outputs": [],
   "source": [
    "from sklearn.pipeline import Pipeline\n",
    "from sklearn.preprocessing import StandardScaler\n",
    "from sklearn.decomposition import PCA\n",
    "from sklearn.svm import SVC\n",
    "from sklearn.datasets import load_wine\n",
    "from sklearn.model_selection import train_test_split\n",
    "\n",
    "# Load data\n",
    "data = load_wine()\n",
    "X_train, X_test, y_train, y_test = train_test_split(data.data, data.target, test_size=0.2, random_state=42)\n",
    "\n",
    "# Define pipeline steps\n",
    "steps = [\n",
    "    ('scaler', StandardScaler()),\n",
    "    ('pca', PCA(n_components=2)),\n",
    "    ('classifier', SVC(kernel='linear'))\n",
    "]\n",
    "\n",
    "# Create pipeline\n",
    "pipeline = Pipeline(steps)\n",
    "\n",
    "# Fit pipeline\n",
    "pipeline.fit(X_train, y_train)\n",
    "\n",
    "# Make predictions\n",
    "predictions = pipeline.predict(X_test)\n",
    "\n",
    "print(predictions)\n"
   ]
  },
  {
   "cell_type": "markdown",
   "metadata": {},
   "source": [
    "## Very Complex Example"
   ]
  },
  {
   "cell_type": "code",
   "execution_count": null,
   "metadata": {},
   "outputs": [],
   "source": [
    "from sklearn.pipeline import Pipeline\n",
    "from sklearn.preprocessing import StandardScaler\n",
    "from sklearn.feature_selection import SelectKBest, f_classif\n",
    "from sklearn.model_selection import GridSearchCV\n",
    "from sklearn.ensemble import RandomForestClassifier\n",
    "from sklearn.svm import SVC\n",
    "from sklearn.datasets import load_breast_cancer\n",
    "from sklearn.model_selection import train_test_split\n",
    "\n",
    "# Load data\n",
    "data = load_breast_cancer()\n",
    "X_train, X_test, y_train, y_test = train_test_split(data.data, data.target, test_size=0.2, random_state=42)\n",
    "\n",
    "# Define pipeline steps\n",
    "steps = [\n",
    "    ('scaler', StandardScaler()),\n",
    "    ('feature_selection', SelectKBest(f_classif)),\n",
    "    ('classifier', SVC())\n",
    "]\n",
    "\n",
    "# Create pipeline\n",
    "pipeline = Pipeline(steps)\n",
    "\n",
    "# Define parameter grid\n",
    "param_grid = {\n",
    "    'feature_selection__k': [5, 10, 15],\n",
    "    'classifier': [RandomForestClassifier(), SVC()],\n",
    "    'classifier__n_estimators': [10, 50, 100] if 'classifier' is RandomForestClassifier else [None],\n",
    "    'classifier__C': [0.1, 1, 10] if 'classifier' is SVC else [None]\n",
    "}\n",
    "\n",
    "# Create grid search\n",
    "grid_search = GridSearchCV(pipeline, param_grid, cv=5)\n",
    "\n",
    "# Fit pipeline\n",
    "grid_search.fit(X_train, y_train)\n",
    "\n",
    "# Make predictions\n",
    "predictions = grid_search.predict(X_test)\n",
    "\n",
    "print(predictions)\n"
   ]
  },
  {
   "cell_type": "markdown",
   "metadata": {},
   "source": [
    "## Test the examples"
   ]
  },
  {
   "cell_type": "code",
   "execution_count": null,
   "metadata": {},
   "outputs": [],
   "source": [
    "import unittest\n",
    "from sklearn.pipeline import Pipeline\n",
    "from sklearn.preprocessing import StandardScaler\n",
    "from sklearn.linear_model import LogisticRegression\n",
    "from sklearn.decomposition import PCA\n",
    "from sklearn.svm import SVC\n",
    "from sklearn.ensemble import RandomForestClassifier\n",
    "from sklearn.datasets import load_iris, load_wine, load_breast_cancer\n",
    "from sklearn.model_selection import train_test_split, GridSearchCV\n",
    "from sklearn.feature_selection import SelectKBest, f_classif"
   ]
  },
  {
   "cell_type": "markdown",
   "metadata": {},
   "source": [
    "### test_simple example"
   ]
  },
  {
   "cell_type": "code",
   "execution_count": null,
   "metadata": {},
   "outputs": [],
   "source": [
    "data = load_iris()\n",
    "X_train, X_test, y_train, y_test = train_test_split(data.data, data.target, test_size=0.2, random_state=42)\n",
    "\n",
    "steps = [\n",
    "    ('scaler', StandardScaler()), \n",
    "    ('classifier', LogisticRegression())\n",
    "]\n",
    "pipeline = Pipeline(steps)\n",
    "\n",
    "param_grid = {\n",
    "    'classifier__C': [0.1, 1, 10]\n",
    "}\n",
    "\n",
    "grid_search = GridSearchCV(pipeline, param_grid, cv=5)\n",
    "grid_search.fit(X_train, y_train)\n",
    "predictions = grid_search.predict(X_test)\n",
    "\n",
    "self.assertEqual(len(predictions), len(y_test))"
   ]
  },
  {
   "cell_type": "markdown",
   "metadata": {},
   "source": [
    "- Uses StandardScaler and LogisticRegression.\n",
    "- GridSearchCV optimizes the C parameter of LogisticRegression."
   ]
  },
  {
   "cell_type": "markdown",
   "metadata": {},
   "source": [
    "### test_complex example"
   ]
  },
  {
   "cell_type": "code",
   "execution_count": null,
   "metadata": {},
   "outputs": [],
   "source": [
    "data = load_wine()\n",
    "X_train, X_test, y_train, y_test = train_test_split(data.data, data.target, test_size=0.2, random_state=42)\n",
    "\n",
    "steps = [\n",
    "    ('scaler', StandardScaler()),\n",
    "    ('pca', PCA(n_components=2)),\n",
    "    ('classifier', SVC(kernel='linear'))\n",
    "]\n",
    "pipeline = Pipeline(steps)\n",
    "\n",
    "param_grid = {\n",
    "    'pca__n_components': [2, 3],\n",
    "    'classifier__C': [0.1, 1, 10]\n",
    "}\n",
    "\n",
    "grid_search = GridSearchCV(pipeline, param_grid, cv=5)\n",
    "grid_search.fit(X_train, y_train)\n",
    "predictions = grid_search.predict(X_test)\n",
    "\n",
    "self.assertEqual(len(predictions), len(y_test))"
   ]
  },
  {
   "cell_type": "markdown",
   "metadata": {},
   "source": [
    "- Uses StandardScaler, PCA, and SVC.\n",
    "- GridSearchCV optimizes the number of PCA components and the C parameter of SVC."
   ]
  },
  {
   "cell_type": "markdown",
   "metadata": {},
   "source": [
    "### test_very_complex example"
   ]
  },
  {
   "cell_type": "code",
   "execution_count": null,
   "metadata": {},
   "outputs": [],
   "source": [
    "data = load_breast_cancer()\n",
    "X_train, X_test, y_train, y_test = train_test_split(data.data, data.target, test_size=0.2, random_state=42)\n",
    "\n",
    "steps = [\n",
    "    ('scaler', StandardScaler()),\n",
    "    ('feature_selection', SelectKBest(f_classif)),\n",
    "    ('classifier', SVC())\n",
    "]\n",
    "pipeline = Pipeline(steps)\n",
    "\n",
    "param_grid = [\n",
    "    {\n",
    "        'feature_selection__k': [5, 10, 15],\n",
    "        'classifier': [SVC()],\n",
    "        'classifier__C': [0.1, 1, 10]\n",
    "    },\n",
    "    {\n",
    "        'feature_selection__k': [5, 10, 15],\n",
    "        'classifier': [RandomForestClassifier()],\n",
    "        'classifier__n_estimators': [10, 50, 100]\n",
    "    }\n",
    "]\n",
    "\n",
    "grid_search = GridSearchCV(pipeline, param_grid, cv=5)\n",
    "grid_search.fit(X_train, y_train)\n",
    "predictions = grid_search.predict(X_test)\n",
    "\n",
    "self.assertEqual(len(predictions), len(y_test))"
   ]
  },
  {
   "cell_type": "markdown",
   "metadata": {},
   "source": [
    "- Uses StandardScaler, SelectKBest for feature selection, and either SVC or RandomForestClassifier.\n",
    "- GridSearchCV optimizes the number of features selected and the parameters of the classifiers."
   ]
  }
 ],
 "metadata": {
  "language_info": {
   "name": "python"
  }
 },
 "nbformat": 4,
 "nbformat_minor": 2
}
