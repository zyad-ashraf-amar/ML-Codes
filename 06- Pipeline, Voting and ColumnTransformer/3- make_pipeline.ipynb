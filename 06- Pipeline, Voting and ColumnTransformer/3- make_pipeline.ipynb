{
 "cells": [
  {
   "cell_type": "markdown",
   "metadata": {},
   "source": [
    "# make_pipeline\n",
    "The make_pipeline function in scikit-learn is a convenience function that helps create a pipeline without explicitly naming the individual steps. It simplifies the creation of a pipeline by automatically naming the steps based on their types.\n",
    "\n",
    "## How It Works\n",
    "- Step Definition: Define the individual transformers and estimators.\n",
    "- Creating the Pipeline: Use make_pipeline to create a pipeline with the defined steps.\n",
    "- Fitting the Pipeline: Train the pipeline on the training data.\n",
    "- Making Predictions: Use the pipeline to make predictions on new data."
   ]
  },
  {
   "cell_type": "markdown",
   "metadata": {},
   "source": [
    "## Simple Example"
   ]
  },
  {
   "cell_type": "code",
   "execution_count": null,
   "metadata": {},
   "outputs": [],
   "source": [
    "from sklearn.pipeline import make_pipeline\n",
    "from sklearn.preprocessing import StandardScaler\n",
    "from sklearn.linear_model import LogisticRegression\n",
    "from sklearn.datasets import load_iris\n",
    "from sklearn.model_selection import train_test_split\n",
    "\n",
    "# Load data\n",
    "data = load_iris()\n",
    "X_train, X_test, y_train, y_test = train_test_split(data.data, data.target, test_size=0.2, random_state=42)\n",
    "\n",
    "# Create pipeline\n",
    "pipeline = make_pipeline(\n",
    "    StandardScaler(),\n",
    "    LogisticRegression()\n",
    ")\n",
    "\n",
    "# Fit pipeline\n",
    "pipeline.fit(X_train, y_train)\n",
    "\n",
    "# Make predictions\n",
    "predictions = pipeline.predict(X_test)\n",
    "\n",
    "print(predictions)\n"
   ]
  },
  {
   "cell_type": "markdown",
   "metadata": {},
   "source": [
    "- Uses StandardScaler and LogisticRegression.\n",
    "- Demonstrates basic pipeline creation and usage."
   ]
  },
  {
   "cell_type": "markdown",
   "metadata": {},
   "source": [
    "## Complex Example"
   ]
  },
  {
   "cell_type": "code",
   "execution_count": null,
   "metadata": {},
   "outputs": [],
   "source": [
    "from sklearn.pipeline import make_pipeline\n",
    "from sklearn.preprocessing import StandardScaler\n",
    "from sklearn.decomposition import PCA\n",
    "from sklearn.svm import SVC\n",
    "from sklearn.datasets import load_wine\n",
    "from sklearn.model_selection import train_test_split\n",
    "\n",
    "# Load data\n",
    "data = load_wine()\n",
    "X_train, X_test, y_train, y_test = train_test_split(data.data, data.target, test_size=0.2, random_state=42)\n",
    "\n",
    "# Create pipeline\n",
    "pipeline = make_pipeline(\n",
    "    StandardScaler(),\n",
    "    PCA(n_components=2),\n",
    "    SVC(kernel='linear')\n",
    ")\n",
    "\n",
    "# Fit pipeline\n",
    "pipeline.fit(X_train, y_train)\n",
    "\n",
    "# Make predictions\n",
    "predictions = pipeline.predict(X_test)\n",
    "\n",
    "print(predictions)\n"
   ]
  },
  {
   "cell_type": "markdown",
   "metadata": {},
   "source": [
    "- Uses StandardScaler, PCA, and SVC.\n",
    "- Shows how to include a dimensionality reduction step in the pipeline."
   ]
  },
  {
   "cell_type": "markdown",
   "metadata": {},
   "source": [
    "## Very Complex Example"
   ]
  },
  {
   "cell_type": "code",
   "execution_count": null,
   "metadata": {},
   "outputs": [],
   "source": [
    "from sklearn.pipeline import make_pipeline\n",
    "from sklearn.preprocessing import StandardScaler\n",
    "from sklearn.feature_selection import SelectKBest, f_classif\n",
    "from sklearn.model_selection import GridSearchCV\n",
    "from sklearn.ensemble import RandomForestClassifier\n",
    "from sklearn.svm import SVC\n",
    "from sklearn.datasets import load_breast_cancer\n",
    "from sklearn.model_selection import train_test_split\n",
    "\n",
    "# Load data\n",
    "data = load_breast_cancer()\n",
    "X_train, X_test, y_train, y_test = train_test_split(data.data, data.target, test_size=0.2, random_state=42)\n",
    "\n",
    "# Create pipeline\n",
    "pipeline = make_pipeline(\n",
    "    StandardScaler(),\n",
    "    SelectKBest(f_classif),\n",
    "    SVC()\n",
    ")\n",
    "\n",
    "# Define parameter grid\n",
    "param_grid = [\n",
    "    {\n",
    "        'selectkbest__k': [5, 10, 15],\n",
    "        'svc__C': [0.1, 1, 10]\n",
    "    },\n",
    "    {\n",
    "        'selectkbest__k': [5, 10, 15],\n",
    "        'svc': [RandomForestClassifier()],\n",
    "        'svc__n_estimators': [10, 50, 100]\n",
    "    }\n",
    "]\n",
    "\n",
    "# Create grid search\n",
    "grid_search = GridSearchCV(pipeline, param_grid, cv=5)\n",
    "\n",
    "# Fit pipeline\n",
    "grid_search.fit(X_train, y_train)\n",
    "\n",
    "# Make predictions\n",
    "predictions = grid_search.predict(X_test)\n",
    "\n",
    "print(predictions)\n"
   ]
  },
  {
   "cell_type": "markdown",
   "metadata": {},
   "source": [
    "- Uses StandardScaler, SelectKBest for feature selection, and either SVC or RandomForestClassifier.\n",
    "- Integrates GridSearchCV to optimize parameters for the pipeline."
   ]
  },
  {
   "cell_type": "markdown",
   "metadata": {},
   "source": [
    "## Test the examples"
   ]
  },
  {
   "cell_type": "code",
   "execution_count": null,
   "metadata": {},
   "outputs": [],
   "source": [
    "import unittest\n",
    "from sklearn.pipeline import make_pipeline\n",
    "from sklearn.preprocessing import StandardScaler\n",
    "from sklearn.linear_model import LogisticRegression\n",
    "from sklearn.decomposition import PCA\n",
    "from sklearn.svm import SVC\n",
    "from sklearn.ensemble import RandomForestClassifier\n",
    "from sklearn.datasets import load_iris, load_wine, load_breast_cancer\n",
    "from sklearn.model_selection import train_test_split, GridSearchCV, cross_val_score\n",
    "from sklearn.feature_selection import SelectKBest, f_classif"
   ]
  },
  {
   "cell_type": "markdown",
   "metadata": {},
   "source": [
    "### test_simple example"
   ]
  },
  {
   "cell_type": "code",
   "execution_count": null,
   "metadata": {},
   "outputs": [],
   "source": [
    "data = load_iris()\n",
    "X_train, X_test, y_train, y_test = train_test_split(data.data, data.target, test_size=0.2, random_state=42)\n",
    "\n",
    "pipeline = make_pipeline(\n",
    "    StandardScaler(),\n",
    "    LogisticRegression()\n",
    ")\n",
    "\n",
    "param_grid = {\n",
    "    'logisticregression__C': [0.1, 1, 10]\n",
    "}\n",
    "\n",
    "grid_search = GridSearchCV(pipeline, param_grid, cv=5)\n",
    "grid_search.fit(X_train, y_train)\n",
    "predictions = grid_search.predict(X_test)\n",
    "\n",
    "self.assertEqual(len(predictions), len(y_test))\n",
    "\n",
    "# Cross-validation\n",
    "scores = cross_val_score(grid_search, data.data, data.target, cv=5)\n",
    "print(f\"Simple Pipeline Cross-Validation Scores: {scores}\")"
   ]
  },
  {
   "cell_type": "markdown",
   "metadata": {},
   "source": [
    "- Uses StandardScaler and LogisticRegression.\n",
    "- GridSearchCV optimizes the C parameter.\n",
    "- Tests if predictions match the length of the test data.\n",
    "- Evaluates the performance using cross_val_score"
   ]
  },
  {
   "cell_type": "markdown",
   "metadata": {},
   "source": [
    "### test_complex example"
   ]
  },
  {
   "cell_type": "code",
   "execution_count": null,
   "metadata": {},
   "outputs": [],
   "source": [
    "data = load_wine()\n",
    "X_train, X_test, y_train, y_test = train_test_split(data.data, data.target, test_size=0.2, random_state=42)\n",
    "\n",
    "pipeline = make_pipeline(\n",
    "    StandardScaler(),\n",
    "    PCA(n_components=2),\n",
    "    SVC(kernel='linear')\n",
    ")\n",
    "\n",
    "param_grid = {\n",
    "    'pca__n_components': [2, 3],\n",
    "    'svc__C': [0.1, 1, 10]\n",
    "}\n",
    "\n",
    "grid_search = GridSearchCV(pipeline, param_grid, cv=5)\n",
    "grid_search.fit(X_train, y_train)\n",
    "predictions = grid_search.predict(X_test)\n",
    "\n",
    "self.assertEqual(len(predictions), len(y_test))\n",
    "\n",
    "# Cross-validation\n",
    "scores = cross_val_score(grid_search, data.data, data.target, cv=5)\n",
    "print(f\"Complex Pipeline Cross-Validation Scores: {scores}\")"
   ]
  },
  {
   "cell_type": "markdown",
   "metadata": {},
   "source": [
    "- Uses StandardScaler, PCA, and SVC.\n",
    "- GridSearchCV optimizes the number of PCA components and the C parameter of SVC.\n",
    "- Tests if predictions match the length of the test data.\n",
    "- Evaluates the performance using cross_val_score"
   ]
  },
  {
   "cell_type": "markdown",
   "metadata": {},
   "source": [
    "### test_very_complex example"
   ]
  },
  {
   "cell_type": "code",
   "execution_count": null,
   "metadata": {},
   "outputs": [],
   "source": [
    "data = load_breast_cancer()\n",
    "X_train, X_test, y_train, y_test = train_test_split(data.data, data.target, test_size=0.2, random_state=42)\n",
    "\n",
    "pipeline = make_pipeline(\n",
    "    StandardScaler(),\n",
    "    SelectKBest(f_classif),\n",
    "    SVC()\n",
    ")\n",
    "\n",
    "param_grid = [\n",
    "    {\n",
    "        'selectkbest__k': [5, 10, 15],\n",
    "        'svc__C': [0.1, 1, 10]\n",
    "    },\n",
    "    {\n",
    "        'selectkbest__k': [5, 10, 15],\n",
    "        'svc': [RandomForestClassifier()],\n",
    "        'svc__n_estimators': [10, 50, 100]\n",
    "    }\n",
    "]\n",
    "\n",
    "grid_search = GridSearchCV(pipeline, param_grid, cv=5)\n",
    "grid_search.fit(X_train, y_train)\n",
    "predictions = grid_search.predict(X_test)\n",
    "\n",
    "self.assertEqual(len(predictions), len(y_test))\n",
    "\n",
    "# Cross-validation\n",
    "scores = cross_val_score(grid_search, data.data, data.target, cv=5)\n",
    "print(f\"Very Complex Pipeline Cross-Validation Scores: {scores}\")"
   ]
  },
  {
   "cell_type": "markdown",
   "metadata": {},
   "source": [
    "- Uses StandardScaler, SelectKBest for feature selection, and either SVC or RandomForestClassifier.\n",
    "- GridSearchCV optimizes the number of features selected and the parameters of the classifiers.\n",
    "- Tests if predictions match the length of the test data.\n",
    "- Evaluates the performance using cross_val_score."
   ]
  }
 ],
 "metadata": {
  "language_info": {
   "name": "python"
  }
 },
 "nbformat": 4,
 "nbformat_minor": 2
}
