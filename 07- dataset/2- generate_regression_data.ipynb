{
 "cells": [
  {
   "cell_type": "code",
   "execution_count": null,
   "metadata": {},
   "outputs": [],
   "source": [
    "from sklearn.datasets import make_regression\n",
    "import pandas as pd\n",
    "\n",
    "# Function to generate a regression dataset\n",
    "def generate_regression_dataset(n_samples, n_features, n_informative, noise, random_state):\n",
    "    X, y = make_regression(\n",
    "        n_samples=n_samples,\n",
    "        n_features=n_features,\n",
    "        n_informative=n_informative,\n",
    "        noise=noise,\n",
    "        random_state=random_state\n",
    "    )\n",
    "    return pd.DataFrame(X), pd.Series(y)\n",
    "\n"
   ]
  },
  {
   "cell_type": "code",
   "execution_count": null,
   "metadata": {},
   "outputs": [],
   "source": [
    "# 1. Simple Regression Dataset\n",
    "X_simple_reg, y_simple_reg = generate_regression_dataset(\n",
    "    n_samples=1000,        # Number of samples\n",
    "    n_features=5,          # Total number of features\n",
    "    n_informative=3,       # Number of informative features\n",
    "    noise=0.1,             # Standard deviation of the gaussian noise\n",
    "    random_state=42        # Seed for reproducibility\n",
    ")\n",
    "\n",
    "# # Save datasets to CSV files\n",
    "# X_simple_reg.to_csv('X_simple_reg.csv', index=False)\n",
    "# y_simple_reg.to_csv('y_simple_reg.csv', index=False)"
   ]
  },
  {
   "cell_type": "code",
   "execution_count": null,
   "metadata": {},
   "outputs": [],
   "source": [
    "# 2. Complex Regression Dataset\n",
    "X_complex_reg, y_complex_reg = generate_regression_dataset(\n",
    "    n_samples=1000,        # Number of samples\n",
    "    n_features=10,         # Total number of features\n",
    "    n_informative=7,       # Number of informative features\n",
    "    noise=10.0,            # Standard deviation of the gaussian noise\n",
    "    random_state=42        # Seed for reproducibility\n",
    ")\n",
    "\n",
    "# # Save datasets to CSV files\n",
    "# X_complex_reg.to_csv('X_complex_reg.csv', index=False)\n",
    "# y_complex_reg.to_csv('y_complex_reg.csv', index=False)"
   ]
  },
  {
   "cell_type": "code",
   "execution_count": null,
   "metadata": {},
   "outputs": [],
   "source": [
    "# 3. Very Complex Regression Dataset\n",
    "X_very_complex_reg, y_very_complex_reg = generate_regression_dataset(\n",
    "    n_samples=1000,        # Number of samples\n",
    "    n_features=20,         # Total number of features\n",
    "    n_informative=15,      # Number of informative features\n",
    "    noise=20.0,            # Standard deviation of the gaussian noise\n",
    "    random_state=42        # Seed for reproducibility\n",
    ")\n",
    "\n",
    "# # Save datasets to CSV files\n",
    "# X_very_complex_reg.to_csv('X_very_complex_reg.csv', index=False)\n",
    "# y_very_complex_reg.to_csv('y_very_complex_reg.csv', index=False)"
   ]
  }
 ],
 "metadata": {
  "language_info": {
   "name": "python"
  }
 },
 "nbformat": 4,
 "nbformat_minor": 2
}
